{
 "cells": [
  {
   "cell_type": "markdown",
   "metadata": {
    "id": "Z-44Qz4-Xd1o",
    "pycharm": {
     "name": "#%% md\n"
    }
   },
   "source": [
    "# Assignment 3: Fine tuning a multiclass classification BERT model\n",
    "\n",
    "**Description:** This assignment covers fine-tuning of a multiclass classification. You will compare two different types of solutions using BERT-based models. You should also be able to develop an intuition for:\n",
    "\n",
    "\n",
    "* Working with BERT\n",
    "* The effects of using different model checkpoints and fine-tuning some hyperparameters\n",
    "* Different metrics to measure the effectiveness of your model\n",
    "* The effect of partially cleaning/normalizing your training data\n",
    "\n",
    "\n",
    "\n",
    "The assignment notebook closely follows the lesson notebooks. We will use the 20 newsgroups dataset and will leverage some of the models, or part of the code, for our current investigation. \n",
    "\n",
    "**You are strongly encouraged to read through the entire notebook before answering any questions or writing any code.**\n",
    "\n",
    "The initial part of the notebook is purely setup. We will then generate our BERT model and see if and how we can improve it. \n",
    "\n",
    "Do not try to run this entire notebook on your GCP instance as the training of models requires a GPU to work in a timely fashion. This notebook should be run on a Google Colab leveraging a GPU. By default, when you open the notebook in Colab it will try to use a GPU. Total runtime of the entire notebook (with solutions and a Colab GPU) should be about 1h.\n",
    "\n",
    "\n",
    "[![Open In Colab](https://colab.research.google.com/assets/colab-badge.svg)](https://colab.research.google.com/github/datasci-w266/2022-fall-main/blob/master/assignment/a3/Multiclass_text_classification.ipynb)\n",
    "\n",
    "The overall assignment structure is as follows:\n",
    "\n",
    "1. Setup\n",
    "  \n",
    "  1.1 Libraries & Helper Functions\n",
    "\n",
    "  1.2 Data Acquisition\n",
    "\n",
    "  1.3 Training/Test/Validation Sets for BERT-based models\n",
    "\n",
    "2. Classification with a fine tuned BERT model\n",
    "\n",
    "  2.1 Create the specified BERT model\n",
    "  \n",
    "  2.2 Fine tune the BERT model as directed\n",
    "\n",
    "  2.3 Examine the predictions with various metrics\n",
    "\n",
    "3. Classification with some preprocessed data and the BERT model\n",
    "\n",
    "  3.1 Clean up the data a bit\n",
    "\n",
    "  3.2 Regenerate the data with the appropriate tokenizer\n",
    "\n",
    "  3.3 Regenerate the BERT model\n",
    "\n",
    "  3.4. Rerun the data and examine the predictions\n",
    "\n",
    "4. Try again with a different mini batch size to see if that improves performance  \n",
    "\n",
    "\n",
    "\n",
    "**INSTRUCTIONS:**: \n",
    "\n",
    "* Questions are always indicated as **QUESTION:**, so you can search for this string to make sure you answered all of the questions. You are expected to fill out, run, and submit this notebook, as well as to answer the questions in the **answers** file as you did in a1 and a2.\n",
    "\n",
    "* **### YOUR CODE HERE** indicates that you are supposed to write code.\n",
    "\n",
    "* If you want to, you can run all of the cells in section 1 in bulk. This is setup work and no questions are in there. At the end of section 1 we will state all of the relevant variables that were defined and created in section 1.\n"
   ]
  },
  {
   "cell_type": "markdown",
   "metadata": {
    "id": "NK2xTV-Xisrl",
    "pycharm": {
     "name": "#%% md\n"
    }
   },
   "source": [
    "### 1. Setup\n",
    "\n",
    "Lets get all our libraries and download and process our data."
   ]
  },
  {
   "cell_type": "code",
   "execution_count": 1,
   "metadata": {
    "colab": {
     "base_uri": "https://localhost:8080/"
    },
    "id": "3gzOXaFdmgO8",
    "outputId": "2eb209fe-148c-462d-aee9-9a982efeb101",
    "pycharm": {
     "name": "#%%\n"
    }
   },
   "outputs": [],
   "source": [
    "!pip install -q transformers"
   ]
  },
  {
   "cell_type": "code",
   "execution_count": 2,
   "metadata": {
    "id": "ULcKJUjHmkZT",
    "pycharm": {
     "name": "#%%\n"
    }
   },
   "outputs": [],
   "source": [
    "!pip install pydot --quiet"
   ]
  },
  {
   "cell_type": "code",
   "execution_count": 1,
   "metadata": {
    "id": "aTq7Qjqbmkfv",
    "pycharm": {
     "name": "#%%\n"
    }
   },
   "outputs": [],
   "source": [
    "from sklearn.datasets import fetch_20newsgroups\n",
    "from sklearn.model_selection import train_test_split\n",
    "from sklearn.metrics import classification_report"
   ]
  },
  {
   "cell_type": "code",
   "execution_count": 2,
   "metadata": {
    "id": "-6E-xzDawK0Q",
    "pycharm": {
     "name": "#%%\n"
    }
   },
   "outputs": [],
   "source": [
    "from collections import Counter\n",
    "import numpy as np\n",
    "import tensorflow as tf\n",
    "from tensorflow import keras\n",
    "\n",
    "import seaborn as sns\n",
    "import matplotlib.pyplot as plt\n",
    "from pprint import pprint "
   ]
  },
  {
   "cell_type": "code",
   "execution_count": 3,
   "metadata": {
    "id": "99yIOuqFXMwU",
    "pycharm": {
     "name": "#%%\n"
    }
   },
   "outputs": [],
   "source": [
    "from transformers import BertTokenizer, TFBertModel"
   ]
  },
  {
   "cell_type": "code",
   "execution_count": 4,
   "metadata": {
    "id": "Rdg4Hpbu9ItX",
    "pycharm": {
     "name": "#%%\n"
    }
   },
   "outputs": [],
   "source": [
    "# 4-window plot. Small modification from matplotlib examples.\n",
    "\n",
    "def make_plot(axs, history1, \n",
    "              history2, \n",
    "              y_lim_loss_lower=0.4, \n",
    "              y_lim_loss_upper=1.6,\n",
    "              y_lim_accuracy_lower=0.4, \n",
    "              y_lim_accuracy_upper=0.9,\n",
    "              model_1_name='model 1',\n",
    "              model_2_name='model 2',\n",
    "              \n",
    "             ):\n",
    "    box = dict(facecolor='yellow', pad=5, alpha=0.2)\n",
    "\n",
    "    ax1 = axs[0, 0]\n",
    "    ax1.plot(history1.history['loss'])\n",
    "    ax1.plot(history1.history['val_loss'])\n",
    "    ax1.set_title('loss - ' + model_1_name)\n",
    "    ax1.set_ylabel('loss', bbox=box)\n",
    "    ax1.set_ylim(y_lim_loss_lower, y_lim_loss_upper)\n",
    "\n",
    "    ax3 = axs[1, 0]\n",
    "    ax3.set_title('accuracy - ' + model_1_name)\n",
    "    ax3.plot(history1.history['accuracy'])\n",
    "    ax3.plot(history1.history['val_accuracy'])\n",
    "    ax3.set_ylabel('accuracy', bbox=box)\n",
    "    ax3.set_ylim(y_lim_accuracy_lower, y_lim_accuracy_upper)\n",
    "\n",
    "\n",
    "    ax2 = axs[0, 1]\n",
    "    ax2.set_title('loss - ' + model_2_name)\n",
    "    ax2.plot(history2.history['loss'])\n",
    "    ax2.plot(history2.history['val_loss'])\n",
    "    ax2.set_ylim(y_lim_loss_lower, y_lim_loss_upper)\n",
    "\n",
    "    ax4 = axs[1, 1]\n",
    "    ax4.set_title('accuracy - ' + model_2_name)\n",
    "    ax4.plot(history2.history['accuracy'])\n",
    "    ax4.plot(history2.history['val_accuracy'])\n",
    "    ax4.set_ylim(y_lim_accuracy_lower, y_lim_accuracy_upper)"
   ]
  },
  {
   "cell_type": "code",
   "execution_count": 5,
   "metadata": {
    "id": "UWk_PZ9hmkk0",
    "pycharm": {
     "name": "#%%\n"
    }
   },
   "outputs": [],
   "source": [
    "def read_20newsgroups(test_size=0.1):\n",
    "  # download & load 20newsgroups dataset from sklearn's repos\n",
    "  dataset = fetch_20newsgroups(subset=\"all\", shuffle=True, remove=(\"headers\", \"footers\", \"quotes\"))\n",
    "  documents = dataset.data\n",
    "  labels = dataset.target\n",
    "  # split into training & testing a return data as well as label names\n",
    "  return train_test_split(documents, labels, test_size=test_size), dataset.target_names\n",
    "  \n",
    "# call the function\n",
    "(train_texts, test_texts, train_labels, test_labels), target_names = read_20newsgroups()"
   ]
  },
  {
   "cell_type": "markdown",
   "metadata": {
    "id": "8Ocyl9dnb1OM",
    "pycharm": {
     "name": "#%% md\n"
    }
   },
   "source": [
    "Take a look at the records.  We basically have a long string of text and an associated label.  That label is the Usenet group where the posting occured. The records are the raw text.  They vary significantly in size."
   ]
  },
  {
   "cell_type": "code",
   "execution_count": 30,
   "metadata": {
    "colab": {
     "base_uri": "https://localhost:8080/"
    },
    "id": "O7Akxu2Umkpo",
    "outputId": "d7167af3-d325-42e5-ff2a-db90dc4b56c0",
    "pycharm": {
     "name": "#%%\n"
    }
   },
   "outputs": [
    {
     "data": {
      "text/plain": "[\"I'm searching for a phonetic TrueType font for Windows 3.1. If \\nanybody knows one, please mail me!\\n\\nThanks.\\n\\ndw \\n\",\n 'Re: Flaming wreckage\\n\\nI wrote my congressmen strongly worded letters demanding they dissolve the\\nBATF.\\n\\nPerhaps anger and grief can help spur a letter writing campaign?',\n \"\\n\\tThats pretty hard since CB900 customs weren't introduced\\n\\tuntil 1980.  If you find a pre-80 one, hold onto it.  It\\n\\twill be worth big bucks some day.\\n\\n\\n\\tMine has comstar wheels.  Methinks you need to do\\n\\tyour homework better.\\n\\n\\n\\tAnd obviously, neither do you.\\n\",\n 'I believe I have the same monitor problem.  I have a system from Micron \\nComputers with the 15\" Mag 1564 (the same monitor as the gateway) and am having\\nthe same symptoms.\\n\\nWhat\\'s this with removing the monitor extension cable?\\n',\n '\\nWhat is \"doing it right the first time\"?  Murdered them all?  Used tanks? \\nMaybe they should have had enough evidence to indict.  From the list presented\\nto date, I haven\\'t seen ANYTHING illegal.  They claim that the BD\\'s bought\\ncomponents to convert their weapons to Class III devices, but no evidence that\\nthey had done so.  In fact, with a Class III FFL living with them, this may\\nhave been legal (given recent court rulings).\\n\\nWhat you really meant to say was that the ATF should have done the right and\\nlwaful thing.  Or did you just want the BD\\'s dead?',\n '\\nWhen they\\'re not important, yes.  All scientists do.  Otherwise science would\\nnever get anywhere.\\n\\n\\nHang about -- not atomic interactions in general.  Just specific ones which\\nare deemed unimportant.  Like gravitational interactions between ions, which\\nare so small they\\'re drowned out by electrostatic effects, and so on.\\n\\n\\nOh, probably.  They still make people memorize equations and IR spectra. \\nMaybe in a few decades they\\'ll discover the revolutionary \"data book\"\\ntechnique.\\n']"
     },
     "execution_count": 30,
     "metadata": {},
     "output_type": "execute_result"
    }
   ],
   "source": [
    "train_texts[:6]"
   ]
  },
  {
   "cell_type": "markdown",
   "metadata": {
    "id": "1eKIgSBdcHy9",
    "pycharm": {
     "name": "#%% md\n"
    }
   },
   "source": [
    "Notice the \"labels\" are just integers that are an offset into the list of target names."
   ]
  },
  {
   "cell_type": "code",
   "execution_count": 7,
   "metadata": {
    "colab": {
     "base_uri": "https://localhost:8080/"
    },
    "id": "KRnu9CSQnMNN",
    "outputId": "62e08316-e6e8-4471-8bd3-18b01764d1be",
    "pycharm": {
     "name": "#%%\n"
    }
   },
   "outputs": [
    {
     "data": {
      "text/plain": "array([ 2, 16])"
     },
     "execution_count": 7,
     "metadata": {},
     "output_type": "execute_result"
    }
   ],
   "source": [
    "train_labels[:2]"
   ]
  },
  {
   "cell_type": "markdown",
   "metadata": {
    "id": "F-ksEnmbcWBt",
    "pycharm": {
     "name": "#%% md\n"
    }
   },
   "source": [
    "The variable ''target_names'' stores all of the names of the labels."
   ]
  },
  {
   "cell_type": "code",
   "execution_count": 8,
   "metadata": {
    "colab": {
     "base_uri": "https://localhost:8080/"
    },
    "id": "qvNAnCstx-3S",
    "outputId": "5402d2d6-7e05-46bb-8d61-3fb30c679582",
    "pycharm": {
     "name": "#%%\n"
    }
   },
   "outputs": [
    {
     "name": "stdout",
     "output_type": "stream",
     "text": [
      "['alt.atheism', 'comp.graphics', 'comp.os.ms-windows.misc', 'comp.sys.ibm.pc.hardware', 'comp.sys.mac.hardware', 'comp.windows.x', 'misc.forsale', 'rec.autos', 'rec.motorcycles', 'rec.sport.baseball', 'rec.sport.hockey', 'sci.crypt', 'sci.electronics', 'sci.med', 'sci.space', 'soc.religion.christian', 'talk.politics.guns', 'talk.politics.mideast', 'talk.politics.misc', 'talk.religion.misc']\n"
     ]
    }
   ],
   "source": [
    "print(target_names)"
   ]
  },
  {
   "cell_type": "markdown",
   "metadata": {
    "id": "m1SmEVYOcwP6",
    "pycharm": {
     "name": "#%% md\n"
    }
   },
   "source": [
    "We already have a test set and a train set.  Let's explicitly set aside part of our training set for validation purposes."
   ]
  },
  {
   "cell_type": "code",
   "execution_count": 9,
   "metadata": {
    "id": "H1toWirQAAZ8",
    "pycharm": {
     "name": "#%%\n"
    }
   },
   "outputs": [],
   "source": [
    "len(train_texts)\n",
    "valid_texts = train_texts[16000:]\n",
    "valid_labels = train_labels[16000:]\n",
    "train_texts = train_texts[:16000]\n",
    "train_labels = train_labels[:16000]"
   ]
  },
  {
   "cell_type": "markdown",
   "metadata": {
    "id": "aBMiGVwHc76-",
    "pycharm": {
     "name": "#%% md\n"
    }
   },
   "source": [
    "The validation set will always have 961 records."
   ]
  },
  {
   "cell_type": "code",
   "execution_count": 10,
   "metadata": {
    "colab": {
     "base_uri": "https://localhost:8080/"
    },
    "id": "bzuXsJjwAAOr",
    "outputId": "050c451e-b45a-40e5-c82a-043b485d82c1",
    "pycharm": {
     "name": "#%%\n"
    }
   },
   "outputs": [
    {
     "data": {
      "text/plain": "961"
     },
     "execution_count": 10,
     "metadata": {},
     "output_type": "execute_result"
    }
   ],
   "source": [
    "len(valid_texts)"
   ]
  },
  {
   "cell_type": "markdown",
   "metadata": {
    "id": "SBy5EKYwdBcZ",
    "pycharm": {
     "name": "#%% md\n"
    }
   },
   "source": [
    "The training set will always have 16000 records."
   ]
  },
  {
   "cell_type": "code",
   "execution_count": 11,
   "metadata": {
    "colab": {
     "base_uri": "https://localhost:8080/"
    },
    "id": "MMVgiD8SCHUk",
    "outputId": "75aacbe0-b6c3-4c38-d2ec-310b31198e28",
    "pycharm": {
     "name": "#%%\n"
    }
   },
   "outputs": [
    {
     "data": {
      "text/plain": "16000"
     },
     "execution_count": 11,
     "metadata": {},
     "output_type": "execute_result"
    }
   ],
   "source": [
    "len(train_texts)"
   ]
  },
  {
   "cell_type": "markdown",
   "source": [
    "**NOTE:** Each time you rerun the data you will draw a *different* set of train and test documents even though the numbers 961 and 16000 will always be the same."
   ],
   "metadata": {
    "id": "LGVOwMBKu2OW",
    "pycharm": {
     "name": "#%% md\n"
    }
   }
  },
  {
   "cell_type": "code",
   "execution_count": 12,
   "metadata": {
    "id": "mFISqjoM335H",
    "pycharm": {
     "name": "#%%\n"
    }
   },
   "outputs": [],
   "source": [
    "#get the labels in a needed data format for validation\n",
    "npvalid_labels = np.asarray(valid_labels)"
   ]
  },
  {
   "cell_type": "markdown",
   "metadata": {
    "id": "d3T5uytRdK7I",
    "pycharm": {
     "name": "#%% md\n"
    }
   },
   "source": [
    "* train_texts - an array of text strings for training\n",
    "* test_texts - an array of text strings for testing \n",
    "* valid texts - an array of text strings for validation\n",
    "* train_labels - an array of integers representing the labels associated with train_texts\n",
    "* test_labels - an array of integers representing the labels associated with test_texts\n",
    "* valid_labels - an array of integers representing the labels associated with valid_texts\n",
    "* target_names - an array of label strings that correspond to the integers in the *_labels arrays\n",
    "\n",
    "### 2. Classification with a fine tuned BERT model\n",
    "\n",
    "Let's pick our BERT model.  We'll start with the base BERT model and we'll use the cased version since our data has capital and lower case letters."
   ]
  },
  {
   "cell_type": "code",
   "execution_count": 13,
   "metadata": {
    "id": "zjFWaM2ZnMIC",
    "pycharm": {
     "name": "#%%\n"
    }
   },
   "outputs": [],
   "source": [
    "#make it easier to use a variety of BERT subword models\n",
    "model_checkpoint = 'bert-base-cased'"
   ]
  },
  {
   "cell_type": "code",
   "execution_count": 14,
   "metadata": {
    "colab": {
     "base_uri": "https://localhost:8080/",
     "height": 252,
     "referenced_widgets": [
      "afb954888191467dba08491442a93266",
      "7ff09211bb4a418993a8f536ed942e61",
      "d9626069f7d742668e6dc20c0bd2a8a2",
      "5b186d50ab6449b2a21c79e30562d6a9",
      "af8a0f6a62974b9087f34c58ee132f27",
      "035f7beddb904e1382ad577b2c816964",
      "04879f218e664194a710976a7f4f572b",
      "6e45ea12820c4fa9b403653ab58439e1",
      "1923ec27a07343f78a307858da8e28b1",
      "d3334bec3d0e476f8a2f0a4676c6b0da",
      "b997d2beceb44264900be801313e45ca",
      "a88b7ff85e564bc5ad2a21085c82055e",
      "81e2edd7be4f40ffa965701884d600c1",
      "1b36b783d53845e78b9c81399eed8e9e",
      "d5a22c6c6ce940158266e052e3cdb902",
      "6d7cd7757d9f4741954b763653359cb5",
      "eec2f4ad345f4867bc57e45371c59aea",
      "7db3b762ef574b5fb853c85023efdb82",
      "54a2af55db53463eabe90089d6086f60",
      "298b9998d9c449ec86d184bec1056496",
      "c7687f60eec7477aa98a18fc645a1554",
      "03405b2ed03041d3a55f17b2548ac894",
      "c976668dd9244c6bb2300a251031272b",
      "086db767e2ec46c5bfd8896485b14f45",
      "8ef5f816909442b28e27aa3020f35904",
      "e59d6137e6f44bad8bc17a7d1b188917",
      "f8373d9e7bd14c7fb439db9116860414",
      "d55063f0294046b892aeef8eb431531b",
      "7148e545bc67439aa03d852a0b0291c9",
      "38ae021b76174d7592978cd3e596cd5a",
      "5a97c69cb1194d1d83a3399fcf5c49e7",
      "6b77e4fecaee4121a462914ff5b0e467",
      "b06729369e1447d1a3e5e161f6c5883f",
      "da747fc8cf5e4d5a9a7799bdf6292125",
      "a5a5963a427649d39e146fcad63dd134",
      "c3d3766284db4e4f9c3a5274cd35cf40",
      "981505ff49ec468b8d6bd9f4e50e7371",
      "cd246a31d08049eeaa22fabaed17317c",
      "c611f446f8ac45da883f164c6b17e9b7",
      "b12540bdaa8244bfbb8b54aee64b3ed3",
      "d4382d72e8254854bb187a303fbe216c",
      "4aa32fba7de84a7dbd82fd8d352e0116",
      "f231acbc93834644a6a6a1c00f797cdc",
      "1bd2afd981da48ec99a1e0d3ef9bec5f"
     ]
    },
    "id": "-7gV_GUdn9Ck",
    "outputId": "922b6312-2307-48bb-c8d7-f8ba72e9c5be",
    "pycharm": {
     "name": "#%%\n"
    }
   },
   "outputs": [
    {
     "name": "stderr",
     "output_type": "stream",
     "text": [
      "Some layers from the model checkpoint at bert-base-cased were not used when initializing TFBertModel: ['nsp___cls', 'mlm___cls']\n",
      "- This IS expected if you are initializing TFBertModel from the checkpoint of a model trained on another task or with another architecture (e.g. initializing a BertForSequenceClassification model from a BertForPreTraining model).\n",
      "- This IS NOT expected if you are initializing TFBertModel from the checkpoint of a model that you expect to be exactly identical (initializing a BertForSequenceClassification model from a BertForSequenceClassification model).\n",
      "All the layers of TFBertModel were initialized from the model checkpoint at bert-base-cased.\n",
      "If your task is similar to the task the model of the checkpoint was trained on, you can already use TFBertModel for predictions without further training.\n"
     ]
    }
   ],
   "source": [
    "bert_tokenizer = BertTokenizer.from_pretrained(model_checkpoint)\n",
    "bert_model = TFBertModel.from_pretrained(model_checkpoint)"
   ]
  },
  {
   "cell_type": "markdown",
   "metadata": {
    "id": "ZJGkIHSHdilH",
    "pycharm": {
     "name": "#%% md\n"
    }
   },
   "source": [
    "We're setting our maximum training record length to 200.  BERT models can handle more and after you've completed the assignment you're welcome to try larger and small sized records."
   ]
  },
  {
   "cell_type": "code",
   "execution_count": 15,
   "metadata": {
    "id": "h_59AaVznMCV",
    "pycharm": {
     "name": "#%%\n"
    }
   },
   "outputs": [],
   "source": [
    "max_length = 200"
   ]
  },
  {
   "cell_type": "markdown",
   "metadata": {
    "id": "n6d54_bqd58L",
    "pycharm": {
     "name": "#%% md\n"
    }
   },
   "source": [
    "Now we'll tokenize our three data slices.  This will take a minute or two."
   ]
  },
  {
   "cell_type": "code",
   "execution_count": 16,
   "metadata": {
    "id": "bgv0nftinL6z",
    "pycharm": {
     "name": "#%%\n"
    }
   },
   "outputs": [],
   "source": [
    "# tokenize the dataset, truncate when passed `max_length`, \n",
    "# and pad with 0's when less than `max_length` and return a tf Tensor\n",
    "train_encodings = bert_tokenizer(train_texts, truncation=True, padding=True, max_length=max_length, return_tensors='tf')\n",
    "valid_encodings = bert_tokenizer(valid_texts, truncation=True, padding=True, max_length=max_length, return_tensors='tf')\n",
    "test_encodings = bert_tokenizer(test_texts, truncation=True, padding=True, max_length=max_length, return_tensors='tf')"
   ]
  },
  {
   "cell_type": "markdown",
   "metadata": {
    "id": "2gNS0Fi0emN8",
    "pycharm": {
     "name": "#%% md\n"
    }
   },
   "source": [
    "Notice our input_ids for the first training record and their padding. The train_encodings also includes an array of token_type_ids and an attention_mask array. "
   ]
  },
  {
   "cell_type": "code",
   "execution_count": 17,
   "metadata": {
    "colab": {
     "base_uri": "https://localhost:8080/"
    },
    "id": "XFEXxgAmnLve",
    "outputId": "ee281827-495a-430d-dd54-63d14ade5085",
    "pycharm": {
     "name": "#%%\n"
    }
   },
   "outputs": [
    {
     "data": {
      "text/plain": "<tf.Tensor: shape=(1, 200), dtype=int32, numpy=\narray([[  101,   146,   112,   182,  6205,  1111,   170,  2179,  2941,\n         7817,  1942, 16726, 17927,  1111,  5647,   124,   119,   122,\n          119,  1409, 11183,  3520,  1141,   117,  4268,  6346,  1143,\n          106,  5749,   119,   173,  2246,   102,     0,     0,     0,\n            0,     0,     0,     0,     0,     0,     0,     0,     0,\n            0,     0,     0,     0,     0,     0,     0,     0,     0,\n            0,     0,     0,     0,     0,     0,     0,     0,     0,\n            0,     0,     0,     0,     0,     0,     0,     0,     0,\n            0,     0,     0,     0,     0,     0,     0,     0,     0,\n            0,     0,     0,     0,     0,     0,     0,     0,     0,\n            0,     0,     0,     0,     0,     0,     0,     0,     0,\n            0,     0,     0,     0,     0,     0,     0,     0,     0,\n            0,     0,     0,     0,     0,     0,     0,     0,     0,\n            0,     0,     0,     0,     0,     0,     0,     0,     0,\n            0,     0,     0,     0,     0,     0,     0,     0,     0,\n            0,     0,     0,     0,     0,     0,     0,     0,     0,\n            0,     0,     0,     0,     0,     0,     0,     0,     0,\n            0,     0,     0,     0,     0,     0,     0,     0,     0,\n            0,     0,     0,     0,     0,     0,     0,     0,     0,\n            0,     0,     0,     0,     0,     0,     0,     0,     0,\n            0,     0,     0,     0,     0,     0,     0,     0,     0,\n            0,     0,     0,     0,     0,     0,     0,     0,     0,\n            0,     0]])>"
     },
     "execution_count": 17,
     "metadata": {},
     "output_type": "execute_result"
    }
   ],
   "source": [
    "train_encodings.input_ids[:1]"
   ]
  },
  {
   "cell_type": "markdown",
   "metadata": {
    "id": "23lwfDw2T6gI",
    "pycharm": {
     "name": "#%% md\n"
    }
   },
   "source": [
    "Write a function to create this multiclass bert model.\n",
    "\n",
    "Keep in mind the following:\n",
    "* Each record can have one of n labels where n = the size of target_names.\n",
    "* We'll still want a hidden size layer of size 201\n",
    "* We'll also want dropout\n",
    "* Our classification layer will need to be appropriately sized and use the correct non-linearity for a multi-class problem.\n",
    "* Since we have multiple labels we can no longer use binary cross entropy.  Instead we need to change our loss metric to a categorical cross entropy.  Which of the two categorical cross entropy metrics will work best here? \n",
    "* Make sure that training affects all of the layers in BERT.\n"
   ]
  },
  {
   "cell_type": "code",
   "execution_count": 18,
   "metadata": {
    "id": "RtWMrLi4tIun",
    "pycharm": {
     "name": "#%%\n"
    }
   },
   "outputs": [],
   "source": [
    "def create_bert_multiclass_model(checkpoint = model_checkpoint,\n",
    "                                hidden_size = 201, \n",
    "                                dropout=0.3,\n",
    "                                learning_rate=0.00005):\n",
    "    \"\"\"\n",
    "    Build a simple classification model with BERT. Use the Pooled Output for classification purposes.\n",
    "    \"\"\"\n",
    "    bert_model = TFBertModel.from_pretrained(checkpoint)                                              \n",
    "\n",
    "    ### YOUR CODE HERE\n",
    "\n",
    "    bert_model.trainable = True\n",
    "\n",
    "    input_ids = tf.keras.layers.Input(shape=(max_length,), dtype=tf.int64, name='input_ids_layer')\n",
    "    token_type_ids = tf.keras.layers.Input(shape=(max_length,), dtype=tf.int64, name='token_type_ids_layer')\n",
    "    attention_mask = tf.keras.layers.Input(shape=(max_length,), dtype=tf.int64, name='attention_mask_layer')\n",
    "\n",
    "    bert_inputs = {'input_ids': input_ids,\n",
    "                   'token_type_ids': token_type_ids,\n",
    "                   'attention_mask': attention_mask}\n",
    "\n",
    "    bert_out = bert_model(bert_inputs)\n",
    "\n",
    "    pooled_token = bert_out[1]\n",
    "    # cls_token = bert_out[0][:, 0, :]\n",
    "\n",
    "    hidden = tf.keras.layers.Dense(hidden_size, activation='relu', name='hidden_layer')(pooled_token)\n",
    "\n",
    "\n",
    "    hidden = tf.keras.layers.Dropout(dropout)(hidden)\n",
    "\n",
    "\n",
    "    classification = tf.keras.layers.Dense(len(target_names), activation='softmax',name='classification_layer')(hidden)\n",
    "\n",
    "    classification_model = tf.keras.Model(inputs=[input_ids, token_type_ids, attention_mask], outputs=[classification])\n",
    "\n",
    "    classification_model.compile(optimizer=tf.keras.optimizers.Adam(learning_rate=learning_rate),\n",
    "                                 loss=tf.keras.losses.SparseCategoricalCrossentropy(from_logits=False),\n",
    "                                 metrics='accuracy')\n",
    "\n",
    "    ### END YOUR CODE\n",
    "    return classification_model"
   ]
  },
  {
   "cell_type": "code",
   "execution_count": 19,
   "metadata": {
    "colab": {
     "base_uri": "https://localhost:8080/"
    },
    "id": "uR-Id158tIlH",
    "outputId": "67979d47-812e-466f-e671-fc710a5df3d4",
    "pycharm": {
     "name": "#%%\n"
    }
   },
   "outputs": [
    {
     "name": "stderr",
     "output_type": "stream",
     "text": [
      "Some layers from the model checkpoint at bert-base-cased were not used when initializing TFBertModel: ['nsp___cls', 'mlm___cls']\n",
      "- This IS expected if you are initializing TFBertModel from the checkpoint of a model trained on another task or with another architecture (e.g. initializing a BertForSequenceClassification model from a BertForPreTraining model).\n",
      "- This IS NOT expected if you are initializing TFBertModel from the checkpoint of a model that you expect to be exactly identical (initializing a BertForSequenceClassification model from a BertForSequenceClassification model).\n",
      "All the layers of TFBertModel were initialized from the model checkpoint at bert-base-cased.\n",
      "If your task is similar to the task the model of the checkpoint was trained on, you can already use TFBertModel for predictions without further training.\n"
     ]
    }
   ],
   "source": [
    "pooled_bert_model = create_bert_multiclass_model(checkpoint = model_checkpoint)"
   ]
  },
  {
   "cell_type": "code",
   "execution_count": 20,
   "metadata": {
    "colab": {
     "base_uri": "https://localhost:8080/"
    },
    "id": "bMxpO16-tIaE",
    "outputId": "0d87aac5-ec65-46c8-e41c-800fb85eab1b",
    "pycharm": {
     "name": "#%%\n"
    }
   },
   "outputs": [
    {
     "name": "stdout",
     "output_type": "stream",
     "text": [
      "Model: \"model\"\n",
      "__________________________________________________________________________________________________\n",
      " Layer (type)                   Output Shape         Param #     Connected to                     \n",
      "==================================================================================================\n",
      " attention_mask_layer (InputLay  [(None, 200)]       0           []                               \n",
      " er)                                                                                              \n",
      "                                                                                                  \n",
      " input_ids_layer (InputLayer)   [(None, 200)]        0           []                               \n",
      "                                                                                                  \n",
      " token_type_ids_layer (InputLay  [(None, 200)]       0           []                               \n",
      " er)                                                                                              \n",
      "                                                                                                  \n",
      " tf_bert_model_1 (TFBertModel)  TFBaseModelOutputWi  108310272   ['attention_mask_layer[0][0]',   \n",
      "                                thPoolingAndCrossAt               'input_ids_layer[0][0]',        \n",
      "                                tentions(last_hidde               'token_type_ids_layer[0][0]']   \n",
      "                                n_state=(None, 200,                                               \n",
      "                                 768),                                                            \n",
      "                                 pooler_output=(Non                                               \n",
      "                                e, 768),                                                          \n",
      "                                 past_key_values=No                                               \n",
      "                                ne, hidden_states=N                                               \n",
      "                                one, attentions=Non                                               \n",
      "                                e, cross_attentions                                               \n",
      "                                =None)                                                            \n",
      "                                                                                                  \n",
      " hidden_layer (Dense)           (None, 201)          154569      ['tf_bert_model_1[0][1]']        \n",
      "                                                                                                  \n",
      " dropout_74 (Dropout)           (None, 201)          0           ['hidden_layer[0][0]']           \n",
      "                                                                                                  \n",
      " classification_layer (Dense)   (None, 20)           4040        ['dropout_74[0][0]']             \n",
      "                                                                                                  \n",
      "==================================================================================================\n",
      "Total params: 108,468,881\n",
      "Trainable params: 108,468,881\n",
      "Non-trainable params: 0\n",
      "__________________________________________________________________________________________________\n"
     ]
    }
   ],
   "source": [
    "pooled_bert_model.summary()"
   ]
  },
  {
   "cell_type": "markdown",
   "metadata": {
    "id": "5chyZZnHdlf9",
    "pycharm": {
     "name": "#%% md\n"
    }
   },
   "source": [
    "**QUESTION:** 2.1 How many trainable parameters are in your dense hidden layer?\n",
    "\n",
    "**QUESTION:** 2.2 How many trainable parameters are in your classification layer?"
   ]
  },
  {
   "cell_type": "code",
   "execution_count": 21,
   "metadata": {
    "colab": {
     "base_uri": "https://localhost:8080/",
     "height": 251
    },
    "id": "xe3tTWX6FVZL",
    "outputId": "a37b4a47-cfb7-4d60-efe7-38732968d34b",
    "pycharm": {
     "name": "#%%\n"
    }
   },
   "outputs": [
    {
     "name": "stdout",
     "output_type": "stream",
     "text": [
      "\"dot\" with args ['-Tpng', 'C:\\\\Users\\\\grandid\\\\AppData\\\\Local\\\\Temp\\\\1\\\\tmpvn01hv3z'] returned code: 1\n",
      "\n",
      "stdout, stderr:\n",
      " b'\\x89PNG\\r\\n\\x1a\\n\\x00\\x00\\x00\\rIHDR\\x00\\x00\\x045\\x00\\x00\\x01\\xd7\\x08\\x06\\x00\\x00\\x00\\xac\\xc4a\\xcf\\x00\\x00\\x00\\x06bKGD\\x00\\xff\\x00\\xff\\x00\\xff\\xa0\\xbd\\xa7\\x93\\x00\\x00 \\x00IDATx\\x9c\\xed\\xddk\\xac\\x1cg}8\\xfe\\xef\\xfa\\x1e\\xd28\\xce\\xdd$\\x80\\x13\\n\\x88\\x94\\xaa8\\x816\\xf7\\xc4\\x0e\\'7\\xaeE\\x82\\x86\\xdc\\x88\\xa1\\x17(o\\x1a^Q\\xa9Uq$^\\xd07m\\xa4\\xb6\\xaa\\xda\\x1f-\\x06U*H\\x88V\"\\x84\\\\N\\x92c\\xc7ILU\\x13G-4P)>\\x94\\x9088!\\xc6\\xc4q\\xe2\\xdb\\xfe_\\xf0\\xdf\\x93=\\x9b\\xb9\\xeemfv?\\x1f\\xc9:>\\xb3\\xb3\\xcf|\\xe7\\x99g\\x9e\\xb3\\xcfwg\\x9ei\\xb5\\xdb\\xedv\\x00\\x00\\x00\\x004\\xcb\\xfc\\x92\\xaa#\\x00\\x00\\x00\\x00\\xe8\\x87\\xa4\\x06\\x00\\x00\\x00\\xd0H\\x92\\x1a\\x00\\x00\\x00@#Ij\\x00\\x00\\x00\\x00\\x8d\\xb4\\xacw\\xc1\\xa6M\\x9b\\xe2+_\\xf9J\\x15\\xb1\\x00\\x10\\x11\\xbbw\\xef\\x8e\\xb3\\xcf>{\\xa8e\\xea\\xdb\\x81I7\\x8a\\xbe3\"\\xa2\\xd5j\\r\\xbdL\\x00\\xfa\\xf3\\xf9\\xcf\\x7f>6o\\xde\\xbch\\xd9k\\x92\\x1a\\x11\\x11\\xd7\\\\sM\\xfc\\xe9\\x9f\\xfe\\xe98b\\x82\\xc2\\xf6\\xec\\xd9\\x137\\xdcpC\\xfc\\xeb\\xbf\\xfek\\xac]\\xbb\\xb6\\xeapjC\\xbdL\\x8e\\xce\\xb1\\x1c\\x15}\\xfbt\\xd2G$S/\\x93c\\xd4}gD\\xc4_\\xff\\xf5_\\xc7\\xfa\\xf5\\xebG\\xba\\r\\x18\\xd4m\\xb7\\xdd\\x16\\xeb\\xd7\\xaf\\x8fM\\x9b6U\\x1dJ\\xad\\xa8\\x97\\xc9q\\xdbm\\xb7%.OLj\\xac]\\xbb66l\\xd80\\xcax\\xa0\\xb4\\xf9\\xf9\\xf9\\x88\\x88\\xb8\\xf0\\xc2\\x0bG\\xf2MLS\\xa9\\x97\\xc9\\xd19\\x96\\xa3\\xa2o\\x9fN\\xfa\\x88d\\xeaer\\x8c\\xba\\xef\\x8c\\x88X\\xbf~\\xbd\\xfe\\x93\\xda[\\xb3fM\\x9c}\\xf6\\xd9\\xdaj\\x0f\\xf529\\xd6\\xacY\\x93\\xb8\\xdc\\x9c\\x1a\\x00\\x00\\x00@#Ij\\x00\\x00\\x00\\x00\\x8d$\\xa9\\x01\\x00\\x00\\x004\\x92\\xa4\\x06\\x00\\x00\\x00\\xd0H\\x92\\x1a\\x00\\x00\\x00@#MtRcZ\\x9e+>\\xac\\xfd\\x9c\\x96\\xfa\\x8a\\x98\\xae}M\\xd2j\\xb5\\x16\\xfee\\xadC\\xb6\\xbc\\xfa\\xcb\\xab\\xe3\\xbakZ\\xecy\\xf1\\x8ej\\x7f\\x9aVO\\x83\\x98\\xa6}\\xedU\\xf4\\x9c\\x9e\\xe6:*j\\xd2\\xfb\\xce~M\\xe3>\\xf7C_?z\\xd3\\xb4\\xafI\\xf4\\xf7\\xc31\\xce\\xbe>\\xf1\\x91\\xae\\xc3\\xd4j\\xb5\\xa2\\xddn\\xa7\\xfe>\\x8amt\\x0c{;u$\\xa1\\xd1\\x9f*\\xda\\xc6(\\xda\\xfe \\xb2b\\xe9\\xc4\\xda\\xdd.z\\xd7Oj3u\\xda\\xbf\\x8e\\xde8\\x93b\\xcc\\xda\\xcf\\xacu:u\\x94\\xd5\\xff4\\xf9\\xdcj\\xday\\x92\\xd7\\xa6G\\xa1\\xc9\\xc7\\xb7\\x1fMk\\x13\\xc3\\x96\\x17\\x87\\xbe\\xb3\\xd8\\xeb\\x93\\xdew\\xf6\\xd3f\\xeb\\xb2\\xbfu:\\xdf\\xd2\\xe8\\xebGo\\xda\\xfb\\xfa\\x88b\\xfd}\\xf7\\xcfi\\xee\\xeb\\xd3\\xd6\\x19g_?\\xd1WjL\\x83a\\x9d\\x1cu<\\xc9\\xa8Fw\\xe7\\xd3n\\xb7S\\xdbF\\xf7kY\\xebU\\xa9\\xb3/\\xdd\\xf1\\xf5v\\x9e\\xbd\\xeb$u\\xaeY\\xeb\\xa4\\xbd\\x87z\\x19U\\xfb\\xacc\\xbb\\xa7\\x1a\\xfa\\xcer\\xaf\\xeb;\\x17\\xabc;h\"}=\\xe3\\x90\\xd4G\\xf6\\x9a\\x96\\xbe>o\\x9dq\\xf5\\xf5\\x92\\x1a\\xc0\\x82\\xac,\\xf9$|\\xf8L\\xca\\xa2\\x17\\xfd\\xe65\\xaf\\xdcI\\xa8\\x1f\\xa0?\\xfa\\xce(\\xf5zw\\xb9\\x93P?\\xc0\\xf4H\\xeb\\xdf&\\xa1/k\\xf2\\xe7\\xe4\\xa1\\xdc~\\x92vIJ\\xefe9\\xbd\\xcb\\xb3.\\xd3\\xe9\\xce\\x16e]\\xca\\x99u\\xe9O\\xd2\\xad/Ie\\xf4\\xae_\\xe4\\x12\\x9b4Ye\\xf4{\\x99f\\xefkYq\\x15]\\xaf\\x88\\xbc:\\xef^^f\\xdd\\xce\\xf2\\xeez\\x1aw\\xf6\\xb2\\xbbm\\x14icy\\xb1\\xa6\\xb5\\xbf\\xce\\xb22\\xed\\xb4*yqd]B\\x96V^\\xf7{\\x93\\xb6\\xd5\\xef\\xe5lE\\xf5S\\xafE\\xf6\\xb3l]4U\\x9d\\xce\\x93\\xb2\\xf1fm3\\xe9\\xf5\\x8ea\\x1c\\xd3\\xa2}d\\xd1>?\\xed\\x18T\\xd1\\xfe\\xea\\xd4&\\xear\\x0e\\xea;_}O\\xd6~NS\\xbf\\xd9\\xfd\\xb3\\xcc\\xe7\\xd0\\xa4r\\x92\\xd6/z\\xce\\x15\\xd9N^\\xece\\xfa\\xb3\\xa2\\xfd\\xd3 m\\xb3{[Ie\\xea\\xeb\\x87\\xa3L_\\x9f\\xb4N\\x91\\xe3\\xd3\\xb4\\xbe>\";\\x96a\\xf6\\xf5\\xdd\\xdb\\x1ad\\xfc\\x98g\\x92>\\'\\x0f\\x9c\\xd4HJ\\x1ct~O\\xda\\xa1\\xac\\xecVZ\\x87]v\\x1b\\xbd\\xef\\xcf+\\xa3{\\xfd\\xa2\\xf1&\\xc9*\\xa3\\x13k\\x99xz;\\x93\\xb4}\\xeb6\\xacFT\\xb6\\xce\\x8b\\x1c\\xeb\\xde\\x93\\xb3\\xfb\\xf7q6\\xfc\\xde\\xb6U&\\xd6\\xa4u#\\x923\\x90\\xbd\\x9d{\\xda>\\xd6\\xa5\\xa3.\\xa2h\\xfb\\xcak\\xcfy\\xeb\\x14)\\xa7\\x1f\\xa3lg\\x93\\xf6\\x81\\xbdn\\xe7I\\x99x{\\xe3+\\xf2z\\xda:\\xfd\\xc4\\x91TGE\\xfb\\xcd\\xbc\\xb8\\xaa\\xea7\\x93\\xe2H\\x8bU\\xdf\\xf9Z\\xfa\\xcet\\x93\\xd6w\\x969\\xaf\\xfb\\x19\\x14\\x949\\xe7\\x8al\\'o\\x9bE\\x96\\x15=\\xdf\\x07\\x8d\\xaf{[ie\\xea\\xeb\\x07W\\xa6\\xafO[\\'\\xad\\x0e\\xba\\xe9\\xeb\\x07\\x1f\\x97\\xea\\xeb_U\\x8b\\xdbO\\xf2\\x1aq?;\\x9fw\\x80{O\\xaeA\\xb6U\\xa4\\x8ca\\x1e\\xc0\\xac\\xb2\\xea\\xf2\\xc1 +\\x8e\\xdez\\xea\\xfc\\x11\\x18\\x97\\xdeN\\xb6wY\\xd2\\xbay\\x1d\\xf3\\xb4\\xc9\\xda\\xff\\xbc\\xf3\\xad\\xe8\\xb9V\\x97\\xb6<\\xad\\x9av\\x9e\\xe4}X,\\xd2\\x96\\xea\\xd0\\xde\\x8a\\xfe=\\x1cw\\xbf\\xd9\\xbd\\xed\\xa4x\\xd2\\xd6\\xd5w.\\xa6\\xef\\x9cNE\\x13zy\\xef)\\xf3\\xd9j\\x9c\\x8a\\x9e\\xef\\xc3h\\x9b\\xfa\\xfa\\xd1+\\xd3\\xd7\\xa7\\xad3\\xed\\xfd\\xfd }}\\xe7\\xf7\\xee\\x9fE\\xcb\\x99f\\x03_\\xa9\\x91\\x95\\x19-c\\x9a\\x1b~Dv=&}\\xa8I2\\xcc\\xc6\\x9dw\\\\\\x93\\xb2\\xf4I\\x7fh\\x98<\\xe3\\xfcC5\\xcc\\xed\\xe8\\xfc\\xe9U\\xb4o-[fDv_\\x9e\\xd5o\\xa6\\xbd\\x97\\xe6\\xd3wRTV\\x9dW\\xd1?\\x14\\xed\\xbb\\x8a\\xa82\\xfe\\xce\\xff\\x87Uf\\x84\\xbe\\x9e\\xd7\\xd2\\xd7Wchsj\\x0c\\x9a\\xdchr%\\x0eKV=V\\xd11\\x0ez\\\\\\x1d\\xd3\\xc95\\xeaK\\xc8\\xba\\xb73\\x0cM\\xef\\xa8\\x19\\x9da|H\\xef\\xa5\\xef$\\x8d\\xbe\\x93<y}F\\xd3\\x8fGU\\xf1\\xeb\\xeb\\x19\\'}\\xfd\\xf8\\r|\\xfb\\xc9$TB\\x1d\\x14\\xad\\xc7\\xb4\\xec_\\xe7\\xf2\\xb4a%7\\x8a\\xc43\\xed\\x97\\x96M\\xbb\\xa6\\x1c\\xff~\\xee\\xd7uy\\xf7\\xf4\\x19V{\\xcek\\x1bM9o\\x18\\x9d\\xa6\\xb4\\x81a\\xf7\\x9d\\xfa\\xcdb\\x86\\xfdynX\\xea\\x18S?\\xf4\\xf5\\x8cKS\\xda\\xc0\\xa4|N\\x1e\\xea\\x9c\\x1ay\\x07.\\xe9\\xde\\xba\\x88\\xf4\\xfb\\xee\\x86\\x15\\xc3\\xa8\\xee\\xeb\\x1b\\x95A\\xeab\\x14\\'P\\x91\\xe3Z\\xe4^\\xd1&\\x9c\\xd8E\\x14m;\\x9d\\xfdM\\xda\\xef:\\xd6E?m\\'\\xed~\\xd0a\\x9co\\xc3hCyW6\\x15\\xd9\\xe7\\xa2\\xf5R\\xe7>\\xa5\\nU\\x9f\\'\\xbd\\xc7-i;\\xa3>\\x0f\\xcb\\xdeS\\x1b\\xa1\\xef\\xec\\xac\\xd7\\xfd3\\xe9\\xb5:\\xd1w\\x16\\x8b\\xa1\\xec\\xb6&Eg\\xff\\xca\\x1e\\xdb\\xa4\\xf7\\x8c\\xbb\\x7fH;\\x07\\x8b\\x9e\\xc7\\xe3\\xf8l\\xa8\\xaf\\xaf\\xa7\\xa2\\x03\\xdf\\xee\\x9fI\\xaf\\xd5M\\xd9\\xfe~\\xd2\\xfb\\xfa\\xa2\\xebdmkX\\x86\\xfaH\\xd7\\xceN\\xf5\\x06\\x9d\\xf4z\\xe7\\xf7\\x8e\\xde\\n\\xe9\\xfe=\\xe9\\xf2\\xae\\xacm$\\xad\\x97T~\\xd2>\\x14\\xd9V^=\\xe4\\x95Qd\\x1fz\\xeb1-\\xf6\\xa2\\xf51H\\xeci\\xc7\\xb5\\xfb\\xb5$iu^\\xb6^\\x87-\\xed\\x0f^\\x91c\\x16\\x91=1^R\\x1b\\xce;.u\\xfe@\\x97\\xf4\\xa1\\xa0\\x9f+\\x8a\\xf2\\xdalZ\\x9b\\xc8kCe\\xce\\xcb\\xde\\xf8\\x8a\\xc4Zf\\x9dIS\\xb7\\xf3\\xa4L\\xbc\\x9d\\xf7uo+i;Ec.\\xbb\\xdd\\xbc\\xbe\\xb3\\xec\\x800\\xed\\xef\\xe1\\xb8\\xd5\\xadM\\xe8;\\xeb\\xddwNc\\xbf\\xd9\\xad\\xb7\\xae\\xfb\\xf9\\x1cZ\\xa6\\x9ca|\\x8eM\\xdbf\\xf7\\xb6\\xb2\\xfa\\xae~\\xcf\\xf72\\xf4\\xf5\\xa3\\xd7O_\\xdf\\xbb~\\xd1\\xcfR\\xfa\\xfaW\\x7fO*7\\xaf\\xde\\x8b\\xfc\\xcd\\xc8\\x8bgR>\\'\\x0fm\\xa2\\xd0~\\x7f/\\xbb\\xee\\xb0\\x97\\xf5\\xbb\\xfe e\\x14Y\\xd6\\xdb\\x98\\x06\\xddf\\x9e~\\x8f[^G3\\xac\\xf8\\x86)o\\xfb\\x83\\xc4\\xdc\\xcfq\\xac\\xba>\\xba\\xf5\\xfe\\x81)\\xda1\\x0f\\xba\\xbc\\x9f6\\x94\\xf5A\\xa1H\\xb9e\\xd7\\xcbZ\\xa7\\xce\\x7fp\\xfbU\\xb7\\xf3\\xa4l\\x99E\\xca\\x1e\\xc61\\xeb\\xa7\\xef,\\xd2^F\\x11\\xeb\\xa0\\xea\\xd6&\\xeaP\\'\\x1d\\xfa\\xce\\xfe^\\x9f\\xc4\\xbe3\\xa2\\xbf6[\\xe6\\xf8\\x0e\\xe3so\\x998:\\xfa\\xf9\\xcc7\\xc8ze\\xde\\xab\\xaf\\x1f\\x9e~\\xcf\\xeb~\\xfa\\xbd\\xa6\\xf5\\xf5\\x11\\x8b\\xfb\\xfbQ\\xf4\\xf5i\\xaf\\xf5\\xf37#\\xaf\\xbf\\x9f\\xa4\\xcf\\xc9\\xb5x\\xa4+P\\x1fE?\\xf4\\xf2+\\x93\\xfa\\xa1\\x1c(G\\xdfY\\x8e\\xbe\\x13h*\\xfd}q\\xe3\\xea\\xeb%5\\xe8\\x9b\\x0f$\\xcd\\xd6\\xb9T2I\\xdd;\\xeb\\xba\\xb4\\xbd\\xac8\\xb2\\xea\\x97\\xe9U\\x97\\xb6K\\x7f\\xf2\\xcek}\\xe7\\xe0q\\xe8;\\xeb\\xa9.m\\xa7)\\xd4W\\xf3\\xe9\\xefG\\x1b\\xc3\\xb0\\xfb\\xfa\\xa1\\xcc\\xa91\\r\\x86y\\xb9\\xe68\\x8d\"\\xee:\\x9f\\xc0\\xc3V\\x87{\\x1bGa\\xd0\\xcb\\xc8\\xaaV\\x97\\xd8\\x86q\\x19\\xee$\\x18\\xe5yRU\\xdf;\\xec\\xedNS\\xbf\\x191\\x99}\\xe78.\\xad\\x1f\\xb5\\xba\\xc4\\xa6\\xef\\x1c\\xbf~\\xfb\\xb4\"\\xef\\x1b\\xf4|\\x9f\\x94~\\xbeh\\x99\\x93F\\x7f_Ou\\x88m\\x9c}\\xbd\\xa4FAuh\\x18\\xfd\\x18E\\xdcM\\xad\\x8b~L\\xd3\\xbeB\\xbfFy\\x9eTu\\x0e\\x0e{\\xbb\\xd3\\xd6\\x97L\\xdb\\xfeB\\xdd\\r{\\xbe\\xa2a\\x94=\\xac\\xf7\\xd7i\\xbb\\xd3\\xd8\\xf7M\\xe3>S?n?\\x01\\x00\\x00\\x00\\x1aIR\\x03\\x00\\x00\\x00h$I\\r\\x00\\x00\\x00\\xa0\\x91\\x12\\xe7\\xd4\\xd8\\xb3gO\\xcc\\xcd\\xcd\\x8d9\\x14\\xc8\\xb6g\\xcf\\x9e\\x88\\x88\\xd8\\xb1cG\\xcc\\xcf\\xcfW\\x1bL\\x8d\\xa8\\x97\\xc9\\xd19\\x96\\xa3,_\\xdf>}\\xf4\\x11\\xc9\\xd4\\xcb\\xe4\\x18u\\xdf\\x19\\x11\\xb1k\\xd7\\xae\\x91o\\x03\\x06\\xb5o\\xdf\\xbe\\x98\\x9f\\x9f\\xf7\\xb7\\xbe\\x87z\\x99\\x1c\\xfb\\xf7\\xefO\\\\\\xdej\\xf7\\xcc\\xee\\xb2i\\xd3\\xa6\\xf8\\xcaW\\xbe2\\x96\\xa0\\x00x\\xad\\xdd\\xbbw\\xc7\\xd9g\\x9f=\\xd42\\xf5\\xed\\xc0\\xa4\\x1bE\\xdf\\x191\\x9dO\\xb4\\xa0\\x99V\\xae\\\\\\x19\\xaf\\xbc\\xf2J\\xd5a\\xd4\\x8ez\\x99\\x1c\\xabV\\xad\\x8a\\xcf}\\xees\\xb1y\\xf3\\xe6\\xee\\xc5\\xf3\\x89Wj\\xdcz\\xeb\\xad\\xb1e\\xcb\\x96q\\xc4\\x05\\x85\\xcd\\xcf\\xcf\\xc79\\xe7\\x9c3\\xb2\\x0f-M\\xa5^&G\\xe7X\\x8e\\x8a\\xbe}:\\xe9#\\x92\\xa9\\x97\\xc91\\xea\\xbe3\"\\xe2\\xc1\\x07\\x1f\\x8c\\r\\x1b6\\x8ct\\x1b0\\xa8\\r\\x1b6\\xc4\\x86\\r\\x1bz\\x07|SO\\xbdL\\x8e\\xb4~\\xd8\\x9c\\x1a\\x00\\x00\\x00@#Ij\\x00\\x00\\x00\\x00\\x8d$\\xa9\\x01\\x00\\x00\\x004\\x92\\xa4\\x06\\x00\\x00\\x00\\xd0H\\x92\\x1a\\x00\\x00\\x00@#Ij\\xc0\\x14j\\xb5Z\\x0b\\xff\\xb2\\xd6![^\\xfd\\xe5\\xd51\\xd0\\x1cE\\xcfi\\xe7|>}\\'Pg\\xfa\\xfb\\xe1\\x18g_\\x9f\\xf8H\\xd7\\xa6J\\xaa\\x94v\\xbb=\\xd6\\xedwo\\xaf\\xeax\\x18\\x8e\\xde\\xe3\\xda\\x94\\xb2\\xf3dm\\xb7\\x13Ww\\x1b\\xee]\\xbf)\\xed\\xbb7\\xce\\xa4\\x18\\xb3\\xf63k\\x9dN\\x1d%\\xbd\\xa7\\xb3l\\x1a\\xff\\xe0\\xd5\\xa1mt\\x1f\\x97:\\xc43\\x8d&\\xb1\\xef\\xcc\\xdb\\xa6\\xbe\\xb3\\xd8\\xeb\\xfa\\xce\\xf1\\xaaC\\x9b\\xf3\\x19y\\xb2\\x8d\\xaaO\\xae\\xeb\\xe7\\xe4\\x88W\\xdbp\\xe7\\xe74\\xf7\\xf5i\\xeb\\x8c\\xb3\\xaf\\x9f\\xa8\\xa4Fw\\xe5\\xd4\\xa1\\xd1\\xd4-\\x1e(\\xa2\\xbb\\xbd\\x16\\x19\\x14\\xd6\\xb9}\\'}\\x88JZ\\x96\\xf5{\\xde:Y\\x1d\\xf6\\xb4\\xaa[\\xdb\\xa8[<L&}g\\xb9\\xdf\\xf5\\x9d\\xe3S\\xc76W\\xc7\\x98\\xa0\\xa82I\\xba:\\xb7\\xf1I\\xfa\\x9c\\xec\\xf6\\x13`AV\\xa73\\t\\xdf\\x9a\\xe5u\\xc2I\\x8a\\xac\\xd3\\xfb\\xcd,0]\\xf4\\x9dQ\\xea\\xf5\\xeer\\'\\xa1~\\x80\\xe9\\x91\\xd6\\xbfMB_\\xd6\\xe4\\xcf\\xc9S\\x91\\xd4\\xe8\\xbe<(\\xed\\xde\\x9d\\xdeu\\x92^\\xef]\\xde\\xbd,\\xef\\xfdE\\xe3\\xcc\\xdaN\\xf7\\xf22\\xeb\\x0e+\\xbe\\xa6\\xca;\\xee\\xfd\\x1c\\xd7A\\xdbK\\x91\\xb2\\xc7-\\xafS*\\xdb!\\x959\\xdf\\xb2\\xca-\\xb2NV\\xcc\\xfd\\xbc\\'o[>\\x88\\xf7g\\x1c}q\\x912\\x8a\\xc6Z\\xa4\\xdf\\x9d\\xf4\\xbe8o\\xff\\xd2\\x96U\\xd1wv\\xbf6N\\xfa\\xceW\\xdf\\x93\\xb5-\\xfdf=\\xe5\\xb5\\xa9\"}V\\x93?#7\\xadO\\x1e\\x95~\\xfb\\xfa\\xce\\xef\\xbd\\xcbG\\xddn\\xea\\xf8Yy\\x98}}\\xe7\\xf5\\xa2\\xeb\\xd5\\xa9\\xaf/\\xba\\xce\\xb0M|R\\xa3\\xbbA\\xb4\\xdb\\xed\\x85\\x7fi\\'c\\xd2\\xeb\\x11\\xc9\\x07\\xbd\\xf72\\xca\\xce\\xcf~\\x1aHV|\\xbd\\x97\\xb3\\xa6-K+\\xa3w\\xff\\xba\\x97M\\xba\\xacz\\x8d\\xe8\\xef\\xb8\\x0e\\xa3\\xbd\\xa4\\x95\\x9d\\xf6\\xde\\xba(\\xdaI\\x95=\\xdf\\xd2\\xca-\\xb2N\\x19y\\x83\\x8fA\\xf8\\xc0\\x9em\\\\}q\\xf7\\xef\\xc3\\xee\\x8f\\xa7\\xad/.\\xf2w\\xa9[\\xd5}g\\xda\\xfb\\xeb@\\xdf\\x99N\\xdfY\\x9d\\xbc6U\\xe4\\x9c\\x8dh\\xeeg\\xe4\\xa6\\xf5\\xc9\\xa32H_\\xdf\\xfd{R\\xfb\\x19U\\xbb\\x99\\xe4\\xbe\\xbe\\xf3z\\xd1\\xf5\\xf4\\xf5\\xbf2\\xf1I\\x8d\\xa4\\x8e\\xad\\xc8:M\\xfb#\\x9b\\x979\\xec\\xfdY\\xd7\\xce`\\x98\\x92\\xead\\x18\\xc7u\\x12\\xda\\xcb\\xa0\\xb2\\xf65\\xaf\\xde\\x8b\\x9c\\x93i\\xe5\\xd0\\\\\\xfa\\xe2f\\xf5\\xc5\\xa3\\xe8?\\'\\xe1\\xf8\\x0eJ\\xdfI\\x9d\\xe4\\xb5\\xa9I9g\\xd3\\xce\\x89&\\xf5\\xc9\\xa3\\xa2\\xaf\\x1f\\x8dA\\xfa\\xfa\\xce\\xef\\xdd?\\x8b\\x963\\xcd&j\\xa2\\xd0&\\xcb\\xcb\\x10w\\x1a{\\xf7z\\xbd\\ry\\x9a:\\x0b\\xaa3\\xce?L\\xc3\\xdc\\x8e\\xce\\x9f\\xa2\\xb2\\xfac}1\\xfd\\xd2wB\\x7f|F\\xa6I\\xf4\\xf5\\xd5\\x90\\xd4\\xa8XZ\\'\\xdcO#mrC\\xa4Yz?@\\x8cr;\\xc3\\xd0\\xf4\\x8e\\x9a\\xd1\\xebm#\\x83\\xf4\\xc7\\xda\\x1ai\\xf4\\x9dP\\x9c\\xcf\\xc84\\x95\\xbe~\\xfc&\\xfe\\xf6\\x93\\xa6(\\xd2\\x98\\xa6\\xed\\xd2-\\xea\\xad)\\xed\\xb1lG]d\\xfdI\\xe8\\xfcI\\x97w|\\x9b\\xd2\\xf6\\xa9\\xa7\\xa6\\xb4\\x9fa\\xf7\\x9d\\xfaM\\xfa\\xe532M\\xd4\\x9469)\\x9f\\x93%5R\\x14=`\\xdd?\\x93^\\xebg\\x1by\\xef-z\\xff[\\x13N\\xa4Q\\xca\\x9aP\\'K?\\xc7u\\xd0r\\xb3\\x96\\x8fK?\\x9do\\xda=\\xaa\\xfd\\xd4{\\xd1r\\xca\\xc8;\\xc7\\x8a\\xecs\\xd1z\\xf1\\x81}4\\xc6qnemc\\xd0\\xfbb\\x8bl\\xbf\\x8e\\xfa9\\x8f\\xf5\\x9d\\xe5\\xdeS\\xa4\\x9c\\xa6\\xf6\\x9de\\xeaD\\xdf\\xd9,E\\x8f\\x97\\xcf\\xc8\\xcd0\\xec\\xbe>m\\xf9\\xb8\\xda\\xcd\\xa8\\x95\\xed\\xef\\'\\xbd\\xaf/\\xbaN\\xd6\\xb6\\x86e\\xa2n?\\xe9\\xae\\xd0\\xac\\xc6\\xd2}\\xc2\\xf4^n\\xdcQ\\xa4\\x11&]Z\\x94\\xd6\\x08\\x8a\\x1e\\xec\\xee\\xf7\\x16\\xed\\x98\\xb3\\xe2\\xeb.w\\x1a?8\\xa4\\xd5I\\xde:Y\\xc7\\xb5w\\xd9 \\xe5&\\x95]\\xa7\\xe3\\x94\\xd4\\x86\\x8b\\xc4\\x96U\\xefI\\xed1\\xad\\x8d\\xe6\\xb5\\xe92\\x7f {\\xe3+\\x12k\\x99uxU\\x1d\\xfa\\xe2\\xb48\\xca\\x0c\\xb4\\xba\\xcb\\xcek\\x9by\\xf1\\xf5\\xc6\\xd0\\x846\\x94\\xd7\\xee\\xeb\\xd6wv\\x96\\xd5\\xa1n\\xf5\\x9d\\xfa\\xcd:Ik\\x8fE\\xdbT\\x91\\xe3\\xd8\\xc4\\xcf\\xc8M\\xeb\\x93Ge\\x18}}D\\xf21J+\\xb3L\\xd9\\xd3\\xd6\\xd7w\\x97\\x95wn\\x16\\xf9\\x9b\\x91\\x17\\xcf\\xa4|N\\x9e\\xa8\\xa4F\\xd1\\n\\xcc:\\xb1\\xca\\xbe\\xb7\\xf7\\xa0\\xf7\\x13O\\x99\\xf7\\xe6\\x9d\\xc4i\\rm\\x9a\\r\\xfb\\xb8\\x0e\\xab\\xdc\\xb42\\xaa<^\\xbd\\x7fL\\xfa\\xd9\\xc7~\\x96\\xf7\\xd3\\xa6\\x8b|\\x08\\x1a\\xb4O(\\xbaN]\\xfe\\xb8\\xd6E\\xd5}q\\x99\\x18\\xfa);bz\\xfa\\xe2\\xbc\\x98\\xeb\\xd4w\\x16-{\\x14\\xf4\\x9d\\xfd\\xbd\\xae\\xef\\x1c\\x8fA\\xdbT\\xbf\\xed\\xa1\\xee\\x9f\\x91\\xb5\\xbdW\\r\\xd2\\xd7\\xa7\\xbd\\x7f\\x14\\xed\\xa6l\\xd9\\xa3\\xd0\\xdd\\xdf\\x8f\\xa2\\xafO{\\xad\\x9f\\xbf\\x19y\\xfd\\xfd$}Nv\\xfb\\t\\xb0H\\xd1\\x0f\\xbd\\xfc\\x8a\\x0f\\xe5@\\x84\\xbe\\xb3,}\\'\\xd0T\\xfa\\xfb\\xe2\\xc6\\xd5\\xd7Kj4\\x88\\x0f\\x00\\x0cS\\xef\\xa5\\x81\\xdd\\xea\\xdeY\\xd7\\xe5\\\\\\xc8\\x8a#\\xab~i\\xb6\\xba\\xb4?\\xc6/\\xef\\xbc\\xd6w\\x0e\\x1e\\x87\\xbe\\x93~\\xd4\\xa5m39\\xf4\\xf7\\xa3\\x8da\\xd8}\\xfdD\\xdd~\\xd2\\xaf\\xba\\xdfSW\\xe7\\x13f\\x1a\\xd5\\xbd\\xbd\\x141\\xe8edU\\xabKle/\\x1d$[\\xdd\\xcf-}\\xf1`\\xea~|\\xf3\\x0c\\xf32\\xdd\\xaa\\xd4%6}g34\\xe1\\x9c\\xd5/\\xd7O\\x13\\xdaM\\x1e\\xfd\\xfd\\xe8c\\x18v|\\x92\\x1aQ\\x8f\\x83\\x9e\\xa5\\xee\\xf1M\\x1b\\xc7\\x03F\\xa3\\xee\\xe7V\\xdd\\xe3\\xab;\\xf5\\x07\\xcd\\xd2\\x84s\\xb6\\t1N\\x1b\\xc7\\x84*\\xb8\\xfd\\x04\\x00\\x00\\x00h$I\\r\\x00\\x00\\x00\\xa0\\x91$5\\x00\\x00\\x00\\x80F\\x92\\xd4\\x00\\x00\\x00\\x00\\x1a)q\\xa2\\xd0]\\xbbv\\xc5\\xe6\\xcd\\x9b\\xc7\\x1c\\nd\\xdb\\xb7o_DD\\xdcq\\xc7\\x1d\\xb1f\\xcd\\x9a\\x8a\\xa3\\xa9\\x8f&\\xd5\\xcbs\\xcf=\\x17\\xcb\\x96-\\xab}\\x9cU\\xe9\\x1c\\xcbQ\\xd1\\xb7O\\xa7&\\xf5\\x11\\xe3\\xa4^&\\xc7\\xa8\\xfb\\xce\\x88\\x88-[\\xb6\\xc4\\xdc\\xdc\\xdc\\xc8\\xb7\\xd3T/\\xbf\\xfcr<\\xff\\xfc\\xf3q\\xd6YgU\\x1d\\xcaT\\x9b\\x9f\\x9f\\x8f\\xb9\\xb99\\x7f\\xeb{\\xa8\\x97\\xc91??\\x9f\\xb8\\xbc\\xd5\\xee\\x99\\xa2\\xf6\\x8b_\\xfcb\\xdc}\\xf7\\xdd\\xe3\\x88\\tJi\\xb7\\xdb\\xf1\\xca+\\xaf\\xc4\\xca\\x95+=\\xc2\\xabK\\x93\\xea\\xe5\\x87?\\xfca\\xec\\xd9\\xb3\\'\\x8e;\\xee\\xb88\\xe9\\xa4\\x93\\xe2\\xa4\\x93N\\x8a5k\\xd6\\xc4\\xb2e\\x1e\\xc4\\xd4\\xedk_\\xfbZ\\xac]\\xbbv\\xa8e\\xea\\xdb\\xa7W\\x15}\\xc4\\xc1\\x83\\x07\\xe3\\x97\\xbf\\xfce\\x9c~\\xfa\\xe9c\\xd9^?\\x9a\\xd4wR\\xcc(\\xfa\\xce\\x88\\x88\\r\\x1b6\\x0c\\xbd\\xcc\\xa6;v\\xecX\\xec\\xdf\\xbf?^x\\xe1\\x85x\\xe1\\x85\\x17\\xe2\\xc5\\x17_\\x8c\\x15+V\\xc4\\x85\\x17^XuhS\\xed\\xd0\\xa1C\\xb1d\\xc9\\x12\\x9f\\xabz\\xa8\\x97\\xc9\\xb2i\\xd3\\xa6\\xd8\\xb4iS\\xf7\\xa2\\xf9\\xd7$5\\x00F\\xe9\\xc9\\'\\x9f\\x8c\\xd9\\xd9\\xd9\\x98\\x9d\\x9d\\x8d{\\xef\\xbd7^|\\xf1\\xc5X\\xbf~}\\xcc\\xcc\\xcc\\xc4\\xcc\\xccL\\\\z\\xe9\\xa5\\xb1j\\xd5\\xaa\\xaa\\xc3\\x04\\x06\\xb0e\\xcb\\x96\\xb8\\xfd\\xf6\\xdbc\\xf7\\xee\\xddU\\x87\\x02\\x0cI\\xf7\\xdf\\xef{\\xee\\xb9\\'\\x0e\\x1c8\\xb0\\xe8\\xef\\xf7e\\x97]\\x16+W\\xae\\xac:L`\\xfaHj\\x00\\xd59z\\xf4h\\xec\\xda\\xb5k\\xe1C\\xd2\\xb6m\\xdbb\\xe9\\xd2\\xa5q\\xc9%\\x97,|H:\\xef\\xbc\\xf3b\\xc9\\x12\\xd3\\xff@\\x93Hj@\\xf3=\\xf3\\xcc3\\xb1}\\xfb\\xf6\\x98\\x9d\\x9d\\x8d;\\xef\\xbc3\\x9e~\\xfa\\xe9x\\xf3\\x9b\\xdf\\xbc\\xf0\\xf7\\xf9\\xaa\\xab\\xaer\\xeb\\x16P\\x07\\x92\\x1a@}\\x1c8p \\x1e}\\xf4\\xd1\\x85$\\xc7\\xf7\\xbe\\xf7\\xbd8\\xf5\\xd4Sc\\xc3\\x86\\r133\\x13\\xd7\\\\sM\\xac[\\xb7\\xae\\xea0\\x81\\x1c\\x92\\x1a\\xd0<\\xcf?\\xff|<\\xf0\\xc0\\x03\\xb1}\\xfb\\xf6x\\xf8\\xe1\\x87c\\xe7\\xce\\x9dq\\xc6\\x19g\\xc4\\xe5\\x97_\\x1e333q\\xed\\xb5\\xd7\\xc6\\x9b\\xde\\xf4\\xa6\\xaa\\xc3\\x04\\xe8%\\xa9\\x01\\xd4\\xd7\\x9e={\\xe2\\xa1\\x87\\x1e\\x8a\\xd9\\xd9\\xd9\\xf8\\xf6\\xb7\\xbf\\x1d?\\xfd\\xe9O\\x17}K433\\x13\\'\\x9dtR\\xd5a\\x02=$5\\xa0\\xfe\\x0e\\x1e<\\x18\\x0f?\\xfc\\xf0\\xc2\\x17\\t\\x8f=\\xf6X\\x1cw\\xdcqq\\xd1E\\x17-\\xfc\\x8d=\\xff\\xfc\\xf3\\xcd9\\x03\\xd4\\x9d\\xa4\\x06\\xd0\\x1c\\xee\\xe7\\x85f\\x90\\xd4\\x80\\xfa9v\\xecX<\\xf6\\xd8c\\x0b\\x7fG\\xb7o\\xdf\\x1e\\x87\\x0f\\x1f^\\xf4w\\xf4\\xf2\\xcb/\\x8f\\x15+VT\\x1d*@\\x19\\x92\\x1a@3\\x1d9r$\\x1e\\x7f\\xfc\\xf1\\x85\\x0fg[\\xb7n\\x8d\\xe5\\xcb\\x97\\xc7\\xc5\\x17_\\xec\\x1b&\\xa8\\x98\\xa4\\x06\\xd4C\\xf7\\x97\\x01\\xf7\\xdf\\x7f\\x7f\\xfc\\xfc\\xe7?_t\\xc5\\xe3\\xd5W_\\x1d\\'\\x9exb\\xd5a\\x02\\x0cBR\\x03\\x98\\x0c/\\xbe\\xf8b\\xec\\xd8\\xb1c\\xe1\\xc3\\xdb\\xce\\x9d;\\xe3\\xf4\\xd3O\\x8f+\\xae\\xb8\"fff\\xe2\\xba\\xeb\\xae\\x8b7\\xbe\\xf1\\x8dU\\x87\\tSAR\\x03\\xaa\\xb1w\\xef\\xde\\x98\\x9b\\x9b[x\\xc2\\xd8\\xfc\\xfc|\\xac]\\xbb6.\\xbb\\xec\\xb2\\x98\\x99\\x99\\x89\\xf7\\xbe\\xf7\\xbd\\xf1\\x867\\xbc\\xa1\\xea0\\x01\\x86IR\\x03\\x98Ly\\xb3\\xb6\\xfbv\\nFGR\\x03\\xc6\\xe3\\xa5\\x97^\\x8aG\\x1eyd\\xd1\\xbc\\x18\\xaf{\\xdd\\xeb\\xe2\\xc2\\x0b/t\\xd5\"0-$5\\x80\\xe9\\xf0\\xe4\\x93O\\xc6\\xb7\\xbe\\xf5\\xad\\xb8\\xf3\\xce;\\xddG\\x0c#&\\xa9\\x01\\xa3\\xd1\\xfb(\\xf4\\x87\\x1ez(\\x8e\\x1e=\\x1a\\xef|\\xe7;\\x17\\xfe\\x9e]q\\xc5\\x15\\xb1|\\xf9\\xf2\\xaaC\\x05\\x18\\x17I\\r`\\xfa\\x98\\xf1\\x1dFKR\\x03\\x86\\xa7{^\\x8c\\xd9\\xd9\\xd9x\\xe1\\x85\\x17\\x16]yx\\xcd5\\xd7\\xc4\\xea\\xd5\\xab\\xab\\x0e\\x13\\xa0*\\x92\\x1a\\x00\\xcf=\\xf7\\\\<\\xf8\\xe0\\x831;;\\x1b\\xf7\\xddw_\\xec\\xde\\xbd\\xdb=\\xc80\\x00I\\r\\xe8\\xdf\\xcf~\\xf6\\xb3\\xd8\\xbau\\xeb\\xc2\\x93\\xbe~\\xfc\\xe3\\x1f\\xc7\\xeb_\\xff\\xfa\\xb8\\xf4\\xd2Kcff&\\xde\\xff\\xfe\\xf7\\xc7\\x99g\\x9eYu\\x98\\x00u!\\xa9\\x01\\xd0+o\\xb6x\\xdf\\x8aA6I\\r(\\xee\\xc0\\x81\\x03\\xf1\\xe8\\xa3\\x8f.\\xfc\\xdd\\xf9\\xde\\xf7\\xbe\\x17\\xbf\\xf6k\\xbf\\x16\\x17\\\\p\\xc1\\xc2\\xdf\\x9dw\\xbd\\xeb]U\\x87\\tPW\\x92\\x1a\\x00Yz\\xef_\\xde\\xbe}{\\x1c9r\\xc4\\xfd\\xcb\\x90AR\\x03\\xd2\\xf5\\xfe]\\xd9\\xb6m[,]\\xba4.\\xb9\\xe4\\x92\\x98\\x99\\x99\\x89K.\\xb9$.\\xbc\\xf0\\xc2X\\xb6lY\\xd5\\xa1\\x024\\x81\\xa4\\x06@\\x19\\xbd\\xf3q|\\xef{\\xdf\\x8b\\xe3\\x8f?~\\xd1L\\xf3\\xbeQc\\xdaIj\\xc0b\\xddW\\x00\\xdew\\xdf}\\xb1\\x7f\\xff\\xfe8\\xef\\xbc\\xf3\\x16\\xfen\\\\z\\xe9\\xa5\\xb1j\\xd5\\xaa\\xaa\\xc3\\x04h\"I\\r\\x80A\\xec\\xdd\\xbb7\\xe6\\xe6\\xe6\\xdc\\xfb\\x0c]$5\\x98v\\xcf>\\xfbll\\xdb\\xb6-fgg\\xe3;\\xdf\\xf9N\\xfc\\xe4\\'?Yt\\x1b\\xe3{\\xde\\xf3\\x9e8\\xf9\\xe4\\x93\\xab\\x0e\\x13`\\x12Hj\\x00\\x0cS\\xde,\\xf5\\xd7^{m\\x9cp\\xc2\\tU\\x87\\t#%\\xa9\\xc1\\xb4y\\xf1\\xc5\\x17c\\xc7\\x8e\\x1d\\x8b\\xae\\xe2;\\xf5\\xd4Sc\\xc3\\x86\\r133\\x13W]uU\\x9cs\\xce9U\\x87\\t0\\x89$5\\x00F\\xa5\\xf7\\xbe\\xe9\\x87\\x1ez(\\x96,Y\\xb2p\\xdf\\xf4\\xcc\\xccL\\x9cw\\xdey\\xb1d\\xc9\\x92\\xaaC\\x85\\xa1\\x92\\xd4`\\xd2\\x1d9r$\\x1e\\x7f\\xfc\\xf1\\x85\\xfe}\\xeb\\xd6\\xad\\xb1|\\xf9\\xf2\\xb8\\xf8\\xe2\\x8b\\xf5\\xef\\x00\\xe3%\\xa9\\x010./\\xbd\\xf4R<\\xf2\\xc8#\\x8b\\xbe\\xc9;\\xe5\\x94Sb\\xe3\\xc6\\x8d\\xbe\\xc9c\\xa2Hj0\\x89\\xba\\xaf\\xc4\\xbb\\xe7\\x9e{\\xe2\\xc0\\x81\\x03\\xb1~\\xfd\\xfa\\x85$\\xc6e\\x97]\\x16+W\\xae\\xac:L\\x80i#\\xa9\\x01P\\x95\\x9f\\xfd\\xecg\\xb1u\\xebV\\xf7\\\\3q$5\\x98\\x04\\xcf<\\xf3Ll\\xdf\\xbe=fgg\\xe3\\xdb\\xdf\\xfev\\xfc\\xf4\\xa7?]\\xd4G\\xcf\\xcc\\xcc\\xc4I\\'\\x9dTu\\x98\\x00\\xd3NR\\x03\\xa0.\\xba\\xbf\\x05\\xbc\\xf7\\xde{\\xe3\\x97\\xbf\\xfc\\xa5\\xd9\\xf1i$I\\r\\x9a\\xa8w^\\x8c\\x9d;w\\xc6\\xe9\\xa7\\x9f\\x1eW\\\\qE\\xcc\\xcc\\xcc\\xc45\\xd7\\\\\\x13\\xeb\\xd6\\xad\\xab:L\\x00\\x16\\x93\\xd4\\x00\\xa8\\xa3\\xde\\xf98\\xb6m\\xdb\\x16K\\x97.5\\x1f\\x07\\x8d \\xa9A\\x13$\\xcd\\x8b\\xb1b\\xc5\\x8a\\xb8\\xe8\\xa2\\x8b\\x16\\xfa\\xd9\\xf3\\xcf??Z\\xadV\\xd5\\xa1\\x02\\x90NR\\x03\\xa0\\t\\x0e\\x1c8\\x10\\x8f>\\xfah\\xea\\xcc\\xfa\\xbeA\\xa4N$5\\xa8\\xa3c\\xc7\\x8e\\xc5c\\x8f=\\x16\\xb3\\xb3\\xb3\\xb1}\\xfb\\xf6\\xd8\\xbauk\\xbc\\xf4\\xd2K\\x8b\\xe6\\xc5\\xb8\\xfc\\xf2\\xcbc\\xc5\\x8a\\x15U\\x87\\n@q\\x92\\x1a\\x00M\\xb4g\\xcf\\x9ex\\xe8\\xa1\\x87bvv6\\xee\\xba\\xeb\\xaex\\xea\\xa9\\xa7\\xdc\\xebMmHjP\\x17\\xdd\\xb7\\xf5=\\xf0\\xc0\\x03\\xf1\\xfc\\xf3\\xcf/\\xea+\\xaf\\xba\\xea\\xaaX\\xb3fM\\xd5a\\x02\\xd0?I\\r\\x80I`V~\\xeaDR\\x83\\xaa<\\xf7\\xdcs\\xf1\\xe0\\x83\\x0f\\xc6\\xec\\xecl\\xdcw\\xdf}\\xb1{\\xf7\\xee8\\xe3\\x8c3\\xe2\\xf2\\xcb/\\x8f\\x99\\x99\\x99\\xb8\\xee\\xba\\xeb\\xe2\\x8do|c\\xd5a\\x020<\\x92\\x1a\\x00\\x93&\\xe9>\\xf1\\xe5\\xcb\\x97\\xc7\\xc5\\x17_\\xec>q\\xc6BR\\x83q9x\\xf0`<\\xfc\\xf0\\xc3\\x0b\\xfd\\xddc\\x8f=\\x16\\xc7\\x1dw\\x9cy1\\x00\\xa6\\x87\\xa4\\x06\\xc0\\xa4\\xcb\\x9b\\xd1\\xdf7\\x97\\x0c\\x9b\\xa4\\x06\\xa3\\xd2;\\x89\\xf2\\xf6\\xed\\xdb\\xe3\\xc8\\x91#\\xf1\\xcew\\xbe\\xd3\\xbc\\x18\\x00\\xd3IR\\x03`\\xda<\\xf3\\xcc3\\xb1}\\xfb\\xf6\\x98\\x9d\\x9d\\x8d;\\xef\\xbc3\\x9e~\\xfa\\xe9E\\xf7\\x98_}\\xf5\\xd5q\\xe2\\x89\\'V\\x1d&\\r&\\xa9\\xc10u\\xdf^w\\xff\\xfd\\xf7\\xc7\\xcf\\x7f\\xfe\\xf3E}\\xd65\\xd7\\\\\\x13\\xabW\\xaf\\xae:L\\x00\\xaa!\\xa9\\x010\\xed:\\x03\\x86o}\\xeb[1;;\\x1b\\x87\\x0f\\x1f\\xf64\\x00\\x06\"\\xa9\\xc1 \\xf6\\xee\\xdd\\x1bsss\\x0bs\\x04\\xfd\\xf8\\xc7?\\x8e\\xd7\\xbf\\xfe\\xf5q\\xe9\\xa5\\x97\\xc6\\xcc\\xccL\\xbc\\xef}\\xef\\x8b\\xb3\\xce:\\xab\\xea0\\x01\\xa8\\x07I\\r\\x00^\\xe5\\xfet\\x86AR\\x832^z\\xe9\\xa5x\\xe4\\x91G\\x16=\\xb2\\xfa\\xf8\\xe3\\x8f\\x8f\\x0b/\\xbcp\\xa1\\xdfy\\xd7\\xbb\\xdeUu\\x98\\x00\\xd4\\x93\\xa4\\x06\\x00\\xe9\\x92\\x9e$\\xb0v\\xed\\xda\\xb8\\xec\\xb2\\xcbbff&\\xde\\xfb\\xde\\xf7\\xc6\\x1b\\xde\\xf0\\x86\\xaa\\xc3\\xa4f$5\\xc8\\xd2;/\\xc6C\\x0f=\\x14G\\x8f\\x1e]4/\\xc6\\x15W\\\\\\x11\\xcb\\x97/\\xaf:T\\x00\\xeaOR\\x03\\x80\\xe2\\xdc\\xdbN\\x11\\x92\\x1a\\xf4\\xea\\xee;\\xee\\xbb\\xef\\xbe\\xd8\\xb7o\\xdf\\xa2\\xbe\\xe3\\xdak\\xaf\\x8d\\x13N8\\xa1\\xea0\\x01h\\x1eI\\r\\x00\\xfas\\xec\\xd8\\xb1x\\xec\\xb1\\xc72\\x9fB\\xe0\\xdb\\xd6\\xe9\\xf0\\xe0\\x83\\x0f\\xc6\\xd1\\xa3G\\x17~\\xbf\\xf7\\xde{\\xe3\\xab_\\xfdj\\xfc\\xcb\\xbf\\xfc\\xcb\\xa2\\xf5\\xde\\xfa\\xd6\\xb7\\xc6\\xbau\\xeb\\xc6\\x1d\\x1e\\x15x\\xf6\\xd9gc\\xdb\\xb6m1;;\\x1bw\\xdf}w\\xfc\\xdf\\xff\\xfd\\xdf\\xa2$\\xc6\\x95W^\\x19\\xa7\\x9crJ\\xd5a\\x02\\xd0|\\x92\\x1a\\x00\\x0cG\\xd2|\\x1c\\xaf{\\xdd\\xeb\\xdc\\x17?\\x05\\xae\\xbc\\xf2\\xcax\\xf0\\xc1\\x07s\\xd7\\xdb\\xb6m[\\\\v\\xd9ec\\x88\\x88q;p\\xe0@<\\xfa\\xe8\\xa3\\x8b\\xe6\\xc58\\xe5\\x94Sb\\xe3\\xc6\\x8d133\\x13W]uU\\x9cs\\xce9U\\x87\\t\\xc0\\xe4\\x91\\xd4\\x00`4\\xf2\\x9e`\\xf0\\xfe\\xf7\\xbf?\\xce<\\xf3\\xcc\\xaa\\xc3d\\x08\\xbe\\xf4\\xa5/\\xc5g>\\xf3\\x998|\\xf8p\\xea:g\\x9cqF<\\xfd\\xf4\\xd3\\xb1d\\xc9\\x921F\\xc6\\xa8\\x1c9r$\\x1e\\x7f\\xfc\\xf1\\x85$\\xc6\\xb6m\\xdbb\\xe9\\xd2\\xa5q\\xc9%\\x97,$1\\xcf;\\xef<\\xc7\\x1b\\x80Q\\x93\\xd4\\x00`<\\xba\\xef\\xa9\\x9f\\x9d\\x9d\\x8d\\x17^x\\xc1=\\xf5\\x13b\\xdf\\xbe}q\\xdai\\xa7\\xc5\\x91#G\\x12__\\xb1bE|\\xf6\\xb3\\x9f\\x8d/~\\xf1\\x8bc\\x8e\\x8ca\\xea>\\x87\\xef\\xbd\\xf7\\xdex\\xf1\\xc5\\x17\\x17=\\xfe\\xf9\\xd2K/\\x8dU\\xabVU\\x1d&\\x00\\xd3ER\\x03\\x80\\xf1K{\\xfa\\xc1\\x05\\x17\\\\\\x10\\x1f\\xf8\\xc0\\x07|\\xcb\\xdb@\\xef\\x7f\\xff\\xfb\\xe3\\xee\\xbb\\xef^4\\xb7F\\xb7]\\xbbv\\xc5;\\xdf\\xf9\\xce1G\\xc5 \\xf6\\xec\\xd9\\x13\\x0f=\\xf4P\\xcc\\xce\\xce\\xc6]w\\xdd\\x15O=\\xf5\\xd4\\xa2D\\xe4{\\xde\\xf3\\x9e8\\xf9\\xe4\\x93\\xab\\x0e\\x13\\x80\\xe9&\\xa9\\x01@\\xf5^z\\xe9\\xa5x\\xe4\\x91G\\x16\\xdd\\x8f\\x7f\\xf2\\xc9\\'\\xc7\\x95W^\\xe9~\\xfc\\x86\\xf8\\xfa\\xd7\\xbf\\x1e7\\xdf|s\\xe2\\xd5\\x1a\\xe7\\x9csN<\\xf9\\xe4\\x93\\x15DE\\x19/\\xbe\\xf8b\\xec\\xd8\\xb1c\\xe1<\\xdc\\xb9sg\\x9cv\\xdai\\xb1a\\xc3\\x86\\x98\\x99\\x99\\x89\\xab\\xaf\\xbe:\\xce>\\xfb\\xec\\xaa\\xc3\\x04\\x80n\\x92\\x1a\\x00\\xd4\\xcf\\xcf~\\xf6\\xb3\\xd8\\xbauk\\xcc\\xce\\xce\\xc6w\\xbe\\xf3\\x9d\\xf8\\xc9O~\\xe2\\x1b\\xe2\\x9a{\\xf9\\xe5\\x97\\xe3\\xe4\\x93O\\x8e\\x83\\x07\\x0f.Z\\xbej\\xd5\\xaa\\xf8\\xb3?\\xfb\\xb3\\xf8\\xf3?\\xff\\xf3\\x8a\"#M\\xef\\xbc\\x18[\\xb7n\\x8d\\xe5\\xcb\\x97\\xc7\\xc5\\x17_\\xbcp\\xae\\x9d\\x7f\\xfe\\xf9\\xd1j\\xb5\\xaa\\x0e\\x15\\x00\\xd2Hj\\x00P\\x7f\\xbd\\xf7\\xf2\\xff\\xf2\\x97\\xbf\\x8c\\xf3\\xce;\\xcf\\xbd\\xfc5s\\xe3\\x8d7\\xc67\\xbe\\xf1\\x8d\\xd7L\\x18\\xfa\\xa3\\x1f\\xfd(\\xde\\xfa\\xd6\\xb7V\\x14\\x15\\xdd\\xba\\xcf\\xa5\\xbb\\xef\\xbe;^z\\xe9\\xa5E\\xf3b\\\\v\\xd9e\\xb1r\\xe5\\xca\\xaa\\xc3\\x04\\x80\\xa2$5\\x00h\\x96\\xde\\xf98<u\\xa1>\\xee\\xba\\xeb\\xae\\xf8\\xc0\\x07>\\x10\\xc7\\x8e\\x1d[X\\xb6~\\xfd\\xfax\\xec\\xb1\\xc7*\\x8cj\\xba=\\xfd\\xf4\\xd3\\x0b\\x8fZ\\xbe\\xf3\\xce;\\xe3\\xe9\\xa7\\x9f^t\\xd5\\xd3UW]\\x15k\\xd6\\xac\\xa9:L\\x00\\xe8\\x97\\xa4\\x06\\x00\\xcdv\\xe0\\xc0\\x81x\\xf4\\xd1G\\x17\\xcd\\xc7q\\xea\\xa9\\xa7.\\xcc\\x03p\\xcd5\\xd7\\xc4\\xbau\\xeb\\x06\\xda\\xc63\\xcf<\\x13\\xaf\\x7f\\xfd\\xeb\\x87\\x14\\xf1\\xe4:r\\xe4H\\x9cv\\xdai\\xb1o\\xdf\\xbe\\x88\\x88X\\xb9re\\xfc\\xe5_\\xfee\\xfc\\xc9\\x9f\\xfcI\\xc5\\x91\\xd5\\xdf\\xa1C\\x87b\\xc5\\x8a\\x15\\x03\\x97\\xf3\\xfc\\xf3\\xcf\\xc7\\x03\\x0f<\\x10\\xdb\\xb7o\\x8f\\x87\\x1f~8v\\xee\\xdc\\x19g\\x9cqF\\\\~\\xf9\\xe5\\x0bO\\x19z\\xd3\\x9b\\xde4\\x84\\x88\\x01\\xa0\\x16$5\\x00\\x98,yOl\\x98\\x99\\x99\\x89\\x93N:\\xa9T\\x99\\xbf\\xf7{\\xbf\\x17\\xfb\\xf7\\xef\\x8f-[\\xb6\\xc4\\xda\\xb5kG\\x14\\xf9d\\xf8\\xe3?\\xfe\\xe3\\xf8\\xe7\\x7f\\xfe\\xe78t\\xe8P\\xb4Z\\xadx\\xea\\xa9\\xa7\\xe2\\xcc3\\xcf\\xac:\\xacZ\\x9b\\x9b\\x9b\\x8b?\\xf8\\x83?\\x88\\x9d;w\\xc6\\x89\\'\\x9eX\\xea\\xbd\\x07\\x0f\\x1e\\\\\\xb8\\x12cvv6\\x1e{\\xec\\xb18\\xee\\xb8\\xe3\\xe2\\xa2\\x8b.2/\\x06\\x00\\xd3@R\\x03\\x80\\xc9\\xd6=\\x87\\xc0=\\xf7\\xdc\\x13\\x07\\x0e\\x1c(5\\x87@\\xbb\\xdd\\x8e\\x93O>9\\xf6\\xef\\xdf\\x1f\\xc7\\x1f\\x7f|\\xfc\\xbf\\xff\\xf7\\xff\\xe2\\xfa\\xeb\\xaf\\x1f\\xe3\\x1e4\\xcbC\\x0f=\\x14W\\\\qEDD\\\\z\\xe9\\xa5\\xb1m\\xdb\\xb6\\x8a#\\xaa\\xaf\\x83\\x07\\x0f\\xc6\\xe7>\\xf7\\xb9\\xf8\\xbb\\xbf\\xfb\\xbbh\\xb7\\xdb\\xf1o\\xff\\xf6o\\xf1\\xa1\\x0f}(\\xf3=\\xc7\\x8e\\x1d\\x8b\\xc7\\x1e{l\\xa1Mo\\xdf\\xbe=\\x0e\\x1f>\\xbc\\xa8M_~\\xf9\\xe5C\\xb9\\xea\\x03\\x00\\x1a@R\\x03\\x80\\xe9\\xd1\\xcf\\xd3\\x1ev\\xed\\xda\\x15\\xe7\\x9dw^DD\\xb4Z\\xadh\\xb5Z\\xf1\\xa1\\x0f}(\\xfe\\xf1\\x1f\\xff1N=\\xf5\\xd4\\xaav\\xa5\\xb6\\xda\\xedv\\x9cu\\xd6Y\\xf1\\xcc3\\xcf\\xc4?\\xfd\\xd3?\\xc5\\'?\\xf9\\xc9\\xaaC\\xaa\\xa5\\xef~\\xf7\\xbbq\\xc3\\r7\\xc4SO=\\x15\\x87\\x0f\\x1f\\x8e\\xe5\\xcb\\x97\\xc7\\xa7>\\xf5\\xa9\\xf8\\x9b\\xbf\\xf9\\x9b\\xd7\\xac\\xdb\\x9d\\x98\\xbb\\xff\\xfe\\xfb\\xe3\\xe7?\\xff\\xf9\\xa2\\xab\\x8f\\xae\\xbe\\xfa\\xea\\xd2Wx\\x00\\xc0\\x84\\x90\\xd4\\x00`z\\xbd\\xf8\\xe2\\x8b\\xb1c\\xc7\\x8e\\x85\\x01\\xe3\\xce\\x9d;\\xe3\\xf4\\xd3O\\x8f+\\xae\\xb8ba\\xfe\\x81\\xaf\\x7f\\xfd\\xeb\\xf1\\x17\\x7f\\xf1\\x17\\xf1\\xf2\\xcb//\\xbco\\xc5\\x8a\\x15q\\xfc\\xf1\\xc7\\xc7\\x97\\xbf\\xfc\\xe5\\xd7|\\xb3\\xbeg\\xcf\\x9ex\\xe2\\x89\\'\\xc6\\xbd+\\xb5\\xf2\\x0f\\xff\\xf0\\x0f\\xf1\\x8do|#\\xbe\\xf9\\xcdo\\xc6\\t\\'\\x9cPu8\\x95Y\\xb5jU\\\\x\\xe1\\x85\\x8b\\x96\\x1d>|8\\xbe\\xf0\\x85/\\xc4\\x17\\xbe\\xf0\\x85h\\xb5Zq\\xf4\\xe8\\xd1\\x85\\xd7\\xce9\\xe7\\x9cx\\xf2\\xc9\\'c\\xef\\xde\\xbd177\\xb7\\xf0\\xb4\\x9f\\xf9\\xf9\\xf9X\\xbbvm\\\\v\\xd9e133\\x13\\xef}\\xef{\\xe3\\rox\\xc3\\xb8w\\x07\\x00\\xeaHR\\x03\\x00:\\xe6\\xe7\\xe7\\xe3\\xbe\\xfb\\xee\\x8b\\xd9\\xd9\\xd9x\\xe0\\x81\\x07\\xe2\\xb9\\xe7\\x9e\\x8b\\xb3\\xce:+\\x9e~\\xfa\\xe9H\\xfas\\xd9j\\xb5\\xe2\\xc3\\x1f\\xfep|\\xe9K_Z\\x98\\xa7c\\xcb\\x96-\\xf1\\x89O|b\\xdc\\xa1SC\\xeb\\xd6\\xad\\x8b\\xf9\\xf9\\xf9\\x85\\xdf\\xff\\xeb\\xbf\\xfe+n\\xb8\\xe1\\x86\\xf8\\xdf\\xff\\xfd\\xdf8t\\xe8P\\xe2{~\\xe37~#\\xfe\\xe7\\x7f\\xfe\\'N<\\xf1\\xc4\\xd8\\xb8q\\xe3\\xc2\\xd5\\x18o{\\xdb\\xdb\\xc6\\x145\\x004\\xca\\xbc\\xe7\\xdd\\x01\\xc0\\xff\\xef\\xec\\xb3\\xcf\\x8e?\\xfc\\xc3?\\x8c\\xaf\\x7f\\xfd\\xeb\\xf1\\xec\\xb3\\xcf\\xc6\\x8e\\x1d;b\\xef\\xde\\xbd\\x89\\t\\x8d\\x88_\\xddjq\\xe7\\x9dw\\xc6;\\xde\\xf1\\x8ex\\xe0\\x81\\x07\\x16\\x96\\xaf[\\xb7.\\xda\\xed\\xf6T\\xff\\xdb\\xb9sg\\xe51T\\xf9\\xef\\xcb_\\xfe\\xf2B{8r\\xe4H|\\xf1\\x8b_\\x8c\\xf3\\xcf??~\\xf8\\xc3\\x1f\\xa6&4V\\xacX\\x11\\xefx\\xc7;b\\xc7\\x8e\\x1d\\xf1\\xdcs\\xcf\\xc57\\xbf\\xf9\\xcd\\xf8\\xccg>#\\xa1\\x01\\x00\\x19\\x96U\\x1d\\x00\\x00\\xd4\\xd1\\x92%K\\xe2\\xc0\\x81\\x03q\\xe4\\xc8\\x91\\xcc\\xf5\\x0e\\x1d:\\x14\\xcf>\\xfbl\\xcc\\xcc\\xcc\\xc4\\xef\\xff\\xfe\\xef\\xc7\\xbb\\xdf\\xfd\\xee1EXo\\xe7\\x9f\\x7f~\\xd5!\\xd4\\xc2\\x0f~\\xf0\\x83\\xb8\\xe9\\xa6\\x9b\\xe2\\xfb\\xdf\\xff~n[:z\\xf4h,_\\xbe<~\\xe7w~gL\\xd1\\x01@\\xf3Ij\\x00@\\x8a\\xd9\\xd9\\xd9X\\xbe|y\\xbc\\xf2\\xca+\\x99\\xeb\\x1d;v,\"\"\\xbe\\xf4\\xa5/\\xc5\\xbf\\xff\\xfb\\xbf\\xc7\\xb2e\\xfe\\xbcN\\xbbv\\xbb\\x1d\\xfb\\xf7\\xef\\x8f\\xf5\\xeb\\xd7\\xc7\\xb1c\\xc7\\x16\\xcd\\x9d\\x91\\xe6\\xe8\\xd1\\xa3q\\xcf=\\xf7D\\xbb\\xdd\\xf6\\x08V\\x00(\\xc8\\xed\\'\\x00\\x90\\xe2\\xce;\\xef\\x8cW^y%Z\\xadV\\xacX\\xb1\"\\x8e;\\xee\\xb8X\\xb5jU,_\\xbe\\xfc5\\xeb\\x1ew\\xdcq\\xb1v\\xed\\xdaX\\xb5jU\\xfc\\xe2\\x17\\xbf\\x88\\xff\\xfc\\xcf\\xff\\xac b\\xea\\xe0\\xa5\\x97^\\x8a\\xaf~\\xf5\\xab\\xb1\\x7f\\xff\\xfe\\xd7$4\\x96.]\\x1a+W\\xae\\x8cU\\xabV\\xc5\\xca\\x95+c\\xe9\\xd2\\xa5\\x8b\\xde\\xfb\\xfc\\xf3\\xcf\\xc7\\xf7\\xbf\\xff\\xfdq\\x87\\x0c\\x00\\x8d\\xe5\\xab$\\x00Hp\\xf0\\xe0\\xc1X\\xbdzu\\\\{\\xed\\xb5\\xb1v\\xed\\xda8\\xe5\\x94S\\xe2\\x94SN\\x89\\xd3N;m\\xe1\\xff\\'\\x9f|\\xf2\\xc2\\xffW\\xacX\\x11\\x11\\xbf\\x9a(t\\xf3\\xe6\\xcdnC\\x99b\\xaf{\\xdd\\xeb\\xe2\\xd6[o\\x8d\\xdd\\xbbw\\xc7\\xfc\\xfc|\\xec\\xdf\\xbf?\\xf6\\xee\\xdd\\x1b\\xcf=\\xf7\\\\<\\xff\\xfc\\xf3\\x0b?;\\xff\\x7f\\xe6\\x99g\\xe2\\xd9g\\x9f\\x8d\\xbd{\\xf7\\xc6\\xfe\\xfd\\xfbc\\xeb\\xd6\\xad\\xf1\\x9b\\xbf\\xf9\\x9bU\\xef\\x06\\x004\\x82\\xa4\\x06\\x00$8\\xee\\xb8\\xe3b\\xfb\\xf6\\xedU\\x87\\xc1\\x04X\\xbdzuWX4G\\x00\\x00 \\x00IDAT\\xac^\\xbd:~\\xfd\\xd7\\x7f\\xbd\\xeaP\\x00`\\xe2\\xb8\\xfd\\x04\\x00\\x00\\x00h$I\\r\\x00\\x00\\x00\\xa0\\x91$5\\x00\\x00\\x00\\x80F\\x92\\xd4\\x00\\x00\\x00\\x00\\x1aIR\\x03\\x00\\x00\\x00h$I\\r\\x00\\x00\\x00\\xa0\\x91$5\\x00\\x00\\x00\\x80F\\x92\\xd4\\x00\\x00\\x00\\x00\\x1aIR\\x03\\x00\\x00\\x00h$I\\r\\x00\\x00\\x00\\xa0\\x91\\x96U\\x1d\\x00\\x00L\\xbbV\\xab\\xb5\\xe8\\xf7v\\xbb\\x9d\\xbb^\\xd2:Y\\xaf\\xf7n\\xa3\\xc8zye\\xa4\\xc5\\xd9Y7/\\xc6\\xbc2z\\xdf\\xd3Y\\xb7l\\x19i\\xb1\\xe4\\xbd\\x96\\x17\\x07\\x00P=I\\r\\x00\\xa8P\\xef\\xa0\\xba\\xd5j%\\x0e\\xb4\\x93\\xd6+\\xfa{\\xd1\\x04C\\x992\\xb2\\xe2\\x1ct_{\\xcb\\xca\\xdb\\xcf\"e\\x14]^4\\x0e\\x00\\xa0\\x1e\\xdc~\\x02\\x005\\x92\\x96|\\xe8]\\xden\\xb7\\x17\\x06\\xdbyW\\x1b\\x14\\xbd\\x1a\\xa2\\xcc\\xa0=m\\xddv\\xbb\\x9d\\xf9Z\\xd1\\xb8:\\xf1\\xe4\\xc5\\xd4\\xcf\\xd5\"yq\\xf6\\x13\\x07\\x00P\\rI\\r\\x00\\xa8\\xd0\\xa8\\x06\\xcb\\xddI\\x8f$E\\x92\\x18\\xdde\\x8c\"\\xce\\xac+H\\x8a&FF\\xa9l\\xa2\\x07\\x00\\x18?\\xb7\\x9f\\x00@\\x8dd]\\x95\\x91u\\x1b\\xc6\\xb8\\r\\xba\\xfd\\xbc\\x84F\\xde\\xfc!E\\xcb\\x194\\xbe\\xa2q\\x00\\x00\\xd5\\x90\\xd4\\x00\\x80\\x06\\x98\\xa4\\x01v\\xdem3\\x83&p\\x86\\x95\\xf0\\xa9[\"\\t\\x00x-\\xb7\\x9f\\x00@M\\x14yJG\\xe7_\\x99\\x89.\\xcblg\\x1c\\xef\\xef\\x9e\\xa3\"i?\\xb2\\xe6\\x0f\\xc9\\x8bc\\x98\\x89\\x87\\xa2q\\x00\\x00\\xd5q\\xa5\\x06\\x00\\xd4@\\xd9\\xc7\\x8e&\\xdd\\x922\\x0e\\xc3N\\x1a\\xf4\\x9b$(\\xfb\\xc4\\x13O0\\x01\\x80\\xc9$\\xa9\\x01\\x00\\x15\\x1bErb\\x18e\\xd6\\xf5\\xf6\\x8b\\xb2\\x13\\x89\\xd6%n\\x00`\\xf8\\xdc~\\x02\\x00\\x15\\xca\\x9aW\\xa2#\\xe9\\x8a\\x86\\xee\\xf7\\x95\\xb9\\xe2!m{\\xfd>-e\\xd8\\xb7\\xc1\\xe4\\xed\\xeb(\\xe2H\\x92\\x17\\x07\\x00P\\x0f\\xae\\xd4\\x00\\x80\\x8a\\xf53\\xafD\\xd9\\xd7\\x8b\\xc8+\\xa3H\\x9c\\xdd\\xeb%]\\xe9\\x91\\xf7\\xdea\\xc6\\x91\\'o\\xc2\\xd2I\\x9a\\x9c\\x15\\x00&\\x95\\xa4\\x06\\x00T\\xa8\\xcc@9o\\xdd\"e\\xf5[\\xc60\\xe2\\x1cw\\x19\\xc3(K\"\\x03\\x00\\xea\\xcd\\xed\\'\\x00\\x00\\x00@#Ij\\x00\\x00\\x00\\x00\\x8d$\\xa9\\x01\\x00\\x00\\x004\\x92\\xa4\\x06\\x00\\x00\\x00\\xd0H\\x92\\x1a\\x00\\x00\\x00@#Ij\\x00\\x00\\x00\\x00\\x8d$\\xa9\\x01\\x00\\x00\\x004\\x92\\xa4\\x06\\x00\\x00\\x00\\xd0H\\x92\\x1a\\x00\\x00\\x00@#Ij\\x00\\x00\\x00\\x00\\x8d$\\xa9\\x01\\x00\\x00\\x004\\x92\\xa4\\x06\\x00\\x00\\x00\\xd0H\\x92\\x1a\\x00\\x00\\x00@#Ij\\x00\\x00\\x00\\x00\\x8d$\\xa9\\x01\\x00\\x00\\x004\\xd2\\xb2\\xaa\\x03\\x00\\x80I\\xf3\\xf2\\xcb/\\xc7\\xdc\\xdc\\\\\\xd5aP\\xa1\\'\\x9ex\\xa2\\xea\\x10\\x00`*Hj\\x00\\xc0\\x90=\\xfb\\xec\\xb3\\xb1q\\xe3\\xc6\\xaa\\xc3\\xa0b\\xeb\\xd6\\xad\\xab:\\x04\\x00\\x98x\\xadv\\xbb\\xdd\\xae:\\x08\\x00`rl\\xd9\\xb2%n\\xbf\\xfd\\xf6\\xd8\\xbd{w\\xd5\\xa1\\x00\\x00\\x93m\\xde\\x9c\\x1a\\x00\\x00\\x00@#Ij\\x00\\x00\\x00\\x00\\x8d$\\xa9\\x01\\x00\\x00\\x004\\x92\\xa4\\x06\\x00\\x00\\x00\\xd0H\\x92\\x1a\\x00\\x00\\x00@#Ij\\x00\\x00\\x00\\x00\\x8d$\\xa9\\x01\\x00\\x00\\x004\\x92\\xa4\\x06\\x00\\x00\\x00\\xd0H\\x92\\x1a\\x00\\x00\\x00@#Ij\\x00\\x00\\x00\\x00\\x8d$\\xa9\\x01\\x00\\x00\\x004\\x92\\xa4\\x06\\x00\\x00\\x00\\xd0H\\x92\\x1a\\x00\\x00\\x00@#Ij\\x00\\x00\\x00\\x00\\x8d$\\xa9\\x01\\x00\\x00\\x004\\x92\\xa4\\x06\\x00\\x00\\x00\\xd0H\\x92\\x1a\\x00\\x00\\x00@#Ij\\x00\\x00\\x00\\x00\\x8d$\\xa9\\x01\\x00\\x00\\x004\\x92\\xa4\\x06\\x00\\x00\\x00\\xd0H\\x92\\x1a\\x00\\x00\\x00@#Ij\\x00\\x00\\x00\\x00\\x8d$\\xa9\\x01\\x00\\x00\\x004\\x92\\xa4\\x06\\x00\\x00\\x00\\xd0H\\x92\\x1a\\x00\\x00\\x00@#Ij\\x00\\x00\\x00\\x00\\x8d$\\xa9\\x01\\x00\\x00\\x004\\x92\\xa4\\x06\\x00\\x00\\x00\\xd0H\\x92\\x1a\\x00\\x00\\x00@#Ij\\x00\\x00\\x00\\x00\\x8d$\\xa9\\x01\\x00\\x00\\x004\\xd2\\xb2\\xaa\\x03\\x00\\x00\\x9a\\xeds\\x9f\\xfb\\\\\\xec\\xdb\\xb7o\\xe1\\xf7\\x1f\\xfd\\xe8G\\xf1\\xfc\\xf3\\xcf\\xc7\\xa7>\\xf5\\xa9E\\xeb\\xdd|\\xf3\\xcdq\\xd9e\\x97\\x8d;<\\x00`\\x82\\xb5\\xda\\xedv\\xbb\\xea \\x00\\x80\\xe6\\xfa\\xc4\\'>\\x11_\\xf9\\xcaW\"\\xeb#E\\xab\\xd5\\x8a\\xdd\\xbbw\\xc7\\xbau\\xeb\\xc6\\x18\\x19\\x000\\xe1\\xe6\\xdd~\\x02\\x00\\x0c\\xe4\\xa6\\x9bn\\x8aV\\xab\\x95\\xfaz\\xab\\xd5\\x8aw\\xbf\\xfb\\xdd\\x12\\x1a\\x00\\xc0\\xd0Ij\\x00\\x00\\x03\\xb9\\xf2\\xca+\\xe3\\xa4\\x93NJ}}\\xc5\\x8a\\x15\\xb1i\\xd3\\xa6\\xf1\\x05\\x04\\x00L\\rI\\r\\x00` K\\x96,\\x89\\x9bn\\xba)V\\xae\\\\\\x99\\xf8\\xfa\\xe1\\xc3\\x87\\xe3#\\x1f\\xf9\\xc8\\x98\\xa3\\x02\\x00\\xa6\\x81\\xa4\\x06\\x000\\xb0\\x1bo\\xbc1^y\\xe5\\x95\\xd7,_\\xb2dI\\\\y\\xe5\\x95q\\xfa\\xe9\\xa7W\\x10\\x15\\x000\\xe9$5\\x00\\x80\\x81]p\\xc1\\x05\\xf1\\xc67\\xbe\\xf15\\xcb\\x97.]\\x1a\\x1f\\xff\\xf8\\xc7+\\x88\\x08\\x00\\x98\\x06\\x92\\x1a\\x00\\xc0P|\\xfc\\xe3\\x1fO\\xbc\\x05\\xe5C\\x1f\\xfaP\\x05\\xd1\\x00\\x00\\xd3@R\\x03\\x00\\x18\\x8a\\x9bn\\xbai\\xd1-(K\\x97.\\x8d\\x0f|\\xe0\\x03\\xb1z\\xf5\\xea\\n\\xa3\\x02\\x00&\\x99\\xa4\\x06\\x000\\x14\\xe7\\x9e{n\\xbc\\xfd\\xedo_\\xf8\\xbd\\xd5j\\xc5-\\xb7\\xdcRaD\\x00\\xc0\\xa4\\x93\\xd4\\x00\\x00\\x86f\\xd3\\xa6M\\x0b\\xb7\\xa0\\xac\\\\\\xb92\\xae\\xbb\\xee\\xba\\x8a#\\x02\\x00&\\x99\\xa4\\x06\\x0004\\x1f\\xfb\\xd8\\xc7\\xe2\\xd0\\xa1C\\xb1d\\xc9\\x92\\xf8\\xe8G?\\x9a\\xfa\\x98W\\x00\\x80a\\x90\\xd4\\x00\\x00\\x86f\\xdd\\xbau\\xf1\\xdb\\xbf\\xfd\\xdbq\\xec\\xd8\\xb1\\xb8\\xf9\\xe6\\x9b\\xab\\x0e\\x07\\x00\\x98p\\xadv\\xbb\\xdd\\xae:\\x08\\x00\\xeainn.6n\\xdcXu\\x18\\xc0\\x94\\xb8\\xe2\\x8a+bnn\\xae\\xea0\\x00h\\x8e\\xf9eUG\\x00@\\xfd=\\xf8\\xe0\\x83U\\x87@\\t\\xbbv\\xed\\x8a\\xcf~\\xf6\\xb3\\x95\\x1d\\xb7}\\xfb\\xf6\\xc5\\xd7\\xbe\\xf6\\xb5\\xf8\\xf4\\xa7?]\\xc9\\xf6\\xd3T]/d\\xdb\\xb2eK\\xcc\\xcf\\xcfW\\x1d\\x06\\x00\\r#\\xa9\\x01@\\xae\\r\\x1b6T\\x1d\\x02}\\xa8\\xf2\\xb8]y\\xe5\\x95\\xb5}\\x94\\xab\\xf6\\\\Osss\\x92\\x1a\\x00\\x94fN\\r\\x00`\\xe8\\xea\\x9a\\xd0\\x00\\x00&\\x8b\\xa4\\x06\\x00\\x00\\x00\\xd0H\\x92\\x1a\\x00\\x00\\x00@#Ij\\x00\\x00\\x00\\x00\\x8d$\\xa9\\x01\\x00\\x00\\x004\\x92\\xa4\\x06\\x00C\\xd3j\\xb5\\x86\\xb2^\\x91r\\x8ank\\x14\\xaa\\xdc\\xf6\\xb8M\\xd3\\xbe\\xe6Q\\x17\\xf9\\xd4\\x11\\x00\\xe3\\xe6\\x91\\xae\\x00\\x0cE\\x99\\xc1L\\xbb\\xdd\\x1e\\xa8\\x1c\\t\\x8d\\xf1\\xc9:V\\xa3\\xd2j\\xb5*\\xd9n\\x96NL\\xdd\\xc7\\xbf7\\xc6\\xa4\\xb6Q\\xc7\\xfdHR\\xe4\\x9c\\xcc\\xda\\xdf\\xcek\\x9d:\\xaa\\xdb~\\x030\\xb9$5\\x00\\x18\\x8a\\xde\\x01\\xdf(\\xcb\\x19\\xd6\\xb6\\xfaQ\\xe5\\xb6\\xa9F\\xf7 \\xbd\\xf33+\\x81Q\\xd7A}Z\\\\i\\xed9-\\x99\\x91TVo\\x1d\\xd5\\xb5\\x0e\\x00\\x98<n?\\x01\\x00H\\x9158oZr\\xabL\\x92\\xa1\\xb3\\xdfE\\x12\\x1a\\x9d\\xb2{\\xaf\\xdchZ\\xfd\\x00\\xd0L\\xae\\xd4\\x00`\\xe8\\xb2.\\xd1\\xef\\xbc\\x9ev){?\\x97\\xc1\\x17\\xd9v\\x91\\xdb\\x07\\xfa\\x91\\xb5\\xbd\\xde\\xe5e\\xd6M\\x8a\\xb9\\xea[A\\xf2\\xea\\xb0H\\xbcI\\xafu/\\xeb\\xfc?m\\xbdq\\xd6A\\xde\\xf6\\xca^\\x91P\\xf4\\xbc(\\xb2^\\xd6\\xebe\\xa4\\x9d\\x8b\\xae\\xb2\\x00\\xa0)$5\\x00\\x18\\xaa\\xac\\xcb\\xd2;\\xbfg\\xbd\\'\\xebR\\xf82\\xebt\\xff\\xde=P\\x1e\\xe6 \\xb9\\xec%\\xf8I\\xcb\\x8a\\xc6\\xdcj\\xb5*\\x19\\xd4\\xf7\\xfe\\xbfL\\x1d\\x17\\xf9F\\xbfwYV\\xa2\\xa0\\x8e\\x03\\xed\\xa2\\x89\\x8d\\xa2\\xe7E\\xd1\\xf6\\x91\\xf6\\xfb\\xa0\\x8a$V\\x8a\\xb4\\xe3\\xb4\\xf5\\x00`\\xd8\\xdc~\\x02\\xc0P\\xe5\\r`\\xf2\\xbe\\x15.reG\\xd1\\xab?z\\xd7\\xaf\\xdb\\xe0\\xaaL\\xcci\\xb7\\x02\\x8cRR\\x9d\\x97\\xa9\\xe3i\\xba\\x05!k?\\x8b\\xde\\xae\\xd1\\xfd\\xb3h9\\xa3\\xd0}\\xebI\\xda1\\xecN\\xb4I\\\\\\x00P%Wj\\x0001\\xc6=\\x80\\xce\\xbbr\\xa4\\xf7\\x9b\\xea\\xac\\xdbnh\\xaeq&o\\x86\\xb9\\x9d\\xa2W\\xc4\\x94\\xb9\\xc2\\x08\\x00\\xc6MR\\x03\\x80\\x89Q\\x879\\'\\xca2\\x10\\x9c\\x0c\\xe3\\xba\\xd5\\xa2\\x0e\\xed\\xc5\\xad&\\x00\\xd4\\x89\\xdbO\\x00\\xa0OE\\x06q\\xd3t\\x0b\\xc6\\xb4s\\xac\\x01`\\xfc$5\\x00\\xa8T\\xef@\\xb0\\xf7\\xe9\\x17\\xfd\\xae\\xd3\\xfb\\xfa\\xa8\\xe5m\\xab\\xe8\\xa4\\x99\\x934(.\\xfa\\xcd}\\xd2\\xf1\\xec}\\xad\\n\\xfd$)\\xd2n\\xe7H:\\xcee\\xafj\\x18f{\\xc9\\xba\\xf5$/\\xd6\\xa2\\xfb\\xe3\\xca\\r\\x00\\xc6\\xc1\\xed\\'\\x00\\x0cE\\xda\\xd3/\\x8a,+\\xf2\\xf4\\x8b\\xb2\\xebt~/\\x13G\\xd9\\xfd\\xec\\xfe\\x99\\xf5\\x84\\x92\\xac\\xc1q\\x99\\x98\\xc7-)\\xd9P\\xf4\\xf8FdO*\\x9a\\x94\\x90Jz\\x1aH\\xdd\\xe6mHJ\\xae\\x15\\x89)\\xef\\x89\"\\xfd\\x9c+\\xbd\\xe5\\x94\\x89g\\x90X\\x8b\\xae\\x03\\x00\\xe3 \\xa9\\x01\\xc0P\\x14}\\x04g\\xde\\xd33\\x86\\xb9N?q\\xe4\\xc9z_\\xdaky\\x83\\xf1a\\xc67Le\\x9fdS\\xe4=i\\xeb\\xf5{lG\\xad7\\xe1R4\\x81Qfy\\xdake\\xcb)seI?\\xc7\\xb6\\xcc:uH@\\x010\\x1d\\xdc~\\x02\\x00\\x90\\xc1\\\\\\x19\\xe5Hh\\x000N\\x92\\x1a\\x000B\\x06x\\x93\\xa1\\t\\x89\\x8d:\\xb4\\xb5:\\xc4\\x00\\xc0tq\\xfb\\t\\x00S\\xaf\\xc8`\\xb5\\xec@\\xad\\xee\\x03\\xe0a\\xab\\xc3\\x1c \\xa3V\\xf7\\xfd\\xaaC|u\\x88\\x01\\x80\\xe9\"\\xa9\\x01\\xc0\\xd4\\x1b\\xc5@l\\xda\\x06w\\xd3\\xb6\\xbf\\x00@=\\xb8\\xfd\\x04\\x00\\x00\\x00h$I\\r\\x00\\x00\\x00\\xa0\\x91$5\\x00\\x00\\x00\\x80F2\\xa7\\x06\\x00\\xb9\\xe6\\xe6\\xe6\\xaa\\x0e\\x81\\x12v\\xed\\xda\\x15\\x11\\x8e[/\\xf5Ro\\xf3\\xf3\\xf3q\\xec\\xd8\\xb1\\xaa\\xc3\\x00\\xa0a$5\\x00\\xc8\\xb5q\\xe3\\xc6\\xaaC\\xa0\\x0f\\x8e[2\\xf5R_\\x17\\\\pA\\xd5!\\x00\\xd00\\x92\\x1a\\x00\\xe4\\xf2d\\x8bf\\x99\\x9b\\x9b\\x8b\\x8d\\x1b7:n=\\xd4K\\xbdm\\xde\\xbc\\xd9U4\\x00\\x94fN\\r\\x00\\x00\\x00\\xa0\\x91$5\\x00\\x00\\x00\\x80F\\x92\\xd4\\x00\\x00\\x00\\x00\\x1aIR\\x03\\x00\\x00\\x00h$I\\r\\x00\\x00\\x00\\xa0\\x91$5\\x00\\x00\\nh\\xb5ZU\\x87P{\\xea\\x08\\x80q\\xf3HW\\x00\\x1a!o\\xb0\\xe41\\x9d\\xd5k\\xb5Z#;\\x0e\\xa3,\\xbb\\xcc\\xf6\\xbb\\xdbao<Im\\xb4\\x8e\\xed\\xb27\\xce\\xa4\\x18\\xb3\\xf6\\xb3w\\xbd\\xee\\xd7;uT\\xc7\\xfd\\x06`2Ij\\x00\\xd0\\x08\\x9dAR\\xda\\x80\\xc9@\\x8aQ\\xe9n[\\xdd\\xed\\xb0W^\\x1b\\xad\\x83\\xde\\xd8Z\\xadV\\xe2\\xb2\\xac\\xdf;\\xcb\\xd2Hl\\x000Nn?\\x01`\"\\xf4~\\x8b\\x0e\\xc3\\x9058\\x9f\\x84\\xf6\\x96\\x94\\xac(\\x92\\x8ch\\xb7\\xdb\\x99\\xeb9\\x1f\\x01\\x18\\x17Wj\\x0001\\xd2\\xbe!N\\xba\\x94\\xbe\\xc8\\xed\\x04\\xbd\\xefMZ\\xa7\\xe8e\\xfaMP\\xe4\\xd6\\x8a\\xdeo\\xf0;\\xcb:\\xff\\xef]\\xaf\\xb7\\x9e\\xcb\\x96\\xdb\\xfd{Z\\xd9\\xa3\\x92W~\\xd9+\\x12\\x8a\\xb4\\xb5\\xb2m\\xb2\\xec\\xfe\\xf7S_\\xae\\xbc\\x00\\xa0\\xce$5\\x00\\x98hI\\x97\\xd2g\\xbd\\x96\\xf7{^\\xd9M\\x1d\\xf8\\xe5\\xedK\\xd27\\xef\\xbd\\xc9\\x8a\\xb4\\xfa\\xea^^\\xb6\\xdc\\xb4\\xb2;\\xcb\\xabVt\\xc0_\\xb4m\\xf5\\xd3&\\x07\\xa9\\x87Q\\xb6Y\\xc9\\x10\\x00\\xc6\\xc1\\xed\\'\\x00L\\xac\\xb4\\x01U\\xef\\xfc\\x08EMJ\\x02\\xa3WZ\\xc2`\\xd0\\xdb\\x07\\x92\\xeayRoK\\xc8\\xda\\xa7\"\\xf5[\\xa4MNR\\x9b\\x03\\x80aq\\xa5\\x06\\x00\\x13m\\x90\\x01t\\xd6m\\x13\\x83\\x96\\xcd\\xe4\\x18g\\xa2f\\x98\\xdb\\x91$\\x01`\\x12Hj\\x000\\xd1\\x06\\x1d\\xb4e\\xcd\\xdf`@H\\xc7\\xb8n\\xb5\\x18V\\xf9\\x12\\x1a\\x00L\\n\\xb7\\x9f\\x0001\\xc61?\\x00\\xa4iJ\\x1b){\\x9eH\\x80\\x00Pg\\x92\\x1a\\x00L\\x84\\xa2\\xf3B\\x94\\x19tf\\xad;h\\xd9u\\x92\\xb6/E&\\xbf\\xec\\xfe\\x99\\xf4Z\\xd2\\xf2A\\xca\\xcdZ>l\\xfd$)\\xd2\\xe6p\\xe9\\xa7~\\x8b\\x96SF\\xdav\\x93\\x9ed3(\\xc9\\x10\\x00\\xc6\\xc1\\xed\\'\\x004B\\xefSKz\\xa5\\r\\x9e\\xd2\\x9e\\xa4\\xd1)\\'\\xe9\\xb1\\xa1iO<):\\xd9c\\x13\\x15\\xd9\\x97\"O%\\xc9zD\\xeb \\xe5&\\x95]\\xc5\\xa09\\xa9\\x1d\\x16\\x89!\\xaf~\\x8b\\xb6\\xc9\\xacr\\x8a\\xc6\\x93w\\xfe\\x14m\\xd7i\\xe7\\x0c\\x00\\x8c\\x93\\xa4\\x06\\x00\\x8d0\\xc8\\xa0\\xa9\\xc8\\\\\\x18E\\x97\\r3\\xae\\xba\\xe9g\\x7f{\\x07\\xc3\\xa3(7\\xad\\x8cq\\xd4}o\\x82e\\x906\\x91\\xf5\\xde2\\xfbW4\\x81W6\\x86\\xb2\\xebyR\\x0b\\x00u\\xe0\\xf6\\x13\\x00\\x80\\x0cM\\x99+\\xa3.$4\\x00\\x18\\'I\\r\\x00\\x80\\x1cMHl\\xd4!\\x99P\\x87\\x18\\x00\\x98.\\x92\\x1a\\x00\\xc0H\\xe4M\\xf8\\xd94u\\x1f\\xac\\xd7!\\xbe:\\xc4\\x00\\xc0t1\\xa7\\x06\\x000\\x12\\x06\\xb8\\x00\\xc0\\xa8\\xb9R\\x03\\x00\\x00\\x00h$I\\r\\x00\\x00\\x00\\xa0\\x91$5\\x00\\x00\\x00\\x80F\\x92\\xd4\\x00\\x00\\x00\\x00\\x1a\\xc9D\\xa1\\x00\\xe4\\xda\\xbcys\\xd5!P\\xc2\\xfc\\xfc|D8n\\xbd\\xd4K\\xbd\\xcd\\xcd\\xcdU\\x1d\\x02\\x00\\r\\xd4j\\x9b\\x9a\\x1c\\x80\\x14\\xbbv\\xed\\x8a\\xdbn\\xbb\\xad\\xea0(\\xe9\\xd8\\xb1cq\\xe8\\xd0\\xa1X\\xb5jU%\\xdb\\x7f\\xe1\\x85\\x17b\\xcf\\x9e=q\\xee\\xb9\\xe7V\\xb2\\xfd4U\\xd7\\x0b\\xf9\\xd6\\xaf_\\x1fw\\xdcqG\\xd5a\\x00\\xd0\\x1c\\xf3\\x92\\x1a\\x00\\xc0Pm\\xd9\\xb2%n\\xbf\\xfd\\xf6\\xd8\\xbd{w\\xd5\\xa1\\x00\\x00\\x93m\\xde\\x9c\\x1a\\x00\\x00\\x00@#Ij\\x00\\x00\\x00\\x00\\x8d$\\xa9\\x01\\x00\\x00\\x004\\x92\\xa4\\x06\\x00\\x00\\x00\\xd0H\\x92\\x1a\\x00\\x00\\x00@#Ij\\x00\\x00\\x00\\x00\\x8d$\\xa9\\x01\\x00\\x00\\x004\\x92\\xa4\\x06\\x00\\x00\\x00\\xd0H\\x92\\x1a\\x00\\x00\\x00@#Ij\\x00\\x00\\x00\\x00\\x8d$\\xa9\\x01\\x00\\x00\\x004\\x92\\xa4\\x06\\x00\\x00\\x00\\xd0H\\x92\\x1a\\x00\\x00\\x00@#Ij\\x00\\x00\\x00\\x00\\x8d$\\xa9\\x01\\x00\\x00\\x004\\x92\\xa4\\x06\\x00\\x00\\x00\\xd0H\\x92\\x1a\\x00\\x00\\x00@#Ij\\x00\\x00\\x00\\x00\\x8d$\\xa9\\x01\\x00\\x00\\x004\\x92\\xa4\\x06\\x00\\x00\\x00\\xd0H\\x92\\x1a\\x00\\x00\\x00@#Ij\\x00\\x00\\x00\\x00\\x8d$\\xa9\\x01\\x00\\x00\\x004\\x92\\xa4\\x06\\x00\\x00\\x00\\xd0H\\x92\\x1a\\x00\\x00\\x00@#Ij\\x00\\x00\\x00\\x00\\x8d$\\xa9\\x01\\x00\\x00\\x004\\x92\\xa4\\x06\\x00\\x00\\x00\\xd0H\\x92\\x1a\\x00\\x00\\x00@#Ij\\x00\\x00\\x00\\x00\\x8d$\\xa9\\x01\\x00\\x00\\x004R\\xab\\xddn\\xb7\\xab\\x0e\\x02\\x00h\\xae+\\xaf\\xbc2\\x9ex\\xe2\\x89\\x85\\xdf\\x0f\\x1d:\\x14\\xaf\\xbc\\xf2J\\x9cp\\xc2\\t\\x0b\\xcb\\x96-[\\x16\\x7f\\xfb\\xb7\\x7f\\x1b\\x1f\\xfc\\xe0\\x07\\xab\\x08\\x11\\x00\\x98L\\xf3\\xcb\\xaa\\x8e\\x00\\x00h\\xb6\\x8b.\\xba(\\xb6m\\xdb\\x16G\\x8f\\x1e]\\xb4\\xfc\\xc5\\x17_\\\\\\xf8\\xff\\xf2\\xe5\\xcbc\\xc3\\x86\\rc\\x8e\\x0c\\x00\\x98tn?\\x01\\x00\\x06r\\xf3\\xcd7\\xbf&\\xa1\\xd1m\\xe9\\xd2\\xa5\\xf1\\xbe\\xf7\\xbd/V\\xaf^=\\xc6\\xa8\\x00\\x80i \\xa9\\x01\\x00\\x0c\\xe4\\xdcs\\xcf\\x8d\\xb7\\xbd\\xedm\\xa9\\xaf\\xb7Z\\xad\\xb8\\xe5\\x96[\\xc6\\x18\\x11\\x000-$5\\x00\\x80\\x81m\\xda\\xb4)V\\xae\\\\\\x99\\xf8\\xda\\x8a\\x15+\\xe2\\xba\\xeb\\xae\\x1bsD\\x00\\xc04\\x90\\xd4\\x00\\x00\\x06v\\xd3M7\\xc5\\xa1C\\x87^\\xb3|\\xf9\\xf2\\xe5\\xf1\\x91\\x8f|$\\x8e;\\xee\\xb8\\n\\xa2\\x02\\x00&\\x9d\\xa4\\x06\\x000\\xb07\\xbd\\xe9Mq\\xfe\\xf9\\xe7G\\xab\\xd5Z\\xb4\\xfc\\xe8\\xd1\\xa3q\\xf3\\xcd7W\\x14\\x15\\x000\\xe9$5\\x00\\x80\\xa1\\xd8\\xb4iS,_\\xbe|\\xd1\\xb2\\xd5\\xabW\\xc7\\xc6\\x8d\\x1b+\\x8a\\x08\\x00\\x98t\\x92\\x1a\\x00\\xc0P\\\\\\x7f\\xfd\\xf5q\\xe4\\xc8\\x91\\x85\\xdfW\\xacX\\x11\\xb7\\xdcrK,[\\xe6\\t\\xf2\\x00\\xc0hHj\\x00\\x00Cq\\xdai\\xa7\\xc5\\x86\\r\\x1bb\\xc9\\x92_}\\xbc8|\\xf8p\\xdcx\\xe3\\x8d\\x15G\\x05\\x00L2I\\r\\x00`h>\\xfe\\xf1\\x8f\\xc7\\xd2\\xa5K#\"\\xe2\\xcc3\\xcf\\x8c\\x0b.\\xb8\\xa0\\xe2\\x88\\x00\\x80I&\\xa9\\x01\\x00\\x0c\\xcd\\x87?\\xfc\\xe1\\x88\\x88X\\xb2dI\\xdcz\\xeb\\xad\\xaf\\x998\\x14\\x00`\\x98\\xdc\\xe4\\n@!/\\xbf\\xfcr\\xec\\xd8\\xb1\\xa3\\xea0h\\x80\\x0b.\\xb8 \\xb6o\\xdf\\x1eoy\\xcb[bnn\\xae\\xeap\\xa8\\xb9\\xb5k\\xd7\\xc6\\xdb\\xdf\\xfe\\xf6\\xaa\\xc3\\x00\\xa0\\xa1Z\\xedv\\xbb]u\\x10\\x00\\xd4\\xdf\\xfc\\xfc|\\x9cs\\xce9U\\x87\\x01L\\x98[o\\xbd5\\xb6l\\xd9Ru\\x18\\x004\\xd3\\xbc\\xdbO\\x00(e\\xf7\\xee\\xdd\\xd1n\\xb7\\xfd\\xab\\xd9\\xbf/\\x7f\\xf9\\xcb\\xb1n\\xdd\\xba\\xca\\xe3h\\xb7\\xdbq\\xf0\\xe0\\xc1\\xf8\\xfb\\xbf\\xff\\xfb\\xca\\xe3\\xa8[\\xbd\\xf8\\xf7\\xda\\x7f\\xb7\\xdezk\\xd5]\\x1a\\x00\\r\\'\\xa9\\x01\\x00\\x0c\\xd5\\xaaU\\xab\\xe2\\x8f\\xfe\\xe8\\x8f\\xaa\\x0e\\x03\\x00\\x98\\x02\\x92\\x1a\\x00\\xc0\\xd0u\\x1e\\xeb\\n\\x000J>q\\x00\\x00\\x00\\x00\\x8d$\\xa9\\x01\\x00\\x00\\x004\\x92\\xa4\\x06\\x00\\x00\\x00\\xd0H\\x92\\x1a\\x00\\x8cU\\xab\\xd5\\xaa:\\x04r8F\\xafR\\x17\\xf9\\xd4\\x11\\x00UZVu\\x00\\x00L\\x8f&\\x0f~Z\\xadV\\xb4\\xdb\\xed\\xbe\\xde\\x97$\\xab\\xac~\\xb75,Ul\\xbb\\xea}N\\xd2\\x89\\xa9\\xfb\\x18\\xf6\\xc6\\x98t|\\xeb\\xb6\\x1f\\x11\\xaf\\x8d3)\\xc6\\xac\\xfd\\xec]\\xaf\\xfb\\xf5N\\x1d\\xd5q\\xbf\\x01\\x98|\\x92\\x1a\\x00\\x8cM\\xef\\x00q\\xd2\\xa5\\r\\xf4\\xb2\\xea`\\x9a\\xea\\xa7\\xce\\xba\\x8f]\\xe7gV\\x02\\xa3\\xce\\x83\\xfa\\xde\\xd8Z\\xadV\\xe2\\xb2\\xac\\xdf;\\xcb\\xd2Hl\\x00P\\x15\\xb7\\x9f\\x00\\xc0\\x88\\x94\\x1d\\xe0\\x19\\x14\\xd6C\\xd6q\\x98\\x84\\xa4SR\\xb2\\xa2H\\xbbk\\xb7\\xdb\\x99\\xebM[\\xd2\\x12\\x80z\\x90\\xd4\\x00`\\xe4:\\xdf\\x0c\\xa7\\xbd\\x96\\xb5Ngy\\xdaky\\xe5\\x17-\\xa7wy\\xf7\\xb22\\xdb\\xc9\\xd3\\x84\\xc4E\\xf7>\\xf6\\xee{R=u\\xbf\\x9eTVV\\xdd\\xe6\\x951\\xeeAr\\xde\\xf1);p/\\xd3~\\xf3\\xae\\xe0\\xe9\\xb7\\xfd\\xf5\\xd3\\xde$(\\x00h\\nI\\r\\x00F\\xaa3HL\\x1a$u\\x0f\\xea\\x92.\\xf1\\xef~o\\xef\\xfb{\\xdf\\x9b5\\x08\\xcb*\\'\"y\\xd0\\xd7;g@\\xe7\\xe7\\xa8\\x12\\x12uIv\\xe4\\xd5qw\\xfd\\x159\\x06yu\\xdb\\xfd{R\\xfd\\xd6\\xa1Nz\\x15\\x1d\\xf0\\x97m\\xbfi\\xe5\\x16Y\\xa7\\x8cQ\\xb65\\xc9\\x10\\x00\\xc6MR\\x03\\x80\\x91I\\x9aP\\xb0[\\xef\\x9c\\x05\\xdd\\x83\\xda\\xa4\\x81W\\xf7\\x80\\xa9\\xf7\\xbd\\xbd\\xaf\\xa7\\xc5\\x90\\xb6^\\x95\\xea\\x92\\xd0\\x88HO\\xe6d\\xad\\x9bw\\x0c&U\\xde\\x95\\x15e\\xdbo\\xd1r\\x00\\x80W\\x99(\\x14\\x00\\xc6$m\\xf2E\\x83\\xd6\\xe6\\x19g\\xf2f\\x98\\xdb\\xd1\\xde\\x00\\x984\\x92\\x1a\\x00P\\xb1\\xac\\xf9\\x16\\x0c@\\xebk\\\\O\\xfc\\x18V\\xf9\\x12\\x1a\\x00L\"I\\r\\x00\\xa8P\\xda#_\\r>\\x9b\\xa1)\\xb7\\xdb\\x94mS\\xda \\x00MaN\\r\\x00F&kr\\xc4\\xb2\\xef\\xed\\xbc/k\\xa0Ut\\xfe\\x8c\"\\x03\\xb6\\xacX\\xfb\\x19\\xc4N\\xcb q\\xd0\\xba\\xcdZ>\\x0e\\xfd$)\\xd2&C\\xed\\xa7\\xdd\\x15-\\xa7\\x8c\\xb4\\xedv_\\r4\\xac:\\x9f\\x96v\\x0e@}\\xb8R\\x03\\x80\\x91\\xea\\x9d\\x1c1\\xe9I\\'i\\x03\\xa1\\xde\\xc1V\\xd6\\xc0,\\xed\\xf5\\xa2\\xe5$\\xad\\xd3\\x1b\\xd74\\xdc\\x12\\x92\\x94p\\xc8;f\\xc3\\xa8\\xdb\\xeerz\\xeb\\xbc\\xea\\xfaNJ\\xcc\\x15\\x89)\\xab\\xdde\\xd5c\\xd2\\x04\\xbbI\\xe5\\x94\\x89%)iQd\\x1bi\\xe5\\xd4\\xe1\\xb8\\x00@\\x84\\xa4\\x06\\x00c\\x90\\xf6\\x04\\x94\\xa2\\x03\\xc3A^\\x1fd[ec\\x1dt\\xfb\\xc3\\xda\\xd6 \\xfa\\xa9\\xefA\\xeb6\\xab\\x8c*\\xea\\xa27\\xe92H;-\\xb3<k;E\\xaf\\x06)\\x13C?\\xeb\\x95\\xbdR\\n\\x00F\\xcd\\xed\\'\\x00\\x00=\\x9a2WF]Hh\\x00P\\x15I\\r\\x00\\x80\\x04uOl\\xd4%\\x91P\\x978\\x00\\x98Nn?\\x01\\xa0\\x91\\xaa\\xbe\\xb7\\x7f\\x98\\x97\\xfd7U\\xd5\\xc7`\\x1c\\xea\\xbc_u\\x89\\xad.q\\x000\\x9d$5\\x00h\\xa4\\xaa\\x07RUo\\xbf\\x0e\\xd4\\x01\\x00P5\\xb7\\x9f\\x00\\x00\\x00\\x00\\x8d$\\xa9\\x01\\x00\\x00\\x004\\x92\\xa4\\x06\\x00\\x00\\x00\\xd0H\\x92\\x1a\\x00\\x00\\x00@#\\x99(\\x14\\x80R\\xee\\xb8\\xe3\\x8eX\\xb3fM\\xd5a\\xd0c\\xd7\\xae]\\xb1\\x7f\\xff\\xfe\\xd8\\xbcys\\xd5\\xa1\\xd4\\x8az\\xa9\\xb7]\\xbbv\\xc5\\xfa\\xf5\\xeb\\xab\\x0e\\x03\\x80\\x06\\x93\\xd4\\x00\\xa0\\x94\\x1d;v\\xc4\\xaaU\\xab\\xaa\\x0e\\x83\\x1e{\\xf6\\xec\\x89C\\x87\\x0e\\xc5\\xdc\\xdc\\\\\\xd5\\xa1\\xd4\\x8az\\xa9\\xb7={\\xf6T\\x1d\\x02\\x00\\r\\'\\xa9\\x01@)_\\xfb\\xda\\xd7\\xe2\\xec\\xb3\\xcf\\xae:\\x0czl\\xd9\\xb2%6o\\xdel\\xf0\\xdeC\\xbd\\xd4\\xdb\\xa6M\\x9b\\xaa\\x0e\\x01\\x80\\x863\\xa7\\x06\\x00\\x00\\x00\\xd0H\\x92\\x1a\\x00\\x00\\x00@#Ij\\x00\\x00\\x00\\x00\\x8d$\\xa9\\x01\\x00\\x00\\x004\\x92\\xa4\\x06\\x00\\x00\\x00\\xd0H\\x92\\x1a\\x00\\x00)Z\\xadV\\xd5!\\xd4\\x9e:\\x02\\xa0J\\x1e\\xe9\\n@\\xe5\\xf2\\x06E\\xedv{L\\x91\\x8cF\\xab\\xd5j\\xfc>\\xa4\\x19\\xe5\\xbeU]o\\x9d\\xedw\\xb7\\xcf\\xdex\\x92\\xdan\\x1d\\x8fuo\\x9cI1f\\xedg\\xefz\\xdd\\xafw\\xea\\xa8\\x8e\\xfb\\r\\xc0\\xe4\\x93\\xd4\\x00\\xa0r\\x9d\\xc1P\\xda\\xc0\\xc8\\x80\\x89q\\xebns\\xdd\\xed\\xb3W^\\xdb\\xad\\x83\\xde\\xd8Z\\xadV\\xe2\\xb2\\xac\\xdf;\\xcb\\xd2Hl\\x00P\\x15\\xb7\\x9f\\x00P{\\xbd\\xdf\\x96\\xc3(e\\r\\xce\\'\\xa1\\x1d&%+\\x8a$#\\xda\\xedv\\xe6z\\xceS\\x00\\xaa \\xa9\\x01@#$\\r\\x98:\\xbfw\\xbey\\xee}-iy\\x91\\xf7&\\xad\\x9b\\xb5\\x8d\\xacee\\xb6S\\x85\\xacz\\xca\\xdb\\xbf\\xb4}\\xcb\\xdb\\xe7A\\xeam\\xd4u\\x987\\xc0/;p\\xcf\\xab\\xdf\\xbcu\\x8a\\x94\\x93\\xa7\\x9f\\xab\\'$(\\x00h\\nI\\r\\x00\\x1a\\xa9{@\\xd8{{@gY\\xe7_V2$m\\x9d\\xeeu\\xd3\\xcaJ\\x1a,\\xf6.\\xeb\\xbe\\x85\\xa1n\\x97\\xe6\\xe7\\xd5S\\xde\\xfe%\\xed[\\x91\\xba\\x1d\\xa4\\xde\\xeaP\\x87E\\x07\\xfcY\\xf5[\\xb4\\xad\\x16]\\xa7\\x8cQ\\xde&\"\\x19\\x02\\xc0\\xb8Ij\\x00\\xd0H\\xbd\\xf3\\x1dt\\x0f\\xf8\\x92\\x06\\xc8I\\xc9\\x88\\xa4\\xc9\\x0e\\xbb\\x15)\\xab\\xa9F\\xb5oE\\xebv\\x12\\xe4]Y\\x91U\\xbfI\\xf5T\\xb4\\x1c\\x00\\xe0U&\\n\\x05\\x00(i\\x9c\\x89\\x9aanG\\x92\\x04\\x80I#\\xa9\\x01\\x00\\xd0\\x87q=\\xf1cX\\xe5Kh\\x000\\x89\\xdc~\\x02@#\\x18\\x90QGM\\xb9\\xb5\\xa6\\xec\\xf9\\xe3|\\x03\\xa0)$5\\x00\\xa8\\xbd2\\x03\\xac\\xa2sc\\x14\\xd9F?e\\xf5>\\x19$\\xed\\xf5\\xaa\\rRO\\xdd?\\x93^KZ>H\\xb9Y\\xcb\\x87\\xad\\x9f$E\\xda\\xc4\\xa7\\xfd\\xd4o\\xd1r\\xcaH\\xdbn\\xf7\\xfc\\x1e\\xc3\\xaa_\\xc9\\x10\\x00\\xc6\\xcd\\xed\\'\\x00T.\\xef\\x91\\x9dY\\x03\\xb22\\x13\\x83fm7m\\x9d\\xbc\\xb2\\x92^O\\x8a\\xa9w\\x82\\xc8:(\\xfa4\\x97\\xbc\\xfdK\\xda\\xb7a\\x94\\x9bTv\\x15\\x83\\xe6\\xa4\\xf6Y$\\x86\\xac\\xfa-\\xf2\\xf4\\x9e\\xbcr\\xca\\xc4\\x92w^\\x95=g$/\\x00\\xa8\\x0bI\\r\\x00*\\xd7\\xcf\\xe0(\\xef=E\\x07\\x9d\\xa3\\xd8V\\xde\\xefu\\xd2O=\\x15y\\xc4\\xea\\xa0\\xe5\\xa6\\x951\\x8e\\xba\\xecM\\xb0\\x0c\\xd2\\x96\\xca,\\xcf\\xdaN\\xd1\\xabA\\xca\\xc4\\xd0\\xcfzyW)\\xd5\\xb9\\xad\\x030\\x99\\xdc~\\x02\\x00\\xd0\\xa3)se\\xd4\\x85\\x84\\x06\\x00U\\x91\\xd4\\x00\\x00HP\\xf7\\xc4F]\\x12\\tu\\x89\\x03\\x80\\xe9$\\xa9\\x01\\xc0\\xd4\\xc9\\x9b\\x94\\x92\\xfeMZ\\xdd\\xd6y\\xb0^\\x97\\xd8\\xea\\x12\\x07\\x00\\xd3\\xc9\\x9c\\x1a\\x00L\\x1d\\x83\\xb0\\xd1Q\\xb7\\x00\\xc08\\xb9R\\x03\\x00\\x00\\x00h$I\\r\\x00\\x00\\x00\\xa0\\x91$5\\x00\\x00\\x00\\x80F\\x92\\xd4\\x00\\x00\\x00\\x00\\x1a\\xc9D\\xa1\\x00\\x94\\xf2\\xb1\\x8f},V\\xadZUu\\x18\\xf4\\xd8\\xbbwo\\xec\\xdb\\xb7/6l\\xd8Pu(\\xb5\\xa2^\\xea\\xed\\x89\\'\\x9e\\x88k\\xaf\\xbd\\xb6\\xea0\\x00h0I\\r\\x00\\nY\\xb3fM|\\xfe\\xf3\\x9f\\xaf:\\x0c\\x1a\\xe0\\xbf\\xff\\xfb\\xbfc\\xfb\\xf6\\xed\\xf1\\xe9O\\x7f\\xba\\xeaP\\xa8\\xb9\\r\\x1b6\\xc4\\xfa\\xf5\\xeb\\xab\\x0e\\x03\\x80\\x06k\\xb5={\\r\\x00\\x18\\xa2-[\\xb6\\xc4\\xed\\xb7\\xdf\\x1e\\xbbw\\xef\\xae:\\x14\\x00`\\xb2\\xcd\\x9bS\\x03\\x00\\x00\\x00h$I\\r\\x00\\x00\\x00\\xa0\\x91$5\\x00\\x00\\x00\\x80F\\x92\\xd4\\x00\\x00\\x00\\x00\\x1aIR\\x03\\x00\\x00\\x00h$I\\r\\x00\\x00\\x00\\xa0\\x91$5\\x00\\x00\\x00\\x80F\\x92\\xd4\\x00\\x00\\x00\\x00\\x1aIR\\x03\\x00\\x00\\x00h$I\\r\\x00\\x00\\x00\\xa0\\x91$5\\x00\\x00\\x00\\x80F\\x92\\xd4\\x00\\x00\\x00\\x00\\x1aIR\\x03\\x00\\x00\\x00h$I\\r\\x00\\x00\\x00\\xa0\\x91$5\\x00\\x00\\x00\\x80F\\x92\\xd4\\x00\\x00\\x00\\x00\\x1aIR\\x03\\x00\\x00\\x00h$I\\r\\x00\\x00\\x00\\xa0\\x91$5\\x00\\x00\\x00\\x80F\\x92\\xd4\\x00\\x00\\x00\\x00\\x1aIR\\x03\\x00\\x00\\x00h$I\\r\\x00\\x00\\x00\\xa0\\x91$5\\x00\\x00\\x00\\x80F\\x92\\xd4\\x00\\x00\\x00\\x00\\x1aIR\\x03\\x00\\x00\\x00h$I\\r\\x00\\x00\\x00\\xa0\\x91$5\\x00\\x00\\x00\\x80F\\x92\\xd4\\x00\\x00\\x00\\x00\\x1aIR\\x03\\x00\\x00\\x00h$I\\r\\x00\\x00\\x00\\xa0\\x91\\x96U\\x1d\\x00\\x00\\xd0l\\xbbw\\xef\\x8ev\\xbb\\xbd\\xf0\\xfb\\xde\\xbd{\\xe3\\xc8\\x91#\\xf1\\xe4\\x93O.Z\\xef\\xe4\\x93O\\x8e5k\\xd6\\x8c;<\\x00`\\x82\\xb5\\xda\\xdd\\x9fB\\x00\\x00J\\xba\\xe0\\x82\\x0b\\xe2?\\xfe\\xe3?r\\xd7\\xbb\\xeb\\xae\\xbb\\xe2\\xba\\xeb\\xae\\x1bCD\\x00\\xc0\\x94\\x98w\\xfb\\t\\x000\\x90\\x1bo\\xbc1\\x96/_\\x9e\\xb9\\xce\\x89\\'\\x9e\\x18333c\\x8a\\x08\\x00\\x98\\x16\\x92\\x1a\\x00\\xc0@\\xae\\xbf\\xfe\\xfa8z\\xf4h\\xea\\xeb+V\\xac(\\x94\\xf8\\x00\\x00(KR\\x03\\x00\\x18\\xc8\\xda\\xb5k\\xe3\\x92K.\\x89%K\\x92?V\\x1c>|8n\\xba\\xe9\\xa61G\\x05\\x00L\\x03I\\r\\x00``\\xb7\\xdezk,]\\xba4\\xf1\\xb5\\xd3O?=.\\xbe\\xf8\\xe21G\\x04\\x00L\\x03I\\r\\x00``\\x1f\\xfd\\xe8G\\x13\\x97\\xaf\\\\\\xb92>\\xf1\\x89OD\\xab\\xd5\\x1asD\\x00\\xc04\\x90\\xd4\\x00\\x00\\x06\\xb6z\\xf5\\xea\\xb8\\xe6\\x9ak^s\\xb5\\xc6+\\xaf\\xbc\\x127\\xdcpCEQ\\x01\\x00\\x93NR\\x03\\x00\\x18\\x8a[n\\xb9\\xe55Wd\\xbc\\xf9\\xcdo\\x8e\\xdf\\xfa\\xad\\xdf\\xaa(\"\\x00`\\xd2Ij\\x00\\x00C\\xf1\\xc1\\x0f~0V\\xacX\\xb1\\xf0\\xfb\\xaaU\\xab\\xe2\\x93\\x9f\\xfcd\\x85\\x11\\x01\\x00\\x93NR\\x03\\x00\\x18\\x8aU\\xabV\\xc5\\xef\\xfe\\xee\\xef.<\\xba\\xf5\\xe5\\x97_\\x8e\\xeb\\xaf\\xbf\\xbe\\xe2\\xa8\\x00\\x80I&\\xa9\\x01\\x00\\x0c\\xcd\\xcd7\\xdf\\x1cG\\x8f\\x1e\\x8d\\x88\\x88\\xf3\\xce;/\\xde\\xf2\\x96\\xb7T\\x1c\\x11\\x000\\xc9$5\\x00\\x80\\xa1\\xb9\\xea\\xaa\\xab\\xe2\\x84\\x13N\\x88\\x88_=\\xe6\\x15\\x00`\\x94\\x96U\\x1d\\x00\\x00\\xc3177\\x17sssU\\x87\\x01\\xf1\\xd6\\xb7\\xbe5v\\xee\\xdc\\x19?\\xf9\\xc9Ob\\xf3\\xe6\\xcdU\\x87\\x03\\xda!\\xc0\\x04k\\xb5\\xdb\\xedv\\xd5A\\x000\\xb8\\xcd\\x9b7\\xc7\\x1dw\\xdc\\x11\\xeb\\xd7\\xaf\\xaf:\\x14&\\xd4w\\xbf\\xfb\\xdd8\\xf7\\xdcsc\\xf5\\xea\\xd5\\x99\\xeb\\xfd\\xe2\\x17\\xbf\\x88\\x1f\\xff\\xf8\\xc7S\\xf3\\xd4\\x93\\xa2\\xf5\\xc2\\xf8\\xed\\xdb\\xb7/\\x1e\\x7f\\xfc\\xf1\\xf0q\\x17`b\\xcd\\xbbR\\x03`\\x82\\xac_\\xbf\\xde\\xd5\\x1a\\x8cL\\xab\\xd5\\x8a\\xbf\\xfa\\xab\\xbf\\x8a\\r\\x1b6d\\xae\\xd7n\\xb7\\xe3\\xfe\\xfb\\xef\\x8f\\x99\\x99\\x99\\xf1\\x04V\\xb1\\xa2\\xf5\\xc2\\xf8\\xcd\\xcd\\xcd\\xc5\\xc6\\x8d\\x1b\\xab\\x0e\\x03\\x80\\x112\\xa7\\x06\\x000T\\xadVkj\\x12\\x1a\\x00@\\xb5$5\\x00\\x00\\x00\\x80F\\x92\\xd4\\x00\\x00\\x00\\x00\\x1aIR\\x03\\x00\\x00\\x00h$I\\r\\x00\\x00\\x00\\xa0\\x91$5\\x00\\xc8\\xd4j\\xb5*\\xdbN\\xab\\xd5Z\\xf87\\xaeX\\xc6\\xb5\\xbfu\\xdb\\xf68M\\xcb~\\x16\\xa5>\\xb2\\xa9\\x1f\\x00\\xb2x\\xa4+\\x00\\xa9\\xc69\\x98h\\xb7\\xdb\\xaf\\xd9v\\xf7\\xb2\\xde\\xdf\\x07\\x95V\\xde0\\xb7Q\\xc64\\r\\xdc\\xaa\\xa8\\xe3a\\xb7\\x9fa\\xe9M\\xd8%\\x9d\\x07\\xbd\\xea\\xbc\\x1f\\x1di1v\\xaf\\x97\\xb5N\\xf7k\\xedv\\xbb\\xb6\\xc7\\x0f\\x80\\xeaIj\\x00\\x90\\xaa3\\x98\\xa8\\x83I\\x1f\\xd0\\xd4\\xa9\\xae\\x19\\x8f\\xa4\\xc4]\\xaf\\xce\\xebu\\x1e\\xd4\\'\\xedGR\\xbcy\\x89\\xca\\xac\\xf6/\\xb1\\x01@\\x1a\\xb7\\x9f\\x00\\x00\\x8cY\\xda\\x00}\\x12\\x12[i\\xfb\\x95\\x97\\x90h\\xb7\\xdb\\x99\\xebH\\xfc\\x01\\x90\\xc4\\x95\\x1a\\x00S\\xae\\xc8\\xe5\\xe0E\\xd7\\xcd\\xba\\x04=\\xef\\xf2\\xf4\\xeeAO\\xda%\\xf9i\\xdf\\xfef\\x95\\x99\\x15K\\xd2%\\xffY\\xdf\\x1eg\\r\\xd6\\xca\\xd4c\\x11y\\xb1w//\\xb3nR\\xcc\\xe3\\xfe\\xf6\\xbb\\xf7Xg\\xd5_\\x91X\\xd3\\x8ecgY\\x99\\xe3=\\x0eY\\xdb,{E\\xc2\\xb0\\xda\\xe7 \\xed\\xb7\\xdf\\xfas\\xf5\\x05\\x00\\xc3 \\xa9\\x010\\xc5\\xca\\xcc[Q\\xe4\\xd2\\xf1\\xb4\\x01u\\xdee\\xe6I\\t\\x8f\"\\x97\\xa6g\\xc5\\x90\\xf5Z\\xda`*)\\xae\"\\xfb8\\xec\\xf9?\\xca\\xc6\\x9eV_Y\\xc9\\x81\\xee\\xdf\\xc79\\xb0\\xecm\\x17ebMZ7\"\\xf9\\x1b\\xfc\\xdeDH\\xdd\\xe6P\\xc9Rt\\xb0?\\xac\\xf69\\xea\\xf6;L\\x12!\\x00\\xf4r\\xfb\\t\\xc0\\x94\\x1a\\xf5\\xc0 \\xef2\\xf2\\xa2\\xeb\\xa6\\xad3\\x8a\\xf8\\xf3\\x06vi\\xdfx\\xd7m\\x80\\x95w%@\\xef\\xcfq\\xc6\\xdf\\x9b\\x8c\\xe9]\\x96\\xb4nR\\x02g\\x1ad\\xed\\xe7\\xb0\\xda\\xa7\\x04\\x01\\x00M\\xe7J\\r\\x00\\x16\\x14ID\\xa4\\r\\xb4\\xb2n\\x11\\x18\\xd7\\xad\\x0eI\\x03\\xe6&\\x0e\\x80\\x8b\\xd6u\\xd1\\xdbrh\\x9eq&o\\x86\\xb9\\x1dI\\x12\\x00\\xc6MR\\x03\\x80\\xc2\\x92\\xe6\\xbd\\xe8\\x96w\\x8b@\\xdak\\xa3\\x92\\x17o\\x9d\\r\\x1a\\xbb\\x81e\\xf3\\x8d\\xebV\\x8ba\\x95/\\xa1\\x01@\\x15\\xdc~\\x02@!e\\x06,Y\\xdf2\\x8f\\xeb\\x1b\\xe8&\\x0f\\xb0\\x8a>)\\xa2i\\x89\\x1a\\xcak\\xcaq\\xee\\xe7|k\\xf29\\n@}Hj\\x00L\\xa9\\xa4\\xc1R\\xd1\\xc1S\\xda\\xa4\\x9de\\xd6\\x1fT\\x99\\xf8\\xf3\\xb6\\x9fv\\xd5I\\xde\\xc4\\xa1\\xe3P$\\xf6\"\\x13g6a`\\\\D\\xd1c\\xd0\\xfb\\xc4\\x93\\xa4\\xd7\\xaaR6Q\\x916\\xc1\\xe90\\xda\\xe70\\xdaJ\\xdav{\\xe7\\xf7\\x18F\\xbdK\\x84\\x00\\xd0\\xcb\\xed\\'\\x00S,mb\\xc1\\x8e\\xde\\x81a\\xef\\xd3$\\xb2\\x9eP\\x925\\xc7C\\xd6vz\\x9fz\\xd1\\x1bg\\xd2\\x93@\\xf2\\xca\\xcd\\x8b\\xb7\\xf76\\x8f\\xceze\\xea\\'\\xad\\x8c\\xa2\\xca\\xd6u\\xd2\\xfeg\\xbd6h|\\xc3\\x92\\x94l\\xc8\\xab\\xbf\\xacc\\xd0\\xbd<i\\x10\\x9du\\xbc{\\xb7S\\x95\\xde\\xba\\x88(>y\\xee0\\xdagV9E\\xe3\\xc9\\xba\\x1d\\xadh\\xbci\\xf1\\x01@\\x16I\\r\\x80)W\\xe6)%Y\\xaf\\xf5[N\\xd1\\xb2\\xf2\\x9e\\x90Q\\xb6\\xcc\\xa2\\xdb(\\xbb_\\xfd\\x0e\\xc4\\xfa\\xa9\\xbf\\xbc\\x81\\xdf0\\xe3\\x1b\\x96\\xb2m\\xa1\\xc8{\\xd2\\xd6K\\x9a8\\xb6\\xdf\\xb2\\x87\\xad;\\xe9R4\\x81Qfy\\xdak\\xfd\\x9cGyWX\\x94\\xa9\\xc3~\\x8e\\x7f\\x87D\\x07\\x00I\\xdc~\\x02\\x00P\\x81\\xa6\\xcc\\x97Q\\x07\\x12\\x1a\\x00\\xa4\\x91\\xd4\\x00\\x80\\x062\\xc8\\x9b\\x0cuOl\\xd4\\xa1\\x9d\\xd5!\\x06\\x00\\xea\\xcb\\xed\\'\\x000\"E\\x06\\xab\\xfd<1bZL\\xcb\\xfc\\nu\\xde\\xb7:\\xc4V\\x87\\x18\\x00\\xa8/I\\r\\x00\\x18\\x91Q\\x0c\\xc6\\xa6i\\x807M\\xfb\\n\\x00\\xf4\\xc7\\xed\\'\\x00\\x00\\x00@#Ij\\x00\\x00\\x00\\x00\\x8d$\\xa9\\x01\\x00\\x00\\x004\\x92\\xa4\\x06\\x00\\x00\\x00\\xd0H&\\n\\x05\\x98 ?\\xf8\\xc1\\x0fb\\xc3\\x86\\rU\\x87\\xc1\\x04\\xbb\\xed\\xb6\\xdbb\\xcd\\x9a5U\\x87Q;\\xea\\xa5\\x9e\\xf6\\xed\\xdbWu\\x08\\x00\\x8c\\x98\\xa4\\x06\\xc0\\x04Y\\xbdz\\xb5\\xa4\\x06#\\xb3u\\xeb\\xd6X\\xbf~}\\x9c}\\xf6\\xd9U\\x87R+\\xea\\xa5\\xbe\\xe6\\xe7\\xe7\\xe3\\xf1\\xc7\\x1f\\xaf:\\x0c\\x00F\\xa8\\xd5\\xf6\\xbc4\\x80\\x89\\xb0y\\xf3\\xe6\\x98\\x9b\\x9b\\x8b\\xb9\\xb9\\xb9\\xaaCaB\\xb5Z\\xadx\\xf0\\xc1\\x07%\\xcez\\xa8\\x97\\xfa\\x9a\\x9b\\x9b\\x8b\\x8d\\x1b7z<0\\xc0\\xe4\\x9a7\\xa7\\x06\\x00\\x00\\x00\\xd0H\\x92\\x1a\\x00\\x00\\x00@#Ij\\x00\\x00\\x00\\x00\\x8d$\\xa9\\x01\\x00\\x00\\x004\\x92\\xa4\\x06\\x00\\x00\\x00\\xd0H\\x92\\x1a\\x00\\x005\\xd1j\\xb5\\xaa\\x0e\\xa1r\\xea\\x00\\x802\\x96U\\x1d\\x00\\x00\\x14\\x917\\xd0\\xf1\\xc8\\xc6\\xc9\\xd4j\\xb5FvlGYv?:\\xf1t\\xb7\\xf5\\xde\\xf8\\x92\\xce\\x83:\\xedCGo\\x9cI1\\xa6\\xedg\\xa7\\x0e\\xea\\xb8_\\x00\\xd4\\x8f\\xa4\\x06\\x00\\x8d\\xd0\\x19\\xe0\\xa4\\rv\\x0c\\x82h\\xb2\\xee\\xf6\\xdb\\xdd\\xd6{\\xe5\\x9d\\x07u\\xd0\\x1b[\\xab\\xd5J\\\\\\x96\\xf5\\xbb\\xc4\\x06\\x00E\\xb9\\xfd\\x04\\x80\\x89\\xd0\\xfb\\r74E\\xd6\\xe0}\\x12\\xdat\\xd2\\xd5&E\\x92\\x15\\xcei\\x00\\x8ap\\xa5\\x06\\x00\\x13#\\xed\\xdb\\xdd\\xa4\\xcb\\xdc\\x8b\\\\\\xea\\xdf\\xfb\\xde\\xa4u\\xf2\\xdeOz\\x1du\\x96\\xa7-\\xeb\\xfc\\xbfw\\xbd\\xdec\\x97u\\xdc\\xca\\x96\\xdd]\\xfe8\\xe4m\\xab\\xec\\x15\\x0bE\\xdas\\xd9v_\\xb6.\\xfa\\xa9;Wf\\x00\\xd0/I\\r\\x00&Z\\xd2e\\xeeY\\xaf\\xe5\\xfd\\x9eW\\xb6A\\xd9bYu\\x94\\xf4M|o\\xb2\"\\xed\\x18t/O\\xaa\\xf7~\\xca\\xee^\\xafN\\x8a\\x0e\\xf8\\x8b\\xb6\\xdf~\\xda\\xfd u2\\xc8\\xfb%;\\x00\\xc8\\xe3\\xf6\\x13\\x00&V\\xde\\xa0u\\x90o\\xa0\\r\\xb4\\xf2\\x15M6\\x94\\x91t\\xec\\xa6\\xe56\\x85\\xac},R\\xd7E\\xda\\xbdv\\r@\\xd3\\xb8R\\x03\\x80\\x896\\xe8\\x00\\xba\\xc8-\\x0e0j\\xe3L\\xdc\\x0cs;\\x92$\\x00\\x8c\\x9a\\xa4\\x06\\x00\\x13m\\xd0\\x01U\\xde-\\x0e0.\\xe3\\xba\\x15cX\\xe5Kh\\x000\\x0en?\\x01`b\\x8cr\\x105-\\xb78PoMi\\x87e\\xcfE\\t\\x10\\x00\\xfa%\\xa9\\x01\\xc0D(:\\x7fC\\x99\\x01a\\xd6\\xba\\x83\\x96=\\r\\xd2\\xea(oN\\x87\\xee\\x9fI\\xaf%-/2 \\xee\\xa7\\xecQ\\xeb\\'I\\x916OL\\xd9\\xba.\\x1aO\\xd9\\xf8\\xd2\\xb6\\x9b\\xf4\\xf4\\x99~\\xcb\\x02\\x80\\x0e\\xb7\\x9f\\x00\\xd0\\x08\\xbdO-\\xe9\\x956\\xf0I\\x9a,1\\xed\\t\\x1a\\xbd\\xcbz\\xb7Ut\"F^\\x95WGi\\xc7\\xa7\\xe8\\xa3_\\x93\\xca\\x1cF\\xd9U\\x1e\\xcb\\xa4\\xb6^$\\x9e\\xbc\\xba.\\xda\\xee\\xb3\\xca)\\x1aO\\xde9\\xea\\xdc\\x01`X$5\\x00h\\x84A\\x06=E\\xe6\\xc2\\xe8\\xf7\\xd1\\x9e\\x06c\\xf9\\xf2\\xea(\\xeb\\xf8d%,\\xfa\\xd9\\xf60\\xcb\\x1e\\x96\\xded\\xcb \\xed.\\xeb\\xbde\\xdax\\x19\\\\1\\xd4\\x00\\x00\\x00\\xc5IDAT\\xd1DQ\\xd9\\x18\\xca\\xacWur\\t\\x80fp\\xfb\\t\\x00@\\xc5\\x9a2W\\xc6\\xb8Hh\\x00P\\x94\\xa4\\x06\\x00@\\r4!\\xb11\\x8ed\\x83\\x84\\x06\\x00eHj\\x00\\x00\\x8d\\x915\\xd9\\xe7$\\xa8\\xfb`~\\x1c\\xf1\\xd5\\xbd\\x0e\\x00\\xa8\\x17sj\\x00\\x00\\x8da\\xc0\\x0b\\x00ts\\xa5\\x06\\x00\\x00\\x00\\xd0H\\x92\\x1a\\x00\\x00\\x00@#Ij\\x00\\x00\\x00\\x00\\x8d$\\xa9\\x01\\x00\\x00\\x004\\x92\\x89B\\x01&\\xc8\\xd6\\xad[\\'\\xf6\\xa9\\x10\\xd4\\xc3\\xc6\\x8d\\x1b\\xab\\x0e\\xa1\\x96\\xd4\\x0b\\x00T\\xa3\\xd56\\x8d8\\xc0D\\x98\\x9f\\x9f\\x8f\\xf9\\xf9\\xf9\\xaa\\xc3\\x00\\xa8\\x9d\\r\\x1b6T\\x1d\\x02\\x00\\xa31/\\xa9\\x01\\x00\\x00\\x004\\xd1\\xbc95\\x00\\x00\\x00\\x80F\\x92\\xd4\\x00\\x00\\x00\\x00\\x1aIR\\x03\\x00\\x00\\x00h\\xa4\\xff\\x0fk1\\xfbD\\x8c`\\xda\\x97\\x00\\x00\\x00\\x00IEND\\xaeB`\\x82'\n",
      "b\"Error: bad label format {tf_bert_model_1|TFBertModel}|{input:|output:}|{{/{'input_ids': (None, 200), 'token_type_ids': (None, 200), 'attention_mask': (None, 200)/}}|{TFBaseModelOutputWithPoolingAndCrossAttentions(last_hidden_state=(None, 200, 768), pooler_output=(None, 768), past_key_values=None, hidden_states=None, attentions=None, cross_attentions=None)}}\\r\\n\"\n",
      "\n"
     ]
    },
    {
     "ename": "AssertionError",
     "evalue": "\"dot\" with args ['-Tpng', 'C:\\\\Users\\\\grandid\\\\AppData\\\\Local\\\\Temp\\\\1\\\\tmpvn01hv3z'] returned code: 1",
     "output_type": "error",
     "traceback": [
      "\u001B[1;31m---------------------------------------------------------------------------\u001B[0m",
      "\u001B[1;31mAssertionError\u001B[0m                            Traceback (most recent call last)",
      "Input \u001B[1;32mIn [21]\u001B[0m, in \u001B[0;36m<cell line: 1>\u001B[1;34m()\u001B[0m\n\u001B[1;32m----> 1\u001B[0m \u001B[43mkeras\u001B[49m\u001B[38;5;241;43m.\u001B[39;49m\u001B[43mutils\u001B[49m\u001B[38;5;241;43m.\u001B[39;49m\u001B[43mplot_model\u001B[49m\u001B[43m(\u001B[49m\u001B[43mpooled_bert_model\u001B[49m\u001B[43m,\u001B[49m\u001B[43m \u001B[49m\u001B[43mshow_shapes\u001B[49m\u001B[38;5;241;43m=\u001B[39;49m\u001B[38;5;28;43;01mTrue\u001B[39;49;00m\u001B[43m,\u001B[49m\u001B[43m \u001B[49m\u001B[43mdpi\u001B[49m\u001B[38;5;241;43m=\u001B[39;49m\u001B[38;5;241;43m90\u001B[39;49m\u001B[43m)\u001B[49m\n",
      "File \u001B[1;32m~\\miniconda3\\envs\\266-2022-fall-main-b\\lib\\site-packages\\keras\\utils\\vis_utils.py:471\u001B[0m, in \u001B[0;36mplot_model\u001B[1;34m(model, to_file, show_shapes, show_dtype, show_layer_names, rankdir, expand_nested, dpi, layer_range, show_layer_activations)\u001B[0m\n\u001B[0;32m    469\u001B[0m     extension \u001B[38;5;241m=\u001B[39m extension[\u001B[38;5;241m1\u001B[39m:]\n\u001B[0;32m    470\u001B[0m \u001B[38;5;66;03m# Save image to disk.\u001B[39;00m\n\u001B[1;32m--> 471\u001B[0m \u001B[43mdot\u001B[49m\u001B[38;5;241;43m.\u001B[39;49m\u001B[43mwrite\u001B[49m\u001B[43m(\u001B[49m\u001B[43mto_file\u001B[49m\u001B[43m,\u001B[49m\u001B[43m \u001B[49m\u001B[38;5;28;43mformat\u001B[39;49m\u001B[38;5;241;43m=\u001B[39;49m\u001B[43mextension\u001B[49m\u001B[43m)\u001B[49m\n\u001B[0;32m    472\u001B[0m \u001B[38;5;66;03m# Return the image as a Jupyter Image object, to be displayed in-line.\u001B[39;00m\n\u001B[0;32m    473\u001B[0m \u001B[38;5;66;03m# Note that we cannot easily detect whether the code is running in a\u001B[39;00m\n\u001B[0;32m    474\u001B[0m \u001B[38;5;66;03m# notebook, and thus we always return the Image if Jupyter is available.\u001B[39;00m\n\u001B[0;32m    475\u001B[0m \u001B[38;5;28;01mif\u001B[39;00m extension \u001B[38;5;241m!=\u001B[39m \u001B[38;5;124m\"\u001B[39m\u001B[38;5;124mpdf\u001B[39m\u001B[38;5;124m\"\u001B[39m:\n",
      "File \u001B[1;32m~\\miniconda3\\envs\\266-2022-fall-main-b\\lib\\site-packages\\pydot.py:1828\u001B[0m, in \u001B[0;36mDot.write\u001B[1;34m(self, path, prog, format, encoding)\u001B[0m\n\u001B[0;32m   1826\u001B[0m         f\u001B[38;5;241m.\u001B[39mwrite(s)\n\u001B[0;32m   1827\u001B[0m \u001B[38;5;28;01melse\u001B[39;00m:\n\u001B[1;32m-> 1828\u001B[0m     s \u001B[38;5;241m=\u001B[39m \u001B[38;5;28;43mself\u001B[39;49m\u001B[38;5;241;43m.\u001B[39;49m\u001B[43mcreate\u001B[49m\u001B[43m(\u001B[49m\u001B[43mprog\u001B[49m\u001B[43m,\u001B[49m\u001B[43m \u001B[49m\u001B[38;5;28;43mformat\u001B[39;49m\u001B[43m,\u001B[49m\u001B[43m \u001B[49m\u001B[43mencoding\u001B[49m\u001B[38;5;241;43m=\u001B[39;49m\u001B[43mencoding\u001B[49m\u001B[43m)\u001B[49m\n\u001B[0;32m   1829\u001B[0m     \u001B[38;5;28;01mwith\u001B[39;00m io\u001B[38;5;241m.\u001B[39mopen(path, mode\u001B[38;5;241m=\u001B[39m\u001B[38;5;124m'\u001B[39m\u001B[38;5;124mwb\u001B[39m\u001B[38;5;124m'\u001B[39m) \u001B[38;5;28;01mas\u001B[39;00m f:\n\u001B[0;32m   1830\u001B[0m         f\u001B[38;5;241m.\u001B[39mwrite(s)\n",
      "File \u001B[1;32m~\\miniconda3\\envs\\266-2022-fall-main-b\\lib\\site-packages\\pydot.py:1956\u001B[0m, in \u001B[0;36mDot.create\u001B[1;34m(self, prog, format, encoding)\u001B[0m\n\u001B[0;32m   1944\u001B[0m     message \u001B[38;5;241m=\u001B[39m (\n\u001B[0;32m   1945\u001B[0m         \u001B[38;5;124m'\u001B[39m\u001B[38;5;124m\"\u001B[39m\u001B[38;5;132;01m{prog}\u001B[39;00m\u001B[38;5;124m\"\u001B[39m\u001B[38;5;124m with args \u001B[39m\u001B[38;5;132;01m{arguments}\u001B[39;00m\u001B[38;5;124m returned code: \u001B[39m\u001B[38;5;132;01m{code}\u001B[39;00m\u001B[38;5;130;01m\\n\u001B[39;00m\u001B[38;5;130;01m\\n\u001B[39;00m\u001B[38;5;124m'\u001B[39m\n\u001B[0;32m   1946\u001B[0m         \u001B[38;5;124m'\u001B[39m\u001B[38;5;124mstdout, stderr:\u001B[39m\u001B[38;5;130;01m\\n\u001B[39;00m\u001B[38;5;124m \u001B[39m\u001B[38;5;132;01m{out}\u001B[39;00m\u001B[38;5;130;01m\\n\u001B[39;00m\u001B[38;5;132;01m{err}\u001B[39;00m\u001B[38;5;130;01m\\n\u001B[39;00m\u001B[38;5;124m'\u001B[39m\n\u001B[1;32m   (...)\u001B[0m\n\u001B[0;32m   1952\u001B[0m         err\u001B[38;5;241m=\u001B[39mstderr_data,\n\u001B[0;32m   1953\u001B[0m     )\n\u001B[0;32m   1954\u001B[0m     \u001B[38;5;28mprint\u001B[39m(message)\n\u001B[1;32m-> 1956\u001B[0m \u001B[38;5;28;01massert\u001B[39;00m process\u001B[38;5;241m.\u001B[39mreturncode \u001B[38;5;241m==\u001B[39m \u001B[38;5;241m0\u001B[39m, (\n\u001B[0;32m   1957\u001B[0m         \u001B[38;5;124m'\u001B[39m\u001B[38;5;124m\"\u001B[39m\u001B[38;5;132;01m{prog}\u001B[39;00m\u001B[38;5;124m\"\u001B[39m\u001B[38;5;124m with args \u001B[39m\u001B[38;5;132;01m{arguments}\u001B[39;00m\u001B[38;5;124m returned code: \u001B[39m\u001B[38;5;132;01m{code}\u001B[39;00m\u001B[38;5;124m'\u001B[39m\u001B[38;5;241m.\u001B[39mformat(\n\u001B[0;32m   1958\u001B[0m             prog\u001B[38;5;241m=\u001B[39mprog,\n\u001B[0;32m   1959\u001B[0m             arguments\u001B[38;5;241m=\u001B[39marguments,\n\u001B[0;32m   1960\u001B[0m             code\u001B[38;5;241m=\u001B[39mprocess\u001B[38;5;241m.\u001B[39mreturncode,\n\u001B[0;32m   1961\u001B[0m         )\n\u001B[0;32m   1962\u001B[0m     )\n\u001B[0;32m   1964\u001B[0m \u001B[38;5;28;01mreturn\u001B[39;00m stdout_data\n",
      "\u001B[1;31mAssertionError\u001B[0m: \"dot\" with args ['-Tpng', 'C:\\\\Users\\\\grandid\\\\AppData\\\\Local\\\\Temp\\\\1\\\\tmpvn01hv3z'] returned code: 1"
     ]
    }
   ],
   "source": [
    "keras.utils.plot_model(pooled_bert_model, show_shapes=True, dpi=90)"
   ]
  },
  {
   "cell_type": "code",
   "execution_count": 22,
   "metadata": {
    "colab": {
     "base_uri": "https://localhost:8080/"
    },
    "id": "aLLjb3mOtICy",
    "outputId": "9063af10-10dc-424f-8a06-8ea43cebcfe6",
    "pycharm": {
     "name": "#%%\n"
    }
   },
   "outputs": [
    {
     "name": "stdout",
     "output_type": "stream",
     "text": [
      "2000/2000 [==============================] - 488s 240ms/step - loss: 1.4063 - accuracy: 0.5771 - val_loss: 1.0675 - val_accuracy: 0.6816\n"
     ]
    }
   ],
   "source": [
    "#It takes 10 to 14 minutes to complete an epoch when using a GPU\n",
    "pooled_bert_model_history = pooled_bert_model.fit([train_encodings.input_ids, train_encodings.token_type_ids, train_encodings.attention_mask], \n",
    "                                                  train_labels,   \n",
    "                                                  validation_data=([valid_encodings.input_ids, valid_encodings.token_type_ids, valid_encodings.attention_mask], \n",
    "                                                  npvalid_labels),    \n",
    "                                                  batch_size=8, \n",
    "                                                  epochs=1)  "
   ]
  },
  {
   "cell_type": "markdown",
   "metadata": {
    "id": "rdHlOd4LJUOH",
    "pycharm": {
     "name": "#%% md\n"
    }
   },
   "source": [
    "Now we need to run evaluate against our fine-tuned model.  This will give us an overall accuracy based on the test set."
   ]
  },
  {
   "cell_type": "code",
   "execution_count": 23,
   "metadata": {
    "colab": {
     "base_uri": "https://localhost:8080/"
    },
    "id": "dPQn2tJPEGdU",
    "outputId": "44283f95-5bdd-4122-e92a-a3dd8a7a5ef9",
    "pycharm": {
     "name": "#%%\n"
    }
   },
   "outputs": [
    {
     "name": "stdout",
     "output_type": "stream",
     "text": [
      "59/59 [==============================] - 15s 248ms/step - loss: 1.0671 - accuracy: 0.6668\n",
      "Test loss: 1.067071557044983\n",
      "Test accuracy: 0.6668434739112854\n"
     ]
    }
   ],
   "source": [
    "#batch 8, ML=201\n",
    "score = pooled_bert_model.evaluate([test_encodings.input_ids, test_encodings.token_type_ids, test_encodings.attention_mask], \n",
    "                                                  test_labels) \n",
    "\n",
    "print('Test loss:', score[0]) \n",
    "print('Test accuracy:', score[1])"
   ]
  },
  {
   "cell_type": "markdown",
   "metadata": {
    "id": "3CnyZsXLfLJt",
    "pycharm": {
     "name": "#%% md\n"
    }
   },
   "source": [
    "**QUESTION:** 2.3 What is the Test accuracy score you get from your model with a batch size of 8? (Just copy and paste the value into the answers sheet and round to five significant digits.)"
   ]
  },
  {
   "cell_type": "code",
   "execution_count": 24,
   "metadata": {
    "id": "NS7Gp_IYEiJ_",
    "pycharm": {
     "name": "#%%\n"
    }
   },
   "outputs": [
    {
     "name": "stdout",
     "output_type": "stream",
     "text": [
      "1/1 [==============================] - 3s 3s/step\n"
     ]
    }
   ],
   "source": [
    "#run predict for the first three elements in the test data set\n",
    "predictions = pooled_bert_model.predict([test_encodings.input_ids[:3], test_encodings.token_type_ids[:3], test_encodings.attention_mask[:3]])"
   ]
  },
  {
   "cell_type": "code",
   "execution_count": 25,
   "metadata": {
    "colab": {
     "base_uri": "https://localhost:8080/"
    },
    "id": "ymGM8QnpchnC",
    "outputId": "766402ed-3367-4437-c771-917e1609a404",
    "pycharm": {
     "name": "#%%\n"
    }
   },
   "outputs": [
    {
     "data": {
      "text/plain": "array([[1.4702340e-02, 2.5146068e-03, 1.1569575e-03, 8.9525047e-04,\n        4.3928713e-04, 2.0522294e-04, 5.9536553e-04, 1.1540714e-02,\n        9.8789483e-03, 5.0049317e-03, 9.4063475e-04, 6.4698812e-03,\n        1.0341082e-03, 3.2953026e-03, 6.2860232e-03, 5.9051444e-03,\n        2.0550209e-01, 8.1750462e-03, 6.9838840e-01, 1.7069753e-02],\n       [3.6984679e-04, 1.5794849e-02, 8.8976824e-01, 7.4313618e-02,\n        3.3062114e-03, 2.0466961e-03, 1.9176016e-03, 7.2746025e-04,\n        7.9315825e-04, 2.4958879e-03, 9.8698505e-04, 8.6337631e-04,\n        8.6406694e-04, 4.7511377e-04, 2.2922533e-03, 6.5324228e-04,\n        8.3337689e-04, 4.7258360e-04, 4.9673521e-04, 5.2871997e-04],\n       [2.1966210e-01, 1.1355837e-03, 5.3529214e-04, 1.8112449e-03,\n        1.3250882e-03, 3.9716985e-04, 5.3830480e-04, 1.8777831e-03,\n        3.6546947e-03, 9.8507653e-04, 3.3575448e-04, 2.9504073e-03,\n        1.0523347e-03, 3.7827406e-03, 2.0458775e-03, 4.0050891e-01,\n        5.4383408e-03, 2.7158593e-03, 1.1513853e-02, 3.3773354e-01]],\n      dtype=float32)"
     },
     "execution_count": 25,
     "metadata": {},
     "output_type": "execute_result"
    }
   ],
   "source": [
    "predictions"
   ]
  },
  {
   "cell_type": "code",
   "execution_count": 26,
   "metadata": {
    "colab": {
     "base_uri": "https://localhost:8080/"
    },
    "id": "-ahMJ-zwEiCs",
    "outputId": "5e3908e1-6b6f-43d0-c882-66420440a4c1",
    "pycharm": {
     "name": "#%%\n"
    }
   },
   "outputs": [
    {
     "name": "stdout",
     "output_type": "stream",
     "text": [
      "59/59 [==============================] - 14s 236ms/step\n"
     ]
    },
    {
     "data": {
      "text/plain": "<tf.Tensor: shape=(1885,), dtype=int64, numpy=array([18,  2, 15, ..., 15,  6,  1], dtype=int64)>"
     },
     "execution_count": 26,
     "metadata": {},
     "output_type": "execute_result"
    }
   ],
   "source": [
    "#run and capture all predictions from our test set using model.predict\n",
    "### YOUR CODE HERE\n",
    "predictions = pooled_bert_model.predict([test_encodings.input_ids, test_encodings.token_type_ids, test_encodings.attention_mask])\n",
    "### END YOUR CODE\n",
    "\n",
    "#now we need to get the highest probability in the distribution for each prediction\n",
    "#and store that in a tf.Tensor\n",
    "predictions = tf.argmax(predictions, axis=-1)\n",
    "predictions"
   ]
  },
  {
   "cell_type": "markdown",
   "metadata": {
    "id": "LGI8oA6fMWTI",
    "pycharm": {
     "name": "#%% md\n"
    }
   },
   "source": [
    "There are two ways to see what's going on with our classifier.  Overall accuracy is interesting but it can be misleading.  We need to make sure that each of our categories' prediction performance is operating at an equal or higher level than the overall.\n",
    "\n",
    "Here we'll use the classification report from scikit learn.  It expects two inputs as arrays.  One is the ground truth (y_true) and the other is the associated prediction (y_pred).  This is based on gethering all the predictions from our our test set."
   ]
  },
  {
   "cell_type": "code",
   "execution_count": 27,
   "metadata": {
    "colab": {
     "base_uri": "https://localhost:8080/"
    },
    "id": "wPqioIbh2XIE",
    "outputId": "f65f4f61-0472-443c-ff53-0a5dc48dc031",
    "pycharm": {
     "name": "#%%\n"
    }
   },
   "outputs": [
    {
     "name": "stdout",
     "output_type": "stream",
     "text": [
      "                          precision    recall  f1-score   support\n",
      "\n",
      "             alt.atheism       0.36      0.40      0.38        65\n",
      "           comp.graphics       0.58      0.73      0.64        84\n",
      " comp.os.ms-windows.misc       0.47      0.80      0.59       100\n",
      "comp.sys.ibm.pc.hardware       0.56      0.23      0.32        97\n",
      "   comp.sys.mac.hardware       0.60      0.75      0.66       102\n",
      "          comp.windows.x       0.90      0.83      0.86       104\n",
      "            misc.forsale       0.96      0.70      0.81       102\n",
      "               rec.autos       0.77      0.78      0.78       102\n",
      "         rec.motorcycles       0.58      0.75      0.65       103\n",
      "      rec.sport.baseball       0.83      0.80      0.82       105\n",
      "        rec.sport.hockey       0.94      0.82      0.88       104\n",
      "               sci.crypt       0.91      0.61      0.73       102\n",
      "         sci.electronics       0.86      0.34      0.49        93\n",
      "                 sci.med       0.82      0.88      0.85       104\n",
      "               sci.space       0.89      0.68      0.77        91\n",
      "  soc.religion.christian       0.66      0.84      0.74       110\n",
      "      talk.politics.guns       0.73      0.64      0.68       112\n",
      "   talk.politics.mideast       0.85      0.66      0.75        71\n",
      "      talk.politics.misc       0.26      0.61      0.37        71\n",
      "      talk.religion.misc       0.25      0.11      0.15        63\n",
      "\n",
      "                accuracy                           0.67      1885\n",
      "               macro avg       0.69      0.65      0.65      1885\n",
      "            weighted avg       0.71      0.67      0.67      1885\n",
      "\n"
     ]
    }
   ],
   "source": [
    "print(classification_report(test_labels, predictions.numpy(), target_names=target_names))"
   ]
  },
  {
   "cell_type": "markdown",
   "metadata": {
    "id": "ddMMQ2vBOJKj",
    "pycharm": {
     "name": "#%% md\n"
    }
   },
   "source": [
    "**QUESTION:** 2.4 What is the macro average f1 score you get from the classification report for batch size 8?\n",
    "\n",
    "Now we'll generate another very valuable visualization of what's happening with our classifier -- a confusion matrix."
   ]
  },
  {
   "cell_type": "code",
   "execution_count": 28,
   "metadata": {
    "id": "udwdL6iKEh7b",
    "pycharm": {
     "name": "#%%\n"
    }
   },
   "outputs": [],
   "source": [
    "cm = tf.math.confusion_matrix(test_labels, predictions)\n",
    "cm = cm/cm.numpy().sum(axis=1)[:, tf.newaxis]\n"
   ]
  },
  {
   "cell_type": "markdown",
   "metadata": {
    "id": "_9YL2AlQOY4Y",
    "pycharm": {
     "name": "#%% md\n"
    }
   },
   "source": [
    "And now we'll display it!"
   ]
  },
  {
   "cell_type": "code",
   "execution_count": 29,
   "metadata": {
    "colab": {
     "base_uri": "https://localhost:8080/",
     "height": 580
    },
    "id": "gh0Bxg-8EhzZ",
    "outputId": "35b0166e-33a0-4cf0-b89c-a0efba092df0",
    "pycharm": {
     "name": "#%%\n"
    }
   },
   "outputs": [
    {
     "data": {
      "text/plain": "Text(222.31597222222223, 0.5, 'True')"
     },
     "execution_count": 29,
     "metadata": {},
     "output_type": "execute_result"
    },
    {
     "data": {
      "text/plain": "<Figure size 2000x700 with 2 Axes>",
      "image/png": "[encoded data removed]"
     },
     "metadata": {},
     "output_type": "display_data"
    }
   ],
   "source": [
    "plt.figure(figsize=(20,7))\n",
    "sns.heatmap(\n",
    "    cm, annot=True,\n",
    "    xticklabels=target_names,\n",
    "    yticklabels=target_names)\n",
    "plt.xlabel(\"Predicted\")\n",
    "plt.ylabel(\"True\")\n"
   ]
  },
  {
   "cell_type": "markdown",
   "metadata": {
    "id": "6OKhCGVDOgdl",
    "pycharm": {
     "name": "#%% md\n"
    }
   },
   "source": [
    "### 3. Classification with some preprocessed data and the BERT model\n",
    "\n",
    "Okay, not bad.  As you saw there are a lot of odd characters in our input so maybe cleaning some of those out and forcing everything to lower case while running a bert-base-uncased model will give us some imporvement in our prediciotns.  Let's give that a shot.  First let's clean out our text a bit.  Remember, it is critical that we preform identical preprocessing on our training, text, and validation sets."
   ]
  },
  {
   "cell_type": "code",
   "execution_count": 49,
   "metadata": {
    "id": "b0rAv6nLmrwN",
    "pycharm": {
     "name": "#%%\n"
    }
   },
   "outputs": [],
   "source": [
    "def preprocess(sentence):\n",
    "    sentence=str(sentence)\n",
    "    sentence = sentence.lower()\n",
    "    sentence = sentence.replace('\\n', ' ')\n",
    "    #what other characters or strings might you replace to clean up this data\n",
    "    #we don't expect a full set.  Please enter six of them here.\n",
    "    ### YOUR CODE HERE\n",
    "    sentence = sentence.replace('\\t', ' ')\n",
    "    sentence = sentence.replace('\"', ' ')\n",
    "    sentence = sentence.replace('/', ' ')\n",
    "    sentence = sentence.replace('!', ' ')\n",
    "    sentence = sentence.replace('%', ' ')\n",
    "    sentence = sentence.replace('^', ' ')\n",
    "    ### END YOUR CODE\n",
    "    return sentence\n",
    "\n",
    "cleantrain_texts = list(map(preprocess, train_texts))\n",
    "\n",
    "#you need to make sure you apply the same preprocessing to the test and validation sets\n",
    "### YOUR CODE HERE\n",
    "cleantest_texts = list(map(preprocess, test_texts))\n",
    "cleanvalid_texts = list(map(preprocess, valid_texts))\n",
    "### END YOUR CODE"
   ]
  },
  {
   "cell_type": "code",
   "execution_count": 50,
   "metadata": {
    "colab": {
     "base_uri": "https://localhost:8080/"
    },
    "id": "qbsCtKK3mrny",
    "outputId": "bd624a17-80d7-485c-b676-64582ab23786",
    "pycharm": {
     "name": "#%%\n"
    }
   },
   "outputs": [
    {
     "data": {
      "text/plain": "[\"i'm searching for a phonetic truetype font for windows 3.1. if  anybody knows one, please mail me   thanks.  dw  \",\n 're: flaming wreckage  i wrote my congressmen strongly worded letters demanding they dissolve the batf.  perhaps anger and grief can help spur a letter writing campaign?']"
     },
     "execution_count": 50,
     "metadata": {},
     "output_type": "execute_result"
    }
   ],
   "source": [
    "cleantrain_texts[:2]"
   ]
  },
  {
   "cell_type": "code",
   "execution_count": 51,
   "metadata": {
    "colab": {
     "base_uri": "https://localhost:8080/"
    },
    "id": "TJD-PasK6RIp",
    "outputId": "c1850ee4-b114-4769-db0b-fca4e93b7a94",
    "pycharm": {
     "name": "#%%\n"
    }
   },
   "outputs": [
    {
     "data": {
      "text/plain": "[\"fcrary@ucsu.colorado.edu (frank crary @ university of colorado, boulder):     these stats are invalid; we're talking backcountry. these stats for  rapes assaults deaths do not represent the backcountry singularly; the  great majority represent urban incidents. you should have pointed this out.\",\n \"                                                              most fellow diamond video board owners with whom i've corresponded may or may not share your opinion about the proprietary clocking scheme, but all of those with whom i've chatted have not been thrilled with the window's drivers, either.  some modes work fine, but others cause strange misdrawn objects, trails, etc.  many have also voiced their strong discontent to diamond's ambivalent attitude toward os 2 drivers.  come to think of it, though, i hear and see a lot of complaints about the ati boards too, though recent word looks like the build 59 code looks much better.  does anyone have an accelerated video board with drivers for windows (os 2?) where all the modes function properly?  anyone?  anyone?  lance hartmann (lance hartmann.austin.ibm.com@ibmpa.awdpa.ibm.com)                yes, that is a ' ' (percent sign) in my network address.\"]"
     },
     "execution_count": 51,
     "metadata": {},
     "output_type": "execute_result"
    }
   ],
   "source": [
    "cleantest_texts[:2]"
   ]
  },
  {
   "cell_type": "code",
   "execution_count": 52,
   "metadata": {
    "colab": {
     "base_uri": "https://localhost:8080/",
     "height": 252,
     "referenced_widgets": [
      "b686379347af4265b828d4bda7720dee",
      "e638528147ff451b8d941ca467d4f35f",
      "0fbd848a440a4fd7b2f662ca5bca0b8c",
      "701d8bc9329d4f2b8cad17497a648edd",
      "2e9dae964d1f411bb1a5d86186cb30a8",
      "2d440543290449b4b1c88c49e88e2ce6",
      "961de94217924fa19ab2caad71c2fc2a",
      "3d62e60556e741328e209861d3bc573e",
      "1ff1c33583f740babb83fffb65bc9730",
      "5650c9d439f64733925fb387472c8ee1",
      "42a5fc2a1f994d8ab1212e74c57eba33",
      "d705d0a134b04448acfa1127cb14912c",
      "b8431d109fcf46f4bf61271234d79bc8",
      "b2aec9b41e784e8e9751d0a2917aa469",
      "ef10b3e222cc46eb99cd4587363bdf44",
      "fe3a021591124690b9954b41d703f662",
      "5e1698630f654dadaaea292b29588464",
      "b1d589bcc5ca44929fbdc8affa34901f",
      "2d96e284546344f3869103912ab19092",
      "c438515804ed4c1193a7d45c43a1dec0",
      "1817a0f8abbc4250860d9b4bb35b770a",
      "9bde5a9164e945e9a9a1cf377b7fd04c",
      "931a4e70dc60452f81405dec34659dcb",
      "99c1aa3797e341378a682a75850e788f",
      "2f508c04c97043058d469dd35355e66b",
      "050e5b27a0334ff0aebe0ff5d48b1b79",
      "33db0215a70c4a2d85524c4c6fef7591",
      "12f13a8f40fb426cbb353083d1d87809",
      "9643f59b4c054d789a8b76cb77545922",
      "31dd4cd3428f4d1fa6e9650dd35ef902",
      "9aca23d2bb704ac28a480507ba9d5547",
      "0dc312eec10344709be63bd59c427e98",
      "810fd569edf94a1aab4c333556d7143d",
      "a843ab3302b24c53abcec10837cb94bc",
      "001cf9a8ea814519ab9b55e0994e508c",
      "e9065efac9524f418c22c65ee6c4bc9a",
      "0c060a3140a84e93bbc2a5c0b668b9d2",
      "2ddd613a45d54fb69065dfd8d66ebeac",
      "d8c5909cc4f24594aa18ec96cc5bdaac",
      "bd3d1dd3129b4bb1b479cc80f437f861",
      "3f9bf53b77ea41cc8a15f3b5d5ea2013",
      "a9810abd24a24944ab3850925c4cc398",
      "1ee4051a56644a93a003b6b11cb53ec2",
      "aad7d7d053684b32bb148272daf30a8a"
     ]
    },
    "id": "zHe5qG5hKGwF",
    "outputId": "36fe2891-e6a6-4922-933e-13691f095b68",
    "pycharm": {
     "name": "#%%\n"
    }
   },
   "outputs": [
    {
     "name": "stderr",
     "output_type": "stream",
     "text": [
      "Some layers from the model checkpoint at bert-base-uncased were not used when initializing TFBertModel: ['nsp___cls', 'mlm___cls']\n",
      "- This IS expected if you are initializing TFBertModel from the checkpoint of a model trained on another task or with another architecture (e.g. initializing a BertForSequenceClassification model from a BertForPreTraining model).\n",
      "- This IS NOT expected if you are initializing TFBertModel from the checkpoint of a model that you expect to be exactly identical (initializing a BertForSequenceClassification model from a BertForSequenceClassification model).\n",
      "All the layers of TFBertModel were initialized from the model checkpoint at bert-base-uncased.\n",
      "If your task is similar to the task the model of the checkpoint was trained on, you can already use TFBertModel for predictions without further training.\n"
     ]
    }
   ],
   "source": [
    "model_checkpoint = 'bert-base-uncased'\n",
    "bert_uctokenizer = BertTokenizer.from_pretrained(model_checkpoint)\n",
    "bert_model = TFBertModel.from_pretrained(model_checkpoint)"
   ]
  },
  {
   "cell_type": "code",
   "execution_count": 53,
   "metadata": {
    "id": "PtmIllK0mrf5",
    "pycharm": {
     "name": "#%%\n"
    }
   },
   "outputs": [],
   "source": [
    "# tokenize the dataset, truncate when passed `max_length`, \n",
    "# and pad with 0's when less than `max_length`\n",
    "cleantrain_encodings = bert_uctokenizer(cleantrain_texts, truncation=True, padding=True, max_length=max_length, return_tensors='tf')\n",
    "cleanvalid_encodings = bert_uctokenizer(cleanvalid_texts, truncation=True, padding=True, max_length=max_length, return_tensors='tf')\n",
    "cleantest_encodings = bert_uctokenizer(cleantest_texts, truncation=True, padding=True, max_length=max_length, return_tensors='tf')"
   ]
  },
  {
   "cell_type": "code",
   "execution_count": 54,
   "metadata": {
    "colab": {
     "base_uri": "https://localhost:8080/"
    },
    "id": "KuYEEO3xLDXG",
    "outputId": "d404c3dc-9aca-4e05-f3ff-375e646d7a1f",
    "pycharm": {
     "name": "#%%\n"
    }
   },
   "outputs": [
    {
     "data": {
      "text/plain": "<tf.Tensor: shape=(2, 200), dtype=int32, numpy=\narray([[  101,  8292,  7630,  8017, 11640,  1012,  1012,  1012,  1012,\n         1012,  1012,  1012,  1012,  1012,  1012,  1012,   102,     0,\n            0,     0,     0,     0,     0,     0,     0,     0,     0,\n            0,     0,     0,     0,     0,     0,     0,     0,     0,\n            0,     0,     0,     0,     0,     0,     0,     0,     0,\n            0,     0,     0,     0,     0,     0,     0,     0,     0,\n            0,     0,     0,     0,     0,     0,     0,     0,     0,\n            0,     0,     0,     0,     0,     0,     0,     0,     0,\n            0,     0,     0,     0,     0,     0,     0,     0,     0,\n            0,     0,     0,     0,     0,     0,     0,     0,     0,\n            0,     0,     0,     0,     0,     0,     0,     0,     0,\n            0,     0,     0,     0,     0,     0,     0,     0,     0,\n            0,     0,     0,     0,     0,     0,     0,     0,     0,\n            0,     0,     0,     0,     0,     0,     0,     0,     0,\n            0,     0,     0,     0,     0,     0,     0,     0,     0,\n            0,     0,     0,     0,     0,     0,     0,     0,     0,\n            0,     0,     0,     0,     0,     0,     0,     0,     0,\n            0,     0,     0,     0,     0,     0,     0,     0,     0,\n            0,     0,     0,     0,     0,     0,     0,     0,     0,\n            0,     0,     0,     0,     0,     0,     0,     0,     0,\n            0,     0,     0,     0,     0,     0,     0,     0,     0,\n            0,     0,     0,     0,     0,     0,     0,     0,     0,\n            0,     0],\n       [  101,  1045,  2031,  1996,  2206,  3429, 11575,  3895,  2005,\n         5096,  1012,  2087,  2024,  8145,  3085,  1021,  1011,  4960,\n         2636,  2007,  3861, 15114,  1012,  3976,  2515,  2025,  2421,\n        22981,  2029,  2003,  1002,  1015,  1012,  2538,  2005,  1996,\n         2034,  2501,  1010,  1002,  1015,  1012,  6353,  2005,  2048,\n         1010,  4385,  1012,  3509,  3337,  1064,  6437,  5754,  1006,\n         9424,  3861, 10353,  1007,  1064,  1002,  2184,  1064,  3429,\n         3509,  3337,  1064, 10250, 10128, 12488,  3057,  1006,  9424,\n         3861, 10353,  1007,  1064,  1002,  2321,  1064,  3429,  3509,\n         3337,  1064,  4569,  1010,  4569,  1010,  4569,  1006,  9424,\n         3861, 10353,  1007,  1064,  1002,  2184,  1064,  3429,  3509,\n         3337,  1064,  2210,  2611,  1045,  2320,  2354,  1006,  9424,\n         3861, 10353,  1007,  1064,  1002,  2184,  1064,  3429,  3509,\n         3337,  1064,  3531,  2292,  2033,  4687,  1006,  9424,  3861,\n        10353,  1007,  1064,  1002,  2184,  1064,  3429,  3509,  3337,\n         1064,  2600,  1050,  4897,  2000,  1996,  5343,  1006,  9424,\n        19430,  3861, 10353,  1007,  1064,  1002,  2321,  1064,  3429,\n         3509,  3337,  1064,  2043,  1045,  4982,  2039,  2000,  2022,\n         1037,  2158,  1006,  9424,  3861, 10353,  1007,  1064,  1002,\n         2184,  1064,  3429, 11555,  1064, 10047,  3407,  2074,  2000,\n         3153,  2007,  2017,  1006,  9424,  3861, 10353,  1007,  1064,\n         1002,  2184,  1064,  3429,  3460,  1004,  1996, 19960,  6558,\n         1064,   102]])>"
     },
     "execution_count": 54,
     "metadata": {},
     "output_type": "execute_result"
    }
   ],
   "source": [
    "cleanvalid_encodings.input_ids[:2]"
   ]
  },
  {
   "cell_type": "markdown",
   "metadata": {
    "id": "dSQd_UDQhmQd",
    "pycharm": {
     "name": "#%% md\n"
    }
   },
   "source": [
    "Call the function to recreate our BERT model only this time it will use the model_checkpoint of bert-base-uncased."
   ]
  },
  {
   "cell_type": "code",
   "execution_count": 55,
   "metadata": {
    "colab": {
     "base_uri": "https://localhost:8080/"
    },
    "id": "s7hR7ahmmrYL",
    "outputId": "806d7867-e8e2-49f2-a9af-1e9570b2d4f2",
    "pycharm": {
     "name": "#%%\n"
    }
   },
   "outputs": [
    {
     "name": "stderr",
     "output_type": "stream",
     "text": [
      "Some layers from the model checkpoint at bert-base-uncased were not used when initializing TFBertModel: ['nsp___cls', 'mlm___cls']\n",
      "- This IS expected if you are initializing TFBertModel from the checkpoint of a model trained on another task or with another architecture (e.g. initializing a BertForSequenceClassification model from a BertForPreTraining model).\n",
      "- This IS NOT expected if you are initializing TFBertModel from the checkpoint of a model that you expect to be exactly identical (initializing a BertForSequenceClassification model from a BertForSequenceClassification model).\n",
      "All the layers of TFBertModel were initialized from the model checkpoint at bert-base-uncased.\n",
      "If your task is similar to the task the model of the checkpoint was trained on, you can already use TFBertModel for predictions without further training.\n"
     ]
    }
   ],
   "source": [
    "clean_pooled_bert_model = create_bert_multiclass_model(checkpoint = model_checkpoint)"
   ]
  },
  {
   "cell_type": "code",
   "execution_count": 56,
   "metadata": {
    "colab": {
     "base_uri": "https://localhost:8080/"
    },
    "id": "O4Qsai6UmrOj",
    "outputId": "f4a2c9a0-b670-40d1-b9e7-1e306c264a78",
    "pycharm": {
     "name": "#%%\n"
    }
   },
   "outputs": [
    {
     "name": "stdout",
     "output_type": "stream",
     "text": [
      "2000/2000 [==============================] - 500s 245ms/step - loss: 1.3150 - accuracy: 0.6104 - val_loss: 0.9228 - val_accuracy: 0.7222\n"
     ]
    }
   ],
   "source": [
    "clean_pooled_bert_model_history = clean_pooled_bert_model.fit([cleantrain_encodings.input_ids, cleantrain_encodings.token_type_ids, cleantrain_encodings.attention_mask], \n",
    "                                                  train_labels,   \n",
    "                                                  validation_data=([cleanvalid_encodings.input_ids, cleanvalid_encodings.token_type_ids, cleanvalid_encodings.attention_mask],\n",
    "                                                                   npvalid_labels),    \n",
    "                                                  batch_size=8, \n",
    "                                                  epochs=1)"
   ]
  },
  {
   "cell_type": "markdown",
   "metadata": {
    "id": "A6dQZRNCh6__",
    "pycharm": {
     "name": "#%% md\n"
    }
   },
   "source": [
    "This will only display a plot if we've run for more than one epoch.  We're not asking you to run more than one in this assignment but when you're done you might try running another just to see how much more the model learns."
   ]
  },
  {
   "cell_type": "code",
   "execution_count": null,
   "metadata": {
    "colab": {
     "base_uri": "https://localhost:8080/",
     "height": 635
    },
    "id": "RrM1DHfrEiPx",
    "outputId": "d948c9c4-97ea-45f2-9ec8-a16ce4dc9521",
    "pycharm": {
     "name": "#%%\n",
     "is_executing": true
    }
   },
   "outputs": [],
   "source": [
    "fig, axs = plt.subplots(2, 2)\n",
    "fig.subplots_adjust(left=0.2, wspace=0.6)\n",
    "make_plot(axs, \n",
    "          pooled_bert_model_history, \n",
    "          clean_pooled_bert_model_history, \n",
    "          model_1_name='raw',\n",
    "         model_2_name='clean',\n",
    "         y_lim_accuracy_lower=0.42,\n",
    "         y_lim_accuracy_upper=0.82)\n",
    "\n",
    "fig.align_ylabels(axs[:, 1])\n",
    "fig.set_size_inches(18.5, 10.5)\n",
    "plt.show()"
   ]
  },
  {
   "cell_type": "code",
   "execution_count": 58,
   "metadata": {
    "colab": {
     "base_uri": "https://localhost:8080/"
    },
    "id": "BkW9hMq9g9dV",
    "outputId": "f192a3ff-ac44-4208-e7b9-bbee9d99a48a",
    "pycharm": {
     "name": "#%%\n"
    }
   },
   "outputs": [
    {
     "name": "stdout",
     "output_type": "stream",
     "text": [
      "59/59 [==============================] - 15s 243ms/step - loss: 0.9409 - accuracy: 0.7098\n",
      "Test loss: 0.9409254789352417\n",
      "Test accuracy: 0.7098143100738525\n"
     ]
    }
   ],
   "source": [
    "#Evaluate the fine tuned clean model against the cleaned test data\n",
    "### YOUR CODE HERE\n",
    "score = clean_pooled_bert_model.evaluate([cleantest_encodings.input_ids, cleantest_encodings.token_type_ids, cleantest_encodings.attention_mask], test_labels)\n",
    "### END YOUR CODE\n",
    "print('Test loss:', score[0]) \n",
    "print('Test accuracy:', score[1])"
   ]
  },
  {
   "cell_type": "markdown",
   "metadata": {
    "id": "DPaUdul4hlp0",
    "pycharm": {
     "name": "#%% md\n"
    }
   },
   "source": [
    "**QUESTION:** \n",
    "\n",
    "3.1 What is the test accuracy you get when you run the cleaned model with batch size 8?\n"
   ]
  },
  {
   "cell_type": "code",
   "execution_count": 63,
   "metadata": {
    "colab": {
     "base_uri": "https://localhost:8080/"
    },
    "id": "TrWtaXSug9UR",
    "outputId": "76e91929-975d-42f2-c177-14ea58c714b7",
    "pycharm": {
     "name": "#%%\n"
    }
   },
   "outputs": [
    {
     "name": "stdout",
     "output_type": "stream",
     "text": [
      "59/59 [==============================] - 18s 236ms/step\n"
     ]
    },
    {
     "data": {
      "text/plain": "<tf.Tensor: shape=(1885,), dtype=int64, numpy=array([18,  2,  0, ..., 15,  6,  1], dtype=int64)>"
     },
     "execution_count": 63,
     "metadata": {},
     "output_type": "execute_result"
    }
   ],
   "source": [
    "#run and capture all the predictions from the clean test data\n",
    "### YOUR CODE HERE\n",
    "predictions = clean_pooled_bert_model.predict([cleantest_encodings.input_ids, cleantest_encodings.token_type_ids, cleantest_encodings.attention_mask])\n",
    "\n",
    "predictions = tf.argmax(predictions, axis=-1)\n",
    "### END YOUR CODE\n",
    "predictions"
   ]
  },
  {
   "cell_type": "code",
   "execution_count": 64,
   "metadata": {
    "id": "DoiKD8Y2g9LN",
    "pycharm": {
     "name": "#%%\n"
    }
   },
   "outputs": [],
   "source": [
    "#Generate a confusion matrix using your new clean test predictions\n",
    "# ccm = ...\n",
    "### YOUR CODE HERE\n",
    "ccm = tf.math.confusion_matrix(test_labels, predictions)\n",
    "ccm = ccm/ccm.numpy().sum(axis=1)[:, tf.newaxis]\n",
    "### END YOUR CODE"
   ]
  },
  {
   "cell_type": "code",
   "execution_count": 65,
   "metadata": {
    "colab": {
     "base_uri": "https://localhost:8080/",
     "height": 580
    },
    "id": "McHH8iKpg9AC",
    "outputId": "6550b24c-d5ed-43fc-bb46-0b9eea3ff1f7",
    "pycharm": {
     "name": "#%%\n"
    }
   },
   "outputs": [
    {
     "data": {
      "text/plain": "Text(222.31597222222223, 0.5, 'True')"
     },
     "execution_count": 65,
     "metadata": {},
     "output_type": "execute_result"
    },
    {
     "data": {
      "text/plain": "<Figure size 2000x700 with 2 Axes>",
      "image/png": "[encoded data removed]"
     },
     "metadata": {},
     "output_type": "display_data"
    }
   ],
   "source": [
    "#display that new confusion matrix\n",
    "plt.figure(figsize=(20,7))\n",
    "sns.heatmap(\n",
    "    ccm, annot=True,\n",
    "    xticklabels=target_names,\n",
    "    yticklabels=target_names)\n",
    "plt.xlabel(\"Predicted\")\n",
    "plt.ylabel(\"True\")"
   ]
  },
  {
   "cell_type": "code",
   "execution_count": 66,
   "metadata": {
    "colab": {
     "base_uri": "https://localhost:8080/"
    },
    "id": "c_h2J81owbgf",
    "outputId": "a4f0d609-bbc3-4752-bd84-519d6711e38f",
    "pycharm": {
     "name": "#%%\n"
    }
   },
   "outputs": [
    {
     "name": "stdout",
     "output_type": "stream",
     "text": [
      "                          precision    recall  f1-score   support\n",
      "\n",
      "             alt.atheism       0.38      0.68      0.49        65\n",
      "           comp.graphics       0.80      0.61      0.69        84\n",
      " comp.os.ms-windows.misc       0.71      0.76      0.73       100\n",
      "comp.sys.ibm.pc.hardware       0.58      0.62      0.60        97\n",
      "   comp.sys.mac.hardware       0.79      0.59      0.67       102\n",
      "          comp.windows.x       0.84      0.88      0.86       104\n",
      "            misc.forsale       0.67      0.83      0.74       102\n",
      "               rec.autos       0.92      0.60      0.73       102\n",
      "         rec.motorcycles       0.45      0.86      0.59       103\n",
      "      rec.sport.baseball       0.83      0.80      0.82       105\n",
      "        rec.sport.hockey       0.96      0.84      0.89       104\n",
      "               sci.crypt       0.81      0.75      0.78       102\n",
      "         sci.electronics       0.79      0.60      0.68        93\n",
      "                 sci.med       0.94      0.84      0.88       104\n",
      "               sci.space       0.83      0.76      0.79        91\n",
      "  soc.religion.christian       0.78      0.73      0.75       110\n",
      "      talk.politics.guns       0.74      0.67      0.70       112\n",
      "   talk.politics.mideast       0.68      0.83      0.75        71\n",
      "      talk.politics.misc       0.51      0.62      0.56        71\n",
      "      talk.religion.misc       0.25      0.03      0.06        63\n",
      "\n",
      "                accuracy                           0.71      1885\n",
      "               macro avg       0.71      0.69      0.69      1885\n",
      "            weighted avg       0.73      0.71      0.71      1885\n",
      "\n"
     ]
    }
   ],
   "source": [
    "# Run the sklearn classification_report again with the new predictions\n",
    "### YOUR CODE HERE\n",
    "print(classification_report(test_labels, predictions.numpy(), target_names=target_names))\n",
    "### END YOUR CODE"
   ]
  },
  {
   "cell_type": "markdown",
   "metadata": {
    "id": "KUQEz34EihRQ",
    "pycharm": {
     "name": "#%% md\n"
    }
   },
   "source": [
    "**QUESTION:**\n",
    "\n",
    "3.2 What is the weighted avg F1 score in the classification when you run the cleaned model with batch size of 8?"
   ]
  },
  {
   "cell_type": "markdown",
   "metadata": {
    "id": "TTZcBibxR153",
    "pycharm": {
     "name": "#%% md\n"
    }
   },
   "source": [
    "### 4. Try again with a different mini batch size to see if that improves performance\n",
    "\n",
    "Run the clean data model but change the batchsize to 16 instead of 8.\n",
    "\n",
    "** You do NOT need to rebuild the data. You just need to rerun the BERT model and the metrics for the new batch size **\n",
    "\n",
    "What do you notice?  Does the accuracy go up or down?"
   ]
  },
  {
   "cell_type": "code",
   "source": [
    "clean16_pooled_bert_model = create_bert_multiclass_model(checkpoint = model_checkpoint)"
   ],
   "metadata": {
    "colab": {
     "base_uri": "https://localhost:8080/"
    },
    "id": "dNe5zVOflttk",
    "outputId": "f6280a91-ee25-402b-de37-c178ce369f72",
    "pycharm": {
     "name": "#%%\n"
    }
   },
   "execution_count": 67,
   "outputs": [
    {
     "name": "stderr",
     "output_type": "stream",
     "text": [
      "Some layers from the model checkpoint at bert-base-uncased were not used when initializing TFBertModel: ['nsp___cls', 'mlm___cls']\n",
      "- This IS expected if you are initializing TFBertModel from the checkpoint of a model trained on another task or with another architecture (e.g. initializing a BertForSequenceClassification model from a BertForPreTraining model).\n",
      "- This IS NOT expected if you are initializing TFBertModel from the checkpoint of a model that you expect to be exactly identical (initializing a BertForSequenceClassification model from a BertForSequenceClassification model).\n",
      "All the layers of TFBertModel were initialized from the model checkpoint at bert-base-uncased.\n",
      "If your task is similar to the task the model of the checkpoint was trained on, you can already use TFBertModel for predictions without further training.\n"
     ]
    }
   ]
  },
  {
   "cell_type": "code",
   "source": [
    "clean16_pooled_bert_model_history = clean16_pooled_bert_model.fit([cleantrain_encodings.input_ids, cleantrain_encodings.token_type_ids, cleantrain_encodings.attention_mask], \n",
    "                                                  train_labels,   \n",
    "                                                  validation_data=([cleanvalid_encodings.input_ids, cleanvalid_encodings.token_type_ids, cleanvalid_encodings.attention_mask],\n",
    "                                                                   npvalid_labels),    \n",
    "                                                  batch_size=14,\n",
    "                                                  epochs=1)"
   ],
   "metadata": {
    "colab": {
     "base_uri": "https://localhost:8080/"
    },
    "id": "-F5DM3zGlvSd",
    "outputId": "e94c4c40-b9eb-49ad-a059-5328366676fb",
    "pycharm": {
     "name": "#%%\n"
    }
   },
   "execution_count": 70,
   "outputs": [
    {
     "name": "stdout",
     "output_type": "stream",
     "text": [
      "1143/1143 [==============================] - 458s 392ms/step - loss: 1.1831 - accuracy: 0.6482 - val_loss: 0.9351 - val_accuracy: 0.7305\n"
     ]
    }
   ]
  },
  {
   "cell_type": "code",
   "source": [
    "#Evaluate the fine tuned clean model with the larger batch size against the cleaned test data\n",
    "### YOUR CODE HERE\n",
    "score = clean16_pooled_bert_model.evaluate([cleantest_encodings.input_ids, cleantest_encodings.token_type_ids, cleantest_encodings.attention_mask], test_labels)\n",
    "\n",
    "predictions = clean16_pooled_bert_model.predict([cleantest_encodings.input_ids, cleantest_encodings.token_type_ids, cleantest_encodings.attention_mask])\n",
    "predictions = tf.argmax(predictions, axis=-1)\n",
    "\n",
    "cm = tf.math.confusion_matrix(test_labels, predictions)\n",
    "cm = cm/cm.numpy().sum(axis=1)[:, tf.newaxis]\n",
    "plt.figure(figsize=(20,7))\n",
    "sns.heatmap(\n",
    "    cm, annot=True,\n",
    "    xticklabels=target_names,\n",
    "    yticklabels=target_names)\n",
    "plt.xlabel(\"Predicted\")\n",
    "plt.ylabel(\"True\")\n",
    "\n",
    "print(classification_report(test_labels, predictions.numpy(), target_names=target_names))\n",
    "\n",
    "\n",
    "\n",
    "### END YOUR CODE\n",
    "print('Test loss:', score[0]) \n",
    "print('Test accuracy:', score[1])"
   ],
   "metadata": {
    "colab": {
     "base_uri": "https://localhost:8080/"
    },
    "id": "UNEUeufxp1g5",
    "outputId": "6ad85292-ae27-4bdb-dc3d-4fffa151177b",
    "pycharm": {
     "name": "#%%\n"
    }
   },
   "execution_count": 71,
   "outputs": [
    {
     "name": "stdout",
     "output_type": "stream",
     "text": [
      "59/59 [==============================] - 16s 266ms/step - loss: 0.8876 - accuracy: 0.7247\n",
      "59/59 [==============================] - 18s 258ms/step\n",
      "                          precision    recall  f1-score   support\n",
      "\n",
      "             alt.atheism       0.46      0.51      0.49        65\n",
      "           comp.graphics       0.58      0.76      0.66        84\n",
      " comp.os.ms-windows.misc       0.75      0.61      0.67       100\n",
      "comp.sys.ibm.pc.hardware       0.65      0.65      0.65        97\n",
      "   comp.sys.mac.hardware       0.74      0.69      0.71       102\n",
      "          comp.windows.x       0.81      0.84      0.82       104\n",
      "            misc.forsale       0.89      0.83      0.86       102\n",
      "               rec.autos       0.59      0.76      0.67       102\n",
      "         rec.motorcycles       0.60      0.81      0.69       103\n",
      "      rec.sport.baseball       0.91      0.78      0.84       105\n",
      "        rec.sport.hockey       0.93      0.88      0.91       104\n",
      "               sci.crypt       0.85      0.72      0.78       102\n",
      "         sci.electronics       0.59      0.70      0.64        93\n",
      "                 sci.med       0.95      0.87      0.90       104\n",
      "               sci.space       0.93      0.75      0.83        91\n",
      "  soc.religion.christian       0.71      0.76      0.74       110\n",
      "      talk.politics.guns       0.64      0.86      0.73       112\n",
      "   talk.politics.mideast       0.70      0.80      0.75        71\n",
      "      talk.politics.misc       0.79      0.38      0.51        71\n",
      "      talk.religion.misc       0.38      0.13      0.19        63\n",
      "\n",
      "                accuracy                           0.72      1885\n",
      "               macro avg       0.72      0.70      0.70      1885\n",
      "            weighted avg       0.74      0.72      0.72      1885\n",
      "\n",
      "Test loss: 0.8876445293426514\n",
      "Test accuracy: 0.7246684432029724\n"
     ]
    },
    {
     "data": {
      "text/plain": "<Figure size 2000x700 with 2 Axes>",
      "image/png": "[encoded data removed]"
     },
     "metadata": {},
     "output_type": "display_data"
    }
   ]
  },
  {
   "cell_type": "markdown",
   "metadata": {
    "id": "8jXBmgS2iXDI",
    "pycharm": {
     "name": "#%% md\n"
    }
   },
   "source": [
    "**QUESTION:**\n",
    "\n",
    "4.1 What is the Test accuracy you get when you run the cleaned model with batch size 16? (copy and paste the value rounding to five significant digits)\n",
    "\n",
    "4.2 Which category is consistenly underperforming in both the classification reports and the confusion matrices?"
   ]
  },
  {
   "cell_type": "markdown",
   "metadata": {
    "id": "coyVPop8SuG9",
    "pycharm": {
     "name": "#%% md\n"
    }
   },
   "source": [
    "Count up the train labels to see how many records there are for each of the 20 categories.  We've assumed they're evenly distributed. "
   ]
  },
  {
   "cell_type": "code",
   "execution_count": 74,
   "metadata": {
    "colab": {
     "base_uri": "https://localhost:8080/"
    },
    "id": "Lj98aBdmNMrE",
    "outputId": "6f3d3ca3-bb34-4f0c-f0db-42b53839326a",
    "pycharm": {
     "name": "#%%\n"
    }
   },
   "outputs": [
    {
     "name": "stdout",
     "output_type": "stream",
     "text": [
      "Counter({11: 850,\n",
      "         8: 849,\n",
      "         12: 845,\n",
      "         13: 845,\n",
      "         1: 843,\n",
      "         3: 841,\n",
      "         14: 840,\n",
      "         9: 839,\n",
      "         2: 836,\n",
      "         10: 836,\n",
      "         7: 833,\n",
      "         5: 826,\n",
      "         15: 824,\n",
      "         6: 823,\n",
      "         17: 822,\n",
      "         4: 806,\n",
      "         16: 741,\n",
      "         0: 697,\n",
      "         18: 664,\n",
      "         19: 540})\n"
     ]
    }
   ],
   "source": [
    "#count_dict = ...\n",
    "### YOUR CODE HERE\n",
    "from collections import Counter\n",
    "count_dict = Counter(train_labels)\n",
    "### END YOUR CODE\n",
    "pprint(count_dict, compact=True)"
   ]
  },
  {
   "cell_type": "markdown",
   "metadata": {
    "id": "ppncPlCzzz0B",
    "pycharm": {
     "name": "#%% md\n"
    }
   },
   "source": [
    "**QUESTION:** \n",
    "\n",
    "4.3 The training data set is evenly distributed across all of the categories (True or False)?  \n",
    "\n",
    "Is there a possible relation between those counts and what we've seen in the confusion matrices? "
   ]
  }
 ],
 "metadata": {
  "accelerator": "GPU",
  "colab": {
   "collapsed_sections": [],
   "provenance": []
  },
  "kernelspec": {
   "display_name": "Python 3",
   "language": "python",
   "name": "python3"
  },
  "language_info": {
   "codemirror_mode": {
    "name": "ipython",
    "version": 3
   },
   "file_extension": ".py",
   "mimetype": "text/x-python",
   "name": "python",
   "nbconvert_exporter": "python",
   "pygments_lexer": "ipython3",
   "version": "3.8.5"
  },
  "widgets": {
   "application/vnd.jupyter.widget-state+json": {
    "afb954888191467dba08491442a93266": {
     "model_module": "@jupyter-widgets/controls",
     "model_name": "HBoxModel",
     "model_module_version": "1.5.0",
     "state": {
      "_dom_classes": [],
      "_model_module": "@jupyter-widgets/controls",
      "_model_module_version": "1.5.0",
      "_model_name": "HBoxModel",
      "_view_count": null,
      "_view_module": "@jupyter-widgets/controls",
      "_view_module_version": "1.5.0",
      "_view_name": "HBoxView",
      "box_style": "",
      "children": [
       "IPY_MODEL_7ff09211bb4a418993a8f536ed942e61",
       "IPY_MODEL_d9626069f7d742668e6dc20c0bd2a8a2",
       "IPY_MODEL_5b186d50ab6449b2a21c79e30562d6a9"
      ],
      "layout": "IPY_MODEL_af8a0f6a62974b9087f34c58ee132f27"
     }
    },
    "7ff09211bb4a418993a8f536ed942e61": {
     "model_module": "@jupyter-widgets/controls",
     "model_name": "HTMLModel",
     "model_module_version": "1.5.0",
     "state": {
      "_dom_classes": [],
      "_model_module": "@jupyter-widgets/controls",
      "_model_module_version": "1.5.0",
      "_model_name": "HTMLModel",
      "_view_count": null,
      "_view_module": "@jupyter-widgets/controls",
      "_view_module_version": "1.5.0",
      "_view_name": "HTMLView",
      "description": "",
      "description_tooltip": null,
      "layout": "IPY_MODEL_035f7beddb904e1382ad577b2c816964",
      "placeholder": "​",
      "style": "IPY_MODEL_04879f218e664194a710976a7f4f572b",
      "value": "Downloading: 100%"
     }
    },
    "d9626069f7d742668e6dc20c0bd2a8a2": {
     "model_module": "@jupyter-widgets/controls",
     "model_name": "FloatProgressModel",
     "model_module_version": "1.5.0",
     "state": {
      "_dom_classes": [],
      "_model_module": "@jupyter-widgets/controls",
      "_model_module_version": "1.5.0",
      "_model_name": "FloatProgressModel",
      "_view_count": null,
      "_view_module": "@jupyter-widgets/controls",
      "_view_module_version": "1.5.0",
      "_view_name": "ProgressView",
      "bar_style": "success",
      "description": "",
      "description_tooltip": null,
      "layout": "IPY_MODEL_6e45ea12820c4fa9b403653ab58439e1",
      "max": 213450,
      "min": 0,
      "orientation": "horizontal",
      "style": "IPY_MODEL_1923ec27a07343f78a307858da8e28b1",
      "value": 213450
     }
    },
    "5b186d50ab6449b2a21c79e30562d6a9": {
     "model_module": "@jupyter-widgets/controls",
     "model_name": "HTMLModel",
     "model_module_version": "1.5.0",
     "state": {
      "_dom_classes": [],
      "_model_module": "@jupyter-widgets/controls",
      "_model_module_version": "1.5.0",
      "_model_name": "HTMLModel",
      "_view_count": null,
      "_view_module": "@jupyter-widgets/controls",
      "_view_module_version": "1.5.0",
      "_view_name": "HTMLView",
      "description": "",
      "description_tooltip": null,
      "layout": "IPY_MODEL_d3334bec3d0e476f8a2f0a4676c6b0da",
      "placeholder": "​",
      "style": "IPY_MODEL_b997d2beceb44264900be801313e45ca",
      "value": " 213k/213k [00:00&lt;00:00, 881kB/s]"
     }
    },
    "af8a0f6a62974b9087f34c58ee132f27": {
     "model_module": "@jupyter-widgets/base",
     "model_name": "LayoutModel",
     "model_module_version": "1.2.0",
     "state": {
      "_model_module": "@jupyter-widgets/base",
      "_model_module_version": "1.2.0",
      "_model_name": "LayoutModel",
      "_view_count": null,
      "_view_module": "@jupyter-widgets/base",
      "_view_module_version": "1.2.0",
      "_view_name": "LayoutView",
      "align_content": null,
      "align_items": null,
      "align_self": null,
      "border": null,
      "bottom": null,
      "display": null,
      "flex": null,
      "flex_flow": null,
      "grid_area": null,
      "grid_auto_columns": null,
      "grid_auto_flow": null,
      "grid_auto_rows": null,
      "grid_column": null,
      "grid_gap": null,
      "grid_row": null,
      "grid_template_areas": null,
      "grid_template_columns": null,
      "grid_template_rows": null,
      "height": null,
      "justify_content": null,
      "justify_items": null,
      "left": null,
      "margin": null,
      "max_height": null,
      "max_width": null,
      "min_height": null,
      "min_width": null,
      "object_fit": null,
      "object_position": null,
      "order": null,
      "overflow": null,
      "overflow_x": null,
      "overflow_y": null,
      "padding": null,
      "right": null,
      "top": null,
      "visibility": null,
      "width": null
     }
    },
    "035f7beddb904e1382ad577b2c816964": {
     "model_module": "@jupyter-widgets/base",
     "model_name": "LayoutModel",
     "model_module_version": "1.2.0",
     "state": {
      "_model_module": "@jupyter-widgets/base",
      "_model_module_version": "1.2.0",
      "_model_name": "LayoutModel",
      "_view_count": null,
      "_view_module": "@jupyter-widgets/base",
      "_view_module_version": "1.2.0",
      "_view_name": "LayoutView",
      "align_content": null,
      "align_items": null,
      "align_self": null,
      "border": null,
      "bottom": null,
      "display": null,
      "flex": null,
      "flex_flow": null,
      "grid_area": null,
      "grid_auto_columns": null,
      "grid_auto_flow": null,
      "grid_auto_rows": null,
      "grid_column": null,
      "grid_gap": null,
      "grid_row": null,
      "grid_template_areas": null,
      "grid_template_columns": null,
      "grid_template_rows": null,
      "height": null,
      "justify_content": null,
      "justify_items": null,
      "left": null,
      "margin": null,
      "max_height": null,
      "max_width": null,
      "min_height": null,
      "min_width": null,
      "object_fit": null,
      "object_position": null,
      "order": null,
      "overflow": null,
      "overflow_x": null,
      "overflow_y": null,
      "padding": null,
      "right": null,
      "top": null,
      "visibility": null,
      "width": null
     }
    },
    "04879f218e664194a710976a7f4f572b": {
     "model_module": "@jupyter-widgets/controls",
     "model_name": "DescriptionStyleModel",
     "model_module_version": "1.5.0",
     "state": {
      "_model_module": "@jupyter-widgets/controls",
      "_model_module_version": "1.5.0",
      "_model_name": "DescriptionStyleModel",
      "_view_count": null,
      "_view_module": "@jupyter-widgets/base",
      "_view_module_version": "1.2.0",
      "_view_name": "StyleView",
      "description_width": ""
     }
    },
    "6e45ea12820c4fa9b403653ab58439e1": {
     "model_module": "@jupyter-widgets/base",
     "model_name": "LayoutModel",
     "model_module_version": "1.2.0",
     "state": {
      "_model_module": "@jupyter-widgets/base",
      "_model_module_version": "1.2.0",
      "_model_name": "LayoutModel",
      "_view_count": null,
      "_view_module": "@jupyter-widgets/base",
      "_view_module_version": "1.2.0",
      "_view_name": "LayoutView",
      "align_content": null,
      "align_items": null,
      "align_self": null,
      "border": null,
      "bottom": null,
      "display": null,
      "flex": null,
      "flex_flow": null,
      "grid_area": null,
      "grid_auto_columns": null,
      "grid_auto_flow": null,
      "grid_auto_rows": null,
      "grid_column": null,
      "grid_gap": null,
      "grid_row": null,
      "grid_template_areas": null,
      "grid_template_columns": null,
      "grid_template_rows": null,
      "height": null,
      "justify_content": null,
      "justify_items": null,
      "left": null,
      "margin": null,
      "max_height": null,
      "max_width": null,
      "min_height": null,
      "min_width": null,
      "object_fit": null,
      "object_position": null,
      "order": null,
      "overflow": null,
      "overflow_x": null,
      "overflow_y": null,
      "padding": null,
      "right": null,
      "top": null,
      "visibility": null,
      "width": null
     }
    },
    "1923ec27a07343f78a307858da8e28b1": {
     "model_module": "@jupyter-widgets/controls",
     "model_name": "ProgressStyleModel",
     "model_module_version": "1.5.0",
     "state": {
      "_model_module": "@jupyter-widgets/controls",
      "_model_module_version": "1.5.0",
      "_model_name": "ProgressStyleModel",
      "_view_count": null,
      "_view_module": "@jupyter-widgets/base",
      "_view_module_version": "1.2.0",
      "_view_name": "StyleView",
      "bar_color": null,
      "description_width": ""
     }
    },
    "d3334bec3d0e476f8a2f0a4676c6b0da": {
     "model_module": "@jupyter-widgets/base",
     "model_name": "LayoutModel",
     "model_module_version": "1.2.0",
     "state": {
      "_model_module": "@jupyter-widgets/base",
      "_model_module_version": "1.2.0",
      "_model_name": "LayoutModel",
      "_view_count": null,
      "_view_module": "@jupyter-widgets/base",
      "_view_module_version": "1.2.0",
      "_view_name": "LayoutView",
      "align_content": null,
      "align_items": null,
      "align_self": null,
      "border": null,
      "bottom": null,
      "display": null,
      "flex": null,
      "flex_flow": null,
      "grid_area": null,
      "grid_auto_columns": null,
      "grid_auto_flow": null,
      "grid_auto_rows": null,
      "grid_column": null,
      "grid_gap": null,
      "grid_row": null,
      "grid_template_areas": null,
      "grid_template_columns": null,
      "grid_template_rows": null,
      "height": null,
      "justify_content": null,
      "justify_items": null,
      "left": null,
      "margin": null,
      "max_height": null,
      "max_width": null,
      "min_height": null,
      "min_width": null,
      "object_fit": null,
      "object_position": null,
      "order": null,
      "overflow": null,
      "overflow_x": null,
      "overflow_y": null,
      "padding": null,
      "right": null,
      "top": null,
      "visibility": null,
      "width": null
     }
    },
    "b997d2beceb44264900be801313e45ca": {
     "model_module": "@jupyter-widgets/controls",
     "model_name": "DescriptionStyleModel",
     "model_module_version": "1.5.0",
     "state": {
      "_model_module": "@jupyter-widgets/controls",
      "_model_module_version": "1.5.0",
      "_model_name": "DescriptionStyleModel",
      "_view_count": null,
      "_view_module": "@jupyter-widgets/base",
      "_view_module_version": "1.2.0",
      "_view_name": "StyleView",
      "description_width": ""
     }
    },
    "a88b7ff85e564bc5ad2a21085c82055e": {
     "model_module": "@jupyter-widgets/controls",
     "model_name": "HBoxModel",
     "model_module_version": "1.5.0",
     "state": {
      "_dom_classes": [],
      "_model_module": "@jupyter-widgets/controls",
      "_model_module_version": "1.5.0",
      "_model_name": "HBoxModel",
      "_view_count": null,
      "_view_module": "@jupyter-widgets/controls",
      "_view_module_version": "1.5.0",
      "_view_name": "HBoxView",
      "box_style": "",
      "children": [
       "IPY_MODEL_81e2edd7be4f40ffa965701884d600c1",
       "IPY_MODEL_1b36b783d53845e78b9c81399eed8e9e",
       "IPY_MODEL_d5a22c6c6ce940158266e052e3cdb902"
      ],
      "layout": "IPY_MODEL_6d7cd7757d9f4741954b763653359cb5"
     }
    },
    "81e2edd7be4f40ffa965701884d600c1": {
     "model_module": "@jupyter-widgets/controls",
     "model_name": "HTMLModel",
     "model_module_version": "1.5.0",
     "state": {
      "_dom_classes": [],
      "_model_module": "@jupyter-widgets/controls",
      "_model_module_version": "1.5.0",
      "_model_name": "HTMLModel",
      "_view_count": null,
      "_view_module": "@jupyter-widgets/controls",
      "_view_module_version": "1.5.0",
      "_view_name": "HTMLView",
      "description": "",
      "description_tooltip": null,
      "layout": "IPY_MODEL_eec2f4ad345f4867bc57e45371c59aea",
      "placeholder": "​",
      "style": "IPY_MODEL_7db3b762ef574b5fb853c85023efdb82",
      "value": "Downloading: 100%"
     }
    },
    "1b36b783d53845e78b9c81399eed8e9e": {
     "model_module": "@jupyter-widgets/controls",
     "model_name": "FloatProgressModel",
     "model_module_version": "1.5.0",
     "state": {
      "_dom_classes": [],
      "_model_module": "@jupyter-widgets/controls",
      "_model_module_version": "1.5.0",
      "_model_name": "FloatProgressModel",
      "_view_count": null,
      "_view_module": "@jupyter-widgets/controls",
      "_view_module_version": "1.5.0",
      "_view_name": "ProgressView",
      "bar_style": "success",
      "description": "",
      "description_tooltip": null,
      "layout": "IPY_MODEL_54a2af55db53463eabe90089d6086f60",
      "max": 29,
      "min": 0,
      "orientation": "horizontal",
      "style": "IPY_MODEL_298b9998d9c449ec86d184bec1056496",
      "value": 29
     }
    },
    "d5a22c6c6ce940158266e052e3cdb902": {
     "model_module": "@jupyter-widgets/controls",
     "model_name": "HTMLModel",
     "model_module_version": "1.5.0",
     "state": {
      "_dom_classes": [],
      "_model_module": "@jupyter-widgets/controls",
      "_model_module_version": "1.5.0",
      "_model_name": "HTMLModel",
      "_view_count": null,
      "_view_module": "@jupyter-widgets/controls",
      "_view_module_version": "1.5.0",
      "_view_name": "HTMLView",
      "description": "",
      "description_tooltip": null,
      "layout": "IPY_MODEL_c7687f60eec7477aa98a18fc645a1554",
      "placeholder": "​",
      "style": "IPY_MODEL_03405b2ed03041d3a55f17b2548ac894",
      "value": " 29.0/29.0 [00:00&lt;00:00, 834B/s]"
     }
    },
    "6d7cd7757d9f4741954b763653359cb5": {
     "model_module": "@jupyter-widgets/base",
     "model_name": "LayoutModel",
     "model_module_version": "1.2.0",
     "state": {
      "_model_module": "@jupyter-widgets/base",
      "_model_module_version": "1.2.0",
      "_model_name": "LayoutModel",
      "_view_count": null,
      "_view_module": "@jupyter-widgets/base",
      "_view_module_version": "1.2.0",
      "_view_name": "LayoutView",
      "align_content": null,
      "align_items": null,
      "align_self": null,
      "border": null,
      "bottom": null,
      "display": null,
      "flex": null,
      "flex_flow": null,
      "grid_area": null,
      "grid_auto_columns": null,
      "grid_auto_flow": null,
      "grid_auto_rows": null,
      "grid_column": null,
      "grid_gap": null,
      "grid_row": null,
      "grid_template_areas": null,
      "grid_template_columns": null,
      "grid_template_rows": null,
      "height": null,
      "justify_content": null,
      "justify_items": null,
      "left": null,
      "margin": null,
      "max_height": null,
      "max_width": null,
      "min_height": null,
      "min_width": null,
      "object_fit": null,
      "object_position": null,
      "order": null,
      "overflow": null,
      "overflow_x": null,
      "overflow_y": null,
      "padding": null,
      "right": null,
      "top": null,
      "visibility": null,
      "width": null
     }
    },
    "eec2f4ad345f4867bc57e45371c59aea": {
     "model_module": "@jupyter-widgets/base",
     "model_name": "LayoutModel",
     "model_module_version": "1.2.0",
     "state": {
      "_model_module": "@jupyter-widgets/base",
      "_model_module_version": "1.2.0",
      "_model_name": "LayoutModel",
      "_view_count": null,
      "_view_module": "@jupyter-widgets/base",
      "_view_module_version": "1.2.0",
      "_view_name": "LayoutView",
      "align_content": null,
      "align_items": null,
      "align_self": null,
      "border": null,
      "bottom": null,
      "display": null,
      "flex": null,
      "flex_flow": null,
      "grid_area": null,
      "grid_auto_columns": null,
      "grid_auto_flow": null,
      "grid_auto_rows": null,
      "grid_column": null,
      "grid_gap": null,
      "grid_row": null,
      "grid_template_areas": null,
      "grid_template_columns": null,
      "grid_template_rows": null,
      "height": null,
      "justify_content": null,
      "justify_items": null,
      "left": null,
      "margin": null,
      "max_height": null,
      "max_width": null,
      "min_height": null,
      "min_width": null,
      "object_fit": null,
      "object_position": null,
      "order": null,
      "overflow": null,
      "overflow_x": null,
      "overflow_y": null,
      "padding": null,
      "right": null,
      "top": null,
      "visibility": null,
      "width": null
     }
    },
    "7db3b762ef574b5fb853c85023efdb82": {
     "model_module": "@jupyter-widgets/controls",
     "model_name": "DescriptionStyleModel",
     "model_module_version": "1.5.0",
     "state": {
      "_model_module": "@jupyter-widgets/controls",
      "_model_module_version": "1.5.0",
      "_model_name": "DescriptionStyleModel",
      "_view_count": null,
      "_view_module": "@jupyter-widgets/base",
      "_view_module_version": "1.2.0",
      "_view_name": "StyleView",
      "description_width": ""
     }
    },
    "54a2af55db53463eabe90089d6086f60": {
     "model_module": "@jupyter-widgets/base",
     "model_name": "LayoutModel",
     "model_module_version": "1.2.0",
     "state": {
      "_model_module": "@jupyter-widgets/base",
      "_model_module_version": "1.2.0",
      "_model_name": "LayoutModel",
      "_view_count": null,
      "_view_module": "@jupyter-widgets/base",
      "_view_module_version": "1.2.0",
      "_view_name": "LayoutView",
      "align_content": null,
      "align_items": null,
      "align_self": null,
      "border": null,
      "bottom": null,
      "display": null,
      "flex": null,
      "flex_flow": null,
      "grid_area": null,
      "grid_auto_columns": null,
      "grid_auto_flow": null,
      "grid_auto_rows": null,
      "grid_column": null,
      "grid_gap": null,
      "grid_row": null,
      "grid_template_areas": null,
      "grid_template_columns": null,
      "grid_template_rows": null,
      "height": null,
      "justify_content": null,
      "justify_items": null,
      "left": null,
      "margin": null,
      "max_height": null,
      "max_width": null,
      "min_height": null,
      "min_width": null,
      "object_fit": null,
      "object_position": null,
      "order": null,
      "overflow": null,
      "overflow_x": null,
      "overflow_y": null,
      "padding": null,
      "right": null,
      "top": null,
      "visibility": null,
      "width": null
     }
    },
    "298b9998d9c449ec86d184bec1056496": {
     "model_module": "@jupyter-widgets/controls",
     "model_name": "ProgressStyleModel",
     "model_module_version": "1.5.0",
     "state": {
      "_model_module": "@jupyter-widgets/controls",
      "_model_module_version": "1.5.0",
      "_model_name": "ProgressStyleModel",
      "_view_count": null,
      "_view_module": "@jupyter-widgets/base",
      "_view_module_version": "1.2.0",
      "_view_name": "StyleView",
      "bar_color": null,
      "description_width": ""
     }
    },
    "c7687f60eec7477aa98a18fc645a1554": {
     "model_module": "@jupyter-widgets/base",
     "model_name": "LayoutModel",
     "model_module_version": "1.2.0",
     "state": {
      "_model_module": "@jupyter-widgets/base",
      "_model_module_version": "1.2.0",
      "_model_name": "LayoutModel",
      "_view_count": null,
      "_view_module": "@jupyter-widgets/base",
      "_view_module_version": "1.2.0",
      "_view_name": "LayoutView",
      "align_content": null,
      "align_items": null,
      "align_self": null,
      "border": null,
      "bottom": null,
      "display": null,
      "flex": null,
      "flex_flow": null,
      "grid_area": null,
      "grid_auto_columns": null,
      "grid_auto_flow": null,
      "grid_auto_rows": null,
      "grid_column": null,
      "grid_gap": null,
      "grid_row": null,
      "grid_template_areas": null,
      "grid_template_columns": null,
      "grid_template_rows": null,
      "height": null,
      "justify_content": null,
      "justify_items": null,
      "left": null,
      "margin": null,
      "max_height": null,
      "max_width": null,
      "min_height": null,
      "min_width": null,
      "object_fit": null,
      "object_position": null,
      "order": null,
      "overflow": null,
      "overflow_x": null,
      "overflow_y": null,
      "padding": null,
      "right": null,
      "top": null,
      "visibility": null,
      "width": null
     }
    },
    "03405b2ed03041d3a55f17b2548ac894": {
     "model_module": "@jupyter-widgets/controls",
     "model_name": "DescriptionStyleModel",
     "model_module_version": "1.5.0",
     "state": {
      "_model_module": "@jupyter-widgets/controls",
      "_model_module_version": "1.5.0",
      "_model_name": "DescriptionStyleModel",
      "_view_count": null,
      "_view_module": "@jupyter-widgets/base",
      "_view_module_version": "1.2.0",
      "_view_name": "StyleView",
      "description_width": ""
     }
    },
    "c976668dd9244c6bb2300a251031272b": {
     "model_module": "@jupyter-widgets/controls",
     "model_name": "HBoxModel",
     "model_module_version": "1.5.0",
     "state": {
      "_dom_classes": [],
      "_model_module": "@jupyter-widgets/controls",
      "_model_module_version": "1.5.0",
      "_model_name": "HBoxModel",
      "_view_count": null,
      "_view_module": "@jupyter-widgets/controls",
      "_view_module_version": "1.5.0",
      "_view_name": "HBoxView",
      "box_style": "",
      "children": [
       "IPY_MODEL_086db767e2ec46c5bfd8896485b14f45",
       "IPY_MODEL_8ef5f816909442b28e27aa3020f35904",
       "IPY_MODEL_e59d6137e6f44bad8bc17a7d1b188917"
      ],
      "layout": "IPY_MODEL_f8373d9e7bd14c7fb439db9116860414"
     }
    },
    "086db767e2ec46c5bfd8896485b14f45": {
     "model_module": "@jupyter-widgets/controls",
     "model_name": "HTMLModel",
     "model_module_version": "1.5.0",
     "state": {
      "_dom_classes": [],
      "_model_module": "@jupyter-widgets/controls",
      "_model_module_version": "1.5.0",
      "_model_name": "HTMLModel",
      "_view_count": null,
      "_view_module": "@jupyter-widgets/controls",
      "_view_module_version": "1.5.0",
      "_view_name": "HTMLView",
      "description": "",
      "description_tooltip": null,
      "layout": "IPY_MODEL_d55063f0294046b892aeef8eb431531b",
      "placeholder": "​",
      "style": "IPY_MODEL_7148e545bc67439aa03d852a0b0291c9",
      "value": "Downloading: 100%"
     }
    },
    "8ef5f816909442b28e27aa3020f35904": {
     "model_module": "@jupyter-widgets/controls",
     "model_name": "FloatProgressModel",
     "model_module_version": "1.5.0",
     "state": {
      "_dom_classes": [],
      "_model_module": "@jupyter-widgets/controls",
      "_model_module_version": "1.5.0",
      "_model_name": "FloatProgressModel",
      "_view_count": null,
      "_view_module": "@jupyter-widgets/controls",
      "_view_module_version": "1.5.0",
      "_view_name": "ProgressView",
      "bar_style": "success",
      "description": "",
      "description_tooltip": null,
      "layout": "IPY_MODEL_38ae021b76174d7592978cd3e596cd5a",
      "max": 570,
      "min": 0,
      "orientation": "horizontal",
      "style": "IPY_MODEL_5a97c69cb1194d1d83a3399fcf5c49e7",
      "value": 570
     }
    },
    "e59d6137e6f44bad8bc17a7d1b188917": {
     "model_module": "@jupyter-widgets/controls",
     "model_name": "HTMLModel",
     "model_module_version": "1.5.0",
     "state": {
      "_dom_classes": [],
      "_model_module": "@jupyter-widgets/controls",
      "_model_module_version": "1.5.0",
      "_model_name": "HTMLModel",
      "_view_count": null,
      "_view_module": "@jupyter-widgets/controls",
      "_view_module_version": "1.5.0",
      "_view_name": "HTMLView",
      "description": "",
      "description_tooltip": null,
      "layout": "IPY_MODEL_6b77e4fecaee4121a462914ff5b0e467",
      "placeholder": "​",
      "style": "IPY_MODEL_b06729369e1447d1a3e5e161f6c5883f",
      "value": " 570/570 [00:00&lt;00:00, 16.5kB/s]"
     }
    },
    "f8373d9e7bd14c7fb439db9116860414": {
     "model_module": "@jupyter-widgets/base",
     "model_name": "LayoutModel",
     "model_module_version": "1.2.0",
     "state": {
      "_model_module": "@jupyter-widgets/base",
      "_model_module_version": "1.2.0",
      "_model_name": "LayoutModel",
      "_view_count": null,
      "_view_module": "@jupyter-widgets/base",
      "_view_module_version": "1.2.0",
      "_view_name": "LayoutView",
      "align_content": null,
      "align_items": null,
      "align_self": null,
      "border": null,
      "bottom": null,
      "display": null,
      "flex": null,
      "flex_flow": null,
      "grid_area": null,
      "grid_auto_columns": null,
      "grid_auto_flow": null,
      "grid_auto_rows": null,
      "grid_column": null,
      "grid_gap": null,
      "grid_row": null,
      "grid_template_areas": null,
      "grid_template_columns": null,
      "grid_template_rows": null,
      "height": null,
      "justify_content": null,
      "justify_items": null,
      "left": null,
      "margin": null,
      "max_height": null,
      "max_width": null,
      "min_height": null,
      "min_width": null,
      "object_fit": null,
      "object_position": null,
      "order": null,
      "overflow": null,
      "overflow_x": null,
      "overflow_y": null,
      "padding": null,
      "right": null,
      "top": null,
      "visibility": null,
      "width": null
     }
    },
    "d55063f0294046b892aeef8eb431531b": {
     "model_module": "@jupyter-widgets/base",
     "model_name": "LayoutModel",
     "model_module_version": "1.2.0",
     "state": {
      "_model_module": "@jupyter-widgets/base",
      "_model_module_version": "1.2.0",
      "_model_name": "LayoutModel",
      "_view_count": null,
      "_view_module": "@jupyter-widgets/base",
      "_view_module_version": "1.2.0",
      "_view_name": "LayoutView",
      "align_content": null,
      "align_items": null,
      "align_self": null,
      "border": null,
      "bottom": null,
      "display": null,
      "flex": null,
      "flex_flow": null,
      "grid_area": null,
      "grid_auto_columns": null,
      "grid_auto_flow": null,
      "grid_auto_rows": null,
      "grid_column": null,
      "grid_gap": null,
      "grid_row": null,
      "grid_template_areas": null,
      "grid_template_columns": null,
      "grid_template_rows": null,
      "height": null,
      "justify_content": null,
      "justify_items": null,
      "left": null,
      "margin": null,
      "max_height": null,
      "max_width": null,
      "min_height": null,
      "min_width": null,
      "object_fit": null,
      "object_position": null,
      "order": null,
      "overflow": null,
      "overflow_x": null,
      "overflow_y": null,
      "padding": null,
      "right": null,
      "top": null,
      "visibility": null,
      "width": null
     }
    },
    "7148e545bc67439aa03d852a0b0291c9": {
     "model_module": "@jupyter-widgets/controls",
     "model_name": "DescriptionStyleModel",
     "model_module_version": "1.5.0",
     "state": {
      "_model_module": "@jupyter-widgets/controls",
      "_model_module_version": "1.5.0",
      "_model_name": "DescriptionStyleModel",
      "_view_count": null,
      "_view_module": "@jupyter-widgets/base",
      "_view_module_version": "1.2.0",
      "_view_name": "StyleView",
      "description_width": ""
     }
    },
    "38ae021b76174d7592978cd3e596cd5a": {
     "model_module": "@jupyter-widgets/base",
     "model_name": "LayoutModel",
     "model_module_version": "1.2.0",
     "state": {
      "_model_module": "@jupyter-widgets/base",
      "_model_module_version": "1.2.0",
      "_model_name": "LayoutModel",
      "_view_count": null,
      "_view_module": "@jupyter-widgets/base",
      "_view_module_version": "1.2.0",
      "_view_name": "LayoutView",
      "align_content": null,
      "align_items": null,
      "align_self": null,
      "border": null,
      "bottom": null,
      "display": null,
      "flex": null,
      "flex_flow": null,
      "grid_area": null,
      "grid_auto_columns": null,
      "grid_auto_flow": null,
      "grid_auto_rows": null,
      "grid_column": null,
      "grid_gap": null,
      "grid_row": null,
      "grid_template_areas": null,
      "grid_template_columns": null,
      "grid_template_rows": null,
      "height": null,
      "justify_content": null,
      "justify_items": null,
      "left": null,
      "margin": null,
      "max_height": null,
      "max_width": null,
      "min_height": null,
      "min_width": null,
      "object_fit": null,
      "object_position": null,
      "order": null,
      "overflow": null,
      "overflow_x": null,
      "overflow_y": null,
      "padding": null,
      "right": null,
      "top": null,
      "visibility": null,
      "width": null
     }
    },
    "5a97c69cb1194d1d83a3399fcf5c49e7": {
     "model_module": "@jupyter-widgets/controls",
     "model_name": "ProgressStyleModel",
     "model_module_version": "1.5.0",
     "state": {
      "_model_module": "@jupyter-widgets/controls",
      "_model_module_version": "1.5.0",
      "_model_name": "ProgressStyleModel",
      "_view_count": null,
      "_view_module": "@jupyter-widgets/base",
      "_view_module_version": "1.2.0",
      "_view_name": "StyleView",
      "bar_color": null,
      "description_width": ""
     }
    },
    "6b77e4fecaee4121a462914ff5b0e467": {
     "model_module": "@jupyter-widgets/base",
     "model_name": "LayoutModel",
     "model_module_version": "1.2.0",
     "state": {
      "_model_module": "@jupyter-widgets/base",
      "_model_module_version": "1.2.0",
      "_model_name": "LayoutModel",
      "_view_count": null,
      "_view_module": "@jupyter-widgets/base",
      "_view_module_version": "1.2.0",
      "_view_name": "LayoutView",
      "align_content": null,
      "align_items": null,
      "align_self": null,
      "border": null,
      "bottom": null,
      "display": null,
      "flex": null,
      "flex_flow": null,
      "grid_area": null,
      "grid_auto_columns": null,
      "grid_auto_flow": null,
      "grid_auto_rows": null,
      "grid_column": null,
      "grid_gap": null,
      "grid_row": null,
      "grid_template_areas": null,
      "grid_template_columns": null,
      "grid_template_rows": null,
      "height": null,
      "justify_content": null,
      "justify_items": null,
      "left": null,
      "margin": null,
      "max_height": null,
      "max_width": null,
      "min_height": null,
      "min_width": null,
      "object_fit": null,
      "object_position": null,
      "order": null,
      "overflow": null,
      "overflow_x": null,
      "overflow_y": null,
      "padding": null,
      "right": null,
      "top": null,
      "visibility": null,
      "width": null
     }
    },
    "b06729369e1447d1a3e5e161f6c5883f": {
     "model_module": "@jupyter-widgets/controls",
     "model_name": "DescriptionStyleModel",
     "model_module_version": "1.5.0",
     "state": {
      "_model_module": "@jupyter-widgets/controls",
      "_model_module_version": "1.5.0",
      "_model_name": "DescriptionStyleModel",
      "_view_count": null,
      "_view_module": "@jupyter-widgets/base",
      "_view_module_version": "1.2.0",
      "_view_name": "StyleView",
      "description_width": ""
     }
    },
    "da747fc8cf5e4d5a9a7799bdf6292125": {
     "model_module": "@jupyter-widgets/controls",
     "model_name": "HBoxModel",
     "model_module_version": "1.5.0",
     "state": {
      "_dom_classes": [],
      "_model_module": "@jupyter-widgets/controls",
      "_model_module_version": "1.5.0",
      "_model_name": "HBoxModel",
      "_view_count": null,
      "_view_module": "@jupyter-widgets/controls",
      "_view_module_version": "1.5.0",
      "_view_name": "HBoxView",
      "box_style": "",
      "children": [
       "IPY_MODEL_a5a5963a427649d39e146fcad63dd134",
       "IPY_MODEL_c3d3766284db4e4f9c3a5274cd35cf40",
       "IPY_MODEL_981505ff49ec468b8d6bd9f4e50e7371"
      ],
      "layout": "IPY_MODEL_cd246a31d08049eeaa22fabaed17317c"
     }
    },
    "a5a5963a427649d39e146fcad63dd134": {
     "model_module": "@jupyter-widgets/controls",
     "model_name": "HTMLModel",
     "model_module_version": "1.5.0",
     "state": {
      "_dom_classes": [],
      "_model_module": "@jupyter-widgets/controls",
      "_model_module_version": "1.5.0",
      "_model_name": "HTMLModel",
      "_view_count": null,
      "_view_module": "@jupyter-widgets/controls",
      "_view_module_version": "1.5.0",
      "_view_name": "HTMLView",
      "description": "",
      "description_tooltip": null,
      "layout": "IPY_MODEL_c611f446f8ac45da883f164c6b17e9b7",
      "placeholder": "​",
      "style": "IPY_MODEL_b12540bdaa8244bfbb8b54aee64b3ed3",
      "value": "Downloading: 100%"
     }
    },
    "c3d3766284db4e4f9c3a5274cd35cf40": {
     "model_module": "@jupyter-widgets/controls",
     "model_name": "FloatProgressModel",
     "model_module_version": "1.5.0",
     "state": {
      "_dom_classes": [],
      "_model_module": "@jupyter-widgets/controls",
      "_model_module_version": "1.5.0",
      "_model_name": "FloatProgressModel",
      "_view_count": null,
      "_view_module": "@jupyter-widgets/controls",
      "_view_module_version": "1.5.0",
      "_view_name": "ProgressView",
      "bar_style": "success",
      "description": "",
      "description_tooltip": null,
      "layout": "IPY_MODEL_d4382d72e8254854bb187a303fbe216c",
      "max": 526681800,
      "min": 0,
      "orientation": "horizontal",
      "style": "IPY_MODEL_4aa32fba7de84a7dbd82fd8d352e0116",
      "value": 526681800
     }
    },
    "981505ff49ec468b8d6bd9f4e50e7371": {
     "model_module": "@jupyter-widgets/controls",
     "model_name": "HTMLModel",
     "model_module_version": "1.5.0",
     "state": {
      "_dom_classes": [],
      "_model_module": "@jupyter-widgets/controls",
      "_model_module_version": "1.5.0",
      "_model_name": "HTMLModel",
      "_view_count": null,
      "_view_module": "@jupyter-widgets/controls",
      "_view_module_version": "1.5.0",
      "_view_name": "HTMLView",
      "description": "",
      "description_tooltip": null,
      "layout": "IPY_MODEL_f231acbc93834644a6a6a1c00f797cdc",
      "placeholder": "​",
      "style": "IPY_MODEL_1bd2afd981da48ec99a1e0d3ef9bec5f",
      "value": " 527M/527M [00:09&lt;00:00, 60.7MB/s]"
     }
    },
    "cd246a31d08049eeaa22fabaed17317c": {
     "model_module": "@jupyter-widgets/base",
     "model_name": "LayoutModel",
     "model_module_version": "1.2.0",
     "state": {
      "_model_module": "@jupyter-widgets/base",
      "_model_module_version": "1.2.0",
      "_model_name": "LayoutModel",
      "_view_count": null,
      "_view_module": "@jupyter-widgets/base",
      "_view_module_version": "1.2.0",
      "_view_name": "LayoutView",
      "align_content": null,
      "align_items": null,
      "align_self": null,
      "border": null,
      "bottom": null,
      "display": null,
      "flex": null,
      "flex_flow": null,
      "grid_area": null,
      "grid_auto_columns": null,
      "grid_auto_flow": null,
      "grid_auto_rows": null,
      "grid_column": null,
      "grid_gap": null,
      "grid_row": null,
      "grid_template_areas": null,
      "grid_template_columns": null,
      "grid_template_rows": null,
      "height": null,
      "justify_content": null,
      "justify_items": null,
      "left": null,
      "margin": null,
      "max_height": null,
      "max_width": null,
      "min_height": null,
      "min_width": null,
      "object_fit": null,
      "object_position": null,
      "order": null,
      "overflow": null,
      "overflow_x": null,
      "overflow_y": null,
      "padding": null,
      "right": null,
      "top": null,
      "visibility": null,
      "width": null
     }
    },
    "c611f446f8ac45da883f164c6b17e9b7": {
     "model_module": "@jupyter-widgets/base",
     "model_name": "LayoutModel",
     "model_module_version": "1.2.0",
     "state": {
      "_model_module": "@jupyter-widgets/base",
      "_model_module_version": "1.2.0",
      "_model_name": "LayoutModel",
      "_view_count": null,
      "_view_module": "@jupyter-widgets/base",
      "_view_module_version": "1.2.0",
      "_view_name": "LayoutView",
      "align_content": null,
      "align_items": null,
      "align_self": null,
      "border": null,
      "bottom": null,
      "display": null,
      "flex": null,
      "flex_flow": null,
      "grid_area": null,
      "grid_auto_columns": null,
      "grid_auto_flow": null,
      "grid_auto_rows": null,
      "grid_column": null,
      "grid_gap": null,
      "grid_row": null,
      "grid_template_areas": null,
      "grid_template_columns": null,
      "grid_template_rows": null,
      "height": null,
      "justify_content": null,
      "justify_items": null,
      "left": null,
      "margin": null,
      "max_height": null,
      "max_width": null,
      "min_height": null,
      "min_width": null,
      "object_fit": null,
      "object_position": null,
      "order": null,
      "overflow": null,
      "overflow_x": null,
      "overflow_y": null,
      "padding": null,
      "right": null,
      "top": null,
      "visibility": null,
      "width": null
     }
    },
    "b12540bdaa8244bfbb8b54aee64b3ed3": {
     "model_module": "@jupyter-widgets/controls",
     "model_name": "DescriptionStyleModel",
     "model_module_version": "1.5.0",
     "state": {
      "_model_module": "@jupyter-widgets/controls",
      "_model_module_version": "1.5.0",
      "_model_name": "DescriptionStyleModel",
      "_view_count": null,
      "_view_module": "@jupyter-widgets/base",
      "_view_module_version": "1.2.0",
      "_view_name": "StyleView",
      "description_width": ""
     }
    },
    "d4382d72e8254854bb187a303fbe216c": {
     "model_module": "@jupyter-widgets/base",
     "model_name": "LayoutModel",
     "model_module_version": "1.2.0",
     "state": {
      "_model_module": "@jupyter-widgets/base",
      "_model_module_version": "1.2.0",
      "_model_name": "LayoutModel",
      "_view_count": null,
      "_view_module": "@jupyter-widgets/base",
      "_view_module_version": "1.2.0",
      "_view_name": "LayoutView",
      "align_content": null,
      "align_items": null,
      "align_self": null,
      "border": null,
      "bottom": null,
      "display": null,
      "flex": null,
      "flex_flow": null,
      "grid_area": null,
      "grid_auto_columns": null,
      "grid_auto_flow": null,
      "grid_auto_rows": null,
      "grid_column": null,
      "grid_gap": null,
      "grid_row": null,
      "grid_template_areas": null,
      "grid_template_columns": null,
      "grid_template_rows": null,
      "height": null,
      "justify_content": null,
      "justify_items": null,
      "left": null,
      "margin": null,
      "max_height": null,
      "max_width": null,
      "min_height": null,
      "min_width": null,
      "object_fit": null,
      "object_position": null,
      "order": null,
      "overflow": null,
      "overflow_x": null,
      "overflow_y": null,
      "padding": null,
      "right": null,
      "top": null,
      "visibility": null,
      "width": null
     }
    },
    "4aa32fba7de84a7dbd82fd8d352e0116": {
     "model_module": "@jupyter-widgets/controls",
     "model_name": "ProgressStyleModel",
     "model_module_version": "1.5.0",
     "state": {
      "_model_module": "@jupyter-widgets/controls",
      "_model_module_version": "1.5.0",
      "_model_name": "ProgressStyleModel",
      "_view_count": null,
      "_view_module": "@jupyter-widgets/base",
      "_view_module_version": "1.2.0",
      "_view_name": "StyleView",
      "bar_color": null,
      "description_width": ""
     }
    },
    "f231acbc93834644a6a6a1c00f797cdc": {
     "model_module": "@jupyter-widgets/base",
     "model_name": "LayoutModel",
     "model_module_version": "1.2.0",
     "state": {
      "_model_module": "@jupyter-widgets/base",
      "_model_module_version": "1.2.0",
      "_model_name": "LayoutModel",
      "_view_count": null,
      "_view_module": "@jupyter-widgets/base",
      "_view_module_version": "1.2.0",
      "_view_name": "LayoutView",
      "align_content": null,
      "align_items": null,
      "align_self": null,
      "border": null,
      "bottom": null,
      "display": null,
      "flex": null,
      "flex_flow": null,
      "grid_area": null,
      "grid_auto_columns": null,
      "grid_auto_flow": null,
      "grid_auto_rows": null,
      "grid_column": null,
      "grid_gap": null,
      "grid_row": null,
      "grid_template_areas": null,
      "grid_template_columns": null,
      "grid_template_rows": null,
      "height": null,
      "justify_content": null,
      "justify_items": null,
      "left": null,
      "margin": null,
      "max_height": null,
      "max_width": null,
      "min_height": null,
      "min_width": null,
      "object_fit": null,
      "object_position": null,
      "order": null,
      "overflow": null,
      "overflow_x": null,
      "overflow_y": null,
      "padding": null,
      "right": null,
      "top": null,
      "visibility": null,
      "width": null
     }
    },
    "1bd2afd981da48ec99a1e0d3ef9bec5f": {
     "model_module": "@jupyter-widgets/controls",
     "model_name": "DescriptionStyleModel",
     "model_module_version": "1.5.0",
     "state": {
      "_model_module": "@jupyter-widgets/controls",
      "_model_module_version": "1.5.0",
      "_model_name": "DescriptionStyleModel",
      "_view_count": null,
      "_view_module": "@jupyter-widgets/base",
      "_view_module_version": "1.2.0",
      "_view_name": "StyleView",
      "description_width": ""
     }
    },
    "b686379347af4265b828d4bda7720dee": {
     "model_module": "@jupyter-widgets/controls",
     "model_name": "HBoxModel",
     "model_module_version": "1.5.0",
     "state": {
      "_dom_classes": [],
      "_model_module": "@jupyter-widgets/controls",
      "_model_module_version": "1.5.0",
      "_model_name": "HBoxModel",
      "_view_count": null,
      "_view_module": "@jupyter-widgets/controls",
      "_view_module_version": "1.5.0",
      "_view_name": "HBoxView",
      "box_style": "",
      "children": [
       "IPY_MODEL_e638528147ff451b8d941ca467d4f35f",
       "IPY_MODEL_0fbd848a440a4fd7b2f662ca5bca0b8c",
       "IPY_MODEL_701d8bc9329d4f2b8cad17497a648edd"
      ],
      "layout": "IPY_MODEL_2e9dae964d1f411bb1a5d86186cb30a8"
     }
    },
    "e638528147ff451b8d941ca467d4f35f": {
     "model_module": "@jupyter-widgets/controls",
     "model_name": "HTMLModel",
     "model_module_version": "1.5.0",
     "state": {
      "_dom_classes": [],
      "_model_module": "@jupyter-widgets/controls",
      "_model_module_version": "1.5.0",
      "_model_name": "HTMLModel",
      "_view_count": null,
      "_view_module": "@jupyter-widgets/controls",
      "_view_module_version": "1.5.0",
      "_view_name": "HTMLView",
      "description": "",
      "description_tooltip": null,
      "layout": "IPY_MODEL_2d440543290449b4b1c88c49e88e2ce6",
      "placeholder": "​",
      "style": "IPY_MODEL_961de94217924fa19ab2caad71c2fc2a",
      "value": "Downloading: 100%"
     }
    },
    "0fbd848a440a4fd7b2f662ca5bca0b8c": {
     "model_module": "@jupyter-widgets/controls",
     "model_name": "FloatProgressModel",
     "model_module_version": "1.5.0",
     "state": {
      "_dom_classes": [],
      "_model_module": "@jupyter-widgets/controls",
      "_model_module_version": "1.5.0",
      "_model_name": "FloatProgressModel",
      "_view_count": null,
      "_view_module": "@jupyter-widgets/controls",
      "_view_module_version": "1.5.0",
      "_view_name": "ProgressView",
      "bar_style": "success",
      "description": "",
      "description_tooltip": null,
      "layout": "IPY_MODEL_3d62e60556e741328e209861d3bc573e",
      "max": 231508,
      "min": 0,
      "orientation": "horizontal",
      "style": "IPY_MODEL_1ff1c33583f740babb83fffb65bc9730",
      "value": 231508
     }
    },
    "701d8bc9329d4f2b8cad17497a648edd": {
     "model_module": "@jupyter-widgets/controls",
     "model_name": "HTMLModel",
     "model_module_version": "1.5.0",
     "state": {
      "_dom_classes": [],
      "_model_module": "@jupyter-widgets/controls",
      "_model_module_version": "1.5.0",
      "_model_name": "HTMLModel",
      "_view_count": null,
      "_view_module": "@jupyter-widgets/controls",
      "_view_module_version": "1.5.0",
      "_view_name": "HTMLView",
      "description": "",
      "description_tooltip": null,
      "layout": "IPY_MODEL_5650c9d439f64733925fb387472c8ee1",
      "placeholder": "​",
      "style": "IPY_MODEL_42a5fc2a1f994d8ab1212e74c57eba33",
      "value": " 232k/232k [00:00&lt;00:00, 258kB/s]"
     }
    },
    "2e9dae964d1f411bb1a5d86186cb30a8": {
     "model_module": "@jupyter-widgets/base",
     "model_name": "LayoutModel",
     "model_module_version": "1.2.0",
     "state": {
      "_model_module": "@jupyter-widgets/base",
      "_model_module_version": "1.2.0",
      "_model_name": "LayoutModel",
      "_view_count": null,
      "_view_module": "@jupyter-widgets/base",
      "_view_module_version": "1.2.0",
      "_view_name": "LayoutView",
      "align_content": null,
      "align_items": null,
      "align_self": null,
      "border": null,
      "bottom": null,
      "display": null,
      "flex": null,
      "flex_flow": null,
      "grid_area": null,
      "grid_auto_columns": null,
      "grid_auto_flow": null,
      "grid_auto_rows": null,
      "grid_column": null,
      "grid_gap": null,
      "grid_row": null,
      "grid_template_areas": null,
      "grid_template_columns": null,
      "grid_template_rows": null,
      "height": null,
      "justify_content": null,
      "justify_items": null,
      "left": null,
      "margin": null,
      "max_height": null,
      "max_width": null,
      "min_height": null,
      "min_width": null,
      "object_fit": null,
      "object_position": null,
      "order": null,
      "overflow": null,
      "overflow_x": null,
      "overflow_y": null,
      "padding": null,
      "right": null,
      "top": null,
      "visibility": null,
      "width": null
     }
    },
    "2d440543290449b4b1c88c49e88e2ce6": {
     "model_module": "@jupyter-widgets/base",
     "model_name": "LayoutModel",
     "model_module_version": "1.2.0",
     "state": {
      "_model_module": "@jupyter-widgets/base",
      "_model_module_version": "1.2.0",
      "_model_name": "LayoutModel",
      "_view_count": null,
      "_view_module": "@jupyter-widgets/base",
      "_view_module_version": "1.2.0",
      "_view_name": "LayoutView",
      "align_content": null,
      "align_items": null,
      "align_self": null,
      "border": null,
      "bottom": null,
      "display": null,
      "flex": null,
      "flex_flow": null,
      "grid_area": null,
      "grid_auto_columns": null,
      "grid_auto_flow": null,
      "grid_auto_rows": null,
      "grid_column": null,
      "grid_gap": null,
      "grid_row": null,
      "grid_template_areas": null,
      "grid_template_columns": null,
      "grid_template_rows": null,
      "height": null,
      "justify_content": null,
      "justify_items": null,
      "left": null,
      "margin": null,
      "max_height": null,
      "max_width": null,
      "min_height": null,
      "min_width": null,
      "object_fit": null,
      "object_position": null,
      "order": null,
      "overflow": null,
      "overflow_x": null,
      "overflow_y": null,
      "padding": null,
      "right": null,
      "top": null,
      "visibility": null,
      "width": null
     }
    },
    "961de94217924fa19ab2caad71c2fc2a": {
     "model_module": "@jupyter-widgets/controls",
     "model_name": "DescriptionStyleModel",
     "model_module_version": "1.5.0",
     "state": {
      "_model_module": "@jupyter-widgets/controls",
      "_model_module_version": "1.5.0",
      "_model_name": "DescriptionStyleModel",
      "_view_count": null,
      "_view_module": "@jupyter-widgets/base",
      "_view_module_version": "1.2.0",
      "_view_name": "StyleView",
      "description_width": ""
     }
    },
    "3d62e60556e741328e209861d3bc573e": {
     "model_module": "@jupyter-widgets/base",
     "model_name": "LayoutModel",
     "model_module_version": "1.2.0",
     "state": {
      "_model_module": "@jupyter-widgets/base",
      "_model_module_version": "1.2.0",
      "_model_name": "LayoutModel",
      "_view_count": null,
      "_view_module": "@jupyter-widgets/base",
      "_view_module_version": "1.2.0",
      "_view_name": "LayoutView",
      "align_content": null,
      "align_items": null,
      "align_self": null,
      "border": null,
      "bottom": null,
      "display": null,
      "flex": null,
      "flex_flow": null,
      "grid_area": null,
      "grid_auto_columns": null,
      "grid_auto_flow": null,
      "grid_auto_rows": null,
      "grid_column": null,
      "grid_gap": null,
      "grid_row": null,
      "grid_template_areas": null,
      "grid_template_columns": null,
      "grid_template_rows": null,
      "height": null,
      "justify_content": null,
      "justify_items": null,
      "left": null,
      "margin": null,
      "max_height": null,
      "max_width": null,
      "min_height": null,
      "min_width": null,
      "object_fit": null,
      "object_position": null,
      "order": null,
      "overflow": null,
      "overflow_x": null,
      "overflow_y": null,
      "padding": null,
      "right": null,
      "top": null,
      "visibility": null,
      "width": null
     }
    },
    "1ff1c33583f740babb83fffb65bc9730": {
     "model_module": "@jupyter-widgets/controls",
     "model_name": "ProgressStyleModel",
     "model_module_version": "1.5.0",
     "state": {
      "_model_module": "@jupyter-widgets/controls",
      "_model_module_version": "1.5.0",
      "_model_name": "ProgressStyleModel",
      "_view_count": null,
      "_view_module": "@jupyter-widgets/base",
      "_view_module_version": "1.2.0",
      "_view_name": "StyleView",
      "bar_color": null,
      "description_width": ""
     }
    },
    "5650c9d439f64733925fb387472c8ee1": {
     "model_module": "@jupyter-widgets/base",
     "model_name": "LayoutModel",
     "model_module_version": "1.2.0",
     "state": {
      "_model_module": "@jupyter-widgets/base",
      "_model_module_version": "1.2.0",
      "_model_name": "LayoutModel",
      "_view_count": null,
      "_view_module": "@jupyter-widgets/base",
      "_view_module_version": "1.2.0",
      "_view_name": "LayoutView",
      "align_content": null,
      "align_items": null,
      "align_self": null,
      "border": null,
      "bottom": null,
      "display": null,
      "flex": null,
      "flex_flow": null,
      "grid_area": null,
      "grid_auto_columns": null,
      "grid_auto_flow": null,
      "grid_auto_rows": null,
      "grid_column": null,
      "grid_gap": null,
      "grid_row": null,
      "grid_template_areas": null,
      "grid_template_columns": null,
      "grid_template_rows": null,
      "height": null,
      "justify_content": null,
      "justify_items": null,
      "left": null,
      "margin": null,
      "max_height": null,
      "max_width": null,
      "min_height": null,
      "min_width": null,
      "object_fit": null,
      "object_position": null,
      "order": null,
      "overflow": null,
      "overflow_x": null,
      "overflow_y": null,
      "padding": null,
      "right": null,
      "top": null,
      "visibility": null,
      "width": null
     }
    },
    "42a5fc2a1f994d8ab1212e74c57eba33": {
     "model_module": "@jupyter-widgets/controls",
     "model_name": "DescriptionStyleModel",
     "model_module_version": "1.5.0",
     "state": {
      "_model_module": "@jupyter-widgets/controls",
      "_model_module_version": "1.5.0",
      "_model_name": "DescriptionStyleModel",
      "_view_count": null,
      "_view_module": "@jupyter-widgets/base",
      "_view_module_version": "1.2.0",
      "_view_name": "StyleView",
      "description_width": ""
     }
    },
    "d705d0a134b04448acfa1127cb14912c": {
     "model_module": "@jupyter-widgets/controls",
     "model_name": "HBoxModel",
     "model_module_version": "1.5.0",
     "state": {
      "_dom_classes": [],
      "_model_module": "@jupyter-widgets/controls",
      "_model_module_version": "1.5.0",
      "_model_name": "HBoxModel",
      "_view_count": null,
      "_view_module": "@jupyter-widgets/controls",
      "_view_module_version": "1.5.0",
      "_view_name": "HBoxView",
      "box_style": "",
      "children": [
       "IPY_MODEL_b8431d109fcf46f4bf61271234d79bc8",
       "IPY_MODEL_b2aec9b41e784e8e9751d0a2917aa469",
       "IPY_MODEL_ef10b3e222cc46eb99cd4587363bdf44"
      ],
      "layout": "IPY_MODEL_fe3a021591124690b9954b41d703f662"
     }
    },
    "b8431d109fcf46f4bf61271234d79bc8": {
     "model_module": "@jupyter-widgets/controls",
     "model_name": "HTMLModel",
     "model_module_version": "1.5.0",
     "state": {
      "_dom_classes": [],
      "_model_module": "@jupyter-widgets/controls",
      "_model_module_version": "1.5.0",
      "_model_name": "HTMLModel",
      "_view_count": null,
      "_view_module": "@jupyter-widgets/controls",
      "_view_module_version": "1.5.0",
      "_view_name": "HTMLView",
      "description": "",
      "description_tooltip": null,
      "layout": "IPY_MODEL_5e1698630f654dadaaea292b29588464",
      "placeholder": "​",
      "style": "IPY_MODEL_b1d589bcc5ca44929fbdc8affa34901f",
      "value": "Downloading: 100%"
     }
    },
    "b2aec9b41e784e8e9751d0a2917aa469": {
     "model_module": "@jupyter-widgets/controls",
     "model_name": "FloatProgressModel",
     "model_module_version": "1.5.0",
     "state": {
      "_dom_classes": [],
      "_model_module": "@jupyter-widgets/controls",
      "_model_module_version": "1.5.0",
      "_model_name": "FloatProgressModel",
      "_view_count": null,
      "_view_module": "@jupyter-widgets/controls",
      "_view_module_version": "1.5.0",
      "_view_name": "ProgressView",
      "bar_style": "success",
      "description": "",
      "description_tooltip": null,
      "layout": "IPY_MODEL_2d96e284546344f3869103912ab19092",
      "max": 28,
      "min": 0,
      "orientation": "horizontal",
      "style": "IPY_MODEL_c438515804ed4c1193a7d45c43a1dec0",
      "value": 28
     }
    },
    "ef10b3e222cc46eb99cd4587363bdf44": {
     "model_module": "@jupyter-widgets/controls",
     "model_name": "HTMLModel",
     "model_module_version": "1.5.0",
     "state": {
      "_dom_classes": [],
      "_model_module": "@jupyter-widgets/controls",
      "_model_module_version": "1.5.0",
      "_model_name": "HTMLModel",
      "_view_count": null,
      "_view_module": "@jupyter-widgets/controls",
      "_view_module_version": "1.5.0",
      "_view_name": "HTMLView",
      "description": "",
      "description_tooltip": null,
      "layout": "IPY_MODEL_1817a0f8abbc4250860d9b4bb35b770a",
      "placeholder": "​",
      "style": "IPY_MODEL_9bde5a9164e945e9a9a1cf377b7fd04c",
      "value": " 28.0/28.0 [00:00&lt;00:00, 966B/s]"
     }
    },
    "fe3a021591124690b9954b41d703f662": {
     "model_module": "@jupyter-widgets/base",
     "model_name": "LayoutModel",
     "model_module_version": "1.2.0",
     "state": {
      "_model_module": "@jupyter-widgets/base",
      "_model_module_version": "1.2.0",
      "_model_name": "LayoutModel",
      "_view_count": null,
      "_view_module": "@jupyter-widgets/base",
      "_view_module_version": "1.2.0",
      "_view_name": "LayoutView",
      "align_content": null,
      "align_items": null,
      "align_self": null,
      "border": null,
      "bottom": null,
      "display": null,
      "flex": null,
      "flex_flow": null,
      "grid_area": null,
      "grid_auto_columns": null,
      "grid_auto_flow": null,
      "grid_auto_rows": null,
      "grid_column": null,
      "grid_gap": null,
      "grid_row": null,
      "grid_template_areas": null,
      "grid_template_columns": null,
      "grid_template_rows": null,
      "height": null,
      "justify_content": null,
      "justify_items": null,
      "left": null,
      "margin": null,
      "max_height": null,
      "max_width": null,
      "min_height": null,
      "min_width": null,
      "object_fit": null,
      "object_position": null,
      "order": null,
      "overflow": null,
      "overflow_x": null,
      "overflow_y": null,
      "padding": null,
      "right": null,
      "top": null,
      "visibility": null,
      "width": null
     }
    },
    "5e1698630f654dadaaea292b29588464": {
     "model_module": "@jupyter-widgets/base",
     "model_name": "LayoutModel",
     "model_module_version": "1.2.0",
     "state": {
      "_model_module": "@jupyter-widgets/base",
      "_model_module_version": "1.2.0",
      "_model_name": "LayoutModel",
      "_view_count": null,
      "_view_module": "@jupyter-widgets/base",
      "_view_module_version": "1.2.0",
      "_view_name": "LayoutView",
      "align_content": null,
      "align_items": null,
      "align_self": null,
      "border": null,
      "bottom": null,
      "display": null,
      "flex": null,
      "flex_flow": null,
      "grid_area": null,
      "grid_auto_columns": null,
      "grid_auto_flow": null,
      "grid_auto_rows": null,
      "grid_column": null,
      "grid_gap": null,
      "grid_row": null,
      "grid_template_areas": null,
      "grid_template_columns": null,
      "grid_template_rows": null,
      "height": null,
      "justify_content": null,
      "justify_items": null,
      "left": null,
      "margin": null,
      "max_height": null,
      "max_width": null,
      "min_height": null,
      "min_width": null,
      "object_fit": null,
      "object_position": null,
      "order": null,
      "overflow": null,
      "overflow_x": null,
      "overflow_y": null,
      "padding": null,
      "right": null,
      "top": null,
      "visibility": null,
      "width": null
     }
    },
    "b1d589bcc5ca44929fbdc8affa34901f": {
     "model_module": "@jupyter-widgets/controls",
     "model_name": "DescriptionStyleModel",
     "model_module_version": "1.5.0",
     "state": {
      "_model_module": "@jupyter-widgets/controls",
      "_model_module_version": "1.5.0",
      "_model_name": "DescriptionStyleModel",
      "_view_count": null,
      "_view_module": "@jupyter-widgets/base",
      "_view_module_version": "1.2.0",
      "_view_name": "StyleView",
      "description_width": ""
     }
    },
    "2d96e284546344f3869103912ab19092": {
     "model_module": "@jupyter-widgets/base",
     "model_name": "LayoutModel",
     "model_module_version": "1.2.0",
     "state": {
      "_model_module": "@jupyter-widgets/base",
      "_model_module_version": "1.2.0",
      "_model_name": "LayoutModel",
      "_view_count": null,
      "_view_module": "@jupyter-widgets/base",
      "_view_module_version": "1.2.0",
      "_view_name": "LayoutView",
      "align_content": null,
      "align_items": null,
      "align_self": null,
      "border": null,
      "bottom": null,
      "display": null,
      "flex": null,
      "flex_flow": null,
      "grid_area": null,
      "grid_auto_columns": null,
      "grid_auto_flow": null,
      "grid_auto_rows": null,
      "grid_column": null,
      "grid_gap": null,
      "grid_row": null,
      "grid_template_areas": null,
      "grid_template_columns": null,
      "grid_template_rows": null,
      "height": null,
      "justify_content": null,
      "justify_items": null,
      "left": null,
      "margin": null,
      "max_height": null,
      "max_width": null,
      "min_height": null,
      "min_width": null,
      "object_fit": null,
      "object_position": null,
      "order": null,
      "overflow": null,
      "overflow_x": null,
      "overflow_y": null,
      "padding": null,
      "right": null,
      "top": null,
      "visibility": null,
      "width": null
     }
    },
    "c438515804ed4c1193a7d45c43a1dec0": {
     "model_module": "@jupyter-widgets/controls",
     "model_name": "ProgressStyleModel",
     "model_module_version": "1.5.0",
     "state": {
      "_model_module": "@jupyter-widgets/controls",
      "_model_module_version": "1.5.0",
      "_model_name": "ProgressStyleModel",
      "_view_count": null,
      "_view_module": "@jupyter-widgets/base",
      "_view_module_version": "1.2.0",
      "_view_name": "StyleView",
      "bar_color": null,
      "description_width": ""
     }
    },
    "1817a0f8abbc4250860d9b4bb35b770a": {
     "model_module": "@jupyter-widgets/base",
     "model_name": "LayoutModel",
     "model_module_version": "1.2.0",
     "state": {
      "_model_module": "@jupyter-widgets/base",
      "_model_module_version": "1.2.0",
      "_model_name": "LayoutModel",
      "_view_count": null,
      "_view_module": "@jupyter-widgets/base",
      "_view_module_version": "1.2.0",
      "_view_name": "LayoutView",
      "align_content": null,
      "align_items": null,
      "align_self": null,
      "border": null,
      "bottom": null,
      "display": null,
      "flex": null,
      "flex_flow": null,
      "grid_area": null,
      "grid_auto_columns": null,
      "grid_auto_flow": null,
      "grid_auto_rows": null,
      "grid_column": null,
      "grid_gap": null,
      "grid_row": null,
      "grid_template_areas": null,
      "grid_template_columns": null,
      "grid_template_rows": null,
      "height": null,
      "justify_content": null,
      "justify_items": null,
      "left": null,
      "margin": null,
      "max_height": null,
      "max_width": null,
      "min_height": null,
      "min_width": null,
      "object_fit": null,
      "object_position": null,
      "order": null,
      "overflow": null,
      "overflow_x": null,
      "overflow_y": null,
      "padding": null,
      "right": null,
      "top": null,
      "visibility": null,
      "width": null
     }
    },
    "9bde5a9164e945e9a9a1cf377b7fd04c": {
     "model_module": "@jupyter-widgets/controls",
     "model_name": "DescriptionStyleModel",
     "model_module_version": "1.5.0",
     "state": {
      "_model_module": "@jupyter-widgets/controls",
      "_model_module_version": "1.5.0",
      "_model_name": "DescriptionStyleModel",
      "_view_count": null,
      "_view_module": "@jupyter-widgets/base",
      "_view_module_version": "1.2.0",
      "_view_name": "StyleView",
      "description_width": ""
     }
    },
    "931a4e70dc60452f81405dec34659dcb": {
     "model_module": "@jupyter-widgets/controls",
     "model_name": "HBoxModel",
     "model_module_version": "1.5.0",
     "state": {
      "_dom_classes": [],
      "_model_module": "@jupyter-widgets/controls",
      "_model_module_version": "1.5.0",
      "_model_name": "HBoxModel",
      "_view_count": null,
      "_view_module": "@jupyter-widgets/controls",
      "_view_module_version": "1.5.0",
      "_view_name": "HBoxView",
      "box_style": "",
      "children": [
       "IPY_MODEL_99c1aa3797e341378a682a75850e788f",
       "IPY_MODEL_2f508c04c97043058d469dd35355e66b",
       "IPY_MODEL_050e5b27a0334ff0aebe0ff5d48b1b79"
      ],
      "layout": "IPY_MODEL_33db0215a70c4a2d85524c4c6fef7591"
     }
    },
    "99c1aa3797e341378a682a75850e788f": {
     "model_module": "@jupyter-widgets/controls",
     "model_name": "HTMLModel",
     "model_module_version": "1.5.0",
     "state": {
      "_dom_classes": [],
      "_model_module": "@jupyter-widgets/controls",
      "_model_module_version": "1.5.0",
      "_model_name": "HTMLModel",
      "_view_count": null,
      "_view_module": "@jupyter-widgets/controls",
      "_view_module_version": "1.5.0",
      "_view_name": "HTMLView",
      "description": "",
      "description_tooltip": null,
      "layout": "IPY_MODEL_12f13a8f40fb426cbb353083d1d87809",
      "placeholder": "​",
      "style": "IPY_MODEL_9643f59b4c054d789a8b76cb77545922",
      "value": "Downloading: 100%"
     }
    },
    "2f508c04c97043058d469dd35355e66b": {
     "model_module": "@jupyter-widgets/controls",
     "model_name": "FloatProgressModel",
     "model_module_version": "1.5.0",
     "state": {
      "_dom_classes": [],
      "_model_module": "@jupyter-widgets/controls",
      "_model_module_version": "1.5.0",
      "_model_name": "FloatProgressModel",
      "_view_count": null,
      "_view_module": "@jupyter-widgets/controls",
      "_view_module_version": "1.5.0",
      "_view_name": "ProgressView",
      "bar_style": "success",
      "description": "",
      "description_tooltip": null,
      "layout": "IPY_MODEL_31dd4cd3428f4d1fa6e9650dd35ef902",
      "max": 570,
      "min": 0,
      "orientation": "horizontal",
      "style": "IPY_MODEL_9aca23d2bb704ac28a480507ba9d5547",
      "value": 570
     }
    },
    "050e5b27a0334ff0aebe0ff5d48b1b79": {
     "model_module": "@jupyter-widgets/controls",
     "model_name": "HTMLModel",
     "model_module_version": "1.5.0",
     "state": {
      "_dom_classes": [],
      "_model_module": "@jupyter-widgets/controls",
      "_model_module_version": "1.5.0",
      "_model_name": "HTMLModel",
      "_view_count": null,
      "_view_module": "@jupyter-widgets/controls",
      "_view_module_version": "1.5.0",
      "_view_name": "HTMLView",
      "description": "",
      "description_tooltip": null,
      "layout": "IPY_MODEL_0dc312eec10344709be63bd59c427e98",
      "placeholder": "​",
      "style": "IPY_MODEL_810fd569edf94a1aab4c333556d7143d",
      "value": " 570/570 [00:00&lt;00:00, 18.7kB/s]"
     }
    },
    "33db0215a70c4a2d85524c4c6fef7591": {
     "model_module": "@jupyter-widgets/base",
     "model_name": "LayoutModel",
     "model_module_version": "1.2.0",
     "state": {
      "_model_module": "@jupyter-widgets/base",
      "_model_module_version": "1.2.0",
      "_model_name": "LayoutModel",
      "_view_count": null,
      "_view_module": "@jupyter-widgets/base",
      "_view_module_version": "1.2.0",
      "_view_name": "LayoutView",
      "align_content": null,
      "align_items": null,
      "align_self": null,
      "border": null,
      "bottom": null,
      "display": null,
      "flex": null,
      "flex_flow": null,
      "grid_area": null,
      "grid_auto_columns": null,
      "grid_auto_flow": null,
      "grid_auto_rows": null,
      "grid_column": null,
      "grid_gap": null,
      "grid_row": null,
      "grid_template_areas": null,
      "grid_template_columns": null,
      "grid_template_rows": null,
      "height": null,
      "justify_content": null,
      "justify_items": null,
      "left": null,
      "margin": null,
      "max_height": null,
      "max_width": null,
      "min_height": null,
      "min_width": null,
      "object_fit": null,
      "object_position": null,
      "order": null,
      "overflow": null,
      "overflow_x": null,
      "overflow_y": null,
      "padding": null,
      "right": null,
      "top": null,
      "visibility": null,
      "width": null
     }
    },
    "12f13a8f40fb426cbb353083d1d87809": {
     "model_module": "@jupyter-widgets/base",
     "model_name": "LayoutModel",
     "model_module_version": "1.2.0",
     "state": {
      "_model_module": "@jupyter-widgets/base",
      "_model_module_version": "1.2.0",
      "_model_name": "LayoutModel",
      "_view_count": null,
      "_view_module": "@jupyter-widgets/base",
      "_view_module_version": "1.2.0",
      "_view_name": "LayoutView",
      "align_content": null,
      "align_items": null,
      "align_self": null,
      "border": null,
      "bottom": null,
      "display": null,
      "flex": null,
      "flex_flow": null,
      "grid_area": null,
      "grid_auto_columns": null,
      "grid_auto_flow": null,
      "grid_auto_rows": null,
      "grid_column": null,
      "grid_gap": null,
      "grid_row": null,
      "grid_template_areas": null,
      "grid_template_columns": null,
      "grid_template_rows": null,
      "height": null,
      "justify_content": null,
      "justify_items": null,
      "left": null,
      "margin": null,
      "max_height": null,
      "max_width": null,
      "min_height": null,
      "min_width": null,
      "object_fit": null,
      "object_position": null,
      "order": null,
      "overflow": null,
      "overflow_x": null,
      "overflow_y": null,
      "padding": null,
      "right": null,
      "top": null,
      "visibility": null,
      "width": null
     }
    },
    "9643f59b4c054d789a8b76cb77545922": {
     "model_module": "@jupyter-widgets/controls",
     "model_name": "DescriptionStyleModel",
     "model_module_version": "1.5.0",
     "state": {
      "_model_module": "@jupyter-widgets/controls",
      "_model_module_version": "1.5.0",
      "_model_name": "DescriptionStyleModel",
      "_view_count": null,
      "_view_module": "@jupyter-widgets/base",
      "_view_module_version": "1.2.0",
      "_view_name": "StyleView",
      "description_width": ""
     }
    },
    "31dd4cd3428f4d1fa6e9650dd35ef902": {
     "model_module": "@jupyter-widgets/base",
     "model_name": "LayoutModel",
     "model_module_version": "1.2.0",
     "state": {
      "_model_module": "@jupyter-widgets/base",
      "_model_module_version": "1.2.0",
      "_model_name": "LayoutModel",
      "_view_count": null,
      "_view_module": "@jupyter-widgets/base",
      "_view_module_version": "1.2.0",
      "_view_name": "LayoutView",
      "align_content": null,
      "align_items": null,
      "align_self": null,
      "border": null,
      "bottom": null,
      "display": null,
      "flex": null,
      "flex_flow": null,
      "grid_area": null,
      "grid_auto_columns": null,
      "grid_auto_flow": null,
      "grid_auto_rows": null,
      "grid_column": null,
      "grid_gap": null,
      "grid_row": null,
      "grid_template_areas": null,
      "grid_template_columns": null,
      "grid_template_rows": null,
      "height": null,
      "justify_content": null,
      "justify_items": null,
      "left": null,
      "margin": null,
      "max_height": null,
      "max_width": null,
      "min_height": null,
      "min_width": null,
      "object_fit": null,
      "object_position": null,
      "order": null,
      "overflow": null,
      "overflow_x": null,
      "overflow_y": null,
      "padding": null,
      "right": null,
      "top": null,
      "visibility": null,
      "width": null
     }
    },
    "9aca23d2bb704ac28a480507ba9d5547": {
     "model_module": "@jupyter-widgets/controls",
     "model_name": "ProgressStyleModel",
     "model_module_version": "1.5.0",
     "state": {
      "_model_module": "@jupyter-widgets/controls",
      "_model_module_version": "1.5.0",
      "_model_name": "ProgressStyleModel",
      "_view_count": null,
      "_view_module": "@jupyter-widgets/base",
      "_view_module_version": "1.2.0",
      "_view_name": "StyleView",
      "bar_color": null,
      "description_width": ""
     }
    },
    "0dc312eec10344709be63bd59c427e98": {
     "model_module": "@jupyter-widgets/base",
     "model_name": "LayoutModel",
     "model_module_version": "1.2.0",
     "state": {
      "_model_module": "@jupyter-widgets/base",
      "_model_module_version": "1.2.0",
      "_model_name": "LayoutModel",
      "_view_count": null,
      "_view_module": "@jupyter-widgets/base",
      "_view_module_version": "1.2.0",
      "_view_name": "LayoutView",
      "align_content": null,
      "align_items": null,
      "align_self": null,
      "border": null,
      "bottom": null,
      "display": null,
      "flex": null,
      "flex_flow": null,
      "grid_area": null,
      "grid_auto_columns": null,
      "grid_auto_flow": null,
      "grid_auto_rows": null,
      "grid_column": null,
      "grid_gap": null,
      "grid_row": null,
      "grid_template_areas": null,
      "grid_template_columns": null,
      "grid_template_rows": null,
      "height": null,
      "justify_content": null,
      "justify_items": null,
      "left": null,
      "margin": null,
      "max_height": null,
      "max_width": null,
      "min_height": null,
      "min_width": null,
      "object_fit": null,
      "object_position": null,
      "order": null,
      "overflow": null,
      "overflow_x": null,
      "overflow_y": null,
      "padding": null,
      "right": null,
      "top": null,
      "visibility": null,
      "width": null
     }
    },
    "810fd569edf94a1aab4c333556d7143d": {
     "model_module": "@jupyter-widgets/controls",
     "model_name": "DescriptionStyleModel",
     "model_module_version": "1.5.0",
     "state": {
      "_model_module": "@jupyter-widgets/controls",
      "_model_module_version": "1.5.0",
      "_model_name": "DescriptionStyleModel",
      "_view_count": null,
      "_view_module": "@jupyter-widgets/base",
      "_view_module_version": "1.2.0",
      "_view_name": "StyleView",
      "description_width": ""
     }
    },
    "a843ab3302b24c53abcec10837cb94bc": {
     "model_module": "@jupyter-widgets/controls",
     "model_name": "HBoxModel",
     "model_module_version": "1.5.0",
     "state": {
      "_dom_classes": [],
      "_model_module": "@jupyter-widgets/controls",
      "_model_module_version": "1.5.0",
      "_model_name": "HBoxModel",
      "_view_count": null,
      "_view_module": "@jupyter-widgets/controls",
      "_view_module_version": "1.5.0",
      "_view_name": "HBoxView",
      "box_style": "",
      "children": [
       "IPY_MODEL_001cf9a8ea814519ab9b55e0994e508c",
       "IPY_MODEL_e9065efac9524f418c22c65ee6c4bc9a",
       "IPY_MODEL_0c060a3140a84e93bbc2a5c0b668b9d2"
      ],
      "layout": "IPY_MODEL_2ddd613a45d54fb69065dfd8d66ebeac"
     }
    },
    "001cf9a8ea814519ab9b55e0994e508c": {
     "model_module": "@jupyter-widgets/controls",
     "model_name": "HTMLModel",
     "model_module_version": "1.5.0",
     "state": {
      "_dom_classes": [],
      "_model_module": "@jupyter-widgets/controls",
      "_model_module_version": "1.5.0",
      "_model_name": "HTMLModel",
      "_view_count": null,
      "_view_module": "@jupyter-widgets/controls",
      "_view_module_version": "1.5.0",
      "_view_name": "HTMLView",
      "description": "",
      "description_tooltip": null,
      "layout": "IPY_MODEL_d8c5909cc4f24594aa18ec96cc5bdaac",
      "placeholder": "​",
      "style": "IPY_MODEL_bd3d1dd3129b4bb1b479cc80f437f861",
      "value": "Downloading: 100%"
     }
    },
    "e9065efac9524f418c22c65ee6c4bc9a": {
     "model_module": "@jupyter-widgets/controls",
     "model_name": "FloatProgressModel",
     "model_module_version": "1.5.0",
     "state": {
      "_dom_classes": [],
      "_model_module": "@jupyter-widgets/controls",
      "_model_module_version": "1.5.0",
      "_model_name": "FloatProgressModel",
      "_view_count": null,
      "_view_module": "@jupyter-widgets/controls",
      "_view_module_version": "1.5.0",
      "_view_name": "ProgressView",
      "bar_style": "success",
      "description": "",
      "description_tooltip": null,
      "layout": "IPY_MODEL_3f9bf53b77ea41cc8a15f3b5d5ea2013",
      "max": 536063208,
      "min": 0,
      "orientation": "horizontal",
      "style": "IPY_MODEL_a9810abd24a24944ab3850925c4cc398",
      "value": 536063208
     }
    },
    "0c060a3140a84e93bbc2a5c0b668b9d2": {
     "model_module": "@jupyter-widgets/controls",
     "model_name": "HTMLModel",
     "model_module_version": "1.5.0",
     "state": {
      "_dom_classes": [],
      "_model_module": "@jupyter-widgets/controls",
      "_model_module_version": "1.5.0",
      "_model_name": "HTMLModel",
      "_view_count": null,
      "_view_module": "@jupyter-widgets/controls",
      "_view_module_version": "1.5.0",
      "_view_name": "HTMLView",
      "description": "",
      "description_tooltip": null,
      "layout": "IPY_MODEL_1ee4051a56644a93a003b6b11cb53ec2",
      "placeholder": "​",
      "style": "IPY_MODEL_aad7d7d053684b32bb148272daf30a8a",
      "value": " 536M/536M [00:09&lt;00:00, 61.1MB/s]"
     }
    },
    "2ddd613a45d54fb69065dfd8d66ebeac": {
     "model_module": "@jupyter-widgets/base",
     "model_name": "LayoutModel",
     "model_module_version": "1.2.0",
     "state": {
      "_model_module": "@jupyter-widgets/base",
      "_model_module_version": "1.2.0",
      "_model_name": "LayoutModel",
      "_view_count": null,
      "_view_module": "@jupyter-widgets/base",
      "_view_module_version": "1.2.0",
      "_view_name": "LayoutView",
      "align_content": null,
      "align_items": null,
      "align_self": null,
      "border": null,
      "bottom": null,
      "display": null,
      "flex": null,
      "flex_flow": null,
      "grid_area": null,
      "grid_auto_columns": null,
      "grid_auto_flow": null,
      "grid_auto_rows": null,
      "grid_column": null,
      "grid_gap": null,
      "grid_row": null,
      "grid_template_areas": null,
      "grid_template_columns": null,
      "grid_template_rows": null,
      "height": null,
      "justify_content": null,
      "justify_items": null,
      "left": null,
      "margin": null,
      "max_height": null,
      "max_width": null,
      "min_height": null,
      "min_width": null,
      "object_fit": null,
      "object_position": null,
      "order": null,
      "overflow": null,
      "overflow_x": null,
      "overflow_y": null,
      "padding": null,
      "right": null,
      "top": null,
      "visibility": null,
      "width": null
     }
    },
    "d8c5909cc4f24594aa18ec96cc5bdaac": {
     "model_module": "@jupyter-widgets/base",
     "model_name": "LayoutModel",
     "model_module_version": "1.2.0",
     "state": {
      "_model_module": "@jupyter-widgets/base",
      "_model_module_version": "1.2.0",
      "_model_name": "LayoutModel",
      "_view_count": null,
      "_view_module": "@jupyter-widgets/base",
      "_view_module_version": "1.2.0",
      "_view_name": "LayoutView",
      "align_content": null,
      "align_items": null,
      "align_self": null,
      "border": null,
      "bottom": null,
      "display": null,
      "flex": null,
      "flex_flow": null,
      "grid_area": null,
      "grid_auto_columns": null,
      "grid_auto_flow": null,
      "grid_auto_rows": null,
      "grid_column": null,
      "grid_gap": null,
      "grid_row": null,
      "grid_template_areas": null,
      "grid_template_columns": null,
      "grid_template_rows": null,
      "height": null,
      "justify_content": null,
      "justify_items": null,
      "left": null,
      "margin": null,
      "max_height": null,
      "max_width": null,
      "min_height": null,
      "min_width": null,
      "object_fit": null,
      "object_position": null,
      "order": null,
      "overflow": null,
      "overflow_x": null,
      "overflow_y": null,
      "padding": null,
      "right": null,
      "top": null,
      "visibility": null,
      "width": null
     }
    },
    "bd3d1dd3129b4bb1b479cc80f437f861": {
     "model_module": "@jupyter-widgets/controls",
     "model_name": "DescriptionStyleModel",
     "model_module_version": "1.5.0",
     "state": {
      "_model_module": "@jupyter-widgets/controls",
      "_model_module_version": "1.5.0",
      "_model_name": "DescriptionStyleModel",
      "_view_count": null,
      "_view_module": "@jupyter-widgets/base",
      "_view_module_version": "1.2.0",
      "_view_name": "StyleView",
      "description_width": ""
     }
    },
    "3f9bf53b77ea41cc8a15f3b5d5ea2013": {
     "model_module": "@jupyter-widgets/base",
     "model_name": "LayoutModel",
     "model_module_version": "1.2.0",
     "state": {
      "_model_module": "@jupyter-widgets/base",
      "_model_module_version": "1.2.0",
      "_model_name": "LayoutModel",
      "_view_count": null,
      "_view_module": "@jupyter-widgets/base",
      "_view_module_version": "1.2.0",
      "_view_name": "LayoutView",
      "align_content": null,
      "align_items": null,
      "align_self": null,
      "border": null,
      "bottom": null,
      "display": null,
      "flex": null,
      "flex_flow": null,
      "grid_area": null,
      "grid_auto_columns": null,
      "grid_auto_flow": null,
      "grid_auto_rows": null,
      "grid_column": null,
      "grid_gap": null,
      "grid_row": null,
      "grid_template_areas": null,
      "grid_template_columns": null,
      "grid_template_rows": null,
      "height": null,
      "justify_content": null,
      "justify_items": null,
      "left": null,
      "margin": null,
      "max_height": null,
      "max_width": null,
      "min_height": null,
      "min_width": null,
      "object_fit": null,
      "object_position": null,
      "order": null,
      "overflow": null,
      "overflow_x": null,
      "overflow_y": null,
      "padding": null,
      "right": null,
      "top": null,
      "visibility": null,
      "width": null
     }
    },
    "a9810abd24a24944ab3850925c4cc398": {
     "model_module": "@jupyter-widgets/controls",
     "model_name": "ProgressStyleModel",
     "model_module_version": "1.5.0",
     "state": {
      "_model_module": "@jupyter-widgets/controls",
      "_model_module_version": "1.5.0",
      "_model_name": "ProgressStyleModel",
      "_view_count": null,
      "_view_module": "@jupyter-widgets/base",
      "_view_module_version": "1.2.0",
      "_view_name": "StyleView",
      "bar_color": null,
      "description_width": ""
     }
    },
    "1ee4051a56644a93a003b6b11cb53ec2": {
     "model_module": "@jupyter-widgets/base",
     "model_name": "LayoutModel",
     "model_module_version": "1.2.0",
     "state": {
      "_model_module": "@jupyter-widgets/base",
      "_model_module_version": "1.2.0",
      "_model_name": "LayoutModel",
      "_view_count": null,
      "_view_module": "@jupyter-widgets/base",
      "_view_module_version": "1.2.0",
      "_view_name": "LayoutView",
      "align_content": null,
      "align_items": null,
      "align_self": null,
      "border": null,
      "bottom": null,
      "display": null,
      "flex": null,
      "flex_flow": null,
      "grid_area": null,
      "grid_auto_columns": null,
      "grid_auto_flow": null,
      "grid_auto_rows": null,
      "grid_column": null,
      "grid_gap": null,
      "grid_row": null,
      "grid_template_areas": null,
      "grid_template_columns": null,
      "grid_template_rows": null,
      "height": null,
      "justify_content": null,
      "justify_items": null,
      "left": null,
      "margin": null,
      "max_height": null,
      "max_width": null,
      "min_height": null,
      "min_width": null,
      "object_fit": null,
      "object_position": null,
      "order": null,
      "overflow": null,
      "overflow_x": null,
      "overflow_y": null,
      "padding": null,
      "right": null,
      "top": null,
      "visibility": null,
      "width": null
     }
    },
    "aad7d7d053684b32bb148272daf30a8a": {
     "model_module": "@jupyter-widgets/controls",
     "model_name": "DescriptionStyleModel",
     "model_module_version": "1.5.0",
     "state": {
      "_model_module": "@jupyter-widgets/controls",
      "_model_module_version": "1.5.0",
      "_model_name": "DescriptionStyleModel",
      "_view_count": null,
      "_view_module": "@jupyter-widgets/base",
      "_view_module_version": "1.2.0",
      "_view_name": "StyleView",
      "description_width": ""
     }
    }
   }
  }
 },
 "nbformat": 4,
 "nbformat_minor": 0
}