{
 "cells": [
  {
   "cell_type": "markdown",
   "metadata": {
    "id": "n7BzBd-N9mS1",
    "pycharm": {
     "name": "#%% md\n"
    }
   },
   "source": [
    "# Assignment 2: Text Classification with Various Neural Networks\n",
    "\n",
    "**Description:** This assignment covers various neural network architectures and components, largely used in the context of classification. You will compare Deep Averaging Networks, Deep Weighted Averaging Networks using Attention, and BERT-based models. You should also be able to develop an intuition for:\n",
    "\n",
    "\n",
    "*   The effects of fine-tuning word vectors or starting with random word vectors\n",
    "*   How various networks behave when the training set size changes\n",
    "* The effect of shuffling your training data\n",
    "*   The benefits of Attention calculations\n",
    "* Working with BERT\n",
    "\n",
    "\n",
    "The assignment notebook closely follows the lesson notebooks. We will use the IMDB dataset and will leverage some of the models, or part of the code, for our current investigation.\n",
    "\n",
    "The initial part of the notebook is purely setup. We will then evaluate how Attention can make Deep Averaging networks better. \n",
    "\n",
    "Do not try to run this entire notebook on your GCP instance as the training of models requires a GPU to work in a timely fashion. This notebook should be run on a Google Colab leveraging a GPU. By default, when you open the notebook in Colab it will try to use a GPU. Total runtime of the entire notebook (with solutions and a Colab GPU) should be about 1h.\n",
    "\n",
    "\n",
    "[![Open In Colab](https://colab.research.google.com/assets/colab-badge.svg)](https://colab.research.google.com/github/datasci-w266/2022-fall-main/blob/master/assignment/a2/Text_classification.ipynb)\n",
    "\n",
    "The overall assignment structure is as follows:\n",
    "\n",
    "1. Setup\n",
    "  \n",
    "  1.1 Libraries, Embeddings,  & Helper Functions\n",
    "\n",
    "  1.2 Data Acquisition\n",
    "\n",
    "  1.3. Data Preparation\n",
    "\n",
    "      1.3.1 Training/Test Sets using Word2Vec \n",
    "\n",
    "      1.3.2 Training/Test Sets for BERT-based models\n",
    "\n",
    "2. Classification with various Word2Vec-based Models\n",
    "\n",
    "  2.1 The Role of Shuffling of the Training Set\n",
    "\n",
    "  2.2 DAN vs Weighted Averaging Models using Attention\n",
    "\n",
    "    2.2.1 Warm-Up\n",
    "    \n",
    "    2.2.2 The WAN Model\n",
    "    \n",
    "  2.3 Approaches for Training of Embeddings \n",
    "\n",
    "3. Classification with BERT\n",
    "\n",
    "  3.1. BERT Basics\n",
    "\n",
    "  3.2 CLS-Token-based Classification \n",
    "\n",
    "  3.3 Averaging of BERT Outputs\n",
    "\n",
    "  3.4. Adding a CNN on top of BERT\n",
    "\n",
    "\n",
    "\n",
    "**INSTRUCTIONS:**: \n",
    "\n",
    "* Questions are always indicated as **QUESTION**, so you can search for this string to make sure you answered all of the questions. You are expected to fill out, run, and submit this notebook, as well as to answer the questions in the **answers** file as you did in a1.  Please do **not** remove the output from your notebooks when you submit them as we'll look at the output as well as your code for grading purposes.\n",
    "\n",
    "* **### YOUR CODE HERE** indicates that you are supposed to write code.\n",
    "\n",
    "* If you want to, you can run all of the cells in section 1 in bulk. This is setup work and no questions are in there. At the end of section 1 we will state all of the relevant variables that were defined and created in section 1.\n",
    "\n",
    "* Finally, unless otherwise indicated your validation accuracy will be 0.65 or higher if you have correctly implemented the model.\n",
    "\n"
   ]
  },
  {
   "cell_type": "markdown",
   "metadata": {
    "id": "so-yur1S9mS4",
    "pycharm": {
     "name": "#%% md\n"
    }
   },
   "source": [
    "## 1. Setup\n",
    "\n",
    "### 1.1. Libraries and Helper Functions\n",
    "\n",
    "This notebook requires the TensorFlow dataset and other prerequisites that you must download. "
   ]
  },
  {
   "cell_type": "code",
   "execution_count": 1,
   "metadata": {
    "id": "8uQnMctL9mS5",
    "colab": {
     "base_uri": "https://localhost:8080/"
    },
    "outputId": "682c0556-2ff9-4d03-a2c7-dfca2b7bb101",
    "pycharm": {
     "name": "#%%\n"
    }
   },
   "outputs": [],
   "source": [
    "#@title Installs\n",
    "from tensorflow_text.tools.wordpiece_vocab.bert_vocab_from_dataset import bert_vocab_from_dataset\n",
    "\n",
    "!pip install pydot --quiet\n",
    "!pip install gensim==3.8.3 --quiet\n",
    "!pip install tensorflow-datasets --quiet\n",
    "!pip install -U tensorflow-text==2.8.2 --quiet\n",
    "!pip install transformers --quiet"
   ]
  },
  {
   "cell_type": "markdown",
   "metadata": {
    "id": "ZFFBvPMR9mS8",
    "pycharm": {
     "name": "#%% md\n"
    }
   },
   "source": [
    "Now we are ready to do the imports."
   ]
  },
  {
   "cell_type": "code",
   "execution_count": 1,
   "metadata": {
    "id": "Q8b9aykE9mS8",
    "pycharm": {
     "name": "#%%\n"
    }
   },
   "outputs": [],
   "source": [
    "#@title Imports\n",
    "\n",
    "import numpy as np\n",
    "import tensorflow as tf\n",
    "from tensorflow import keras\n",
    "\n",
    "from keras.layers import Embedding, Input, Dense, Lambda\n",
    "from keras.models import Model\n",
    "import keras.backend as K\n",
    "import tensorflow_datasets as tfds\n",
    "import tensorflow_text as tf_text\n",
    "\n",
    "from transformers import BertTokenizer, TFBertModel\n",
    "\n",
    "\n",
    "import sklearn as sk\n",
    "import os\n",
    "import nltk\n",
    "from nltk.data import find\n",
    "\n",
    "import matplotlib.pyplot as plt\n",
    "\n",
    "import re\n",
    "\n",
    "#This continues to work with gensim 3.8.3.  It doesn't yet work with 4.x.  \n",
    "#Make sure your pip install command specifies gensim==3.8.3\n",
    "import gensim\n"
   ]
  },
  {
   "cell_type": "markdown",
   "metadata": {
    "id": "ESElm33U9mS9",
    "pycharm": {
     "name": "#%% md\n"
    }
   },
   "source": [
    "Below is a helper function to plot histories."
   ]
  },
  {
   "cell_type": "code",
   "execution_count": 2,
   "metadata": {
    "id": "YKWj6pPM9mS-",
    "pycharm": {
     "name": "#%%\n"
    }
   },
   "outputs": [],
   "source": [
    "#@title Plotting Function\n",
    "\n",
    "# 4-window plot. Small modification from matplotlib examples.\n",
    "\n",
    "def make_plot(axs, history1, \n",
    "              history2, \n",
    "              y_lim_loss_lower=0.4, \n",
    "              y_lim_loss_upper=0.6,\n",
    "              y_lim_accuracy_lower=0.7, \n",
    "              y_lim_accuracy_upper=0.8,\n",
    "              model_1_name='model 1',\n",
    "              model_2_name='model 2',\n",
    "              \n",
    "             ):\n",
    "    box = dict(facecolor='yellow', pad=5, alpha=0.2)\n",
    "\n",
    "    ax1 = axs[0, 0]\n",
    "    ax1.plot(history1.history['loss'])\n",
    "    ax1.plot(history1.history['val_loss'])\n",
    "    ax1.set_title('loss - ' + model_1_name)\n",
    "    ax1.set_ylabel('loss', bbox=box)\n",
    "    ax1.set_ylim(y_lim_loss_lower, y_lim_loss_upper)\n",
    "\n",
    "    ax3 = axs[1, 0]\n",
    "    ax3.set_title('accuracy - ' + model_1_name)\n",
    "    ax3.plot(history1.history['accuracy'])\n",
    "    ax3.plot(history1.history['val_accuracy'])\n",
    "    ax3.set_ylabel('accuracy', bbox=box)\n",
    "    ax3.set_ylim(y_lim_accuracy_lower, y_lim_accuracy_upper)\n",
    "\n",
    "\n",
    "    ax2 = axs[0, 1]\n",
    "    ax2.set_title('loss - ' + model_2_name)\n",
    "    ax2.plot(history2.history['loss'])\n",
    "    ax2.plot(history2.history['val_loss'])\n",
    "    ax2.set_ylim(y_lim_loss_lower, y_lim_loss_upper)\n",
    "\n",
    "    ax4 = axs[1, 1]\n",
    "    ax4.set_title('accuracy - ' + model_2_name)\n",
    "\n",
    "    # small adjustment to account for the 2 accuracy measures in the Weighted Averging Model with Attention\n",
    "    if 'classification_accuracy' in history2.history.keys():\n",
    "      ax4.plot(history2.history['classification_accuracy'])\n",
    "    else:\n",
    "      ax4.plot(history2.history['accuracy'])\n",
    "    \n",
    "    if 'val_classification_accuracy' in history2.history.keys():\n",
    "      ax4.plot(history2.history['val_classification_accuracy'])\n",
    "    else:\n",
    "      ax4.plot(history2.history['val_accuracy'])\n",
    "    ax4.set_ylim(y_lim_accuracy_lower, y_lim_accuracy_upper)"
   ]
  },
  {
   "cell_type": "markdown",
   "metadata": {
    "id": "1QDi-Kg49mS-",
    "pycharm": {
     "name": "#%% md\n"
    }
   },
   "source": [
    "Next, we get the word2vec model from nltk."
   ]
  },
  {
   "cell_type": "code",
   "execution_count": 3,
   "metadata": {
    "colab": {
     "base_uri": "https://localhost:8080/"
    },
    "id": "49X1T6an9mS_",
    "outputId": "409db550-7789-4359-e6dc-12588c03ea25",
    "pycharm": {
     "name": "#%%\n"
    }
   },
   "outputs": [
    {
     "name": "stderr",
     "output_type": "stream",
     "text": [
      "[nltk_data] Downloading package word2vec_sample to\n",
      "[nltk_data]     C:\\Users\\grandid\\AppData\\Roaming\\nltk_data...\n",
      "[nltk_data]   Package word2vec_sample is already up-to-date!\n"
     ]
    }
   ],
   "source": [
    "#@title NLTK & Word2Vec\n",
    "\n",
    "nltk.download('word2vec_sample')\n",
    "\n",
    "word2vec_sample = str(find('models/word2vec_sample/pruned.word2vec.txt'))\n",
    "\n",
    "model = gensim.models.KeyedVectors.load_word2vec_format(word2vec_sample, binary=False)"
   ]
  },
  {
   "cell_type": "markdown",
   "metadata": {
    "id": "Y_rdVE3z9mTA",
    "pycharm": {
     "name": "#%% md\n"
    }
   },
   "source": [
    "Now here we have the embedding **model** defined, let's see how many words are in the vocabulary:"
   ]
  },
  {
   "cell_type": "code",
   "execution_count": 5,
   "metadata": {
    "colab": {
     "base_uri": "https://localhost:8080/"
    },
    "id": "uoL6l_q89mTA",
    "outputId": "6aa30041-4b3e-4e21-f81f-ef89f069f3e3",
    "pycharm": {
     "name": "#%%\n"
    }
   },
   "outputs": [
    {
     "data": {
      "text/plain": "43981"
     },
     "execution_count": 5,
     "metadata": {},
     "output_type": "execute_result"
    }
   ],
   "source": [
    "len(model.key_to_index)"
   ]
  },
  {
   "cell_type": "markdown",
   "metadata": {
    "id": "r3Q0zOkJ9mTB",
    "pycharm": {
     "name": "#%% md\n"
    }
   },
   "source": [
    "What do the word vectors look like? As expected:"
   ]
  },
  {
   "cell_type": "code",
   "execution_count": 6,
   "metadata": {
    "colab": {
     "base_uri": "https://localhost:8080/"
    },
    "id": "ZyAGMYGK9mTB",
    "outputId": "eda0a112-e1b0-471c-993a-f8f359e75207",
    "pycharm": {
     "name": "#%%\n"
    }
   },
   "outputs": [
    {
     "data": {
      "text/plain": "array([ 0.0306035 ,  0.0886877 , -0.0121269 ,  0.0761965 ,  0.0566269 ,\n       -0.0424702 ,  0.0410129 , -0.0497567 , -0.00364328,  0.0632889 ,\n       -0.0142608 , -0.0791111 ,  0.0174877 , -0.0383064 ,  0.00926433,\n        0.0295626 ,  0.0770293 ,  0.0949334 , -0.0428866 , -0.0295626 ],\n      dtype=float32)"
     },
     "execution_count": 6,
     "metadata": {},
     "output_type": "execute_result"
    }
   ],
   "source": [
    "model['great'][:20]"
   ]
  },
  {
   "cell_type": "markdown",
   "metadata": {
    "id": "2BMraFZS9mTB",
    "pycharm": {
     "name": "#%% md\n"
    }
   },
   "source": [
    "We can now build the embedding matrix and a vocabulary dictionary:"
   ]
  },
  {
   "cell_type": "code",
   "execution_count": 10,
   "metadata": {
    "id": "lOTIN3G39mTB",
    "pycharm": {
     "name": "#%%\n"
    }
   },
   "outputs": [],
   "source": [
    "#@title Embedding Matrix Creation\n",
    "\n",
    "EMBEDDING_DIM = len(model['university'])      # we know... it's 300\n",
    "\n",
    "# initialize embedding matrix and word-to-id map:\n",
    "embedding_matrix = np.zeros((len(model.key_to_index) + 1, EMBEDDING_DIM))\n",
    "vocab_dict = {}\n",
    "\n",
    "# build the embedding matrix and the word-to-id map:\n",
    "for i, word in enumerate(model.key_to_index):\n",
    "    embedding_vector = model[word]\n",
    "    if embedding_vector is not None:\n",
    "        # words not found in embedding index will be all-zeros.\n",
    "        embedding_matrix[i] = embedding_vector\n",
    "        vocab_dict[word] = i\n",
    "\n",
    "# we can use the last index at the end of the vocab for unknown tokens\n",
    "vocab_dict['[UNK]'] = len(vocab_dict)"
   ]
  },
  {
   "cell_type": "code",
   "execution_count": 11,
   "metadata": {
    "colab": {
     "base_uri": "https://localhost:8080/"
    },
    "id": "LGYcZu0N9mTC",
    "outputId": "5554ae0c-edb2-43ed-b6ce-4dbb29441f7a",
    "pycharm": {
     "name": "#%%\n"
    }
   },
   "outputs": [
    {
     "data": {
      "text/plain": "(43982, 300)"
     },
     "execution_count": 11,
     "metadata": {},
     "output_type": "execute_result"
    }
   ],
   "source": [
    "embedding_matrix.shape"
   ]
  },
  {
   "cell_type": "markdown",
   "metadata": {
    "id": "YIL1eUtV9mTC",
    "pycharm": {
     "name": "#%% md\n"
    }
   },
   "source": [
    "The last row consists of all zeros. We will use that for the UNK token, the placeholder token for unknown words.\n",
    "\n",
    "### 1.2 Data Acquisition\n",
    "\n",
    "\n",
    "We will use the IMDB dataset delivered as part of the TensorFlow-datasets library, and split into training and test sets. For expedience, we will limit ourselves in terms of train and test examples."
   ]
  },
  {
   "cell_type": "code",
   "execution_count": 11,
   "metadata": {
    "id": "uwOF0qYb9mTC",
    "colab": {
     "base_uri": "https://localhost:8080/",
     "height": 136,
     "referenced_widgets": [
      "7cb60297e263454c8d380584bc5cb6d4",
      "3bce34216b31438bb5f0d883d242925e",
      "3bf2e2aa126541faae5fef1ab11f42b7",
      "b03509d747db46a8b5b67c9d63a9e363",
      "212205a56089477eb2cfefc26cd41e59",
      "40d8d7d591354e0aabde05dffc503c1f",
      "0554e9d495e044239da429969c7b39d5",
      "7f24491f140d4594b568cdad18c73a34",
      "e51c4ae78b4648ba855698f9ec4cffc4",
      "f74c3f691d1042458b354ad2bbaed883",
      "982981bdb34d477e93c7df36a5d73343",
      "bdb0f5ed8432428791c0819404a8a566",
      "cb737aa899ec4f4c85ae46c9a47f5b0f",
      "4776f5d5423540f8985ea5b0782ba66c",
      "601b12ad985a4e3c8618dfa74b1b252f",
      "f8056ebf791f434e94b0940369c62cac",
      "35869e5d3bf1402f84764550d0e1b9d8",
      "e2788c4de43d4dfcb7f45bbd2123a2b3",
      "a43693c81bb64547943d85e52f91e9b0",
      "a8552bc70e664ce29d349fd5913f9d31",
      "0a34952433e64068add0baee5d54dfbb",
      "82b3660fce7b432a8fc5f5108179d057",
      "84a6b2c2b63c403b93e687146a7ac3c6",
      "0a55f7fca2374de2970cbc4b293741e4",
      "e94d530121cd46dda2504ae92d614944",
      "eb393828f1904b0fa0ed394e316f21fe",
      "738c379a8b294ec086294695281b3d1c",
      "33975e3e2bcc46919ccd821de9605239",
      "2f3e56355dcf46bea02dd9de6ecb7ff6",
      "37ab59ed16454699888a45f70a2c469a",
      "87518729247642ccadd7fbb5b0236a8f",
      "1189e597fb2c446e9c82d3d5553c40ab",
      "28710d3650ce4c729ede2f83c38062c2",
      "c1296be7043e458b8cf4a8c9cdb6bdfb",
      "4001685a4f8e44a3aa13b4bb9160a945",
      "3d4ba216f1574dcc82ca029997be82a4",
      "5923b33e92624347b96dceb48370a892",
      "66b5e3cbec1d4222982f45f0e5422cdc",
      "016b21f0cf6743e189183e4ac473e8cd",
      "3c5f8a98ed2947e9a1d86301a74eb372",
      "3657184f2853490b8cd7554a601b726a",
      "1070bec181fa4b7389a2ef3aa5965cca",
      "c5f2ce4048a74288a2ce42b1d48660d8",
      "a5bf10d23c05415f90ed90af51b9e15e",
      "5579d2c05f44489aa1bfbad316a5687b",
      "638fdcb79e4f4d51865f8a32387ff75a",
      "0d734593d1c748dd8734b9531795b939",
      "0b64655344fb4671977bb59e65cd0957",
      "b483f8d6dea8460bba3d7876057e5a22",
      "e46ed4f4954e46c796a73045b4fbc95d",
      "abd69aac2aea457a9aea8c42aa2e3990",
      "f74d60b60e6f4b8da36813c1ff8e3b8f",
      "fba564c0983644d19a80678389c029b3",
      "37fc053c5d7c4322ab9194f216c89ba8",
      "a20d27e8f21e4c3c82e428b18608b2bd",
      "ee4e2c5a25a84f809e2cca21cf8ba1a1",
      "033c78bd6d954abcbf70a05f6053b938",
      "18dc8e66e7614f8597f17080675be6f9",
      "709a1479f9dc4b1aac9937f0df5cb250",
      "3286a6fab7204070b32e60331d18b702",
      "a1cfb0ba5cb140faba531672cfaf9884",
      "2dbfa43ec1a44b2592a0cf82c81b7cc8",
      "476b2bd7ea854076a6a6270571c882b3",
      "c18d5e41c58b48e1a053a88b3b7bf3ee",
      "58d193f31d0d42689b368ed0617db114",
      "5309f576a39b4607abb39bd309a085f0",
      "375928e5144e44ab8821d75340fc9fe2",
      "13214cf4c3394bef8a2f6cc4698ad22b",
      "f0c6cb62d4524cb0974adca2f1c5f8ef",
      "6052ab1653ad44fdbb82c1a3e64587fd",
      "228c83758cfd4d7e8b7f73b516619518",
      "db19918d68d442cf966404712c28f854",
      "99d0ef13e7b34335a089e8315e9f263d",
      "e1fe18c493044eccbbc43d2c73c93dd5",
      "baa0c808028c4249ae02e74db2183b99",
      "e570be17fc5c4631853877bb15fa2106",
      "16364a2d1b5a4b3baa50657dab2cb9dd",
      "d0536c8643ed4c63b1c55e4b2ab6927f",
      "52428bf249224affa5d0dddbb70758a1",
      "1f38361ea7ab4da3a0ae1913cbd7bc57",
      "328133af521246eaa6f44bc814f0f265",
      "c04d3552158b472f87c02a0f4592c908",
      "7672064fa0174b40a9520f0e57760776",
      "5bcd9e6edafc4198b1505584156a647c",
      "ac08aa6d9b324907b2820016afc66fce",
      "8c4026b45e5246f78015792c8e945e18",
      "69f0d8a4917d4379a397b21dcf2abd42",
      "9701746640f245ec8c4a97d417bb7969",
      "234f196d791846a5a2deda4bc6ec6bbd",
      "a96fcdf1b26f4b85a21a31248c20f08b",
      "46db61f27b9143678af06fdb41222406",
      "a8c95bec846142f9922f0202f10c1c21",
      "69f90dc1aa72400294c14c2cac803de1",
      "886f4827e98547139a1896a735dcefc8",
      "3d5b254b1a5a404681cf2a4aeacda805",
      "119520c257c6436bb792dcb45e6dc081",
      "e7bc0a98b8bc4a3785a979d77c1a016c",
      "e63149380a5741ceab4884268021686c",
      "56d9266b1171467f8685b0d8100b0dd0"
     ]
    },
    "outputId": "971d039d-e67e-453c-b060-8ec252c985c8",
    "pycharm": {
     "name": "#%%\n"
    }
   },
   "outputs": [],
   "source": [
    "train_data, test_data = tfds.load(\n",
    "    name=\"imdb_reviews\", \n",
    "    split=('train[:80%]', 'test[80%:]'),\n",
    "    as_supervised=True)\n",
    "\n",
    "train_examples_batch, train_labels_batch = next(iter(train_data.batch(30000)))\n",
    "test_examples_batch, test_labels_batch = next(iter(test_data.batch(5000)))"
   ]
  },
  {
   "cell_type": "markdown",
   "metadata": {
    "id": "mPHFtgGkHNOQ",
    "pycharm": {
     "name": "#%% md\n"
    }
   },
   "source": [
    "It is always highly recommended to look at the data. "
   ]
  },
  {
   "cell_type": "code",
   "execution_count": 12,
   "metadata": {
    "colab": {
     "base_uri": "https://localhost:8080/"
    },
    "id": "wvmWKdVQ9mTC",
    "outputId": "bd716fb8-de42-441b-92f8-432accd203ea",
    "pycharm": {
     "name": "#%%\n"
    }
   },
   "outputs": [
    {
     "data": {
      "text/plain": "<tf.Tensor: shape=(2,), dtype=string, numpy=\narray([b'Mann photographs the Alberta Rocky Mountains in a superb fashion, and Jimmy Stewart and Walter Brennan give enjoyable performances as they always seem to do. <br /><br />But come on Hollywood - a Mountie telling the people of Dawson City, Yukon to elect themselves a marshal (yes a marshal!) and to enforce the law themselves, then gunfighters battling it out on the streets for control of the town? <br /><br />Nothing even remotely resembling that happened on the Canadian side of the border during the Klondike gold rush. Mr. Mann and company appear to have mistaken Dawson City for Deadwood, the Canadian North for the American Wild West.<br /><br />Canadian viewers be prepared for a Reefer Madness type of enjoyable howl with this ludicrous plot, or, to shake your head in disgust.',\n       b'This is the kind of film for a snowy Sunday afternoon when the rest of the world can go ahead with its own business as you descend into a big arm-chair and mellow for a couple of hours. Wonderful performances from Cher and Nicolas Cage (as always) gently row the plot along. There are no rapids to cross, no dangerous waters, just a warm and witty paddle through New York life at its best. A family film in every sense and one that deserves the praise it received.'],\n      dtype=object)>"
     },
     "execution_count": 12,
     "metadata": {},
     "output_type": "execute_result"
    }
   ],
   "source": [
    "train_examples_batch[2:4]"
   ]
  },
  {
   "cell_type": "code",
   "execution_count": 14,
   "metadata": {
    "colab": {
     "base_uri": "https://localhost:8080/"
    },
    "id": "BzEnCspD9mTD",
    "outputId": "5154f8e7-73a7-4bbd-a0fb-1b164422f2f2",
    "pycharm": {
     "name": "#%%\n"
    }
   },
   "outputs": [
    {
     "data": {
      "text/plain": "<tf.Tensor: shape=(2,), dtype=int64, numpy=array([0, 1], dtype=int64)>"
     },
     "execution_count": 14,
     "metadata": {},
     "output_type": "execute_result"
    }
   ],
   "source": [
    "train_labels_batch[2:4]"
   ]
  },
  {
   "cell_type": "markdown",
   "metadata": {
    "id": "CplHsqSDMKCa",
    "pycharm": {
     "name": "#%% md\n"
    }
   },
   "source": [
    "For convenience, in this assignment we will define a maximum length and only keep the examples that are longer than that length"
   ]
  },
  {
   "cell_type": "code",
   "execution_count": 13,
   "metadata": {
    "id": "Zxu9U3qXMKTW",
    "pycharm": {
     "name": "#%%\n"
    }
   },
   "outputs": [],
   "source": [
    "SEQUENCE_LENGTH = 100"
   ]
  },
  {
   "cell_type": "markdown",
   "metadata": {
    "id": "1bHwj4vu9mTD",
    "pycharm": {
     "name": "#%% md\n"
    }
   },
   "source": [
    "For simplicity, we will also limit ourselves to examples that actually have SEQUENCE_LENGTH tokens.\n",
    "\n",
    "\n",
    "## 1.3. Data Preparation\n",
    "\n",
    "### 1.3.1. Training/Test Sets for Word2Vec-based Models\n",
    "\n",
    "First, we tokenize the data:"
   ]
  },
  {
   "cell_type": "code",
   "execution_count": 14,
   "metadata": {
    "id": "ToVTmC8V9mTD",
    "pycharm": {
     "name": "#%%\n"
    }
   },
   "outputs": [],
   "source": [
    "tokenizer = tf_text.WhitespaceTokenizer()\n",
    "train_tokens = tokenizer.tokenize(train_examples_batch)\n",
    "test_tokens = tokenizer.tokenize(test_examples_batch)"
   ]
  },
  {
   "cell_type": "markdown",
   "metadata": {
    "id": "qXauPwil9mTD",
    "pycharm": {
     "name": "#%% md\n"
    }
   },
   "source": [
    "Does this look right?"
   ]
  },
  {
   "cell_type": "code",
   "execution_count": 15,
   "metadata": {
    "colab": {
     "base_uri": "https://localhost:8080/"
    },
    "id": "QZ22GGb-9mTD",
    "outputId": "afac2099-8f0a-414a-cc78-a57edecc979c",
    "pycharm": {
     "name": "#%%\n"
    }
   },
   "outputs": [
    {
     "data": {
      "text/plain": "<tf.Tensor: shape=(116,), dtype=string, numpy=\narray([b'This', b'was', b'an', b'absolutely', b'terrible', b'movie.',\n       b\"Don't\", b'be', b'lured', b'in', b'by', b'Christopher', b'Walken',\n       b'or', b'Michael', b'Ironside.', b'Both', b'are', b'great',\n       b'actors,', b'but', b'this', b'must', b'simply', b'be', b'their',\n       b'worst', b'role', b'in', b'history.', b'Even', b'their', b'great',\n       b'acting', b'could', b'not', b'redeem', b'this', b\"movie's\",\n       b'ridiculous', b'storyline.', b'This', b'movie', b'is', b'an',\n       b'early', b'nineties', b'US', b'propaganda', b'piece.', b'The',\n       b'most', b'pathetic', b'scenes', b'were', b'those', b'when',\n       b'the', b'Columbian', b'rebels', b'were', b'making', b'their',\n       b'cases', b'for', b'revolutions.', b'Maria', b'Conchita',\n       b'Alonso', b'appeared', b'phony,', b'and', b'her', b'pseudo-love',\n       b'affair', b'with', b'Walken', b'was', b'nothing', b'but', b'a',\n       b'pathetic', b'emotional', b'plug', b'in', b'a', b'movie', b'that',\n       b'was', b'devoid', b'of', b'any', b'real', b'meaning.', b'I',\n       b'am', b'disappointed', b'that', b'there', b'are', b'movies',\n       b'like', b'this,', b'ruining', b\"actor's\", b'like', b'Christopher',\n       b\"Walken's\", b'good', b'name.', b'I', b'could', b'barely', b'sit',\n       b'through', b'it.'], dtype=object)>"
     },
     "execution_count": 15,
     "metadata": {},
     "output_type": "execute_result"
    }
   ],
   "source": [
    "train_tokens[0]"
   ]
  },
  {
   "cell_type": "markdown",
   "metadata": {
    "id": "K9D9nqdg9mTE",
    "pycharm": {
     "name": "#%% md\n"
    }
   },
   "source": [
    "Yup... looks right. Of course we will need to take care of the encoding later."
   ]
  },
  {
   "cell_type": "markdown",
   "metadata": {
    "id": "XiqFULXx9mTE",
    "pycharm": {
     "name": "#%% md\n"
    }
   },
   "source": [
    "Next, we define a simple function that converts the tokens above into the appropriate word2vec index values.   "
   ]
  },
  {
   "cell_type": "code",
   "source": [
    "def docs_to_vocab_ids(tokenized_texts_list):\n",
    "    \"\"\"\n",
    "    converting a list of strings to a list of lists of word ids\n",
    "    \"\"\"\n",
    "    texts_vocab_ids = []\n",
    "    text_labels = []\n",
    "    valid_example_list = []\n",
    "    for i, token_list in enumerate(tokenized_texts_list):\n",
    "\n",
    "        # Get the vocab id for each token in this doc ([UNK] if not in vocab)\n",
    "        vocab_ids = []\n",
    "        for token in list(token_list.numpy()):\n",
    "            decoded = token.decode('utf-8', errors='ignore')\n",
    "            if decoded in vocab_dict:\n",
    "                vocab_ids.append(vocab_dict[decoded])\n",
    "            else:\n",
    "                vocab_ids.append(vocab_dict['[UNK]'])\n",
    "            \n",
    "        # Truncate text to max length, add padding up to max length\n",
    "        vocab_ids = vocab_ids[:SEQUENCE_LENGTH]\n",
    "        n_padding = (SEQUENCE_LENGTH - len(vocab_ids))\n",
    "        # For simplicity in this model, we'll just pad with unknown tokens\n",
    "        vocab_ids += [vocab_dict['[UNK]']] * n_padding\n",
    "        valid_example_list.append(i)\n",
    "        # Add this example to the list of converted docs\n",
    "        texts_vocab_ids.append(vocab_ids)\n",
    "            \n",
    "        if i % 5000 == 0:\n",
    "            print('Examples processed: ', i)\n",
    "\n",
    "    print('Total examples: ', i)\n",
    "    return (np.array(texts_vocab_ids), valid_example_list)"
   ],
   "metadata": {
    "id": "ytUsu3kmuM3n",
    "pycharm": {
     "name": "#%%\n"
    }
   },
   "execution_count": 16,
   "outputs": []
  },
  {
   "cell_type": "markdown",
   "metadata": {
    "id": "gv_elC2m9mTE",
    "pycharm": {
     "name": "#%% md\n"
    }
   },
   "source": [
    "Now we can create training and test data that can be fed into the models of interest."
   ]
  },
  {
   "cell_type": "code",
   "source": [
    "train_input_ids, train_valid_example_list = docs_to_vocab_ids(train_tokens)\n",
    "test_input_ids, test_valid_example_list = docs_to_vocab_ids(test_tokens)\n",
    "\n",
    "train_input_labels = np.array(train_labels_batch)\n",
    "test_input_labels = np.array(test_labels_batch)\n"
   ],
   "metadata": {
    "colab": {
     "base_uri": "https://localhost:8080/"
    },
    "id": "XpUJLBRkCbtE",
    "outputId": "ccaddb6b-c612-4000-e0cc-f3061a21e9e1",
    "pycharm": {
     "name": "#%%\n"
    }
   },
   "execution_count": 17,
   "outputs": [
    {
     "name": "stdout",
     "output_type": "stream",
     "text": [
      "Examples processed:  0\n",
      "Examples processed:  5000\n",
      "Examples processed:  10000\n",
      "Examples processed:  15000\n",
      "Total examples:  19999\n",
      "Examples processed:  0\n",
      "Total examples:  4999\n"
     ]
    }
   ]
  },
  {
   "cell_type": "markdown",
   "metadata": {
    "id": "-dP2KY7U9mTF",
    "pycharm": {
     "name": "#%% md\n"
    }
   },
   "source": [
    "Let's convince ourselves that the data looks correct:"
   ]
  },
  {
   "cell_type": "code",
   "execution_count": 18,
   "metadata": {
    "colab": {
     "base_uri": "https://localhost:8080/"
    },
    "id": "FtU56wVR9mTF",
    "outputId": "b33c17f4-476e-4792-9d5d-9de79ab59e94",
    "pycharm": {
     "name": "#%%\n"
    }
   },
   "outputs": [
    {
     "data": {
      "text/plain": "array([[21531, 25272, 12291,  7427, 37254, 43981,  6891, 12917, 38232,\n        16915, 12929, 16182, 43981, 20526, 23487, 43981, 23807, 42958,\n        35058, 43981, 19123, 35029, 41270, 29275, 12917, 32597, 20659,\n          638, 16915, 43981,   174, 32597, 35058, 39971,  2326,  3636,\n        22434, 35029, 43981, 33922, 43981, 21531, 34710, 16908, 12291,\n        36880, 28137,  5376, 28038, 43981, 15402, 29155, 18063, 24951,\n        17433, 17595,  8856, 14193, 43981, 43248, 17433,  6290, 32597,\n         9001, 11511, 43981, 21807, 39168, 43981, 16856, 43981, 43981,\n        23245, 43981,  8889,  1331, 43981, 25272, 31976, 19123, 43981,\n        18063, 36309, 24099, 16915, 43981, 34710, 36633, 25272, 20413,\n        43981, 33458, 14926, 43981, 12139, 12289, 39617, 36633,  9483,\n        42958],\n       [12139,  7841, 19666, 31757, 43981, 17853, 25745, 15445, 43981,\n        19123, 35029, 16908, 21113, 21068, 43981, 43981,  5668, 43981,\n        33456, 43981, 34554, 43981,  1200, 27498, 43981, 18802, 20514,\n        14193, 43981, 43981, 23955, 14042, 15400, 43981, 43981, 32334,\n        20514, 35029,  7870, 12139, 17108, 25745, 43830, 14193, 28743,\n        25272, 43981, 15402, 17006,   222, 25272, 43981, 43981, 33994,\n        43981, 43981, 42659, 12375, 43981, 43981, 19123,  1331, 19870,\n         7816, 43981, 31696, 25272, 23801, 13877, 20526, 43981, 12139,\n        43981, 12139, 37939,  7841, 24998, 29109, 43981, 14193, 43981,\n        19123, 16266,  8017, 14193, 43099, 43981, 16909, 43981, 30811,\n        14042, 12375, 43981, 25574, 43981, 34511, 21851, 14087,  9370,\n        33458]])"
     },
     "execution_count": 18,
     "metadata": {},
     "output_type": "execute_result"
    }
   ],
   "source": [
    "train_input_ids[:2]"
   ]
  },
  {
   "cell_type": "markdown",
   "metadata": {
    "id": "L5svfigoOgaE",
    "pycharm": {
     "name": "#%% md\n"
    }
   },
   "source": [
    "### 1.3.2. Training/Test Sets for BERT-based models\n",
    "\n",
    "We already imported the BERT model and the Tokenizer libraries. Now, we create the tokenizer:"
   ]
  },
  {
   "cell_type": "code",
   "execution_count": 19,
   "metadata": {
    "id": "LEyBUFlT53zk",
    "colab": {
     "base_uri": "https://localhost:8080/",
     "height": 113,
     "referenced_widgets": [
      "b75ff0379a7243aaaa6f4bb41a3c47ae",
      "c5dffae31ca94e82963516b8cf31f865",
      "a4d77158c3a4405f9bd4cc2a8a16a532",
      "f98ebbd322d74ca8a04feee3d69ada23",
      "da2a600767af43b4bc178c8885c73780",
      "484a4a6c26454ce59e4c48a7255f6085",
      "b8a167f108b74ebfad6bf0703543868c",
      "12b71171a3994d0799e6ae4ec86fbc33",
      "c8fc19c4ef324e72b698336d2e13c8b7",
      "26e89fd827324d21bdfbdcbbdfcb40fa",
      "6883171285e241cdb64f19e6bb74d539",
      "1230cc73240d45568cc4b2659d5fe773",
      "c6de0d292d4b4c4bb8707d6faa884eff",
      "20105931a4de498bbefee8d84a264056",
      "33afdeafd642487ea9301274a43938d3",
      "f23cc37ef39b4623b85bae85a36e85cc",
      "897d768a631840e1bcccff7aa2aefccc",
      "5bf4a3103dd74b268a04212c24782710",
      "8316b55df8c540339065496df11fbb71",
      "54159cf806f64419a66a360b3c9cf0a1",
      "b44428af045e42e79ee558a3c389437e",
      "3941c5b885fb44c18ab970b2c7c03632",
      "b9397fb1d257401e895293ab9c315102",
      "8a51afa153a94fc88299a1f2116cef05",
      "ba5b4007be97491f916eeb4136e7a432",
      "3e2bf24a0716479f92ed3c4b0c35e325",
      "5475d68c46cb4f659a8176111ee01e22",
      "60f01fd9c02c4b92bcef9b72463088db",
      "71f3d72222e54a58a2507216297b3a71",
      "2b02234260ee412d8bf6121b5a30086b",
      "49bbe09a1e574f2c97b371336dcb69f0",
      "6d36ee7d72644f45ae231fd8e9f56377",
      "9894680464e04be4b63412473798c26d"
     ]
    },
    "outputId": "e0d4ca8f-3e21-453a-edd0-bfcb5cdbb83a",
    "pycharm": {
     "name": "#%%\n"
    }
   },
   "outputs": [],
   "source": [
    "bert_tokenizer = BertTokenizer.from_pretrained('bert-base-cased')"
   ]
  },
  {
   "cell_type": "markdown",
   "metadata": {
    "id": "aYyzQ0Wi9Mdw",
    "pycharm": {
     "name": "#%% md\n"
    }
   },
   "source": [
    "Since the Tokenizer of BERT is not a whitespace tokenizer, each sentence will almost certainly result in more BERT tokens than whitespace tokens. Since we don't want to cheat by showing BERT more examples than other models we should restrict ourselves to the data that will also be seen by the other models:  "
   ]
  },
  {
   "cell_type": "code",
   "execution_count": 20,
   "metadata": {
    "id": "qM1qYCxz6z3a",
    "pycharm": {
     "name": "#%%\n"
    }
   },
   "outputs": [],
   "source": [
    "#@title Limit BERT data to the set used with word2vec \n",
    "all_train_examples = [x.decode('utf-8') for x in train_examples_batch.numpy()]\n",
    "all_test_examples = [x.decode('utf-8') for x in test_examples_batch.numpy()]\n",
    "\n",
    "bert_valid_train_examples_text = []\n",
    "bert_valid_train_examples_labels = []\n",
    "\n",
    "bert_valid_test_examples_text = []\n",
    "bert_valid_test_examples_labels = []\n",
    "\n",
    "for valid_example in train_valid_example_list:\n",
    "  bert_valid_train_examples_text.append(all_train_examples[valid_example])\n",
    "  bert_valid_train_examples_labels.append(train_labels_batch[valid_example])\n",
    "\n",
    "for valid_example in test_valid_example_list:\n",
    "  bert_valid_test_examples_text.append(all_test_examples[valid_example])\n",
    "  bert_valid_test_examples_labels.append(test_labels_batch[valid_example])\n",
    "\n",
    "\n"
   ]
  },
  {
   "cell_type": "code",
   "execution_count": 47,
   "outputs": [
    {
     "data": {
      "text/plain": "<tf.Tensor: shape=(20000,), dtype=int64, numpy=array([0, 0, 0, ..., 0, 0, 0], dtype=int64)>"
     },
     "execution_count": 47,
     "metadata": {},
     "output_type": "execute_result"
    }
   ],
   "source": [
    "train_labels_batch"
   ],
   "metadata": {
    "collapsed": false,
    "pycharm": {
     "name": "#%%\n"
    }
   }
  },
  {
   "cell_type": "markdown",
   "metadata": {
    "id": "BuBp01dtAZ4e",
    "pycharm": {
     "name": "#%% md\n"
    }
   },
   "source": [
    "Next, we will create our training and test sets for BERT models."
   ]
  },
  {
   "cell_type": "code",
   "execution_count": 21,
   "metadata": {
    "id": "cpSk9zvw532w",
    "pycharm": {
     "name": "#%%\n"
    }
   },
   "outputs": [],
   "source": [
    "#@title BERT Tokenization of training and test data\n",
    "\n",
    "num_train_examples = 2500000\n",
    "num_test_examples = 500000\n",
    "\n",
    "max_length = SEQUENCE_LENGTH\n",
    "\n",
    "\n",
    "x_train = bert_tokenizer(bert_valid_train_examples_text[:num_train_examples], \n",
    "              max_length=max_length,\n",
    "              truncation=True,\n",
    "              padding='max_length', \n",
    "              return_tensors='tf')\n",
    "y_train = bert_valid_train_examples_labels[:num_train_examples]\n",
    "\n",
    "x_test = bert_tokenizer(bert_valid_test_examples_text[:num_test_examples], \n",
    "              max_length=max_length,\n",
    "              truncation=True,\n",
    "              padding='max_length', \n",
    "              return_tensors='tf')\n",
    "y_test = bert_valid_test_examples_labels[:num_test_examples]\n",
    "\n",
    "\n",
    "def select_min_length_examples(x_data, y_data):\n",
    "\n",
    "  x_input_ids = []\n",
    "  y_labels = []\n",
    "\n",
    "  for ((input_ids, masks), label) in zip(zip(x_data['input_ids'], x_data['attention_mask']), y_data):\n",
    "    if masks[-1] == 1:\n",
    "      x_input_ids.append(input_ids)\n",
    "      y_labels.append(label)\n",
    "\n",
    "  return np.array(x_input_ids), np.array(y_labels) \n"
   ]
  },
  {
   "cell_type": "code",
   "execution_count": 44,
   "outputs": [
    {
     "data": {
      "text/plain": "[<tf.Tensor: shape=(), dtype=int64, numpy=0>,\n <tf.Tensor: shape=(), dtype=int64, numpy=0>,\n <tf.Tensor: shape=(), dtype=int64, numpy=0>,\n <tf.Tensor: shape=(), dtype=int64, numpy=1>,\n <tf.Tensor: shape=(), dtype=int64, numpy=1>,\n <tf.Tensor: shape=(), dtype=int64, numpy=1>,\n <tf.Tensor: shape=(), dtype=int64, numpy=0>,\n <tf.Tensor: shape=(), dtype=int64, numpy=0>,\n <tf.Tensor: shape=(), dtype=int64, numpy=0>,\n <tf.Tensor: shape=(), dtype=int64, numpy=0>,\n <tf.Tensor: shape=(), dtype=int64, numpy=0>,\n <tf.Tensor: shape=(), dtype=int64, numpy=1>,\n <tf.Tensor: shape=(), dtype=int64, numpy=1>,\n <tf.Tensor: shape=(), dtype=int64, numpy=0>,\n <tf.Tensor: shape=(), dtype=int64, numpy=1>,\n <tf.Tensor: shape=(), dtype=int64, numpy=0>,\n <tf.Tensor: shape=(), dtype=int64, numpy=1>,\n <tf.Tensor: shape=(), dtype=int64, numpy=1>,\n <tf.Tensor: shape=(), dtype=int64, numpy=1>,\n <tf.Tensor: shape=(), dtype=int64, numpy=0>,\n <tf.Tensor: shape=(), dtype=int64, numpy=1>,\n <tf.Tensor: shape=(), dtype=int64, numpy=1>,\n <tf.Tensor: shape=(), dtype=int64, numpy=1>,\n <tf.Tensor: shape=(), dtype=int64, numpy=1>,\n <tf.Tensor: shape=(), dtype=int64, numpy=1>,\n <tf.Tensor: shape=(), dtype=int64, numpy=0>,\n <tf.Tensor: shape=(), dtype=int64, numpy=0>,\n <tf.Tensor: shape=(), dtype=int64, numpy=0>,\n <tf.Tensor: shape=(), dtype=int64, numpy=1>,\n <tf.Tensor: shape=(), dtype=int64, numpy=0>,\n <tf.Tensor: shape=(), dtype=int64, numpy=0>,\n <tf.Tensor: shape=(), dtype=int64, numpy=0>,\n <tf.Tensor: shape=(), dtype=int64, numpy=0>,\n <tf.Tensor: shape=(), dtype=int64, numpy=0>,\n <tf.Tensor: shape=(), dtype=int64, numpy=0>,\n <tf.Tensor: shape=(), dtype=int64, numpy=1>,\n <tf.Tensor: shape=(), dtype=int64, numpy=1>,\n <tf.Tensor: shape=(), dtype=int64, numpy=0>,\n <tf.Tensor: shape=(), dtype=int64, numpy=0>,\n <tf.Tensor: shape=(), dtype=int64, numpy=1>,\n <tf.Tensor: shape=(), dtype=int64, numpy=0>,\n <tf.Tensor: shape=(), dtype=int64, numpy=0>,\n <tf.Tensor: shape=(), dtype=int64, numpy=0>,\n <tf.Tensor: shape=(), dtype=int64, numpy=0>,\n <tf.Tensor: shape=(), dtype=int64, numpy=0>,\n <tf.Tensor: shape=(), dtype=int64, numpy=0>,\n <tf.Tensor: shape=(), dtype=int64, numpy=0>,\n <tf.Tensor: shape=(), dtype=int64, numpy=1>,\n <tf.Tensor: shape=(), dtype=int64, numpy=0>,\n <tf.Tensor: shape=(), dtype=int64, numpy=1>,\n <tf.Tensor: shape=(), dtype=int64, numpy=1>,\n <tf.Tensor: shape=(), dtype=int64, numpy=1>,\n <tf.Tensor: shape=(), dtype=int64, numpy=1>,\n <tf.Tensor: shape=(), dtype=int64, numpy=1>,\n <tf.Tensor: shape=(), dtype=int64, numpy=0>,\n <tf.Tensor: shape=(), dtype=int64, numpy=1>,\n <tf.Tensor: shape=(), dtype=int64, numpy=0>,\n <tf.Tensor: shape=(), dtype=int64, numpy=1>,\n <tf.Tensor: shape=(), dtype=int64, numpy=1>,\n <tf.Tensor: shape=(), dtype=int64, numpy=1>,\n <tf.Tensor: shape=(), dtype=int64, numpy=1>,\n <tf.Tensor: shape=(), dtype=int64, numpy=1>,\n <tf.Tensor: shape=(), dtype=int64, numpy=0>,\n <tf.Tensor: shape=(), dtype=int64, numpy=1>,\n <tf.Tensor: shape=(), dtype=int64, numpy=1>,\n <tf.Tensor: shape=(), dtype=int64, numpy=1>,\n <tf.Tensor: shape=(), dtype=int64, numpy=0>,\n <tf.Tensor: shape=(), dtype=int64, numpy=0>,\n <tf.Tensor: shape=(), dtype=int64, numpy=1>,\n <tf.Tensor: shape=(), dtype=int64, numpy=0>,\n <tf.Tensor: shape=(), dtype=int64, numpy=0>,\n <tf.Tensor: shape=(), dtype=int64, numpy=0>,\n <tf.Tensor: shape=(), dtype=int64, numpy=1>,\n <tf.Tensor: shape=(), dtype=int64, numpy=0>,\n <tf.Tensor: shape=(), dtype=int64, numpy=1>,\n <tf.Tensor: shape=(), dtype=int64, numpy=1>,\n <tf.Tensor: shape=(), dtype=int64, numpy=1>,\n <tf.Tensor: shape=(), dtype=int64, numpy=1>,\n <tf.Tensor: shape=(), dtype=int64, numpy=0>,\n <tf.Tensor: shape=(), dtype=int64, numpy=1>,\n <tf.Tensor: shape=(), dtype=int64, numpy=0>,\n <tf.Tensor: shape=(), dtype=int64, numpy=0>,\n <tf.Tensor: shape=(), dtype=int64, numpy=1>,\n <tf.Tensor: shape=(), dtype=int64, numpy=1>,\n <tf.Tensor: shape=(), dtype=int64, numpy=0>,\n <tf.Tensor: shape=(), dtype=int64, numpy=0>,\n <tf.Tensor: shape=(), dtype=int64, numpy=1>,\n <tf.Tensor: shape=(), dtype=int64, numpy=1>,\n <tf.Tensor: shape=(), dtype=int64, numpy=0>,\n <tf.Tensor: shape=(), dtype=int64, numpy=1>,\n <tf.Tensor: shape=(), dtype=int64, numpy=0>,\n <tf.Tensor: shape=(), dtype=int64, numpy=0>,\n <tf.Tensor: shape=(), dtype=int64, numpy=1>,\n <tf.Tensor: shape=(), dtype=int64, numpy=1>,\n <tf.Tensor: shape=(), dtype=int64, numpy=0>,\n <tf.Tensor: shape=(), dtype=int64, numpy=1>,\n <tf.Tensor: shape=(), dtype=int64, numpy=1>,\n <tf.Tensor: shape=(), dtype=int64, numpy=1>,\n <tf.Tensor: shape=(), dtype=int64, numpy=0>,\n <tf.Tensor: shape=(), dtype=int64, numpy=1>,\n <tf.Tensor: shape=(), dtype=int64, numpy=1>,\n <tf.Tensor: shape=(), dtype=int64, numpy=0>,\n <tf.Tensor: shape=(), dtype=int64, numpy=1>,\n <tf.Tensor: shape=(), dtype=int64, numpy=0>,\n <tf.Tensor: shape=(), dtype=int64, numpy=0>,\n <tf.Tensor: shape=(), dtype=int64, numpy=1>,\n <tf.Tensor: shape=(), dtype=int64, numpy=0>,\n <tf.Tensor: shape=(), dtype=int64, numpy=1>,\n <tf.Tensor: shape=(), dtype=int64, numpy=1>,\n <tf.Tensor: shape=(), dtype=int64, numpy=0>,\n <tf.Tensor: shape=(), dtype=int64, numpy=0>,\n <tf.Tensor: shape=(), dtype=int64, numpy=1>,\n <tf.Tensor: shape=(), dtype=int64, numpy=0>,\n <tf.Tensor: shape=(), dtype=int64, numpy=0>,\n <tf.Tensor: shape=(), dtype=int64, numpy=0>,\n <tf.Tensor: shape=(), dtype=int64, numpy=0>,\n <tf.Tensor: shape=(), dtype=int64, numpy=0>,\n <tf.Tensor: shape=(), dtype=int64, numpy=0>,\n <tf.Tensor: shape=(), dtype=int64, numpy=1>,\n <tf.Tensor: shape=(), dtype=int64, numpy=1>,\n <tf.Tensor: shape=(), dtype=int64, numpy=1>,\n <tf.Tensor: shape=(), dtype=int64, numpy=1>,\n <tf.Tensor: shape=(), dtype=int64, numpy=1>,\n <tf.Tensor: shape=(), dtype=int64, numpy=1>,\n <tf.Tensor: shape=(), dtype=int64, numpy=1>,\n <tf.Tensor: shape=(), dtype=int64, numpy=0>,\n <tf.Tensor: shape=(), dtype=int64, numpy=1>,\n <tf.Tensor: shape=(), dtype=int64, numpy=1>,\n <tf.Tensor: shape=(), dtype=int64, numpy=1>,\n <tf.Tensor: shape=(), dtype=int64, numpy=0>,\n <tf.Tensor: shape=(), dtype=int64, numpy=1>,\n <tf.Tensor: shape=(), dtype=int64, numpy=1>,\n <tf.Tensor: shape=(), dtype=int64, numpy=1>,\n <tf.Tensor: shape=(), dtype=int64, numpy=0>,\n <tf.Tensor: shape=(), dtype=int64, numpy=1>,\n <tf.Tensor: shape=(), dtype=int64, numpy=0>,\n <tf.Tensor: shape=(), dtype=int64, numpy=0>,\n <tf.Tensor: shape=(), dtype=int64, numpy=0>,\n <tf.Tensor: shape=(), dtype=int64, numpy=0>,\n <tf.Tensor: shape=(), dtype=int64, numpy=1>,\n <tf.Tensor: shape=(), dtype=int64, numpy=1>,\n <tf.Tensor: shape=(), dtype=int64, numpy=1>,\n <tf.Tensor: shape=(), dtype=int64, numpy=1>,\n <tf.Tensor: shape=(), dtype=int64, numpy=0>,\n <tf.Tensor: shape=(), dtype=int64, numpy=1>,\n <tf.Tensor: shape=(), dtype=int64, numpy=0>,\n <tf.Tensor: shape=(), dtype=int64, numpy=0>,\n <tf.Tensor: shape=(), dtype=int64, numpy=1>,\n <tf.Tensor: shape=(), dtype=int64, numpy=0>,\n <tf.Tensor: shape=(), dtype=int64, numpy=1>,\n <tf.Tensor: shape=(), dtype=int64, numpy=1>,\n <tf.Tensor: shape=(), dtype=int64, numpy=1>,\n <tf.Tensor: shape=(), dtype=int64, numpy=1>,\n <tf.Tensor: shape=(), dtype=int64, numpy=1>,\n <tf.Tensor: shape=(), dtype=int64, numpy=0>,\n <tf.Tensor: shape=(), dtype=int64, numpy=0>,\n <tf.Tensor: shape=(), dtype=int64, numpy=0>,\n <tf.Tensor: shape=(), dtype=int64, numpy=1>,\n <tf.Tensor: shape=(), dtype=int64, numpy=1>,\n <tf.Tensor: shape=(), dtype=int64, numpy=1>,\n <tf.Tensor: shape=(), dtype=int64, numpy=0>,\n <tf.Tensor: shape=(), dtype=int64, numpy=0>,\n <tf.Tensor: shape=(), dtype=int64, numpy=0>,\n <tf.Tensor: shape=(), dtype=int64, numpy=0>,\n <tf.Tensor: shape=(), dtype=int64, numpy=0>,\n <tf.Tensor: shape=(), dtype=int64, numpy=0>,\n <tf.Tensor: shape=(), dtype=int64, numpy=1>,\n <tf.Tensor: shape=(), dtype=int64, numpy=0>,\n <tf.Tensor: shape=(), dtype=int64, numpy=1>,\n <tf.Tensor: shape=(), dtype=int64, numpy=1>,\n <tf.Tensor: shape=(), dtype=int64, numpy=1>,\n <tf.Tensor: shape=(), dtype=int64, numpy=0>,\n <tf.Tensor: shape=(), dtype=int64, numpy=0>,\n <tf.Tensor: shape=(), dtype=int64, numpy=0>,\n <tf.Tensor: shape=(), dtype=int64, numpy=1>,\n <tf.Tensor: shape=(), dtype=int64, numpy=1>,\n <tf.Tensor: shape=(), dtype=int64, numpy=0>,\n <tf.Tensor: shape=(), dtype=int64, numpy=0>,\n <tf.Tensor: shape=(), dtype=int64, numpy=0>,\n <tf.Tensor: shape=(), dtype=int64, numpy=1>,\n <tf.Tensor: shape=(), dtype=int64, numpy=1>,\n <tf.Tensor: shape=(), dtype=int64, numpy=1>,\n <tf.Tensor: shape=(), dtype=int64, numpy=0>,\n <tf.Tensor: shape=(), dtype=int64, numpy=0>,\n <tf.Tensor: shape=(), dtype=int64, numpy=0>,\n <tf.Tensor: shape=(), dtype=int64, numpy=1>,\n <tf.Tensor: shape=(), dtype=int64, numpy=0>,\n <tf.Tensor: shape=(), dtype=int64, numpy=0>,\n <tf.Tensor: shape=(), dtype=int64, numpy=0>,\n <tf.Tensor: shape=(), dtype=int64, numpy=1>,\n <tf.Tensor: shape=(), dtype=int64, numpy=0>,\n <tf.Tensor: shape=(), dtype=int64, numpy=1>,\n <tf.Tensor: shape=(), dtype=int64, numpy=1>,\n <tf.Tensor: shape=(), dtype=int64, numpy=1>,\n <tf.Tensor: shape=(), dtype=int64, numpy=0>,\n <tf.Tensor: shape=(), dtype=int64, numpy=1>,\n <tf.Tensor: shape=(), dtype=int64, numpy=1>,\n <tf.Tensor: shape=(), dtype=int64, numpy=0>,\n <tf.Tensor: shape=(), dtype=int64, numpy=0>,\n <tf.Tensor: shape=(), dtype=int64, numpy=1>,\n <tf.Tensor: shape=(), dtype=int64, numpy=0>,\n <tf.Tensor: shape=(), dtype=int64, numpy=0>,\n <tf.Tensor: shape=(), dtype=int64, numpy=1>,\n <tf.Tensor: shape=(), dtype=int64, numpy=0>,\n <tf.Tensor: shape=(), dtype=int64, numpy=0>,\n <tf.Tensor: shape=(), dtype=int64, numpy=0>,\n <tf.Tensor: shape=(), dtype=int64, numpy=0>,\n <tf.Tensor: shape=(), dtype=int64, numpy=0>,\n <tf.Tensor: shape=(), dtype=int64, numpy=1>,\n <tf.Tensor: shape=(), dtype=int64, numpy=0>,\n <tf.Tensor: shape=(), dtype=int64, numpy=1>,\n <tf.Tensor: shape=(), dtype=int64, numpy=1>,\n <tf.Tensor: shape=(), dtype=int64, numpy=0>,\n <tf.Tensor: shape=(), dtype=int64, numpy=0>,\n <tf.Tensor: shape=(), dtype=int64, numpy=0>,\n <tf.Tensor: shape=(), dtype=int64, numpy=1>,\n <tf.Tensor: shape=(), dtype=int64, numpy=1>,\n <tf.Tensor: shape=(), dtype=int64, numpy=1>,\n <tf.Tensor: shape=(), dtype=int64, numpy=1>,\n <tf.Tensor: shape=(), dtype=int64, numpy=0>,\n <tf.Tensor: shape=(), dtype=int64, numpy=1>,\n <tf.Tensor: shape=(), dtype=int64, numpy=0>,\n <tf.Tensor: shape=(), dtype=int64, numpy=0>,\n <tf.Tensor: shape=(), dtype=int64, numpy=1>,\n <tf.Tensor: shape=(), dtype=int64, numpy=0>,\n <tf.Tensor: shape=(), dtype=int64, numpy=0>,\n <tf.Tensor: shape=(), dtype=int64, numpy=1>,\n <tf.Tensor: shape=(), dtype=int64, numpy=1>,\n <tf.Tensor: shape=(), dtype=int64, numpy=0>,\n <tf.Tensor: shape=(), dtype=int64, numpy=0>,\n <tf.Tensor: shape=(), dtype=int64, numpy=0>,\n <tf.Tensor: shape=(), dtype=int64, numpy=1>,\n <tf.Tensor: shape=(), dtype=int64, numpy=0>,\n <tf.Tensor: shape=(), dtype=int64, numpy=1>,\n <tf.Tensor: shape=(), dtype=int64, numpy=1>,\n <tf.Tensor: shape=(), dtype=int64, numpy=1>,\n <tf.Tensor: shape=(), dtype=int64, numpy=1>,\n <tf.Tensor: shape=(), dtype=int64, numpy=0>,\n <tf.Tensor: shape=(), dtype=int64, numpy=0>,\n <tf.Tensor: shape=(), dtype=int64, numpy=0>,\n <tf.Tensor: shape=(), dtype=int64, numpy=0>,\n <tf.Tensor: shape=(), dtype=int64, numpy=1>,\n <tf.Tensor: shape=(), dtype=int64, numpy=1>,\n <tf.Tensor: shape=(), dtype=int64, numpy=1>,\n <tf.Tensor: shape=(), dtype=int64, numpy=0>,\n <tf.Tensor: shape=(), dtype=int64, numpy=1>,\n <tf.Tensor: shape=(), dtype=int64, numpy=0>,\n <tf.Tensor: shape=(), dtype=int64, numpy=0>,\n <tf.Tensor: shape=(), dtype=int64, numpy=0>,\n <tf.Tensor: shape=(), dtype=int64, numpy=1>,\n <tf.Tensor: shape=(), dtype=int64, numpy=1>,\n <tf.Tensor: shape=(), dtype=int64, numpy=0>,\n <tf.Tensor: shape=(), dtype=int64, numpy=1>,\n <tf.Tensor: shape=(), dtype=int64, numpy=0>,\n <tf.Tensor: shape=(), dtype=int64, numpy=0>,\n <tf.Tensor: shape=(), dtype=int64, numpy=1>,\n <tf.Tensor: shape=(), dtype=int64, numpy=1>,\n <tf.Tensor: shape=(), dtype=int64, numpy=0>,\n <tf.Tensor: shape=(), dtype=int64, numpy=0>,\n <tf.Tensor: shape=(), dtype=int64, numpy=1>,\n <tf.Tensor: shape=(), dtype=int64, numpy=1>,\n <tf.Tensor: shape=(), dtype=int64, numpy=0>,\n <tf.Tensor: shape=(), dtype=int64, numpy=1>,\n <tf.Tensor: shape=(), dtype=int64, numpy=0>,\n <tf.Tensor: shape=(), dtype=int64, numpy=1>,\n <tf.Tensor: shape=(), dtype=int64, numpy=1>,\n <tf.Tensor: shape=(), dtype=int64, numpy=1>,\n <tf.Tensor: shape=(), dtype=int64, numpy=1>,\n <tf.Tensor: shape=(), dtype=int64, numpy=1>,\n <tf.Tensor: shape=(), dtype=int64, numpy=0>,\n <tf.Tensor: shape=(), dtype=int64, numpy=0>,\n <tf.Tensor: shape=(), dtype=int64, numpy=1>,\n <tf.Tensor: shape=(), dtype=int64, numpy=1>,\n <tf.Tensor: shape=(), dtype=int64, numpy=1>,\n <tf.Tensor: shape=(), dtype=int64, numpy=1>,\n <tf.Tensor: shape=(), dtype=int64, numpy=1>,\n <tf.Tensor: shape=(), dtype=int64, numpy=0>,\n <tf.Tensor: shape=(), dtype=int64, numpy=1>,\n <tf.Tensor: shape=(), dtype=int64, numpy=1>,\n <tf.Tensor: shape=(), dtype=int64, numpy=0>,\n <tf.Tensor: shape=(), dtype=int64, numpy=1>,\n <tf.Tensor: shape=(), dtype=int64, numpy=1>,\n <tf.Tensor: shape=(), dtype=int64, numpy=0>,\n <tf.Tensor: shape=(), dtype=int64, numpy=0>,\n <tf.Tensor: shape=(), dtype=int64, numpy=0>,\n <tf.Tensor: shape=(), dtype=int64, numpy=0>,\n <tf.Tensor: shape=(), dtype=int64, numpy=0>,\n <tf.Tensor: shape=(), dtype=int64, numpy=0>,\n <tf.Tensor: shape=(), dtype=int64, numpy=1>,\n <tf.Tensor: shape=(), dtype=int64, numpy=0>,\n <tf.Tensor: shape=(), dtype=int64, numpy=1>,\n <tf.Tensor: shape=(), dtype=int64, numpy=1>,\n <tf.Tensor: shape=(), dtype=int64, numpy=0>,\n <tf.Tensor: shape=(), dtype=int64, numpy=0>,\n <tf.Tensor: shape=(), dtype=int64, numpy=0>,\n <tf.Tensor: shape=(), dtype=int64, numpy=0>,\n <tf.Tensor: shape=(), dtype=int64, numpy=1>,\n <tf.Tensor: shape=(), dtype=int64, numpy=1>,\n <tf.Tensor: shape=(), dtype=int64, numpy=1>,\n <tf.Tensor: shape=(), dtype=int64, numpy=0>,\n <tf.Tensor: shape=(), dtype=int64, numpy=0>,\n <tf.Tensor: shape=(), dtype=int64, numpy=0>,\n <tf.Tensor: shape=(), dtype=int64, numpy=0>,\n <tf.Tensor: shape=(), dtype=int64, numpy=1>,\n <tf.Tensor: shape=(), dtype=int64, numpy=1>,\n <tf.Tensor: shape=(), dtype=int64, numpy=0>,\n <tf.Tensor: shape=(), dtype=int64, numpy=1>,\n <tf.Tensor: shape=(), dtype=int64, numpy=1>,\n <tf.Tensor: shape=(), dtype=int64, numpy=0>,\n <tf.Tensor: shape=(), dtype=int64, numpy=1>,\n <tf.Tensor: shape=(), dtype=int64, numpy=0>,\n <tf.Tensor: shape=(), dtype=int64, numpy=0>,\n <tf.Tensor: shape=(), dtype=int64, numpy=0>,\n <tf.Tensor: shape=(), dtype=int64, numpy=0>,\n <tf.Tensor: shape=(), dtype=int64, numpy=0>,\n <tf.Tensor: shape=(), dtype=int64, numpy=0>,\n <tf.Tensor: shape=(), dtype=int64, numpy=0>,\n <tf.Tensor: shape=(), dtype=int64, numpy=1>,\n <tf.Tensor: shape=(), dtype=int64, numpy=0>,\n <tf.Tensor: shape=(), dtype=int64, numpy=0>,\n <tf.Tensor: shape=(), dtype=int64, numpy=0>,\n <tf.Tensor: shape=(), dtype=int64, numpy=0>,\n <tf.Tensor: shape=(), dtype=int64, numpy=1>,\n <tf.Tensor: shape=(), dtype=int64, numpy=1>,\n <tf.Tensor: shape=(), dtype=int64, numpy=0>,\n <tf.Tensor: shape=(), dtype=int64, numpy=1>,\n <tf.Tensor: shape=(), dtype=int64, numpy=0>,\n <tf.Tensor: shape=(), dtype=int64, numpy=1>,\n <tf.Tensor: shape=(), dtype=int64, numpy=1>,\n <tf.Tensor: shape=(), dtype=int64, numpy=0>,\n <tf.Tensor: shape=(), dtype=int64, numpy=0>,\n <tf.Tensor: shape=(), dtype=int64, numpy=1>,\n <tf.Tensor: shape=(), dtype=int64, numpy=1>,\n <tf.Tensor: shape=(), dtype=int64, numpy=1>,\n <tf.Tensor: shape=(), dtype=int64, numpy=0>,\n <tf.Tensor: shape=(), dtype=int64, numpy=0>,\n <tf.Tensor: shape=(), dtype=int64, numpy=0>,\n <tf.Tensor: shape=(), dtype=int64, numpy=1>,\n <tf.Tensor: shape=(), dtype=int64, numpy=1>,\n <tf.Tensor: shape=(), dtype=int64, numpy=0>,\n <tf.Tensor: shape=(), dtype=int64, numpy=1>,\n <tf.Tensor: shape=(), dtype=int64, numpy=0>,\n <tf.Tensor: shape=(), dtype=int64, numpy=0>,\n <tf.Tensor: shape=(), dtype=int64, numpy=1>,\n <tf.Tensor: shape=(), dtype=int64, numpy=0>,\n <tf.Tensor: shape=(), dtype=int64, numpy=1>,\n <tf.Tensor: shape=(), dtype=int64, numpy=1>,\n <tf.Tensor: shape=(), dtype=int64, numpy=0>,\n <tf.Tensor: shape=(), dtype=int64, numpy=1>,\n <tf.Tensor: shape=(), dtype=int64, numpy=1>,\n <tf.Tensor: shape=(), dtype=int64, numpy=1>,\n <tf.Tensor: shape=(), dtype=int64, numpy=1>,\n <tf.Tensor: shape=(), dtype=int64, numpy=0>,\n <tf.Tensor: shape=(), dtype=int64, numpy=1>,\n <tf.Tensor: shape=(), dtype=int64, numpy=1>,\n <tf.Tensor: shape=(), dtype=int64, numpy=1>,\n <tf.Tensor: shape=(), dtype=int64, numpy=1>,\n <tf.Tensor: shape=(), dtype=int64, numpy=0>,\n <tf.Tensor: shape=(), dtype=int64, numpy=0>,\n <tf.Tensor: shape=(), dtype=int64, numpy=1>,\n <tf.Tensor: shape=(), dtype=int64, numpy=1>,\n <tf.Tensor: shape=(), dtype=int64, numpy=1>,\n <tf.Tensor: shape=(), dtype=int64, numpy=0>,\n <tf.Tensor: shape=(), dtype=int64, numpy=1>,\n <tf.Tensor: shape=(), dtype=int64, numpy=0>,\n <tf.Tensor: shape=(), dtype=int64, numpy=1>,\n <tf.Tensor: shape=(), dtype=int64, numpy=1>,\n <tf.Tensor: shape=(), dtype=int64, numpy=0>,\n <tf.Tensor: shape=(), dtype=int64, numpy=0>,\n <tf.Tensor: shape=(), dtype=int64, numpy=1>,\n <tf.Tensor: shape=(), dtype=int64, numpy=1>,\n <tf.Tensor: shape=(), dtype=int64, numpy=1>,\n <tf.Tensor: shape=(), dtype=int64, numpy=1>,\n <tf.Tensor: shape=(), dtype=int64, numpy=1>,\n <tf.Tensor: shape=(), dtype=int64, numpy=1>,\n <tf.Tensor: shape=(), dtype=int64, numpy=0>,\n <tf.Tensor: shape=(), dtype=int64, numpy=0>,\n <tf.Tensor: shape=(), dtype=int64, numpy=1>,\n <tf.Tensor: shape=(), dtype=int64, numpy=1>,\n <tf.Tensor: shape=(), dtype=int64, numpy=1>,\n <tf.Tensor: shape=(), dtype=int64, numpy=0>,\n <tf.Tensor: shape=(), dtype=int64, numpy=0>,\n <tf.Tensor: shape=(), dtype=int64, numpy=0>,\n <tf.Tensor: shape=(), dtype=int64, numpy=1>,\n <tf.Tensor: shape=(), dtype=int64, numpy=0>,\n <tf.Tensor: shape=(), dtype=int64, numpy=1>,\n <tf.Tensor: shape=(), dtype=int64, numpy=1>,\n <tf.Tensor: shape=(), dtype=int64, numpy=0>,\n <tf.Tensor: shape=(), dtype=int64, numpy=0>,\n <tf.Tensor: shape=(), dtype=int64, numpy=1>,\n <tf.Tensor: shape=(), dtype=int64, numpy=1>,\n <tf.Tensor: shape=(), dtype=int64, numpy=1>,\n <tf.Tensor: shape=(), dtype=int64, numpy=1>,\n <tf.Tensor: shape=(), dtype=int64, numpy=1>,\n <tf.Tensor: shape=(), dtype=int64, numpy=1>,\n <tf.Tensor: shape=(), dtype=int64, numpy=0>,\n <tf.Tensor: shape=(), dtype=int64, numpy=0>,\n <tf.Tensor: shape=(), dtype=int64, numpy=0>,\n <tf.Tensor: shape=(), dtype=int64, numpy=1>,\n <tf.Tensor: shape=(), dtype=int64, numpy=0>,\n <tf.Tensor: shape=(), dtype=int64, numpy=1>,\n <tf.Tensor: shape=(), dtype=int64, numpy=0>,\n <tf.Tensor: shape=(), dtype=int64, numpy=1>,\n <tf.Tensor: shape=(), dtype=int64, numpy=1>,\n <tf.Tensor: shape=(), dtype=int64, numpy=1>,\n <tf.Tensor: shape=(), dtype=int64, numpy=1>,\n <tf.Tensor: shape=(), dtype=int64, numpy=0>,\n <tf.Tensor: shape=(), dtype=int64, numpy=1>,\n <tf.Tensor: shape=(), dtype=int64, numpy=0>,\n <tf.Tensor: shape=(), dtype=int64, numpy=0>,\n <tf.Tensor: shape=(), dtype=int64, numpy=0>,\n <tf.Tensor: shape=(), dtype=int64, numpy=0>,\n <tf.Tensor: shape=(), dtype=int64, numpy=1>,\n <tf.Tensor: shape=(), dtype=int64, numpy=0>,\n <tf.Tensor: shape=(), dtype=int64, numpy=0>,\n <tf.Tensor: shape=(), dtype=int64, numpy=0>,\n <tf.Tensor: shape=(), dtype=int64, numpy=0>,\n <tf.Tensor: shape=(), dtype=int64, numpy=0>,\n <tf.Tensor: shape=(), dtype=int64, numpy=1>,\n <tf.Tensor: shape=(), dtype=int64, numpy=1>,\n <tf.Tensor: shape=(), dtype=int64, numpy=0>,\n <tf.Tensor: shape=(), dtype=int64, numpy=0>,\n <tf.Tensor: shape=(), dtype=int64, numpy=0>,\n <tf.Tensor: shape=(), dtype=int64, numpy=1>,\n <tf.Tensor: shape=(), dtype=int64, numpy=1>,\n <tf.Tensor: shape=(), dtype=int64, numpy=0>,\n <tf.Tensor: shape=(), dtype=int64, numpy=0>,\n <tf.Tensor: shape=(), dtype=int64, numpy=0>,\n <tf.Tensor: shape=(), dtype=int64, numpy=1>,\n <tf.Tensor: shape=(), dtype=int64, numpy=1>,\n <tf.Tensor: shape=(), dtype=int64, numpy=0>,\n <tf.Tensor: shape=(), dtype=int64, numpy=1>,\n <tf.Tensor: shape=(), dtype=int64, numpy=1>,\n <tf.Tensor: shape=(), dtype=int64, numpy=1>,\n <tf.Tensor: shape=(), dtype=int64, numpy=0>,\n <tf.Tensor: shape=(), dtype=int64, numpy=1>,\n <tf.Tensor: shape=(), dtype=int64, numpy=0>,\n <tf.Tensor: shape=(), dtype=int64, numpy=1>,\n <tf.Tensor: shape=(), dtype=int64, numpy=0>,\n <tf.Tensor: shape=(), dtype=int64, numpy=1>,\n <tf.Tensor: shape=(), dtype=int64, numpy=1>,\n <tf.Tensor: shape=(), dtype=int64, numpy=1>,\n <tf.Tensor: shape=(), dtype=int64, numpy=1>,\n <tf.Tensor: shape=(), dtype=int64, numpy=1>,\n <tf.Tensor: shape=(), dtype=int64, numpy=0>,\n <tf.Tensor: shape=(), dtype=int64, numpy=1>,\n <tf.Tensor: shape=(), dtype=int64, numpy=0>,\n <tf.Tensor: shape=(), dtype=int64, numpy=1>,\n <tf.Tensor: shape=(), dtype=int64, numpy=0>,\n <tf.Tensor: shape=(), dtype=int64, numpy=1>,\n <tf.Tensor: shape=(), dtype=int64, numpy=0>,\n <tf.Tensor: shape=(), dtype=int64, numpy=1>,\n <tf.Tensor: shape=(), dtype=int64, numpy=0>,\n <tf.Tensor: shape=(), dtype=int64, numpy=0>,\n <tf.Tensor: shape=(), dtype=int64, numpy=0>,\n <tf.Tensor: shape=(), dtype=int64, numpy=0>,\n <tf.Tensor: shape=(), dtype=int64, numpy=1>,\n <tf.Tensor: shape=(), dtype=int64, numpy=0>,\n <tf.Tensor: shape=(), dtype=int64, numpy=1>,\n <tf.Tensor: shape=(), dtype=int64, numpy=0>,\n <tf.Tensor: shape=(), dtype=int64, numpy=1>,\n <tf.Tensor: shape=(), dtype=int64, numpy=1>,\n <tf.Tensor: shape=(), dtype=int64, numpy=1>,\n <tf.Tensor: shape=(), dtype=int64, numpy=1>,\n <tf.Tensor: shape=(), dtype=int64, numpy=0>,\n <tf.Tensor: shape=(), dtype=int64, numpy=1>,\n <tf.Tensor: shape=(), dtype=int64, numpy=0>,\n <tf.Tensor: shape=(), dtype=int64, numpy=0>,\n <tf.Tensor: shape=(), dtype=int64, numpy=1>,\n <tf.Tensor: shape=(), dtype=int64, numpy=1>,\n <tf.Tensor: shape=(), dtype=int64, numpy=0>,\n <tf.Tensor: shape=(), dtype=int64, numpy=0>,\n <tf.Tensor: shape=(), dtype=int64, numpy=0>,\n <tf.Tensor: shape=(), dtype=int64, numpy=1>,\n <tf.Tensor: shape=(), dtype=int64, numpy=0>,\n <tf.Tensor: shape=(), dtype=int64, numpy=1>,\n <tf.Tensor: shape=(), dtype=int64, numpy=0>,\n <tf.Tensor: shape=(), dtype=int64, numpy=1>,\n <tf.Tensor: shape=(), dtype=int64, numpy=0>,\n <tf.Tensor: shape=(), dtype=int64, numpy=0>,\n <tf.Tensor: shape=(), dtype=int64, numpy=0>,\n <tf.Tensor: shape=(), dtype=int64, numpy=1>,\n <tf.Tensor: shape=(), dtype=int64, numpy=0>,\n <tf.Tensor: shape=(), dtype=int64, numpy=0>,\n <tf.Tensor: shape=(), dtype=int64, numpy=0>,\n <tf.Tensor: shape=(), dtype=int64, numpy=0>,\n <tf.Tensor: shape=(), dtype=int64, numpy=0>,\n <tf.Tensor: shape=(), dtype=int64, numpy=0>,\n <tf.Tensor: shape=(), dtype=int64, numpy=0>,\n <tf.Tensor: shape=(), dtype=int64, numpy=0>,\n <tf.Tensor: shape=(), dtype=int64, numpy=1>,\n <tf.Tensor: shape=(), dtype=int64, numpy=0>,\n <tf.Tensor: shape=(), dtype=int64, numpy=0>,\n <tf.Tensor: shape=(), dtype=int64, numpy=1>,\n <tf.Tensor: shape=(), dtype=int64, numpy=1>,\n <tf.Tensor: shape=(), dtype=int64, numpy=0>,\n <tf.Tensor: shape=(), dtype=int64, numpy=1>,\n <tf.Tensor: shape=(), dtype=int64, numpy=1>,\n <tf.Tensor: shape=(), dtype=int64, numpy=1>,\n <tf.Tensor: shape=(), dtype=int64, numpy=0>,\n <tf.Tensor: shape=(), dtype=int64, numpy=1>,\n <tf.Tensor: shape=(), dtype=int64, numpy=1>,\n <tf.Tensor: shape=(), dtype=int64, numpy=1>,\n <tf.Tensor: shape=(), dtype=int64, numpy=0>,\n <tf.Tensor: shape=(), dtype=int64, numpy=0>,\n <tf.Tensor: shape=(), dtype=int64, numpy=1>,\n <tf.Tensor: shape=(), dtype=int64, numpy=0>,\n <tf.Tensor: shape=(), dtype=int64, numpy=0>,\n <tf.Tensor: shape=(), dtype=int64, numpy=0>,\n <tf.Tensor: shape=(), dtype=int64, numpy=0>,\n <tf.Tensor: shape=(), dtype=int64, numpy=1>,\n <tf.Tensor: shape=(), dtype=int64, numpy=1>,\n <tf.Tensor: shape=(), dtype=int64, numpy=1>,\n <tf.Tensor: shape=(), dtype=int64, numpy=1>,\n <tf.Tensor: shape=(), dtype=int64, numpy=0>,\n <tf.Tensor: shape=(), dtype=int64, numpy=0>,\n <tf.Tensor: shape=(), dtype=int64, numpy=1>,\n <tf.Tensor: shape=(), dtype=int64, numpy=0>,\n <tf.Tensor: shape=(), dtype=int64, numpy=1>,\n <tf.Tensor: shape=(), dtype=int64, numpy=1>,\n <tf.Tensor: shape=(), dtype=int64, numpy=1>,\n <tf.Tensor: shape=(), dtype=int64, numpy=0>,\n <tf.Tensor: shape=(), dtype=int64, numpy=1>,\n <tf.Tensor: shape=(), dtype=int64, numpy=1>,\n <tf.Tensor: shape=(), dtype=int64, numpy=1>,\n <tf.Tensor: shape=(), dtype=int64, numpy=1>,\n <tf.Tensor: shape=(), dtype=int64, numpy=1>,\n <tf.Tensor: shape=(), dtype=int64, numpy=1>,\n <tf.Tensor: shape=(), dtype=int64, numpy=0>,\n <tf.Tensor: shape=(), dtype=int64, numpy=1>,\n <tf.Tensor: shape=(), dtype=int64, numpy=1>,\n <tf.Tensor: shape=(), dtype=int64, numpy=0>,\n <tf.Tensor: shape=(), dtype=int64, numpy=1>,\n <tf.Tensor: shape=(), dtype=int64, numpy=0>,\n <tf.Tensor: shape=(), dtype=int64, numpy=1>,\n <tf.Tensor: shape=(), dtype=int64, numpy=0>,\n <tf.Tensor: shape=(), dtype=int64, numpy=1>,\n <tf.Tensor: shape=(), dtype=int64, numpy=1>,\n <tf.Tensor: shape=(), dtype=int64, numpy=1>,\n <tf.Tensor: shape=(), dtype=int64, numpy=1>,\n <tf.Tensor: shape=(), dtype=int64, numpy=0>,\n <tf.Tensor: shape=(), dtype=int64, numpy=1>,\n <tf.Tensor: shape=(), dtype=int64, numpy=1>,\n <tf.Tensor: shape=(), dtype=int64, numpy=1>,\n <tf.Tensor: shape=(), dtype=int64, numpy=1>,\n <tf.Tensor: shape=(), dtype=int64, numpy=1>,\n <tf.Tensor: shape=(), dtype=int64, numpy=0>,\n <tf.Tensor: shape=(), dtype=int64, numpy=0>,\n <tf.Tensor: shape=(), dtype=int64, numpy=0>,\n <tf.Tensor: shape=(), dtype=int64, numpy=0>,\n <tf.Tensor: shape=(), dtype=int64, numpy=1>,\n <tf.Tensor: shape=(), dtype=int64, numpy=0>,\n <tf.Tensor: shape=(), dtype=int64, numpy=1>,\n <tf.Tensor: shape=(), dtype=int64, numpy=1>,\n <tf.Tensor: shape=(), dtype=int64, numpy=1>,\n <tf.Tensor: shape=(), dtype=int64, numpy=1>,\n <tf.Tensor: shape=(), dtype=int64, numpy=1>,\n <tf.Tensor: shape=(), dtype=int64, numpy=1>,\n <tf.Tensor: shape=(), dtype=int64, numpy=0>,\n <tf.Tensor: shape=(), dtype=int64, numpy=0>,\n <tf.Tensor: shape=(), dtype=int64, numpy=1>,\n <tf.Tensor: shape=(), dtype=int64, numpy=1>,\n <tf.Tensor: shape=(), dtype=int64, numpy=1>,\n <tf.Tensor: shape=(), dtype=int64, numpy=1>,\n <tf.Tensor: shape=(), dtype=int64, numpy=1>,\n <tf.Tensor: shape=(), dtype=int64, numpy=0>,\n <tf.Tensor: shape=(), dtype=int64, numpy=1>,\n <tf.Tensor: shape=(), dtype=int64, numpy=0>,\n <tf.Tensor: shape=(), dtype=int64, numpy=1>,\n <tf.Tensor: shape=(), dtype=int64, numpy=1>,\n <tf.Tensor: shape=(), dtype=int64, numpy=0>,\n <tf.Tensor: shape=(), dtype=int64, numpy=1>,\n <tf.Tensor: shape=(), dtype=int64, numpy=0>,\n <tf.Tensor: shape=(), dtype=int64, numpy=1>,\n <tf.Tensor: shape=(), dtype=int64, numpy=1>,\n <tf.Tensor: shape=(), dtype=int64, numpy=0>,\n <tf.Tensor: shape=(), dtype=int64, numpy=0>,\n <tf.Tensor: shape=(), dtype=int64, numpy=1>,\n <tf.Tensor: shape=(), dtype=int64, numpy=1>,\n <tf.Tensor: shape=(), dtype=int64, numpy=1>,\n <tf.Tensor: shape=(), dtype=int64, numpy=0>,\n <tf.Tensor: shape=(), dtype=int64, numpy=0>,\n <tf.Tensor: shape=(), dtype=int64, numpy=0>,\n <tf.Tensor: shape=(), dtype=int64, numpy=1>,\n <tf.Tensor: shape=(), dtype=int64, numpy=1>,\n <tf.Tensor: shape=(), dtype=int64, numpy=1>,\n <tf.Tensor: shape=(), dtype=int64, numpy=1>,\n <tf.Tensor: shape=(), dtype=int64, numpy=0>,\n <tf.Tensor: shape=(), dtype=int64, numpy=0>,\n <tf.Tensor: shape=(), dtype=int64, numpy=1>,\n <tf.Tensor: shape=(), dtype=int64, numpy=0>,\n <tf.Tensor: shape=(), dtype=int64, numpy=1>,\n <tf.Tensor: shape=(), dtype=int64, numpy=0>,\n <tf.Tensor: shape=(), dtype=int64, numpy=1>,\n <tf.Tensor: shape=(), dtype=int64, numpy=0>,\n <tf.Tensor: shape=(), dtype=int64, numpy=0>,\n <tf.Tensor: shape=(), dtype=int64, numpy=1>,\n <tf.Tensor: shape=(), dtype=int64, numpy=1>,\n <tf.Tensor: shape=(), dtype=int64, numpy=0>,\n <tf.Tensor: shape=(), dtype=int64, numpy=0>,\n <tf.Tensor: shape=(), dtype=int64, numpy=1>,\n <tf.Tensor: shape=(), dtype=int64, numpy=0>,\n <tf.Tensor: shape=(), dtype=int64, numpy=1>,\n <tf.Tensor: shape=(), dtype=int64, numpy=1>,\n <tf.Tensor: shape=(), dtype=int64, numpy=1>,\n <tf.Tensor: shape=(), dtype=int64, numpy=1>,\n <tf.Tensor: shape=(), dtype=int64, numpy=0>,\n <tf.Tensor: shape=(), dtype=int64, numpy=0>,\n <tf.Tensor: shape=(), dtype=int64, numpy=0>,\n <tf.Tensor: shape=(), dtype=int64, numpy=1>,\n <tf.Tensor: shape=(), dtype=int64, numpy=0>,\n <tf.Tensor: shape=(), dtype=int64, numpy=0>,\n <tf.Tensor: shape=(), dtype=int64, numpy=1>,\n <tf.Tensor: shape=(), dtype=int64, numpy=1>,\n <tf.Tensor: shape=(), dtype=int64, numpy=0>,\n <tf.Tensor: shape=(), dtype=int64, numpy=0>,\n <tf.Tensor: shape=(), dtype=int64, numpy=1>,\n <tf.Tensor: shape=(), dtype=int64, numpy=0>,\n <tf.Tensor: shape=(), dtype=int64, numpy=1>,\n <tf.Tensor: shape=(), dtype=int64, numpy=1>,\n <tf.Tensor: shape=(), dtype=int64, numpy=1>,\n <tf.Tensor: shape=(), dtype=int64, numpy=0>,\n <tf.Tensor: shape=(), dtype=int64, numpy=1>,\n <tf.Tensor: shape=(), dtype=int64, numpy=0>,\n <tf.Tensor: shape=(), dtype=int64, numpy=1>,\n <tf.Tensor: shape=(), dtype=int64, numpy=1>,\n <tf.Tensor: shape=(), dtype=int64, numpy=1>,\n <tf.Tensor: shape=(), dtype=int64, numpy=0>,\n <tf.Tensor: shape=(), dtype=int64, numpy=0>,\n <tf.Tensor: shape=(), dtype=int64, numpy=1>,\n <tf.Tensor: shape=(), dtype=int64, numpy=1>,\n <tf.Tensor: shape=(), dtype=int64, numpy=0>,\n <tf.Tensor: shape=(), dtype=int64, numpy=0>,\n <tf.Tensor: shape=(), dtype=int64, numpy=0>,\n <tf.Tensor: shape=(), dtype=int64, numpy=0>,\n <tf.Tensor: shape=(), dtype=int64, numpy=1>,\n <tf.Tensor: shape=(), dtype=int64, numpy=1>,\n <tf.Tensor: shape=(), dtype=int64, numpy=0>,\n <tf.Tensor: shape=(), dtype=int64, numpy=0>,\n <tf.Tensor: shape=(), dtype=int64, numpy=1>,\n <tf.Tensor: shape=(), dtype=int64, numpy=1>,\n <tf.Tensor: shape=(), dtype=int64, numpy=1>,\n <tf.Tensor: shape=(), dtype=int64, numpy=0>,\n <tf.Tensor: shape=(), dtype=int64, numpy=1>,\n <tf.Tensor: shape=(), dtype=int64, numpy=1>,\n <tf.Tensor: shape=(), dtype=int64, numpy=1>,\n <tf.Tensor: shape=(), dtype=int64, numpy=1>,\n <tf.Tensor: shape=(), dtype=int64, numpy=1>,\n <tf.Tensor: shape=(), dtype=int64, numpy=1>,\n <tf.Tensor: shape=(), dtype=int64, numpy=1>,\n <tf.Tensor: shape=(), dtype=int64, numpy=1>,\n <tf.Tensor: shape=(), dtype=int64, numpy=1>,\n <tf.Tensor: shape=(), dtype=int64, numpy=1>,\n <tf.Tensor: shape=(), dtype=int64, numpy=0>,\n <tf.Tensor: shape=(), dtype=int64, numpy=1>,\n <tf.Tensor: shape=(), dtype=int64, numpy=1>,\n <tf.Tensor: shape=(), dtype=int64, numpy=0>,\n <tf.Tensor: shape=(), dtype=int64, numpy=1>,\n <tf.Tensor: shape=(), dtype=int64, numpy=1>,\n <tf.Tensor: shape=(), dtype=int64, numpy=1>,\n <tf.Tensor: shape=(), dtype=int64, numpy=0>,\n <tf.Tensor: shape=(), dtype=int64, numpy=0>,\n <tf.Tensor: shape=(), dtype=int64, numpy=1>,\n <tf.Tensor: shape=(), dtype=int64, numpy=0>,\n <tf.Tensor: shape=(), dtype=int64, numpy=0>,\n <tf.Tensor: shape=(), dtype=int64, numpy=0>,\n <tf.Tensor: shape=(), dtype=int64, numpy=0>,\n <tf.Tensor: shape=(), dtype=int64, numpy=0>,\n <tf.Tensor: shape=(), dtype=int64, numpy=0>,\n <tf.Tensor: shape=(), dtype=int64, numpy=0>,\n <tf.Tensor: shape=(), dtype=int64, numpy=0>,\n <tf.Tensor: shape=(), dtype=int64, numpy=1>,\n <tf.Tensor: shape=(), dtype=int64, numpy=0>,\n <tf.Tensor: shape=(), dtype=int64, numpy=1>,\n <tf.Tensor: shape=(), dtype=int64, numpy=0>,\n <tf.Tensor: shape=(), dtype=int64, numpy=0>,\n <tf.Tensor: shape=(), dtype=int64, numpy=0>,\n <tf.Tensor: shape=(), dtype=int64, numpy=0>,\n <tf.Tensor: shape=(), dtype=int64, numpy=0>,\n <tf.Tensor: shape=(), dtype=int64, numpy=0>,\n <tf.Tensor: shape=(), dtype=int64, numpy=1>,\n <tf.Tensor: shape=(), dtype=int64, numpy=1>,\n <tf.Tensor: shape=(), dtype=int64, numpy=1>,\n <tf.Tensor: shape=(), dtype=int64, numpy=1>,\n <tf.Tensor: shape=(), dtype=int64, numpy=1>,\n <tf.Tensor: shape=(), dtype=int64, numpy=1>,\n <tf.Tensor: shape=(), dtype=int64, numpy=0>,\n <tf.Tensor: shape=(), dtype=int64, numpy=1>,\n <tf.Tensor: shape=(), dtype=int64, numpy=1>,\n <tf.Tensor: shape=(), dtype=int64, numpy=1>,\n <tf.Tensor: shape=(), dtype=int64, numpy=1>,\n <tf.Tensor: shape=(), dtype=int64, numpy=0>,\n <tf.Tensor: shape=(), dtype=int64, numpy=0>,\n <tf.Tensor: shape=(), dtype=int64, numpy=0>,\n <tf.Tensor: shape=(), dtype=int64, numpy=0>,\n <tf.Tensor: shape=(), dtype=int64, numpy=0>,\n <tf.Tensor: shape=(), dtype=int64, numpy=0>,\n <tf.Tensor: shape=(), dtype=int64, numpy=0>,\n <tf.Tensor: shape=(), dtype=int64, numpy=1>,\n <tf.Tensor: shape=(), dtype=int64, numpy=1>,\n <tf.Tensor: shape=(), dtype=int64, numpy=1>,\n <tf.Tensor: shape=(), dtype=int64, numpy=1>,\n <tf.Tensor: shape=(), dtype=int64, numpy=0>,\n <tf.Tensor: shape=(), dtype=int64, numpy=0>,\n <tf.Tensor: shape=(), dtype=int64, numpy=0>,\n <tf.Tensor: shape=(), dtype=int64, numpy=0>,\n <tf.Tensor: shape=(), dtype=int64, numpy=1>,\n <tf.Tensor: shape=(), dtype=int64, numpy=0>,\n <tf.Tensor: shape=(), dtype=int64, numpy=0>,\n <tf.Tensor: shape=(), dtype=int64, numpy=0>,\n <tf.Tensor: shape=(), dtype=int64, numpy=0>,\n <tf.Tensor: shape=(), dtype=int64, numpy=0>,\n <tf.Tensor: shape=(), dtype=int64, numpy=1>,\n <tf.Tensor: shape=(), dtype=int64, numpy=1>,\n <tf.Tensor: shape=(), dtype=int64, numpy=1>,\n <tf.Tensor: shape=(), dtype=int64, numpy=0>,\n <tf.Tensor: shape=(), dtype=int64, numpy=1>,\n <tf.Tensor: shape=(), dtype=int64, numpy=1>,\n <tf.Tensor: shape=(), dtype=int64, numpy=1>,\n <tf.Tensor: shape=(), dtype=int64, numpy=1>,\n <tf.Tensor: shape=(), dtype=int64, numpy=1>,\n <tf.Tensor: shape=(), dtype=int64, numpy=0>,\n <tf.Tensor: shape=(), dtype=int64, numpy=0>,\n <tf.Tensor: shape=(), dtype=int64, numpy=0>,\n <tf.Tensor: shape=(), dtype=int64, numpy=0>,\n <tf.Tensor: shape=(), dtype=int64, numpy=0>,\n <tf.Tensor: shape=(), dtype=int64, numpy=1>,\n <tf.Tensor: shape=(), dtype=int64, numpy=0>,\n <tf.Tensor: shape=(), dtype=int64, numpy=1>,\n <tf.Tensor: shape=(), dtype=int64, numpy=1>,\n <tf.Tensor: shape=(), dtype=int64, numpy=1>,\n <tf.Tensor: shape=(), dtype=int64, numpy=1>,\n <tf.Tensor: shape=(), dtype=int64, numpy=0>,\n <tf.Tensor: shape=(), dtype=int64, numpy=1>,\n <tf.Tensor: shape=(), dtype=int64, numpy=1>,\n <tf.Tensor: shape=(), dtype=int64, numpy=0>,\n <tf.Tensor: shape=(), dtype=int64, numpy=0>,\n <tf.Tensor: shape=(), dtype=int64, numpy=1>,\n <tf.Tensor: shape=(), dtype=int64, numpy=1>,\n <tf.Tensor: shape=(), dtype=int64, numpy=1>,\n <tf.Tensor: shape=(), dtype=int64, numpy=1>,\n <tf.Tensor: shape=(), dtype=int64, numpy=1>,\n <tf.Tensor: shape=(), dtype=int64, numpy=0>,\n <tf.Tensor: shape=(), dtype=int64, numpy=0>,\n <tf.Tensor: shape=(), dtype=int64, numpy=0>,\n <tf.Tensor: shape=(), dtype=int64, numpy=0>,\n <tf.Tensor: shape=(), dtype=int64, numpy=0>,\n <tf.Tensor: shape=(), dtype=int64, numpy=1>,\n <tf.Tensor: shape=(), dtype=int64, numpy=0>,\n <tf.Tensor: shape=(), dtype=int64, numpy=1>,\n <tf.Tensor: shape=(), dtype=int64, numpy=1>,\n <tf.Tensor: shape=(), dtype=int64, numpy=0>,\n <tf.Tensor: shape=(), dtype=int64, numpy=1>,\n <tf.Tensor: shape=(), dtype=int64, numpy=1>,\n <tf.Tensor: shape=(), dtype=int64, numpy=1>,\n <tf.Tensor: shape=(), dtype=int64, numpy=1>,\n <tf.Tensor: shape=(), dtype=int64, numpy=0>,\n <tf.Tensor: shape=(), dtype=int64, numpy=0>,\n <tf.Tensor: shape=(), dtype=int64, numpy=1>,\n <tf.Tensor: shape=(), dtype=int64, numpy=0>,\n <tf.Tensor: shape=(), dtype=int64, numpy=1>,\n <tf.Tensor: shape=(), dtype=int64, numpy=0>,\n <tf.Tensor: shape=(), dtype=int64, numpy=0>,\n <tf.Tensor: shape=(), dtype=int64, numpy=0>,\n <tf.Tensor: shape=(), dtype=int64, numpy=0>,\n <tf.Tensor: shape=(), dtype=int64, numpy=0>,\n <tf.Tensor: shape=(), dtype=int64, numpy=1>,\n <tf.Tensor: shape=(), dtype=int64, numpy=1>,\n <tf.Tensor: shape=(), dtype=int64, numpy=0>,\n <tf.Tensor: shape=(), dtype=int64, numpy=0>,\n <tf.Tensor: shape=(), dtype=int64, numpy=1>,\n <tf.Tensor: shape=(), dtype=int64, numpy=1>,\n <tf.Tensor: shape=(), dtype=int64, numpy=0>,\n <tf.Tensor: shape=(), dtype=int64, numpy=1>,\n <tf.Tensor: shape=(), dtype=int64, numpy=0>,\n <tf.Tensor: shape=(), dtype=int64, numpy=1>,\n <tf.Tensor: shape=(), dtype=int64, numpy=0>,\n <tf.Tensor: shape=(), dtype=int64, numpy=0>,\n <tf.Tensor: shape=(), dtype=int64, numpy=0>,\n <tf.Tensor: shape=(), dtype=int64, numpy=0>,\n <tf.Tensor: shape=(), dtype=int64, numpy=1>,\n <tf.Tensor: shape=(), dtype=int64, numpy=1>,\n <tf.Tensor: shape=(), dtype=int64, numpy=0>,\n <tf.Tensor: shape=(), dtype=int64, numpy=0>,\n <tf.Tensor: shape=(), dtype=int64, numpy=1>,\n <tf.Tensor: shape=(), dtype=int64, numpy=1>,\n <tf.Tensor: shape=(), dtype=int64, numpy=1>,\n <tf.Tensor: shape=(), dtype=int64, numpy=0>,\n <tf.Tensor: shape=(), dtype=int64, numpy=1>,\n <tf.Tensor: shape=(), dtype=int64, numpy=1>,\n <tf.Tensor: shape=(), dtype=int64, numpy=1>,\n <tf.Tensor: shape=(), dtype=int64, numpy=1>,\n <tf.Tensor: shape=(), dtype=int64, numpy=0>,\n <tf.Tensor: shape=(), dtype=int64, numpy=0>,\n <tf.Tensor: shape=(), dtype=int64, numpy=0>,\n <tf.Tensor: shape=(), dtype=int64, numpy=1>,\n <tf.Tensor: shape=(), dtype=int64, numpy=0>,\n <tf.Tensor: shape=(), dtype=int64, numpy=0>,\n <tf.Tensor: shape=(), dtype=int64, numpy=0>,\n <tf.Tensor: shape=(), dtype=int64, numpy=0>,\n <tf.Tensor: shape=(), dtype=int64, numpy=1>,\n <tf.Tensor: shape=(), dtype=int64, numpy=0>,\n <tf.Tensor: shape=(), dtype=int64, numpy=1>,\n <tf.Tensor: shape=(), dtype=int64, numpy=1>,\n <tf.Tensor: shape=(), dtype=int64, numpy=1>,\n <tf.Tensor: shape=(), dtype=int64, numpy=0>,\n <tf.Tensor: shape=(), dtype=int64, numpy=1>,\n <tf.Tensor: shape=(), dtype=int64, numpy=1>,\n <tf.Tensor: shape=(), dtype=int64, numpy=1>,\n <tf.Tensor: shape=(), dtype=int64, numpy=0>,\n <tf.Tensor: shape=(), dtype=int64, numpy=1>,\n <tf.Tensor: shape=(), dtype=int64, numpy=0>,\n <tf.Tensor: shape=(), dtype=int64, numpy=1>,\n <tf.Tensor: shape=(), dtype=int64, numpy=1>,\n <tf.Tensor: shape=(), dtype=int64, numpy=0>,\n <tf.Tensor: shape=(), dtype=int64, numpy=1>,\n <tf.Tensor: shape=(), dtype=int64, numpy=0>,\n <tf.Tensor: shape=(), dtype=int64, numpy=1>,\n <tf.Tensor: shape=(), dtype=int64, numpy=1>,\n <tf.Tensor: shape=(), dtype=int64, numpy=0>,\n <tf.Tensor: shape=(), dtype=int64, numpy=0>,\n <tf.Tensor: shape=(), dtype=int64, numpy=1>,\n <tf.Tensor: shape=(), dtype=int64, numpy=1>,\n <tf.Tensor: shape=(), dtype=int64, numpy=0>,\n <tf.Tensor: shape=(), dtype=int64, numpy=0>,\n <tf.Tensor: shape=(), dtype=int64, numpy=0>,\n <tf.Tensor: shape=(), dtype=int64, numpy=0>,\n <tf.Tensor: shape=(), dtype=int64, numpy=1>,\n <tf.Tensor: shape=(), dtype=int64, numpy=1>,\n <tf.Tensor: shape=(), dtype=int64, numpy=0>,\n <tf.Tensor: shape=(), dtype=int64, numpy=1>,\n <tf.Tensor: shape=(), dtype=int64, numpy=1>,\n <tf.Tensor: shape=(), dtype=int64, numpy=0>,\n <tf.Tensor: shape=(), dtype=int64, numpy=0>,\n <tf.Tensor: shape=(), dtype=int64, numpy=1>,\n <tf.Tensor: shape=(), dtype=int64, numpy=1>,\n <tf.Tensor: shape=(), dtype=int64, numpy=1>,\n <tf.Tensor: shape=(), dtype=int64, numpy=1>,\n <tf.Tensor: shape=(), dtype=int64, numpy=0>,\n <tf.Tensor: shape=(), dtype=int64, numpy=0>,\n <tf.Tensor: shape=(), dtype=int64, numpy=1>,\n <tf.Tensor: shape=(), dtype=int64, numpy=1>,\n <tf.Tensor: shape=(), dtype=int64, numpy=1>,\n <tf.Tensor: shape=(), dtype=int64, numpy=0>,\n <tf.Tensor: shape=(), dtype=int64, numpy=0>,\n <tf.Tensor: shape=(), dtype=int64, numpy=1>,\n <tf.Tensor: shape=(), dtype=int64, numpy=1>,\n <tf.Tensor: shape=(), dtype=int64, numpy=0>,\n <tf.Tensor: shape=(), dtype=int64, numpy=0>,\n <tf.Tensor: shape=(), dtype=int64, numpy=0>,\n <tf.Tensor: shape=(), dtype=int64, numpy=1>,\n <tf.Tensor: shape=(), dtype=int64, numpy=0>,\n <tf.Tensor: shape=(), dtype=int64, numpy=0>,\n <tf.Tensor: shape=(), dtype=int64, numpy=0>,\n <tf.Tensor: shape=(), dtype=int64, numpy=1>,\n <tf.Tensor: shape=(), dtype=int64, numpy=0>,\n <tf.Tensor: shape=(), dtype=int64, numpy=1>,\n <tf.Tensor: shape=(), dtype=int64, numpy=0>,\n <tf.Tensor: shape=(), dtype=int64, numpy=0>,\n <tf.Tensor: shape=(), dtype=int64, numpy=0>,\n <tf.Tensor: shape=(), dtype=int64, numpy=0>,\n <tf.Tensor: shape=(), dtype=int64, numpy=1>,\n <tf.Tensor: shape=(), dtype=int64, numpy=0>,\n <tf.Tensor: shape=(), dtype=int64, numpy=1>,\n <tf.Tensor: shape=(), dtype=int64, numpy=0>,\n <tf.Tensor: shape=(), dtype=int64, numpy=1>,\n <tf.Tensor: shape=(), dtype=int64, numpy=0>,\n <tf.Tensor: shape=(), dtype=int64, numpy=1>,\n <tf.Tensor: shape=(), dtype=int64, numpy=0>,\n <tf.Tensor: shape=(), dtype=int64, numpy=0>,\n <tf.Tensor: shape=(), dtype=int64, numpy=0>,\n <tf.Tensor: shape=(), dtype=int64, numpy=0>,\n <tf.Tensor: shape=(), dtype=int64, numpy=0>,\n <tf.Tensor: shape=(), dtype=int64, numpy=1>,\n <tf.Tensor: shape=(), dtype=int64, numpy=1>,\n <tf.Tensor: shape=(), dtype=int64, numpy=0>,\n <tf.Tensor: shape=(), dtype=int64, numpy=1>,\n <tf.Tensor: shape=(), dtype=int64, numpy=1>,\n <tf.Tensor: shape=(), dtype=int64, numpy=0>,\n <tf.Tensor: shape=(), dtype=int64, numpy=1>,\n <tf.Tensor: shape=(), dtype=int64, numpy=1>,\n <tf.Tensor: shape=(), dtype=int64, numpy=1>,\n <tf.Tensor: shape=(), dtype=int64, numpy=0>,\n <tf.Tensor: shape=(), dtype=int64, numpy=0>,\n <tf.Tensor: shape=(), dtype=int64, numpy=0>,\n <tf.Tensor: shape=(), dtype=int64, numpy=1>,\n <tf.Tensor: shape=(), dtype=int64, numpy=0>,\n <tf.Tensor: shape=(), dtype=int64, numpy=0>,\n <tf.Tensor: shape=(), dtype=int64, numpy=0>,\n <tf.Tensor: shape=(), dtype=int64, numpy=1>,\n <tf.Tensor: shape=(), dtype=int64, numpy=1>,\n <tf.Tensor: shape=(), dtype=int64, numpy=1>,\n <tf.Tensor: shape=(), dtype=int64, numpy=1>,\n <tf.Tensor: shape=(), dtype=int64, numpy=0>,\n <tf.Tensor: shape=(), dtype=int64, numpy=0>,\n <tf.Tensor: shape=(), dtype=int64, numpy=1>,\n <tf.Tensor: shape=(), dtype=int64, numpy=0>,\n <tf.Tensor: shape=(), dtype=int64, numpy=0>,\n <tf.Tensor: shape=(), dtype=int64, numpy=0>,\n <tf.Tensor: shape=(), dtype=int64, numpy=1>,\n <tf.Tensor: shape=(), dtype=int64, numpy=1>,\n <tf.Tensor: shape=(), dtype=int64, numpy=1>,\n <tf.Tensor: shape=(), dtype=int64, numpy=0>,\n <tf.Tensor: shape=(), dtype=int64, numpy=0>,\n <tf.Tensor: shape=(), dtype=int64, numpy=1>,\n <tf.Tensor: shape=(), dtype=int64, numpy=1>,\n <tf.Tensor: shape=(), dtype=int64, numpy=1>,\n <tf.Tensor: shape=(), dtype=int64, numpy=1>,\n <tf.Tensor: shape=(), dtype=int64, numpy=0>,\n <tf.Tensor: shape=(), dtype=int64, numpy=1>,\n <tf.Tensor: shape=(), dtype=int64, numpy=1>,\n <tf.Tensor: shape=(), dtype=int64, numpy=0>,\n <tf.Tensor: shape=(), dtype=int64, numpy=0>,\n <tf.Tensor: shape=(), dtype=int64, numpy=1>,\n <tf.Tensor: shape=(), dtype=int64, numpy=0>,\n <tf.Tensor: shape=(), dtype=int64, numpy=1>,\n <tf.Tensor: shape=(), dtype=int64, numpy=1>,\n <tf.Tensor: shape=(), dtype=int64, numpy=0>,\n <tf.Tensor: shape=(), dtype=int64, numpy=0>,\n <tf.Tensor: shape=(), dtype=int64, numpy=1>,\n <tf.Tensor: shape=(), dtype=int64, numpy=1>,\n <tf.Tensor: shape=(), dtype=int64, numpy=0>,\n <tf.Tensor: shape=(), dtype=int64, numpy=0>,\n <tf.Tensor: shape=(), dtype=int64, numpy=1>,\n <tf.Tensor: shape=(), dtype=int64, numpy=0>,\n <tf.Tensor: shape=(), dtype=int64, numpy=0>,\n <tf.Tensor: shape=(), dtype=int64, numpy=1>,\n <tf.Tensor: shape=(), dtype=int64, numpy=0>,\n <tf.Tensor: shape=(), dtype=int64, numpy=1>,\n <tf.Tensor: shape=(), dtype=int64, numpy=1>,\n <tf.Tensor: shape=(), dtype=int64, numpy=1>,\n <tf.Tensor: shape=(), dtype=int64, numpy=0>,\n <tf.Tensor: shape=(), dtype=int64, numpy=0>,\n <tf.Tensor: shape=(), dtype=int64, numpy=1>,\n <tf.Tensor: shape=(), dtype=int64, numpy=1>,\n <tf.Tensor: shape=(), dtype=int64, numpy=0>,\n <tf.Tensor: shape=(), dtype=int64, numpy=1>,\n <tf.Tensor: shape=(), dtype=int64, numpy=1>,\n <tf.Tensor: shape=(), dtype=int64, numpy=0>,\n <tf.Tensor: shape=(), dtype=int64, numpy=0>,\n <tf.Tensor: shape=(), dtype=int64, numpy=1>,\n <tf.Tensor: shape=(), dtype=int64, numpy=0>,\n <tf.Tensor: shape=(), dtype=int64, numpy=1>,\n <tf.Tensor: shape=(), dtype=int64, numpy=0>,\n <tf.Tensor: shape=(), dtype=int64, numpy=1>,\n <tf.Tensor: shape=(), dtype=int64, numpy=1>,\n <tf.Tensor: shape=(), dtype=int64, numpy=1>,\n <tf.Tensor: shape=(), dtype=int64, numpy=1>,\n <tf.Tensor: shape=(), dtype=int64, numpy=0>,\n <tf.Tensor: shape=(), dtype=int64, numpy=1>,\n <tf.Tensor: shape=(), dtype=int64, numpy=0>,\n <tf.Tensor: shape=(), dtype=int64, numpy=1>,\n <tf.Tensor: shape=(), dtype=int64, numpy=0>,\n <tf.Tensor: shape=(), dtype=int64, numpy=0>,\n <tf.Tensor: shape=(), dtype=int64, numpy=1>,\n <tf.Tensor: shape=(), dtype=int64, numpy=1>,\n <tf.Tensor: shape=(), dtype=int64, numpy=0>,\n <tf.Tensor: shape=(), dtype=int64, numpy=1>,\n <tf.Tensor: shape=(), dtype=int64, numpy=0>,\n <tf.Tensor: shape=(), dtype=int64, numpy=1>,\n <tf.Tensor: shape=(), dtype=int64, numpy=1>,\n <tf.Tensor: shape=(), dtype=int64, numpy=0>,\n <tf.Tensor: shape=(), dtype=int64, numpy=0>,\n <tf.Tensor: shape=(), dtype=int64, numpy=1>,\n <tf.Tensor: shape=(), dtype=int64, numpy=0>,\n <tf.Tensor: shape=(), dtype=int64, numpy=0>,\n <tf.Tensor: shape=(), dtype=int64, numpy=0>,\n <tf.Tensor: shape=(), dtype=int64, numpy=0>,\n <tf.Tensor: shape=(), dtype=int64, numpy=0>,\n <tf.Tensor: shape=(), dtype=int64, numpy=1>,\n <tf.Tensor: shape=(), dtype=int64, numpy=1>,\n <tf.Tensor: shape=(), dtype=int64, numpy=0>,\n <tf.Tensor: shape=(), dtype=int64, numpy=0>,\n <tf.Tensor: shape=(), dtype=int64, numpy=1>,\n <tf.Tensor: shape=(), dtype=int64, numpy=1>,\n <tf.Tensor: shape=(), dtype=int64, numpy=1>,\n <tf.Tensor: shape=(), dtype=int64, numpy=0>,\n <tf.Tensor: shape=(), dtype=int64, numpy=1>,\n <tf.Tensor: shape=(), dtype=int64, numpy=0>,\n <tf.Tensor: shape=(), dtype=int64, numpy=0>,\n <tf.Tensor: shape=(), dtype=int64, numpy=0>,\n <tf.Tensor: shape=(), dtype=int64, numpy=1>,\n <tf.Tensor: shape=(), dtype=int64, numpy=0>,\n <tf.Tensor: shape=(), dtype=int64, numpy=0>,\n <tf.Tensor: shape=(), dtype=int64, numpy=0>,\n <tf.Tensor: shape=(), dtype=int64, numpy=1>,\n <tf.Tensor: shape=(), dtype=int64, numpy=1>,\n <tf.Tensor: shape=(), dtype=int64, numpy=1>,\n <tf.Tensor: shape=(), dtype=int64, numpy=0>,\n <tf.Tensor: shape=(), dtype=int64, numpy=1>,\n <tf.Tensor: shape=(), dtype=int64, numpy=1>,\n <tf.Tensor: shape=(), dtype=int64, numpy=0>,\n <tf.Tensor: shape=(), dtype=int64, numpy=0>,\n <tf.Tensor: shape=(), dtype=int64, numpy=0>,\n <tf.Tensor: shape=(), dtype=int64, numpy=0>,\n <tf.Tensor: shape=(), dtype=int64, numpy=0>,\n <tf.Tensor: shape=(), dtype=int64, numpy=0>,\n <tf.Tensor: shape=(), dtype=int64, numpy=0>,\n <tf.Tensor: shape=(), dtype=int64, numpy=1>,\n <tf.Tensor: shape=(), dtype=int64, numpy=0>,\n ...]"
     },
     "execution_count": 44,
     "metadata": {},
     "output_type": "execute_result"
    }
   ],
   "source": [
    "bert_valid_train_examples_labels"
   ],
   "metadata": {
    "collapsed": false,
    "pycharm": {
     "name": "#%%\n"
    }
   }
  },
  {
   "cell_type": "markdown",
   "metadata": {
    "id": "4-fm4hnNBijx",
    "pycharm": {
     "name": "#%% md\n"
    }
   },
   "source": [
    "Next, we will simplify our lives for the purpose of the bulk of the assignment. We know that 1) all inputs  have at least SEQUENCE_LENGTH tokens, and 2) the input has one section not 2. Therefore, BERT will produce consistent results if we only use the 'input_ids'.\n",
    "\n",
    "Let us create the corresponding data sets:"
   ]
  },
  {
   "cell_type": "code",
   "execution_count": 22,
   "metadata": {
    "id": "x6DHGOdP53_v",
    "pycharm": {
     "name": "#%%\n"
    }
   },
   "outputs": [],
   "source": [
    "bert_train_input_ids, bert_train_labels = select_min_length_examples(x_train, y_train)\n",
    "bert_test_input_ids, bert_test_labels = select_min_length_examples(x_test, y_test)"
   ]
  },
  {
   "cell_type": "markdown",
   "metadata": {
    "id": "Jj-EjMh2CjFj",
    "pycharm": {
     "name": "#%% md\n"
    }
   },
   "source": [
    "How many training examples do we have?"
   ]
  },
  {
   "cell_type": "code",
   "execution_count": 23,
   "metadata": {
    "colab": {
     "base_uri": "https://localhost:8080/"
    },
    "id": "Xc6Vu06qCjR8",
    "outputId": "72e72542-285c-4512-940c-176b136f444e",
    "pycharm": {
     "name": "#%%\n"
    }
   },
   "outputs": [
    {
     "data": {
      "text/plain": "(18696, 100)"
     },
     "execution_count": 23,
     "metadata": {},
     "output_type": "execute_result"
    }
   ],
   "source": [
    "bert_train_input_ids.shape"
   ]
  },
  {
   "cell_type": "markdown",
   "metadata": {
    "id": "k6x4ZOOcCDsl",
    "pycharm": {
     "name": "#%% md\n"
    }
   },
   "source": [
    "Great. Looks like roughly the same size training set that we used for the word2vec-based models."
   ]
  },
  {
   "cell_type": "markdown",
   "metadata": {
    "id": "myNK4ZhQDQBL",
    "pycharm": {
     "name": "#%% md\n"
    }
   },
   "source": [
    "Overall, here are the key variables and sets that we created, and that may be used moving forward. If the variable naming does not make it obvious, we also state the purpose:\n",
    "\n",
    "Parameters:\n",
    "\n",
    "* SEQUENCE_LENGTH (100)\n",
    "\n",
    "\n",
    "Word2vec-based models:\n",
    "\n",
    "*   train(/test)_input_ids: input ids for the training(/test) sets for word2vec models\n",
    "* train(/test)_input_labels: the corresponding labels\n",
    "*   train(/test)_input_ids_reduced: input ids for the reduced training(/test) sets for word2vec models\n",
    "* train(/test)_input_labels_reduced: the corresponding labels for the reduced set\n",
    "\n",
    "BERT:\n",
    "\n",
    "\n",
    "*   bert_train(/test)_input_ids: input ids for the training(/test) sets for BERT models\n",
    "* bert_train(/test)_labels: the corresponding labels for BERT\n",
    "*   bert_train(/test)_input_ids_reduced : input ids for the reduced training(/test) sets for BERT models\n",
    "* bert_train(/test)_labels: the corresponding labels for the reduced set for BERT\n",
    "\n",
    "**NOTE:** We recommend to inspect these variables if you have not gone through the code."
   ]
  },
  {
   "cell_type": "markdown",
   "metadata": {
    "id": "vzbPHBf3GP2O",
    "pycharm": {
     "name": "#%% md\n"
    }
   },
   "source": [
    "## 2. Classification with various Word2Vec-based Models"
   ]
  },
  {
   "cell_type": "markdown",
   "metadata": {
    "id": "H7yp2gI-AtCl",
    "pycharm": {
     "name": "#%% md\n"
    }
   },
   "source": [
    "**QUESTION:**\n",
    "\n",
    "2.a. Revisit the dataset. Is it balanced? Find the ratio of positive examples for the training sets.\n",
    "\n",
    "2.b. Find the ratio of positive examples for both the test set."
   ]
  },
  {
   "cell_type": "code",
   "execution_count": 39,
   "metadata": {
    "colab": {
     "base_uri": "https://localhost:8080/"
    },
    "id": "x6EAE6cjA9jM",
    "outputId": "80b32f27-c1b6-4144-aaf9-72321b9c14ea",
    "pycharm": {
     "name": "#%%\n"
    }
   },
   "outputs": [
    {
     "name": "stdout",
     "output_type": "stream",
     "text": [
      "positive examples in training: 0.4955809385983047\n"
     ]
    }
   ],
   "source": [
    "### YOUR CODE HERE\n",
    "from collections import Counter\n",
    "\n",
    "count_word2vec = Counter(train_input_labels)\n",
    "count_bert = Counter(bert_train_labels)\n",
    "\n",
    "print(f\"positive examples in training: {(count_word2vec[1]+count_bert[1]) / (count_word2vec[1]+count_word2vec[0]+count_bert[1]+count_bert[0])}\")\n",
    "\n",
    "### END YOUR CODE"
   ]
  },
  {
   "cell_type": "code",
   "execution_count": 40,
   "metadata": {
    "colab": {
     "base_uri": "https://localhost:8080/"
    },
    "id": "2K_8eBTHArme",
    "outputId": "f2f89ad6-99b2-42d1-f08b-782b29eb90e9",
    "pycharm": {
     "name": "#%%\n"
    }
   },
   "outputs": [
    {
     "name": "stdout",
     "output_type": "stream",
     "text": [
      "positive examples in test: 0.49963741841914433\n"
     ]
    }
   ],
   "source": [
    "### YOUR CODE HERE\n",
    "\n",
    "count_word2vec = Counter(test_input_labels)\n",
    "count_bert = Counter(bert_test_labels)\n",
    "print(f\"positive examples in test: {(count_word2vec[1]+count_bert[1]) / (count_word2vec[1]+count_word2vec[0]+count_bert[1]+count_bert[0])}\")\n",
    "\n",
    "### END YOUR CODE"
   ]
  },
  {
   "cell_type": "markdown",
   "metadata": {
    "id": "JY6X0wL3BQKD",
    "pycharm": {
     "name": "#%% md\n"
    }
   },
   "source": [
    "### 2.1 The Role of Shuffling of the Training Set\n",
    "\n",
    "\n",
    "We will first revisit the DAN model. \n",
    "\n",
    "2. Reuse the code from the class notebook to build a DAN network with one hidden layer of dimension 100. The optimizer should be Adam. Wrap the model creation in a function according to this API:"
   ]
  },
  {
   "cell_type": "code",
   "execution_count": 48,
   "metadata": {
    "id": "vk-4mCgyBO9S",
    "pycharm": {
     "name": "#%%\n"
    }
   },
   "outputs": [],
   "source": [
    "def create_dan_model(retrain_embeddings=False, \n",
    "                     max_sequence_length=SEQUENCE_LENGTH,\n",
    "                     hidden_dim=100,\n",
    "                     dropout=0.3,\n",
    "                     embedding_initializer='word2vec', \n",
    "                     learning_rate=0.001):\n",
    "  \"\"\"\n",
    "  Construct the DAN model including the compilation and return it. Parametrize it using the arguments.\n",
    "  :param retrain_embeddings: boolean, indicating whether  the word embeddings are trainable\n",
    "  :param hidden_dim: dimension of the hidden layer\n",
    "  :param dropout: dropout applied to the hidden layer\n",
    "\n",
    "  :returns: the compiled model\n",
    "  \"\"\"\n",
    "\n",
    "  if embedding_initializer == 'word2vec':\n",
    "    embeddings_initializer=tf.keras.initializers.Constant(embedding_matrix)\n",
    "  else:\n",
    "    embeddings_initializer='uniform'\n",
    "\n",
    "\n",
    "  ### YOUR CODE HERE\n",
    "\n",
    "  dan_input_layer = tf.keras.layers.Input(shape=(max_sequence_length,), dtype='int64')\n",
    "  dan_embedding_layer = Embedding(embedding_matrix.shape[0],\n",
    "                        embedding_matrix.shape[1],\n",
    "                        embeddings_initializer=embeddings_initializer,\n",
    "                        input_length=max_sequence_length,\n",
    "                        trainable=retrain_embeddings)\n",
    "  dan_embeddings = dan_embedding_layer(dan_input_layer)\n",
    "  dan_avg_embeddings = tf.keras.layers.Lambda(lambda x: K.mean(x, axis=1),\n",
    "                                                name='averaging')(dan_embeddings)\n",
    "  last_hidden_output = dan_avg_embeddings\n",
    "\n",
    "  last_hidden_output = tf.keras.layers.Dense(hidden_dim, activation='relu',\n",
    "                                                   name='dan_hidden')(last_hidden_output)\n",
    "  last_hidden_output = tf.keras.layers.Dropout(dropout)(last_hidden_output)\n",
    "\n",
    "  dan_classification = tf.keras.layers.Dense(1,\n",
    "                                               activation='sigmoid',\n",
    "                                               name='dan_classification')(last_hidden_output)\n",
    "\n",
    "  dan_model = tf.keras.models.Model(inputs=dan_input_layer, outputs=[dan_classification])\n",
    "  dan_model.compile(loss='binary_crossentropy',\n",
    "                      optimizer=tf.keras.optimizers.Adam(learning_rate=learning_rate,\n",
    "                                                         beta_1=0.9,\n",
    "                                                         beta_2=0.999,\n",
    "                                                         epsilon=1e-07,\n",
    "                                                         amsgrad=False,\n",
    "                                                         name='Adam'),\n",
    "                      metrics='accuracy')\n",
    "\n",
    "  ### END YOUR CODE\n",
    "  return dan_model\n"
   ]
  },
  {
   "cell_type": "markdown",
   "metadata": {
    "id": "Hb4LOJkFlYwF",
    "pycharm": {
     "name": "#%% md\n"
    }
   },
   "source": [
    "Let us create a sorted dataset to run our simulations:"
   ]
  },
  {
   "cell_type": "code",
   "execution_count": 46,
   "metadata": {
    "id": "ZX2hWslCflw1",
    "pycharm": {
     "name": "#%%\n"
    }
   },
   "outputs": [],
   "source": [
    "sorted_train_input_data = [(x, y) for (x, y) in zip(list(train_input_ids), list(train_input_labels))]\n",
    "sorted_train_input_data.sort(key = lambda x: x[1])\n",
    "sorted_training_input_ids = np.array([x[0] for x in sorted_train_input_data])\n",
    "sorted_training_labels = np.array([x[1] for x in sorted_train_input_data])"
   ]
  },
  {
   "cell_type": "markdown",
   "metadata": {
    "id": "riQ59wcQmtzs",
    "pycharm": {
     "name": "#%% md\n"
    }
   },
   "source": [
    "Next, try to create your DAN model using the default parameters and train it by:\n",
    "\n",
    "1.  Using the sorted dataset\n",
    "2.  Using 'shuffle=False' as one of the model.fit parameters.\n",
    "\n",
    "Make sure you store the history (name it 'dan_sorted_history') as we did in the lesson notebooks. \n",
    "\n"
   ]
  },
  {
   "cell_type": "code",
   "execution_count": 51,
   "metadata": {
    "colab": {
     "base_uri": "https://localhost:8080/"
    },
    "id": "SIgwDUfpi7nu",
    "outputId": "671e9fb7-618b-40c7-ea0a-951f5fd2847d",
    "pycharm": {
     "name": "#%%\n"
    }
   },
   "outputs": [
    {
     "name": "stdout",
     "output_type": "stream",
     "text": [
      "Epoch 1/10\n",
      "625/625 [==============================] - 6s 8ms/step - loss: 0.3209 - accuracy: 0.9049 - val_loss: 2.3618 - val_accuracy: 0.5026\n",
      "Epoch 2/10\n",
      "625/625 [==============================] - 5s 8ms/step - loss: 0.6938 - accuracy: 0.7002 - val_loss: 2.0357 - val_accuracy: 0.5026\n",
      "Epoch 3/10\n",
      "625/625 [==============================] - 5s 8ms/step - loss: 0.6364 - accuracy: 0.7280 - val_loss: 2.0510 - val_accuracy: 0.5026\n",
      "Epoch 4/10\n",
      "625/625 [==============================] - 5s 8ms/step - loss: 0.6409 - accuracy: 0.7304 - val_loss: 1.2784 - val_accuracy: 0.5026\n",
      "Epoch 5/10\n",
      "625/625 [==============================] - 5s 9ms/step - loss: 0.5742 - accuracy: 0.7315 - val_loss: 1.4698 - val_accuracy: 0.5026\n",
      "Epoch 6/10\n",
      "625/625 [==============================] - 5s 8ms/step - loss: 0.5729 - accuracy: 0.7452 - val_loss: 1.3265 - val_accuracy: 0.5026\n",
      "Epoch 7/10\n",
      "625/625 [==============================] - 5s 8ms/step - loss: 0.5628 - accuracy: 0.7444 - val_loss: 1.3084 - val_accuracy: 0.5026\n",
      "Epoch 8/10\n",
      "625/625 [==============================] - 5s 8ms/step - loss: 0.5596 - accuracy: 0.7447 - val_loss: 1.2983 - val_accuracy: 0.5026\n",
      "Epoch 9/10\n",
      "625/625 [==============================] - 5s 8ms/step - loss: 0.5696 - accuracy: 0.7548 - val_loss: 1.3291 - val_accuracy: 0.5026\n",
      "Epoch 10/10\n",
      "625/625 [==============================] - 5s 8ms/step - loss: 0.5500 - accuracy: 0.7527 - val_loss: 1.5143 - val_accuracy: 0.5026\n"
     ]
    }
   ],
   "source": [
    "### YOUR CODE HERE\n",
    "\n",
    "dan_model_sorted = create_dan_model()\n",
    "\n",
    "#use dan_sorted_history = ... below\n",
    "\n",
    "dan_sorted_history = dan_model_sorted.fit(sorted_training_input_ids,\n",
    "                            sorted_training_labels,\n",
    "                            validation_data=(test_input_ids, test_input_labels),\n",
    "                            batch_size=32,\n",
    "                            epochs=10,\n",
    "                            shuffle=False\n",
    "                            )\n",
    "\n",
    "\n",
    "### END YOUR CODE                        "
   ]
  },
  {
   "cell_type": "markdown",
   "metadata": {
    "id": "a4zFifGHMS1S",
    "pycharm": {
     "name": "#%% md\n"
    }
   },
   "source": [
    "**QUESTION:**\n",
    "\n",
    "2.1.a What (in percent (e.g. 0.651 = 65.1)) is the highest validation accuracy that you observed after 10 epochs? \n",
    "\n",
    "Hint: You should have an accuracy number above 30.\n",
    "\n"
   ]
  },
  {
   "cell_type": "markdown",
   "metadata": {
    "id": "RUNYdZ8rnaNX",
    "pycharm": {
     "name": "#%% md\n"
    }
   },
   "source": [
    "Next, recreate the same model and train with **'shuffle=True'**. (Note that this is also the default.). Use 'dan_suffled_history' for the history."
   ]
  },
  {
   "cell_type": "code",
   "execution_count": 52,
   "metadata": {
    "colab": {
     "base_uri": "https://localhost:8080/"
    },
    "id": "fEsrjV2QkCo_",
    "outputId": "b3a48d1e-330b-4eb8-9aef-6c4d7b179e0c",
    "pycharm": {
     "name": "#%%\n"
    }
   },
   "outputs": [
    {
     "name": "stdout",
     "output_type": "stream",
     "text": [
      "Epoch 1/10\n",
      "625/625 [==============================] - 6s 8ms/step - loss: 0.6382 - accuracy: 0.6533 - val_loss: 0.5882 - val_accuracy: 0.7074\n",
      "Epoch 2/10\n",
      "625/625 [==============================] - 5s 8ms/step - loss: 0.5506 - accuracy: 0.7287 - val_loss: 0.5480 - val_accuracy: 0.7288\n",
      "Epoch 3/10\n",
      "625/625 [==============================] - 5s 8ms/step - loss: 0.5189 - accuracy: 0.7439 - val_loss: 0.5273 - val_accuracy: 0.7426\n",
      "Epoch 4/10\n",
      "625/625 [==============================] - 5s 9ms/step - loss: 0.5067 - accuracy: 0.7558 - val_loss: 0.5162 - val_accuracy: 0.7458\n",
      "Epoch 5/10\n",
      "625/625 [==============================] - 5s 8ms/step - loss: 0.5002 - accuracy: 0.7584 - val_loss: 0.5098 - val_accuracy: 0.7522\n",
      "Epoch 6/10\n",
      "625/625 [==============================] - 5s 9ms/step - loss: 0.4942 - accuracy: 0.7600 - val_loss: 0.5092 - val_accuracy: 0.7470\n",
      "Epoch 7/10\n",
      "625/625 [==============================] - 6s 9ms/step - loss: 0.4880 - accuracy: 0.7628 - val_loss: 0.5012 - val_accuracy: 0.7578\n",
      "Epoch 8/10\n",
      "625/625 [==============================] - 5s 9ms/step - loss: 0.4839 - accuracy: 0.7659 - val_loss: 0.4996 - val_accuracy: 0.7602\n",
      "Epoch 9/10\n",
      "625/625 [==============================] - 5s 9ms/step - loss: 0.4825 - accuracy: 0.7681 - val_loss: 0.4941 - val_accuracy: 0.7608\n",
      "Epoch 10/10\n",
      "625/625 [==============================] - 5s 9ms/step - loss: 0.4802 - accuracy: 0.7678 - val_loss: 0.4994 - val_accuracy: 0.7546\n"
     ]
    }
   ],
   "source": [
    "### YOUR CODE HERE\n",
    "\n",
    "dan_model_shuffled = create_dan_model()                                                      \n",
    "\n",
    "#use dan_suffled_history = ... below\n",
    "\n",
    "dan_shuffled_history = dan_model_shuffled.fit(sorted_training_input_ids,\n",
    "                            sorted_training_labels,\n",
    "                            validation_data=(test_input_ids, test_input_labels),\n",
    "                            batch_size=32,\n",
    "                            epochs=10,\n",
    "                            shuffle=True\n",
    "                            )\n",
    "\n",
    "### END YOUR CODE                        "
   ]
  },
  {
   "cell_type": "markdown",
   "metadata": {
    "id": "sXs6UX44ko7P",
    "pycharm": {
     "name": "#%% md\n"
    }
   },
   "source": [
    "**QUESTION:**\n",
    "\n",
    "2.1.b What (in percent (e.g. 0.651 = 65.1)) is the highest validation accuracy that you observed for the shuffled run after 10 epochs?\n"
   ]
  },
  {
   "cell_type": "markdown",
   "metadata": {
    "id": "BYCwHBzyoY0_",
    "pycharm": {
     "name": "#%% md\n"
    }
   },
   "source": [
    "Compare the 2 histories in a plot."
   ]
  },
  {
   "cell_type": "code",
   "execution_count": 54,
   "metadata": {
    "colab": {
     "base_uri": "https://localhost:8080/",
     "height": 635
    },
    "id": "ZAlGkoidkun-",
    "outputId": "7135c7ff-d414-41ce-d736-886930c545c4",
    "pycharm": {
     "name": "#%%\n"
    }
   },
   "outputs": [
    {
     "data": {
      "text/plain": "<Figure size 1850x1050 with 4 Axes>",
      "image/png": "[encoded data removed]"
     },
     "metadata": {},
     "output_type": "display_data"
    }
   ],
   "source": [
    "fig, axs = plt.subplots(2, 2)\n",
    "fig.subplots_adjust(left=0.2, wspace=0.6)\n",
    "make_plot(axs, \n",
    "          dan_sorted_history,\n",
    "          dan_shuffled_history,\n",
    "          model_1_name='sorted',\n",
    "         model_2_name='shuffled',\n",
    "         y_lim_accuracy_lower=0.40,\n",
    "         y_lim_accuracy_upper=0.82)\n",
    "\n",
    "fig.align_ylabels(axs[:, 1])\n",
    "fig.set_size_inches(18.5, 10.5)\n",
    "plt.show()"
   ]
  },
  {
   "cell_type": "markdown",
   "metadata": {
    "id": "bRWLsg0WNdcE",
    "pycharm": {
     "name": "#%% md\n"
    }
   },
   "source": [
    "### 2.2 DAN vs Weighted Averaging Models using Attention \n",
    "\n",
    "#### 2.2.1. Warm-Up: Manual Attention Calculation\n",
    "\n",
    "**QUESTION:**\n",
    "\n",
    "2.2.1.a Calculate the context vector for the following query and key/value vectors. You can do this manually, or you can use \n",
    "\n",
    "\n",
    "```\n",
    "tf.keras.layers.Attention()\n",
    "```\n",
    "\n",
    "2.2.1.b What are the weights for the key/value vectors?\n"
   ]
  },
  {
   "cell_type": "code",
   "execution_count": 56,
   "metadata": {
    "id": "fpLZyRImNdz5",
    "pycharm": {
     "name": "#%%\n"
    }
   },
   "outputs": [],
   "source": [
    "q = [1, 2., 1]\n",
    "\n",
    "k1 = v1 = [-1, -1, 3.]\n",
    "k2 = v2 = [1, 2, -5.]"
   ]
  },
  {
   "cell_type": "code",
   "execution_count": 67,
   "metadata": {
    "colab": {
     "base_uri": "https://localhost:8080/"
    },
    "id": "DSbKYfjEOmlh",
    "outputId": "be818663-feed-4e6c-f7db-da5eda84f224",
    "pycharm": {
     "name": "#%%\n"
    }
   },
   "outputs": [
    {
     "data": {
      "text/plain": "(<tf.Tensor: shape=(1, 3), dtype=float32, numpy=array([[ 0. ,  0.5, -1. ]], dtype=float32)>,\n <tf.Tensor: shape=(1, 2), dtype=float32, numpy=array([[0.5, 0.5]], dtype=float32)>)"
     },
     "execution_count": 67,
     "metadata": {},
     "output_type": "execute_result"
    }
   ],
   "source": [
    "### YOUR CODE HERE\n",
    "query = np.array([q])\n",
    "values = np.array([k1,k2])\n",
    "\n",
    "tf.keras.layers.Attention()([query, values], return_attention_scores=True)\n",
    "\n",
    "\n",
    "### END YOUR CODE"
   ]
  },
  {
   "cell_type": "markdown",
   "metadata": {
    "id": "68YFNDesI0Cv",
    "pycharm": {
     "name": "#%% md\n"
    }
   },
   "source": [
    "#### 2.2.2 The 'WAN' Model\n",
    "\n",
    "\n",
    "Next, we would like to improve our DAN by attempting to train a neural net that learns to put more weight on some words than others. How could we do that? **Attention** is the answer!\n",
    "\n",
    "Here, we will build a model that you can call \"Weighted Averaging Models using Attention\". You should construct a network that uses attention to weigh the input tokens for a given example.\n",
    "\n",
    "The core structure is the same as for the DAN network, but there are obviously some critical changes:\n",
    "\n",
    "1) How do I create a learnable query vector for the attention calculation, that is supposed to generate the suitable token probabilities? And what is its size?\n",
    "\n",
    "2) What are the key vectors for the attention calculation?\n",
    "\n",
    "3) How does the averaging change? \n",
    "\n",
    "\n",
    "First, the key vectors should be the incoming word vectors.\n",
    "\n",
    "The query vector needs to have the size of the word vectors, as it needs to attend to them. A good way to create the query vector is to generate an embedding like vector easily by getting a single row of trained weights from a Dense layer if we pass in a value of one to multiply by that weight matrix in the usual way:\n",
    "\n",
    "\n",
    "```\n",
    "wan_query_layer = tf.keras.layers.Dense(embedding_matrix.shape[1])\n",
    "```\n",
    "\n",
    "That sounds great... but how do I use this to have a vector available in my calculation? And... make this vector available to all examples in the batch?\n",
    "\n",
    "What you can use is a 'fake input-like layer' that creates for each incoming batch example a '1', that then the query layer can get applied to.\n",
    "Assuming that the input layer for your network is **wan_input_layer**, this could be done with\n",
    "\n",
    "```\n",
    "wan_one_vector = tf.Variable(tf.ones((1, 1, 1)))\n",
    "wan_batch_of_ones = tf.tile(wan_one_vector, (tf.shape(wan_input_layer)[0], 1, 1)) \n",
    "```\n",
    "\n",
    "You could then have the query vector available for each example through:\n",
    "\n",
    "```\n",
    "wan_query_vector = wan_query_layer(wan_batch_of_ones)\n",
    "\n",
    "```\n",
    "\n",
    "You will see that this structure is essentially  the same as what we did for word vectors, except that we had to replace the input layer with our fake layer, as there is no actual input. We will also have **2 outputs** (discussed in a bit.)\n",
    "\n",
    "How does the averaging change? You should use:\n",
    "\n",
    "```\n",
    "tf.keras.layers.Attention()\n",
    "```\n",
    "\n",
    "and make sure you consider the proper inputs and outputs for that calculation.\n",
    "\n",
    "So why 2 outputs, and how do we do that? First off, we need the output that makes the classification, as always. What is the second output? We also would like our model to provide us with the attention weights it calculated. This will tell us which words were considered how much for the context creation.\n",
    "\n",
    "Can we implement 2 outputs? You need to have a list of the two outputs. But note that you may also want to have a list of 2 cost function and 2 metrics. You can use 'None' both times to account for our new second output, and you can ignore the corresponding values that the model report. (In general, the total loss will be a sum of the individual losses. So one would rather construct a loss that always returns zero for the second loss, but as it is very small we can ignore this here.)\n",
    "\n",
    "Finally, you may want to reshape the output after the Attention layer, because the Attention layer will still give a sequence of vectors for each example. It will just be a sequence of one weighted average vector for each example. You may want to remove that middle dimension of size one so you just have a single vector for each example. You can do that with layers.Reshape():\n",
    "\n",
    "```\n",
    "wan_attention_output = tf.keras.layers.Reshape((wan_attention_output.shape[-1],))(wan_attention_output)\n",
    "```"
   ]
  },
  {
   "cell_type": "code",
   "execution_count": 266,
   "metadata": {
    "id": "_9F8zY4WG3Mg",
    "pycharm": {
     "name": "#%%\n"
    }
   },
   "outputs": [],
   "source": [
    "def create_wan_model(retrain_embeddings=False, \n",
    "                     max_sequence_length=SEQUENCE_LENGTH,\n",
    "                     hidden_dim=100,\n",
    "                     dropout=0.3,\n",
    "                     learning_rate=0.001):\n",
    "  \"\"\"\n",
    "  Construct the WAN model including the compilation and return it. Parametrize it using the arguments.\n",
    "  :param retrain_embeddings: boolean, indicating whether the word embeddings are trainable\n",
    "  :param hidden_dim: dimension of the hidden layer\n",
    "  :param dropout: dropout applied to the hidden layer\n",
    "\n",
    "  :returns: the compiled model\n",
    "  \"\"\"\n",
    "  ### YOUR CODE HERE\n",
    "\n",
    "  wan_input_layer = tf.keras.layers.Input(shape=(max_sequence_length,), dtype='int64')\n",
    "\n",
    "  # First, the key vectors should be the incoming word vectors.\n",
    "\n",
    "  wan_embedding_layer = Embedding(embedding_matrix.shape[0],\n",
    "                        embedding_matrix.shape[1],\n",
    "                        embeddings_initializer=tf.keras.initializers.Constant(embedding_matrix),\n",
    "                        input_length=max_sequence_length,\n",
    "                        trainable=retrain_embeddings)\n",
    "  wan_embeddings = wan_embedding_layer(wan_input_layer)\n",
    "\n",
    "  # attention layer\n",
    "  wan_query_layer = tf.keras.layers.Dense(embedding_matrix.shape[1])\n",
    "  wan_one_vector = tf.Variable(tf.ones((1, 1, 1)))\n",
    "  wan_batch_of_ones = tf.tile(wan_one_vector, (tf.shape(wan_input_layer)[0], 1, 1))\n",
    "  wan_query_vector = wan_query_layer(wan_batch_of_ones)\n",
    "\n",
    "  # instead of averaging, we use the attention layer to weight the words:\n",
    "  wan_attention = tf.keras.layers.Attention()([wan_query_vector, wan_embeddings], return_attention_scores=True)\n",
    "  wan_attention_output = tf.keras.layers.Reshape((wan_attention[1].shape[-1],), name='attention_output')(wan_attention[1])\n",
    "\n",
    "  last_hidden_output = tf.keras.layers.Reshape((wan_attention[0].shape[-1],))(wan_attention[0])\n",
    "  last_hidden_output = tf.keras.layers.Dense(hidden_dim, activation='relu',\n",
    "                                                   name='wan_hidden')(last_hidden_output)\n",
    "  last_hidden_output = tf.keras.layers.Dropout(dropout)(last_hidden_output)\n",
    "  wan_classification = tf.keras.layers.Dense(1,\n",
    "                                               activation='sigmoid',\n",
    "                                               name='wan_classification')(last_hidden_output)\n",
    "\n",
    "  # two outputs to work with the attention code:\n",
    "  # wan_model = tf.keras.models.Model(inputs=wan_input_layer, outputs=[wan_classification, wan_attention_output])\n",
    "  # wan_model.compile(loss=['binary_crossentropy', None],\n",
    "  #                     optimizer=tf.keras.optimizers.Adam(learning_rate=learning_rate,\n",
    "  #                                                        beta_1=0.9,\n",
    "  #                                                        beta_2=0.999,\n",
    "  #                                                        epsilon=1e-07,\n",
    "  #                                                        amsgrad=False,\n",
    "  #                                                        name='Adam'),\n",
    "  #                     metrics=['accuracy', None])\n",
    "\n",
    "  # one output to work with the history plotting code:\n",
    "  wan_model = tf.keras.models.Model(inputs=wan_input_layer, outputs=wan_classification)\n",
    "  wan_model.compile(loss='binary_crossentropy',\n",
    "                      optimizer=tf.keras.optimizers.Adam(learning_rate=learning_rate,\n",
    "                                                         beta_1=0.9,\n",
    "                                                         beta_2=0.999,\n",
    "                                                         epsilon=1e-07,\n",
    "                                                         amsgrad=False,\n",
    "                                                         name='Adam'),\n",
    "                      metrics='accuracy')\n",
    "\n",
    "  ### END YOUR CODE\n",
    "    \n",
    "  return wan_model\n"
   ]
  },
  {
   "cell_type": "markdown",
   "metadata": {
    "id": "a5gnW7j8QHUo",
    "pycharm": {
     "name": "#%% md\n"
    }
   },
   "source": [
    "Now run the model for the same dataset as we did for the DAN model (shuffled data) and save it in its history 'wan_history':"
   ]
  },
  {
   "cell_type": "code",
   "execution_count": 160,
   "outputs": [
    {
     "data": {
      "image/png": "[encoded data removed]",
      "text/plain": "<IPython.core.display.Image object>"
     },
     "execution_count": 160,
     "metadata": {},
     "output_type": "execute_result"
    }
   ],
   "source": [
    "keras.utils.plot_model(wan_model, show_shapes=True, dpi=90)"
   ],
   "metadata": {
    "collapsed": false,
    "pycharm": {
     "name": "#%%\n"
    }
   }
  },
  {
   "cell_type": "code",
   "execution_count": 267,
   "metadata": {
    "colab": {
     "base_uri": "https://localhost:8080/"
    },
    "id": "A3WYcv0CNMGC",
    "outputId": "c564b293-97b1-4faa-e9c0-f3eb78013f0a",
    "pycharm": {
     "name": "#%%\n"
    }
   },
   "outputs": [
    {
     "name": "stdout",
     "output_type": "stream",
     "text": [
      "WARNING:tensorflow:The following Variables were used in a Lambda layer's call (tf.tile_45), but are not present in its tracked objects:   <tf.Variable 'Variable:0' shape=(1, 1, 1) dtype=float32>. This is a strong indication that the Lambda layer should be rewritten as a subclassed Layer.\n"
     ]
    },
    {
     "name": "stderr",
     "output_type": "stream",
     "text": [
      "WARNING:tensorflow:The following Variables were used in a Lambda layer's call (tf.tile_45), but are not present in its tracked objects:   <tf.Variable 'Variable:0' shape=(1, 1, 1) dtype=float32>. This is a strong indication that the Lambda layer should be rewritten as a subclassed Layer.\n"
     ]
    },
    {
     "name": "stdout",
     "output_type": "stream",
     "text": [
      "Epoch 1/10\n",
      "625/625 [==============================] - 6s 9ms/step - loss: 0.5764 - accuracy: 0.6983 - val_loss: 0.5026 - val_accuracy: 0.7554\n",
      "Epoch 2/10\n",
      "625/625 [==============================] - 5s 8ms/step - loss: 0.4860 - accuracy: 0.7656 - val_loss: 0.4817 - val_accuracy: 0.7722\n",
      "Epoch 3/10\n",
      "625/625 [==============================] - 5s 8ms/step - loss: 0.4703 - accuracy: 0.7738 - val_loss: 0.4744 - val_accuracy: 0.7708\n",
      "Epoch 4/10\n",
      "625/625 [==============================] - 5s 8ms/step - loss: 0.4622 - accuracy: 0.7814 - val_loss: 0.4675 - val_accuracy: 0.7712\n",
      "Epoch 5/10\n",
      "625/625 [==============================] - 5s 9ms/step - loss: 0.4557 - accuracy: 0.7846 - val_loss: 0.4649 - val_accuracy: 0.7754\n",
      "Epoch 6/10\n",
      "625/625 [==============================] - 5s 8ms/step - loss: 0.4509 - accuracy: 0.7884 - val_loss: 0.4676 - val_accuracy: 0.7726\n",
      "Epoch 7/10\n",
      "625/625 [==============================] - 6s 9ms/step - loss: 0.4471 - accuracy: 0.7899 - val_loss: 0.4639 - val_accuracy: 0.7758\n",
      "Epoch 8/10\n",
      "625/625 [==============================] - 5s 9ms/step - loss: 0.4423 - accuracy: 0.7918 - val_loss: 0.4584 - val_accuracy: 0.7782\n",
      "Epoch 9/10\n",
      "625/625 [==============================] - 5s 8ms/step - loss: 0.4396 - accuracy: 0.7928 - val_loss: 0.4564 - val_accuracy: 0.7790\n",
      "Epoch 10/10\n",
      "625/625 [==============================] - 5s 9ms/step - loss: 0.4379 - accuracy: 0.7940 - val_loss: 0.4564 - val_accuracy: 0.7784\n"
     ]
    }
   ],
   "source": [
    "### YOUR CODE HERE\n",
    "\n",
    "wan_model = create_wan_model()\n",
    "\n",
    "# use wan_history = ... below\n",
    "\n",
    "wan_history = wan_model.fit(train_input_ids,\n",
    "                            train_input_labels,\n",
    "                            validation_data=(test_input_ids, test_input_labels),\n",
    "                            batch_size=32,\n",
    "                            epochs=10,\n",
    "                            shuffle=True\n",
    "                            )\n",
    "\n",
    "### END YOUR CODE"
   ]
  },
  {
   "cell_type": "markdown",
   "metadata": {
    "id": "8P0r4zH4k59o",
    "pycharm": {
     "name": "#%% md\n"
    }
   },
   "source": [
    "**QUESTION:**\n",
    "\n",
    "2.2.2.a What (in percent (e.g. 0.651 = 65.1)) is the highest validation accuracy that you observed for the wan training after 10 epochs?\n"
   ]
  },
  {
   "cell_type": "markdown",
   "metadata": {
    "id": "ZAgsZiy8Nx1U",
    "pycharm": {
     "name": "#%% md\n"
    }
   },
   "source": [
    "Now compare the results of the initial dan_model training and the wan_model training:"
   ]
  },
  {
   "cell_type": "code",
   "execution_count": 268,
   "metadata": {
    "colab": {
     "base_uri": "https://localhost:8080/",
     "height": 635
    },
    "id": "O-MMBGCWLwe1",
    "outputId": "e1c92139-cf1c-4b04-c952-a57c9382222c",
    "pycharm": {
     "name": "#%%\n"
    }
   },
   "outputs": [
    {
     "data": {
      "text/plain": "<Figure size 1850x1050 with 4 Axes>",
      "image/png": "[encoded data removed]"
     },
     "metadata": {},
     "output_type": "display_data"
    }
   ],
   "source": [
    "fig, axs = plt.subplots(2, 2)\n",
    "fig.subplots_adjust(left=0.2, wspace=0.6)\n",
    "make_plot(axs, \n",
    "          dan_shuffled_history,\n",
    "          wan_history, \n",
    "          model_1_name='dan',\n",
    "         model_2_name='wan',\n",
    "         y_lim_accuracy_lower=0.70,\n",
    "         y_lim_accuracy_upper=0.82)\n",
    "\n",
    "fig.align_ylabels(axs[:, 1])\n",
    "fig.set_size_inches(18.5, 10.5)\n",
    "plt.show()"
   ]
  },
  {
   "cell_type": "markdown",
   "metadata": {
    "id": "ILMLcnuZOWoT",
    "pycharm": {
     "name": "#%% md\n"
    }
   },
   "source": [
    "Next, let us see for the wan_model which words did matter for the classification and which ones did less so. How can we tell? We can look at the attention weights!\n",
    "\n",
    "Consider just the first training example:"
   ]
  },
  {
   "cell_type": "code",
   "execution_count": 145,
   "metadata": {
    "colab": {
     "base_uri": "https://localhost:8080/",
     "height": 122
    },
    "id": "53pdy0pwU91Z",
    "outputId": "e06dea8c-28d8-4ed9-b8ed-86c2d5bdf192",
    "pycharm": {
     "name": "#%%\n"
    }
   },
   "outputs": [
    {
     "data": {
      "text/plain": "\"This was an absolutely terrible movie. Don't be lured in by Christopher Walken or Michael Ironside. Both are great actors, but this must simply be their worst role in history. Even their great acting could not redeem this movie's ridiculous storyline. This movie is an early nineties US propaganda piece. The most pathetic scenes were those when the Columbian rebels were making their cases for revolutions. Maria Conchita Alonso appeared phony, and her pseudo-love affair with Walken was nothing but a pathetic emotional plug in a movie that was devoid of any real meaning. I am disappointed that there are movies like this, ruining actor's like Christopher Walken's good name. I could barely sit through it.\""
     },
     "execution_count": 145,
     "metadata": {},
     "output_type": "execute_result"
    }
   ],
   "source": [
    "train_examples_batch[0].numpy().decode('utf-8')"
   ]
  },
  {
   "cell_type": "markdown",
   "metadata": {
    "id": "B6CFujCuX37x",
    "pycharm": {
     "name": "#%% md\n"
    }
   },
   "source": [
    "The corresponding input ids that are suitable formatted, i.e. with max length 100, are these:"
   ]
  },
  {
   "cell_type": "code",
   "execution_count": 146,
   "metadata": {
    "colab": {
     "base_uri": "https://localhost:8080/"
    },
    "id": "T5U6X-fcVD88",
    "outputId": "bdf8546c-e37d-4b8f-d456-8b62474e5a13",
    "pycharm": {
     "name": "#%%\n"
    }
   },
   "outputs": [
    {
     "data": {
      "text/plain": "array([21531, 25272, 12291,  7427, 37254, 43981,  6891, 12917, 38232,\n       16915, 12929, 16182, 43981, 20526, 23487, 43981, 23807, 42958,\n       35058, 43981, 19123, 35029, 41270, 29275, 12917, 32597, 20659,\n         638, 16915, 43981,   174, 32597, 35058, 39971,  2326,  3636,\n       22434, 35029, 43981, 33922, 43981, 21531, 34710, 16908, 12291,\n       36880, 28137,  5376, 28038, 43981, 15402, 29155, 18063, 24951,\n       17433, 17595,  8856, 14193, 43981, 43248, 17433,  6290, 32597,\n        9001, 11511, 43981, 21807, 39168, 43981, 16856, 43981, 43981,\n       23245, 43981,  8889,  1331, 43981, 25272, 31976, 19123, 43981,\n       18063, 36309, 24099, 16915, 43981, 34710, 36633, 25272, 20413,\n       43981, 33458, 14926, 43981, 12139, 12289, 39617, 36633,  9483,\n       42958])"
     },
     "execution_count": 146,
     "metadata": {},
     "output_type": "execute_result"
    }
   ],
   "source": [
    "probe_input_ids = train_input_ids[0]\n",
    "probe_input_ids"
   ]
  },
  {
   "cell_type": "markdown",
   "metadata": {
    "id": "jWNRYYmUYw-D",
    "pycharm": {
     "name": "#%% md\n"
    }
   },
   "source": [
    "and the first 10 corresponding tokens are: "
   ]
  },
  {
   "cell_type": "code",
   "execution_count": 147,
   "metadata": {
    "colab": {
     "base_uri": "https://localhost:8080/"
    },
    "id": "x1h1vScxYxMw",
    "outputId": "587b4845-d4f2-4a18-e3cc-8074d33b2359",
    "pycharm": {
     "name": "#%%\n"
    }
   },
   "outputs": [
    {
     "data": {
      "text/plain": "['This',\n 'was',\n 'an',\n 'absolutely',\n 'terrible',\n 'movie.',\n \"Don't\",\n 'be',\n 'lured',\n 'in']"
     },
     "execution_count": 147,
     "metadata": {},
     "output_type": "execute_result"
    }
   ],
   "source": [
    "probe_tokens = [x.decode('utf-8') for x in train_tokens[0].numpy()][:100]\n",
    "probe_tokens[:10]"
   ]
  },
  {
   "cell_type": "markdown",
   "metadata": {
    "id": "y_9R85S7YOXF",
    "pycharm": {
     "name": "#%% md\n"
    }
   },
   "source": [
    "With that first training example, identify the 5 words with the highest impact and the 5 words with the lowest impact on the score, i.e., identify the 5 words with the largest and  smallest weights, respectively. (Note that multiple occurences of the same word count separately for the exercise).\n",
    "\n",
    "HINT: You should create a list of (word/weight) pairs, and then sort by the second argument. Python's '.sort()' function may come in handy."
   ]
  },
  {
   "cell_type": "code",
   "execution_count": 201,
   "metadata": {
    "colab": {
     "base_uri": "https://localhost:8080/"
    },
    "id": "0UBhi3G0S0v8",
    "outputId": "1cb55e19-a406-4f97-d47e-424cf02e41b0",
    "pycharm": {
     "name": "#%%\n"
    }
   },
   "outputs": [
    {
     "name": "stdout",
     "output_type": "stream",
     "text": [
      "1/1 [==============================] - 0s 26ms/step\n",
      "most important tokens:\n",
      "\t [(20659, 0.1152039), (37254, 0.07801824), (18063, 0.049930744), (18063, 0.049930744), (20413, 0.040086832), (33922, 0.0332423), (31976, 0.02907912), (29275, 0.022483753), (41270, 0.020588886), (39617, 0.019374477)]\n",
      "\n",
      "least important tokens:\n",
      "\t [(32597, 0.0019408944), (32597, 0.0019408944), (32597, 0.0019408944), (23245, 0.0018351352), (12139, 0.0017710419), (35029, 0.0017521097), (35029, 0.0017521097), (15402, 0.0017422314), (12289, 0.0015861368), (14193, 0.0015352245)]\n"
     ]
    }
   ],
   "source": [
    "### YOUR CODE HERE\n",
    "\n",
    "# 'pairs' should be the variable that holds the  token/weight pairs.\n",
    "prediction, attention_score = wan_model.predict(sorted_training_input_ids[0:1])\n",
    "pairs = list(zip(sorted_training_input_ids[0], attention_score[0]))\n",
    "pairs = sorted(pairs,key = lambda x: x[1], reverse=True)\n",
    "\n",
    "### END YOUR CODE\n",
    "\n",
    "print('most important tokens:')\n",
    "print('\\t', pairs[:10])\n",
    "print('\\nleast important tokens:')\n",
    "print('\\t', pairs[-10:])\n",
    "\n"
   ]
  },
  {
   "cell_type": "markdown",
   "metadata": {
    "id": "UURhPvLWRBNd",
    "pycharm": {
     "name": "#%% md\n"
    }
   },
   "source": [
    " **QUESTION:**\n",
    "\n",
    " 2.2.2.b List the 5 most important words, with the most important first. (Again, if a word appears twice, note it twice.)\n",
    "\n",
    " 2.2.2.c List the 5 least important words, with the most important of those first. (Again, if a word appears twice, note it twice.)"
   ]
  },
  {
   "cell_type": "markdown",
   "metadata": {
    "id": "5IYOH-QfSj22",
    "pycharm": {
     "name": "#%% md\n"
    }
   },
   "source": [
    "### 2.3 Approaches for Training of Embeddings\n",
    "\n",
    "Rerun the DAN Model in 3 configurations:\n",
    "\n",
    "\n",
    "1.   embedding_initializer = 'word2vec' and retrain_embeddings=False\n",
    "2.   embedding_initializer = 'word2vec' and retrain_embeddings=True\n",
    "3.   embedding_initializer = 'uniform' and retrain_embeddings=True\n",
    "\n",
    "\n",
    "**NOTE:** Train the models with static embeddings for 10 epochs and the ones with trainable embeddings for 3 epochs. \n",
    "\n",
    "What do you observe?\n",
    "\n"
   ]
  },
  {
   "cell_type": "code",
   "execution_count": 217,
   "metadata": {
    "colab": {
     "base_uri": "https://localhost:8080/"
    },
    "id": "h6Pxm-2xU1aw",
    "outputId": "f9e21f78-e6ab-43f6-ecde-acd5dd0bd4db",
    "pycharm": {
     "name": "#%%\n"
    }
   },
   "outputs": [
    {
     "name": "stdout",
     "output_type": "stream",
     "text": [
      "Epoch 1/10\n",
      "625/625 [==============================] - 5s 8ms/step - loss: 0.6404 - accuracy: 0.6552 - val_loss: 0.5946 - val_accuracy: 0.6980\n",
      "Epoch 2/10\n",
      "625/625 [==============================] - 5s 8ms/step - loss: 0.5521 - accuracy: 0.7304 - val_loss: 0.5404 - val_accuracy: 0.7308\n",
      "Epoch 3/10\n",
      "625/625 [==============================] - 5s 8ms/step - loss: 0.5220 - accuracy: 0.7460 - val_loss: 0.5255 - val_accuracy: 0.7418\n",
      "Epoch 4/10\n",
      "625/625 [==============================] - 4s 7ms/step - loss: 0.5074 - accuracy: 0.7519 - val_loss: 0.5157 - val_accuracy: 0.7498\n",
      "Epoch 5/10\n",
      "625/625 [==============================] - 5s 7ms/step - loss: 0.5003 - accuracy: 0.7602 - val_loss: 0.5169 - val_accuracy: 0.7496\n",
      "Epoch 6/10\n",
      "625/625 [==============================] - 5s 8ms/step - loss: 0.4940 - accuracy: 0.7610 - val_loss: 0.5131 - val_accuracy: 0.7512\n",
      "Epoch 7/10\n",
      "625/625 [==============================] - 5s 8ms/step - loss: 0.4882 - accuracy: 0.7645 - val_loss: 0.5143 - val_accuracy: 0.7498\n",
      "Epoch 8/10\n",
      "625/625 [==============================] - 5s 7ms/step - loss: 0.4860 - accuracy: 0.7647 - val_loss: 0.5103 - val_accuracy: 0.7514\n",
      "Epoch 9/10\n",
      "625/625 [==============================] - 5s 7ms/step - loss: 0.4824 - accuracy: 0.7674 - val_loss: 0.4955 - val_accuracy: 0.7582\n",
      "Epoch 10/10\n",
      "625/625 [==============================] - 5s 7ms/step - loss: 0.4782 - accuracy: 0.7704 - val_loss: 0.4964 - val_accuracy: 0.7620\n"
     ]
    }
   ],
   "source": [
    "### YOUR CODE HERE\n",
    "\n",
    "dan_model_shuffled = create_dan_model(embedding_initializer='word2vec', retrain_embeddings=False)\n",
    "\n",
    "dan_shuffled_history = dan_model_shuffled.fit(train_input_ids,\n",
    "                            train_input_labels,\n",
    "                            validation_data=(test_input_ids, test_input_labels),\n",
    "                            batch_size=32,\n",
    "                            epochs=10,\n",
    "                            shuffle=True\n",
    "                            )\n",
    "\n",
    "### END YOUR CODE"
   ]
  },
  {
   "cell_type": "markdown",
   "metadata": {
    "id": "a0jwQ6ailUm4",
    "pycharm": {
     "name": "#%% md\n"
    }
   },
   "source": [
    "**QUESTION:**\n",
    "\n",
    "2.3.a What (in percent (e.g. 0.651 = 65.1)) is the highest validation accuracy that you observed for the static model after 10 epochs?"
   ]
  },
  {
   "cell_type": "code",
   "execution_count": 219,
   "metadata": {
    "colab": {
     "base_uri": "https://localhost:8080/"
    },
    "id": "qwlDqMTxVwbQ",
    "outputId": "e9bad930-73d0-45a0-ca62-f247064eff13",
    "pycharm": {
     "name": "#%%\n"
    }
   },
   "outputs": [
    {
     "name": "stdout",
     "output_type": "stream",
     "text": [
      "Epoch 1/3\n",
      "625/625 [==============================] - 8s 12ms/step - loss: 0.5005 - accuracy: 0.7498 - val_loss: 0.4567 - val_accuracy: 0.7828\n",
      "Epoch 2/3\n",
      "625/625 [==============================] - 7s 11ms/step - loss: 0.3223 - accuracy: 0.8656 - val_loss: 0.4565 - val_accuracy: 0.7892\n",
      "Epoch 3/3\n",
      "625/625 [==============================] - 7s 12ms/step - loss: 0.2354 - accuracy: 0.9087 - val_loss: 0.5298 - val_accuracy: 0.7810\n"
     ]
    }
   ],
   "source": [
    "### YOUR CODE HERE\n",
    "\n",
    "dan_model_shuffled = create_dan_model(embedding_initializer='word2vec', retrain_embeddings=True)\n",
    "\n",
    "dan_shuffled_history = dan_model_shuffled.fit(train_input_ids,\n",
    "                            train_input_labels,\n",
    "                            validation_data=(test_input_ids, test_input_labels),\n",
    "                            batch_size=32,\n",
    "                            epochs=3,\n",
    "                            shuffle=True\n",
    "                            )\n",
    "\n",
    "### END YOUR CODE"
   ]
  },
  {
   "cell_type": "markdown",
   "metadata": {
    "id": "sZXr9UY7lfHE",
    "pycharm": {
     "name": "#%% md\n"
    }
   },
   "source": [
    "**QUESTION:**\n",
    "\n",
    "\n",
    "2.3.b What (in percent (e.g. 0.651 = 65.1)) is the highest validation accuracy that you observed for the model where you initialized with word2vec vectors but allow them to retrain for 3 epochs?\n",
    "\n"
   ]
  },
  {
   "cell_type": "code",
   "execution_count": 220,
   "metadata": {
    "colab": {
     "base_uri": "https://localhost:8080/"
    },
    "id": "H0rMPTAOVw70",
    "outputId": "787d42d9-7958-4a2d-c500-d7939d106f79",
    "pycharm": {
     "name": "#%%\n"
    }
   },
   "outputs": [
    {
     "name": "stdout",
     "output_type": "stream",
     "text": [
      "Epoch 1/3\n",
      "625/625 [==============================] - 8s 12ms/step - loss: 0.5036 - accuracy: 0.7539 - val_loss: 0.4379 - val_accuracy: 0.7962\n",
      "Epoch 2/3\n",
      "625/625 [==============================] - 7s 12ms/step - loss: 0.3172 - accuracy: 0.8687 - val_loss: 0.4660 - val_accuracy: 0.7836\n",
      "Epoch 3/3\n",
      "625/625 [==============================] - 7s 12ms/step - loss: 0.2332 - accuracy: 0.9099 - val_loss: 0.5260 - val_accuracy: 0.7800\n"
     ]
    }
   ],
   "source": [
    "### YOUR CODE HERE\n",
    "\n",
    "dan_model_shuffled = create_dan_model(embedding_initializer='uniform', retrain_embeddings=True)\n",
    "\n",
    "dan_shuffled_history = dan_model_shuffled.fit(train_input_ids,\n",
    "                            train_input_labels,\n",
    "                            validation_data=(test_input_ids, test_input_labels),\n",
    "                            batch_size=32,\n",
    "                            epochs=3,\n",
    "                            shuffle=True\n",
    "                            )\n",
    "\n",
    "### END YOUR CODE"
   ]
  },
  {
   "cell_type": "markdown",
   "metadata": {
    "id": "hO791d-oYOgg",
    "pycharm": {
     "name": "#%% md\n"
    }
   },
   "source": [
    "**QUESTION:**\n",
    "\n",
    "2.3.c What (in percent (e.g. 0.651 = 65.1)) is the highest validation accuracy that you observed for the model where you initialized randomly and then trained?\n",
    "\n",
    "\n"
   ]
  },
  {
   "cell_type": "markdown",
   "metadata": {
    "id": "4BGRT1g6a0T6",
    "pycharm": {
     "name": "#%% md\n"
    }
   },
   "source": [
    "\n",
    "## 3. BERT-based Classification Models\n",
    "\n",
    "Now we turn to classification with BERT. We will perform classifications with various models that are based on pre-trained BERT models.\n",
    "\n",
    "\n",
    "### 3.1. Basics\n",
    "\n",
    "Let us first explore some basics of BERT. \n",
    "\n",
    "You first need to define the tokenizer and the model for the pre-trained configuration you need.\n",
    "\n",
    "We already got the tokenizer during setup with:\n",
    "\n",
    "```\n",
    "bert_tokenizer = BertTokenizer.from_pretrained('bert-base-cased')\n",
    "```\n",
    "\n",
    "Now, we also need to get the model:"
   ]
  },
  {
   "cell_type": "code",
   "execution_count": 7,
   "metadata": {
    "colab": {
     "base_uri": "https://localhost:8080/",
     "height": 156,
     "referenced_widgets": [
      "4f4049ecbd3343feb38601ca5e7c5775",
      "bf782763fb9e49cab83e517716366d7b",
      "1eeef697fd88454dbf9a3761aa608ade",
      "21e783a6e4274965b939c863da815386",
      "9484200c01ff498baa7c4e656d9b115b",
      "bbc8c1c6a4a14b77947e48092e0463a1",
      "bcc69ff0f379491e816bf3e15fdab9a7",
      "ca6424e8ba2241dbbffeecb8abd00dff",
      "c07cdb7b799d47efafee50bad9f1d9fd",
      "0fa595f4958b408aba8d786cdb9eb9bf",
      "665d66b1d9564f9c976ffafaa85d8866"
     ]
    },
    "id": "tnCeDGfFgPlL",
    "outputId": "18912ef8-3a00-4f58-ea6e-19df5114ac25",
    "pycharm": {
     "name": "#%%\n"
    }
   },
   "outputs": [
    {
     "name": "stderr",
     "output_type": "stream",
     "text": [
      "Some layers from the model checkpoint at bert-base-cased were not used when initializing TFBertModel: ['nsp___cls', 'mlm___cls']\n",
      "- This IS expected if you are initializing TFBertModel from the checkpoint of a model trained on another task or with another architecture (e.g. initializing a BertForSequenceClassification model from a BertForPreTraining model).\n",
      "- This IS NOT expected if you are initializing TFBertModel from the checkpoint of a model that you expect to be exactly identical (initializing a BertForSequenceClassification model from a BertForSequenceClassification model).\n",
      "All the layers of TFBertModel were initialized from the model checkpoint at bert-base-cased.\n",
      "If your task is similar to the task the model of the checkpoint was trained on, you can already use TFBertModel for predictions without further training.\n"
     ]
    }
   ],
   "source": [
    "bert_model = TFBertModel.from_pretrained('bert-base-cased')"
   ]
  },
  {
   "cell_type": "markdown",
   "metadata": {
    "id": "Pz_i57Qsa9Vl",
    "pycharm": {
     "name": "#%% md\n"
    }
   },
   "source": [
    "(Ignore the warnings.)\n",
    "\n",
    "Next, consider this input:"
   ]
  },
  {
   "cell_type": "code",
   "execution_count": 55,
   "metadata": {
    "id": "aM3UggLagPn4",
    "pycharm": {
     "name": "#%%\n"
    }
   },
   "outputs": [],
   "source": [
    "test_input = ['this bank is closed on Sunday', 'the steepest bank of the river is dangerous']"
   ]
  },
  {
   "cell_type": "markdown",
   "metadata": {
    "id": "YWaNDy5UbmGU",
    "pycharm": {
     "name": "#%% md\n"
    }
   },
   "source": [
    "Now apply the tokenizer to tokenize it:"
   ]
  },
  {
   "cell_type": "code",
   "execution_count": 56,
   "metadata": {
    "colab": {
     "base_uri": "https://localhost:8080/"
    },
    "id": "nmoptRz0bq1o",
    "outputId": "8c6dacc4-d091-4655-8d11-93294aafc5cb",
    "pycharm": {
     "name": "#%%\n"
    }
   },
   "outputs": [
    {
     "data": {
      "text/plain": "{'input_ids': <tf.Tensor: shape=(2, 12), dtype=int32, numpy=\narray([[ 101, 1142, 3085, 1110, 1804, 1113, 3625,  102,    0,    0,    0,\n           0],\n       [ 101, 1103, 9458, 2556, 3085, 1104, 1103, 2186, 1110, 4249,  102,\n           0]])>, 'token_type_ids': <tf.Tensor: shape=(2, 12), dtype=int32, numpy=\narray([[0, 0, 0, 0, 0, 0, 0, 0, 0, 0, 0, 0],\n       [0, 0, 0, 0, 0, 0, 0, 0, 0, 0, 0, 0]])>, 'attention_mask': <tf.Tensor: shape=(2, 12), dtype=int32, numpy=\narray([[1, 1, 1, 1, 1, 1, 1, 1, 0, 0, 0, 0],\n       [1, 1, 1, 1, 1, 1, 1, 1, 1, 1, 1, 0]])>}"
     },
     "execution_count": 56,
     "metadata": {},
     "output_type": "execute_result"
    }
   ],
   "source": [
    "tokenized_input = bert_tokenizer(test_input, \n",
    "                                 max_length=12,\n",
    "                                 truncation=True,\n",
    "                                 padding='max_length', \n",
    "                                 return_tensors='tf')\n",
    "\n",
    "tokenized_input"
   ]
  },
  {
   "cell_type": "markdown",
   "metadata": {
    "id": "q8WYd810dQwh",
    "pycharm": {
     "name": "#%% md\n"
    }
   },
   "source": [
    " **QUESTION:** \n",
    " \n",
    " 3.1.a  Why do the attention_masks have 4 and 1 zeros, respectively?\n",
    "\n",
    "  * For the first example the last four tokens belong to a different segment. For the second one it is only the last token.\n",
    "\n",
    "  *  For the first example 4 positions are padded while for the second one it is only one.\n",
    "\n",
    "------\n",
    "\n",
    "\n",
    "Next, let us look at the BERT outputs for these 2 sentences:"
   ]
  },
  {
   "cell_type": "code",
   "execution_count": 63,
   "metadata": {
    "id": "4hpNQPvBehMc",
    "pycharm": {
     "name": "#%%\n"
    }
   },
   "outputs": [
    {
     "data": {
      "text/plain": "TFBaseModelOutputWithPoolingAndCrossAttentions(last_hidden_state=<tf.Tensor: shape=(2, 12, 768), dtype=float32, numpy=\narray([[[ 0.39452177,  0.04198517,  0.06480405, ...,  0.05045456,\n          0.22358832,  0.24238206],\n        [-0.09458955,  0.06673872, -0.03607513, ...,  0.2192578 ,\n         -0.06967184,  0.74448407],\n        [ 0.00561047,  0.31316507, -0.17982732, ...,  0.19563234,\n         -0.10614767,  0.47773582],\n        ...,\n        [ 0.22268759, -0.11558586,  0.15854447, ...,  0.30025324,\n          0.01634031,  0.5133397 ],\n        [ 0.3163838 , -0.10986969,  0.23661831, ...,  0.10924095,\n         -0.14340383,  0.32835397],\n        [ 0.34834042, -0.10076517,  0.26903242, ...,  0.12707601,\n         -0.18430157,  0.2617621 ]],\n\n       [[ 0.4450639 ,  0.22264996, -0.09972482, ..., -0.23736238,\n          0.12722538,  0.07778167],\n        [ 0.07407629, -0.31805816, -0.11924671, ..., -0.06680149,\n         -0.3061704 ,  0.4692353 ],\n        [ 0.3145813 ,  0.62658817,  0.0060633 , ..., -0.03697499,\n         -0.08461262,  0.7268309 ],\n        ...,\n        [ 0.699946  , -0.11628424,  0.01613346, ..., -0.47437233,\n          0.05725133,  0.21830125],\n        [ 0.5602966 ,  0.08535854, -0.9192351 , ..., -0.31020188,\n         -0.09382495,  0.34911034],\n        [-0.26863497,  0.11328802,  0.07555689, ...,  0.3738221 ,\n          0.00740062,  0.16682102]]], dtype=float32)>, pooler_output=<tf.Tensor: shape=(2, 768), dtype=float32, numpy=\narray([[-0.6653194 ,  0.47329736,  0.9998541 , ...,  0.99994165,\n        -0.7300668 ,  0.97826153],\n       [-0.6258612 ,  0.4441632 ,  0.99979794, ...,  0.99991226,\n        -0.7422421 ,  0.97257334]], dtype=float32)>, past_key_values=None, hidden_states=None, attentions=None, cross_attentions=None)"
     },
     "execution_count": 63,
     "metadata": {},
     "output_type": "execute_result"
    }
   ],
   "source": [
    "### YOUR CODE HERE\n",
    "\n",
    "bert_output = bert_model(tokenized_input)\n",
    "\n",
    "bert_output\n",
    "\n",
    "### END YOUR CODE"
   ]
  },
  {
   "cell_type": "markdown",
   "metadata": {
    "id": "XVNsqd6QRepy",
    "pycharm": {
     "name": "#%% md\n"
    }
   },
   "source": [
    " **QUESTION:** \n",
    " \n",
    " 3.1.b How many outputs are there?\n",
    "\n",
    " 3.1.c Which output do we need to use to get token-level embeddings?\n",
    "\n",
    " * the first\n",
    " \n",
    " * the second \n",
    "\n",
    " 3.1.d Which token index number corresponds to 'bank' in the first sentence? ('bert_tokenizer.tokenize()' may come in handy.. and don't forget the CLS token! )\n",
    "\n",
    " 3.1.e Which token index number corresponds to 'bank' in the second sentence?\n",
    "\n",
    " 3.1.f What is the cosine similarity between the BERT outputs for the two occurances of 'bank' in the two sentences?\n",
    "\n",
    " 3.1.g How does this relate to the cosine similarity of 'this' (in sentence 1) and the first 'the' (in sentence 2). Compute the cosine similarity.\n",
    "\n",
    " Enter your code below."
   ]
  },
  {
   "cell_type": "code",
   "execution_count": 235,
   "metadata": {
    "colab": {
     "base_uri": "https://localhost:8080/"
    },
    "id": "qAfOnO9zov-y",
    "outputId": "12795d53-2002-4b42-c73b-39b2931f31a0",
    "pycharm": {
     "name": "#%%\n"
    }
   },
   "outputs": [
    {
     "name": "stdout",
     "output_type": "stream",
     "text": [
      "TFBaseModelOutputWithPoolingAndCrossAttentions(last_hidden_state=<tf.Tensor: shape=(2, 12, 768), dtype=float32, numpy=\n",
      "array([[[ 0.39452177,  0.04198517,  0.06480405, ...,  0.05045456,\n",
      "          0.22358832,  0.24238206],\n",
      "        [-0.09458955,  0.06673872, -0.03607513, ...,  0.2192578 ,\n",
      "         -0.06967184,  0.74448407],\n",
      "        [ 0.00561047,  0.31316507, -0.17982732, ...,  0.19563234,\n",
      "         -0.10614767,  0.47773582],\n",
      "        ...,\n",
      "        [ 0.22268759, -0.11558586,  0.15854447, ...,  0.30025324,\n",
      "          0.01634031,  0.5133397 ],\n",
      "        [ 0.3163838 , -0.10986969,  0.23661831, ...,  0.10924095,\n",
      "         -0.14340383,  0.32835397],\n",
      "        [ 0.34834042, -0.10076517,  0.26903242, ...,  0.12707601,\n",
      "         -0.18430157,  0.2617621 ]],\n",
      "\n",
      "       [[ 0.4450639 ,  0.22264996, -0.09972482, ..., -0.23736238,\n",
      "          0.12722538,  0.07778167],\n",
      "        [ 0.07407629, -0.31805816, -0.11924671, ..., -0.06680149,\n",
      "         -0.3061704 ,  0.4692353 ],\n",
      "        [ 0.3145813 ,  0.62658817,  0.0060633 , ..., -0.03697499,\n",
      "         -0.08461262,  0.7268309 ],\n",
      "        ...,\n",
      "        [ 0.699946  , -0.11628424,  0.01613346, ..., -0.47437233,\n",
      "          0.05725133,  0.21830125],\n",
      "        [ 0.5602966 ,  0.08535854, -0.9192351 , ..., -0.31020188,\n",
      "         -0.09382495,  0.34911034],\n",
      "        [-0.26863497,  0.11328802,  0.07555689, ...,  0.3738221 ,\n",
      "          0.00740062,  0.16682102]]], dtype=float32)>, pooler_output=<tf.Tensor: shape=(2, 768), dtype=float32, numpy=\n",
      "array([[-0.6653194 ,  0.47329736,  0.9998541 , ...,  0.99994165,\n",
      "        -0.7300668 ,  0.97826153],\n",
      "       [-0.6258612 ,  0.4441632 ,  0.99979794, ...,  0.99991226,\n",
      "        -0.7422421 ,  0.97257334]], dtype=float32)>, past_key_values=None, hidden_states=None, attentions=None, cross_attentions=None)\n",
      "['this', 'bank', 'is', 'closed', 'on', 'Sunday']\n",
      "['the', 'steep', '##est', 'bank', 'of', 'the', 'river', 'is', 'dangerous']\n",
      "\t1.0\t0.74\n",
      "\t0.74\t1.0\n",
      "\t1.0\t0.81\n",
      "\t0.81\t1.0\n"
     ]
    }
   ],
   "source": [
    "### YOUR CODE HERE\n",
    "\n",
    "#1. -> print it out\n",
    "\n",
    "print(bert_output)\n",
    "\n",
    "#2. -> answer in answer file\n",
    "\n",
    "#3. -> Look at tokenization\n",
    "\n",
    "print(bert_tokenizer.tokenize('this bank is closed on Sunday'))\n",
    "\n",
    "#4. -> Look at tokenization\n",
    "\n",
    "print(bert_tokenizer.tokenize('the steepest bank of the river is dangerous'))\n",
    "\n",
    "#5.  -> get the vectors and calculate cosine similarity\n",
    "\n",
    "bank_1 = bert_output[0][0, 2]\n",
    "bank_2 = bert_output[0][1, 4]\n",
    "\n",
    "def cosine_similarities(vecs):\n",
    "    for v_1 in vecs:\n",
    "        similarities = ''\n",
    "        for v_2 in vecs:\n",
    "            similarities += ('\\t' + str(np.dot(v_1, v_2)/np.sqrt(np.dot(v_1, v_1) * np.dot(v_2, v_2)))[:4])\n",
    "        print(similarities)\n",
    "\n",
    "cosine_similarities([bank_1, bank_2])\n",
    "\n",
    "#6.  -> get the vectors and calculate cosine similarity\n",
    "\n",
    "this = bert_output[0][0, 1]\n",
    "the = bert_output[0][1, 1]\n",
    "\n",
    "cosine_similarities([this, the])\n",
    "\n",
    "### END YOUR CODE"
   ]
  },
  {
   "cell_type": "markdown",
   "metadata": {
    "id": "KBOvsTBwm_Vi",
    "pycharm": {
     "name": "#%% md\n"
    }
   },
   "source": [
    "### 3.2 CLS-Token-based Classification \n",
    "\n",
    "In the live session we discussed classification with BERT using the pooled token. We now will do the same but extract the [CLS] token output for each example and use that for classification purposes.\n",
    "\n",
    "Consult the model from the live session and change accordingly.\n",
    "\n",
    "**HINT:**\n",
    "You will want to extract the output of the [CLS] token from the BERT output similarly to what we did above to get the output for 'bank', etc.\n"
   ]
  },
  {
   "cell_type": "code",
   "execution_count": 52,
   "metadata": {
    "id": "V1OAGPTNgPr6",
    "pycharm": {
     "name": "#%%\n"
    }
   },
   "outputs": [],
   "source": [
    "def create_bert_cls_model(hidden_size = 100, \n",
    "                          dropout=0.3,\n",
    "                          learning_rate=0.00005):\n",
    "    \"\"\"\n",
    "    Build a simple classification model with BERT. Use the CLS Token output for classification purposes.\n",
    "    \"\"\"\n",
    "\n",
    "    ### YOUR CODE HERE\n",
    "\n",
    "    bert_model.trainable = False\n",
    "\n",
    "    input_ids = tf.keras.layers.Input(shape=(max_length,), dtype=tf.int64, name='input_ids_layer')\n",
    "    token_type_ids = tf.keras.layers.Input(shape=(max_length,), dtype=tf.int64, name='token_type_ids_layer')\n",
    "    attention_mask = tf.keras.layers.Input(shape=(max_length,), dtype=tf.int64, name='attention_mask_layer')\n",
    "\n",
    "    bert_inputs = {'input_ids': input_ids,\n",
    "                   'token_type_ids': token_type_ids,\n",
    "                   'attention_mask': attention_mask}\n",
    "\n",
    "    bert_out = bert_model(bert_inputs)\n",
    "\n",
    "    cls_token = bert_out[0][:, 0, :]\n",
    "\n",
    "    hidden = tf.keras.layers.Dense(hidden_size, activation='relu', name='hidden_layer')(cls_token)\n",
    "\n",
    "\n",
    "    hidden = tf.keras.layers.Dropout(dropout)(hidden)\n",
    "\n",
    "\n",
    "    classification = tf.keras.layers.Dense(1, activation='sigmoid',name='classification_layer')(hidden)\n",
    "\n",
    "    classification_model = tf.keras.Model(inputs=[input_ids, token_type_ids, attention_mask], outputs=[classification])\n",
    "\n",
    "    classification_model.compile(optimizer=tf.keras.optimizers.Adam(learning_rate=learning_rate),\n",
    "                                 loss=tf.keras.losses.BinaryCrossentropy(from_logits=False),\n",
    "                                 metrics='accuracy')\n",
    "\n",
    "    ### END YOUR CODE\n",
    "    \n",
    "    return classification_model"
   ]
  },
  {
   "cell_type": "markdown",
   "metadata": {
    "id": "KcK2PyPNoNc2",
    "pycharm": {
     "name": "#%% md\n"
    }
   },
   "source": [
    "Now create the model and run for 2 epochs. Use batch size 8 and the appropriate validation/test set. (We don't make a distinction here.)\n"
   ]
  },
  {
   "cell_type": "code",
   "execution_count": 53,
   "metadata": {
    "colab": {
     "base_uri": "https://localhost:8080/"
    },
    "id": "hIXDr8OdiSyv",
    "outputId": "afd247b9-9d2f-4bb3-d0a7-fcd3c421fb5e",
    "pycharm": {
     "name": "#%%\n"
    }
   },
   "outputs": [
    {
     "name": "stdout",
     "output_type": "stream",
     "text": [
      "Epoch 1/2\n",
      "2500/2500 [==============================] - 179s 69ms/step - loss: 0.6413 - accuracy: 0.6285 - val_loss: 0.5886 - val_accuracy: 0.6932\n",
      "Epoch 2/2\n",
      "2500/2500 [==============================] - 174s 70ms/step - loss: 0.5910 - accuracy: 0.6892 - val_loss: 0.5709 - val_accuracy: 0.7004\n"
     ]
    }
   ],
   "source": [
    "### YOUR CODE HERE\n",
    "# tf.debugging.disable_traceback_filtering()\n",
    "\n",
    "bert_classification_model = create_bert_cls_model()\n",
    "\n",
    "# bert_classification_model.summary()\n",
    "\n",
    "bert_classification_model_history = bert_classification_model.fit(\n",
    "    [x_train.input_ids, x_train.token_type_ids, x_train.attention_mask],\n",
    "    train_labels_batch,\n",
    "    validation_data=([x_test.input_ids, x_test.token_type_ids, x_test.attention_mask], test_labels_batch),\n",
    "    batch_size=8,\n",
    "    epochs=2\n",
    ")\n",
    "\n",
    "\n",
    "### END YOUR CODE"
   ]
  },
  {
   "cell_type": "markdown",
   "metadata": {
    "id": "LLjgxylMnC0x",
    "pycharm": {
     "name": "#%% md\n"
    }
   },
   "source": [
    " **QUESTION:** \n",
    " \n",
    " 3.2.a What (in percent (e.g. 0.651 = 65.1)) is the highest validation accuracy that you observed for the [CLS]-classification model after training for 2 epochs?\n",
    "\n",
    "\n",
    " "
   ]
  },
  {
   "cell_type": "markdown",
   "metadata": {
    "id": "3cMVEBuxro4j",
    "pycharm": {
     "name": "#%% md\n"
    }
   },
   "source": [
    "### 3.3 Classification by Averaging the BERT outputs\n",
    "\n",
    "Instead of using the [CLS] token, we will now average all of the output tokens that correspond to actual tokens. I.e., ignore the [CLS] and [SEP] tokens. Where are they? First and last for us.\n",
    "\n",
    "\n",
    "**HINT:**\n",
    "You will want to extract all of the relevant tokens and then apply an average across the tokens. You may want to use:\n",
    "\n",
    "\n",
    "```\n",
    "tf.math.reduce_mean()\n",
    "```\n",
    "but you can also do it in other ways.\n",
    "\n"
   ]
  },
  {
   "cell_type": "code",
   "execution_count": 73,
   "metadata": {
    "id": "sB2WKwLTk4LY",
    "pycharm": {
     "name": "#%%\n"
    }
   },
   "outputs": [],
   "source": [
    "def create_bert_avg_model(hidden_size = 100, \n",
    "                                dropout=0.3,\n",
    "                                learning_rate=0.00005):\n",
    "    \"\"\"\n",
    "    Build a simple classification model with BERT. Use the average of the BERT output tokens\n",
    "    \"\"\"\n",
    "\n",
    "    ### YOUR CODE HERE\n",
    "\n",
    "    bert_model.trainable = False\n",
    "\n",
    "    input_ids = tf.keras.layers.Input(shape=(max_length,), dtype=tf.int64, name='input_ids_layer')\n",
    "    token_type_ids = tf.keras.layers.Input(shape=(max_length,), dtype=tf.int64, name='token_type_ids_layer')\n",
    "    attention_mask = tf.keras.layers.Input(shape=(max_length,), dtype=tf.int64, name='attention_mask_layer')\n",
    "\n",
    "    bert_inputs = {'input_ids': input_ids,\n",
    "                   'token_type_ids': token_type_ids,\n",
    "                   'attention_mask': attention_mask}\n",
    "\n",
    "    bert_out = bert_model(bert_inputs)\n",
    "\n",
    "    actual_tokens = bert_out[0][:,1:-2,:]\n",
    "    actual_tokens = tf.math.reduce_mean(actual_tokens, 1)\n",
    "\n",
    "    hidden = tf.keras.layers.Dense(hidden_size, activation='relu', name='hidden_layer')(actual_tokens)\n",
    "\n",
    "\n",
    "    hidden = tf.keras.layers.Dropout(dropout)(hidden)\n",
    "\n",
    "\n",
    "    classification = tf.keras.layers.Dense(1, activation='sigmoid',name='classification_layer')(hidden)\n",
    "\n",
    "    classification_model = tf.keras.Model(inputs=[input_ids, token_type_ids, attention_mask], outputs=[classification])\n",
    "\n",
    "    classification_model.compile(optimizer=tf.keras.optimizers.Adam(learning_rate=learning_rate),\n",
    "                                 loss=tf.keras.losses.BinaryCrossentropy(from_logits=False),\n",
    "                                 metrics='accuracy')\n",
    "    \n",
    "    \n",
    "    ### END YOUR CODE\n",
    "\n",
    "    return classification_model"
   ]
  },
  {
   "cell_type": "markdown",
   "metadata": {
    "id": "xcLrgI49tBde",
    "pycharm": {
     "name": "#%% md\n"
    }
   },
   "source": [
    "Now create the model and run for 2 epochs. Use batch size 8 and the appropriate validation/test set. (We don't make a distinction here.)"
   ]
  },
  {
   "cell_type": "code",
   "execution_count": 74,
   "metadata": {
    "colab": {
     "base_uri": "https://localhost:8080/"
    },
    "id": "AtS29uRbk4Os",
    "outputId": "b11f66a5-6d97-43a5-f752-b38ada35140a",
    "pycharm": {
     "name": "#%%\n"
    }
   },
   "outputs": [
    {
     "name": "stdout",
     "output_type": "stream",
     "text": [
      "Model: \"model_5\"\n",
      "__________________________________________________________________________________________________\n",
      " Layer (type)                   Output Shape         Param #     Connected to                     \n",
      "==================================================================================================\n",
      " attention_mask_layer (InputLay  [(None, 100)]       0           []                               \n",
      " er)                                                                                              \n",
      "                                                                                                  \n",
      " input_ids_layer (InputLayer)   [(None, 100)]        0           []                               \n",
      "                                                                                                  \n",
      " token_type_ids_layer (InputLay  [(None, 100)]       0           []                               \n",
      " er)                                                                                              \n",
      "                                                                                                  \n",
      " tf_bert_model (TFBertModel)    TFBaseModelOutputWi  108310272   ['attention_mask_layer[0][0]',   \n",
      "                                thPoolingAndCrossAt               'input_ids_layer[0][0]',        \n",
      "                                tentions(last_hidde               'token_type_ids_layer[0][0]']   \n",
      "                                n_state=(None, 100,                                               \n",
      "                                 768),                                                            \n",
      "                                 pooler_output=(Non                                               \n",
      "                                e, 768),                                                          \n",
      "                                 past_key_values=No                                               \n",
      "                                ne, hidden_states=N                                               \n",
      "                                one, attentions=Non                                               \n",
      "                                e, cross_attentions                                               \n",
      "                                =None)                                                            \n",
      "                                                                                                  \n",
      " tf.__operators__.getitem_2 (Sl  (None, 97, 768)     0           ['tf_bert_model[5][0]']          \n",
      " icingOpLambda)                                                                                   \n",
      "                                                                                                  \n",
      " tf.math.reduce_mean (TFOpLambd  (None, 768)         0           ['tf.__operators__.getitem_2[0][0\n",
      " a)                                                              ]']                              \n",
      "                                                                                                  \n",
      " hidden_layer (Dense)           (None, 100)          76900       ['tf.math.reduce_mean[0][0]']    \n",
      "                                                                                                  \n",
      " dropout_42 (Dropout)           (None, 100)          0           ['hidden_layer[0][0]']           \n",
      "                                                                                                  \n",
      " classification_layer (Dense)   (None, 1)            101         ['dropout_42[0][0]']             \n",
      "                                                                                                  \n",
      "==================================================================================================\n",
      "Total params: 108,387,273\n",
      "Trainable params: 77,001\n",
      "Non-trainable params: 108,310,272\n",
      "__________________________________________________________________________________________________\n",
      "Epoch 1/2\n",
      "2500/2500 [==============================] - 177s 68ms/step - loss: 0.5747 - accuracy: 0.7117 - val_loss: 0.5097 - val_accuracy: 0.7548\n",
      "Epoch 2/2\n",
      "2500/2500 [==============================] - 174s 70ms/step - loss: 0.4936 - accuracy: 0.7675 - val_loss: 0.4824 - val_accuracy: 0.7592\n"
     ]
    }
   ],
   "source": [
    "### YOUR CODE HERE\n",
    "\n",
    "bert_classification_model = create_bert_avg_model()\n",
    "\n",
    "bert_classification_model.summary()\n",
    "\n",
    "bert_classification_model_history = bert_classification_model.fit(\n",
    "    [x_train.input_ids, x_train.token_type_ids, x_train.attention_mask],\n",
    "    train_labels_batch,\n",
    "    validation_data=([x_test.input_ids, x_test.token_type_ids, x_test.attention_mask], test_labels_batch),\n",
    "    batch_size=8,\n",
    "    epochs=2\n",
    ")\n",
    "\n",
    "### END YOUR CODE"
   ]
  },
  {
   "cell_type": "markdown",
   "metadata": {
    "id": "NiWb3y9anNlG",
    "pycharm": {
     "name": "#%% md\n"
    }
   },
   "source": [
    " **QUESTION:** \n",
    " \n",
    " 3.3.a What (in percent (e.g. 0.651 = 65.1)) is the highest validation accuracy that you observed for the BERT-averaging-classification model after training for 2 epochs?\n",
    "\n",
    "\n",
    " "
   ]
  },
  {
   "cell_type": "markdown",
   "metadata": {
    "id": "jpVZXfOAt0UC",
    "pycharm": {
     "name": "#%% md\n"
    }
   },
   "source": [
    "### 3.4 Adding a CNN on top of BERT\n",
    "\n",
    "Can we also combine advanced architectures? Why not! I the end we deal with tensors and it does not matter whether they are coming from static word embeddings or context-based embeddings coming from BERT. (Whether we want to is another question, but let's try it here.)\n",
    "\n",
    "\n",
    "**HINT:**\n",
    "You should appropriately stitch together the BERT-based components and the CNN components from the lesson notebook. Keep the same parameters, but set dropout to 0.3."
   ]
  },
  {
   "cell_type": "code",
   "execution_count": 95,
   "metadata": {
    "id": "6IJoPmcHk4UO",
    "pycharm": {
     "name": "#%%\n"
    }
   },
   "outputs": [],
   "source": [
    "def create_bert_cnn_model(hidden_size = 100, \n",
    "                                learning_rate=0.00005,\n",
    "                                num_filters = [100, 100, 50, 25],\n",
    "                                kernel_sizes = [3, 5, 10, 20],\n",
    "                                dropout = 0.3):\n",
    "    \"\"\"\n",
    "    Build a  classification model with BERT, where you apply CNN layers  to the BERT output\n",
    "    \"\"\"\n",
    "\n",
    "    ### YOUR CODE HERE\n",
    "    \n",
    "    bert_model.trainable = False\n",
    "\n",
    "    input_ids = tf.keras.layers.Input(shape=(max_length,), dtype=tf.int64, name='input_ids_layer')\n",
    "    token_type_ids = tf.keras.layers.Input(shape=(max_length,), dtype=tf.int64, name='token_type_ids_layer')\n",
    "    attention_mask = tf.keras.layers.Input(shape=(max_length,), dtype=tf.int64, name='attention_mask_layer')\n",
    "\n",
    "    bert_inputs = {'input_ids': input_ids,\n",
    "                   'token_type_ids': token_type_ids,\n",
    "                   'attention_mask': attention_mask}\n",
    "\n",
    "    bert_out = bert_model(bert_inputs)\n",
    "\n",
    "    actual_tokens = bert_out[0][:,1:-2,:]\n",
    "    # actual_tokens = tf.math.reduce_mean(actual_tokens, 1)\n",
    "    # actual_tokens = tf.expand_dims(actual_tokens, axis=-1)\n",
    "\n",
    "    conv_layers_for_all_kernel_sizes = []\n",
    "    input_shape = actual_tokens.shape\n",
    "    for kernel_size, filters in zip(kernel_sizes, num_filters):\n",
    "        conv_layer = keras.layers.Conv1D(filters=filters, kernel_size=kernel_size, activation='relu')(actual_tokens)\n",
    "        conv_layer = keras.layers.GlobalMaxPooling1D()(conv_layer)\n",
    "        conv_layers_for_all_kernel_sizes.append(conv_layer)\n",
    "\n",
    "    conv_output = keras.layers.concatenate(conv_layers_for_all_kernel_sizes, axis=1)\n",
    "    last_hidden_output = keras.layers.Dropout(rate=dropout)(conv_output)\n",
    "\n",
    "    last_hidden_output = keras.layers.Dense(hidden_size, activation='relu')(last_hidden_output)\n",
    "\n",
    "    cnn_prediction = keras.layers.Dense(1, activation='sigmoid')(last_hidden_output)\n",
    "\n",
    "\n",
    "    classification_model = tf.keras.Model(inputs=[input_ids, token_type_ids, attention_mask], outputs=[cnn_prediction])\n",
    "\n",
    "    classification_model.compile(optimizer=tf.keras.optimizers.Adam(learning_rate=learning_rate),\n",
    "                                 loss=tf.keras.losses.BinaryCrossentropy(from_logits=False),\n",
    "                                 metrics='accuracy')\n",
    "\n",
    "    ### END YOUR CODE\n",
    "    \n",
    "    return classification_model"
   ]
  },
  {
   "cell_type": "markdown",
   "metadata": {
    "id": "1KVHhxxIhkqS",
    "pycharm": {
     "name": "#%% md\n"
    }
   },
   "source": [
    "Run this model for 2 epochs as well:"
   ]
  },
  {
   "cell_type": "code",
   "execution_count": 96,
   "metadata": {
    "colab": {
     "base_uri": "https://localhost:8080/",
     "height": 609
    },
    "id": "gobUGAVFk4XG",
    "outputId": "380ca462-f8dd-4781-e78d-9e80addc760f",
    "pycharm": {
     "name": "#%%\n"
    }
   },
   "outputs": [
    {
     "name": "stdout",
     "output_type": "stream",
     "text": [
      "Model: \"model_7\"\n",
      "__________________________________________________________________________________________________\n",
      " Layer (type)                   Output Shape         Param #     Connected to                     \n",
      "==================================================================================================\n",
      " attention_mask_layer (InputLay  [(None, 100)]       0           []                               \n",
      " er)                                                                                              \n",
      "                                                                                                  \n",
      " input_ids_layer (InputLayer)   [(None, 100)]        0           []                               \n",
      "                                                                                                  \n",
      " token_type_ids_layer (InputLay  [(None, 100)]       0           []                               \n",
      " er)                                                                                              \n",
      "                                                                                                  \n",
      " tf_bert_model (TFBertModel)    TFBaseModelOutputWi  108310272   ['attention_mask_layer[0][0]',   \n",
      "                                thPoolingAndCrossAt               'input_ids_layer[0][0]',        \n",
      "                                tentions(last_hidde               'token_type_ids_layer[0][0]']   \n",
      "                                n_state=(None, 100,                                               \n",
      "                                 768),                                                            \n",
      "                                 pooler_output=(Non                                               \n",
      "                                e, 768),                                                          \n",
      "                                 past_key_values=No                                               \n",
      "                                ne, hidden_states=N                                               \n",
      "                                one, attentions=Non                                               \n",
      "                                e, cross_attentions                                               \n",
      "                                =None)                                                            \n",
      "                                                                                                  \n",
      " tf.__operators__.getitem_10 (S  (None, 97, 768)     0           ['tf_bert_model[13][0]']         \n",
      " licingOpLambda)                                                                                  \n",
      "                                                                                                  \n",
      " conv1d_9 (Conv1D)              (None, 95, 100)      230500      ['tf.__operators__.getitem_10[0][\n",
      "                                                                 0]']                             \n",
      "                                                                                                  \n",
      " conv1d_10 (Conv1D)             (None, 93, 100)      384100      ['tf.__operators__.getitem_10[0][\n",
      "                                                                 0]']                             \n",
      "                                                                                                  \n",
      " conv1d_11 (Conv1D)             (None, 88, 50)       384050      ['tf.__operators__.getitem_10[0][\n",
      "                                                                 0]']                             \n",
      "                                                                                                  \n",
      " conv1d_12 (Conv1D)             (None, 78, 25)       384025      ['tf.__operators__.getitem_10[0][\n",
      "                                                                 0]']                             \n",
      "                                                                                                  \n",
      " global_max_pooling1d_4 (Global  (None, 100)         0           ['conv1d_9[0][0]']               \n",
      " MaxPooling1D)                                                                                    \n",
      "                                                                                                  \n",
      " global_max_pooling1d_5 (Global  (None, 100)         0           ['conv1d_10[0][0]']              \n",
      " MaxPooling1D)                                                                                    \n",
      "                                                                                                  \n",
      " global_max_pooling1d_6 (Global  (None, 50)          0           ['conv1d_11[0][0]']              \n",
      " MaxPooling1D)                                                                                    \n",
      "                                                                                                  \n",
      " global_max_pooling1d_7 (Global  (None, 25)          0           ['conv1d_12[0][0]']              \n",
      " MaxPooling1D)                                                                                    \n",
      "                                                                                                  \n",
      " concatenate_1 (Concatenate)    (None, 275)          0           ['global_max_pooling1d_4[0][0]', \n",
      "                                                                  'global_max_pooling1d_5[0][0]', \n",
      "                                                                  'global_max_pooling1d_6[0][0]', \n",
      "                                                                  'global_max_pooling1d_7[0][0]'] \n",
      "                                                                                                  \n",
      " dropout_44 (Dropout)           (None, 275)          0           ['concatenate_1[0][0]']          \n",
      "                                                                                                  \n",
      " dense_2 (Dense)                (None, 100)          27600       ['dropout_44[0][0]']             \n",
      "                                                                                                  \n",
      " dense_3 (Dense)                (None, 1)            101         ['dense_2[0][0]']                \n",
      "                                                                                                  \n",
      "==================================================================================================\n",
      "Total params: 109,720,648\n",
      "Trainable params: 1,410,376\n",
      "Non-trainable params: 108,310,272\n",
      "__________________________________________________________________________________________________\n",
      "Epoch 1/2\n",
      "2500/2500 [==============================] - 183s 70ms/step - loss: 0.5659 - accuracy: 0.7071 - val_loss: 0.4858 - val_accuracy: 0.7600\n",
      "Epoch 2/2\n",
      "2500/2500 [==============================] - 178s 71ms/step - loss: 0.4381 - accuracy: 0.7945 - val_loss: 0.4110 - val_accuracy: 0.8050\n"
     ]
    }
   ],
   "source": [
    "### YOUR CODE HERE\n",
    "\n",
    "bert_classification_model = create_bert_cnn_model()\n",
    "\n",
    "bert_classification_model.summary()\n",
    "\n",
    "bert_classification_model_history = bert_classification_model.fit(\n",
    "    [x_train.input_ids, x_train.token_type_ids, x_train.attention_mask],\n",
    "    train_labels_batch,\n",
    "    validation_data=([x_test.input_ids, x_test.token_type_ids, x_test.attention_mask], test_labels_batch),\n",
    "    batch_size=8,\n",
    "    epochs=2\n",
    ")\n",
    "\n",
    "\n",
    "### END YOUR CODE"
   ]
  },
  {
   "cell_type": "markdown",
   "metadata": {
    "id": "19zjdjc0nTn8",
    "pycharm": {
     "name": "#%% md\n"
    }
   },
   "source": [
    " **QUESTION:** \n",
    " \n",
    "3.4.a What (in percent (e.g. 0.651 = 65.1)) is the highest validation accuracy that you observed for the BERT-CNN-classification model after 2 epochs?\n"
   ]
  },
  {
   "cell_type": "markdown",
   "metadata": {
    "id": "_Y3e9X8bvhZf",
    "pycharm": {
     "name": "#%% md\n"
    }
   },
   "source": [
    "# That's It! \n",
    "## Congratulations... You are Done! \n",
    "## We hope you learned a ton!"
   ]
  }
 ],
 "metadata": {
  "accelerator": "GPU",
  "colab": {
   "collapsed_sections": [],
   "provenance": []
  },
  "kernelspec": {
   "display_name": "Python 3",
   "language": "python",
   "name": "python3"
  },
  "language_info": {
   "codemirror_mode": {
    "name": "ipython",
    "version": 3
   },
   "file_extension": ".py",
   "mimetype": "text/x-python",
   "name": "python",
   "nbconvert_exporter": "python",
   "pygments_lexer": "ipython3",
   "version": "3.7.10"
  },
  "widgets": {
   "application/vnd.jupyter.widget-state+json": {
    "7cb60297e263454c8d380584bc5cb6d4": {
     "model_module": "@jupyter-widgets/controls",
     "model_name": "HBoxModel",
     "model_module_version": "1.5.0",
     "state": {
      "_dom_classes": [],
      "_model_module": "@jupyter-widgets/controls",
      "_model_module_version": "1.5.0",
      "_model_name": "HBoxModel",
      "_view_count": null,
      "_view_module": "@jupyter-widgets/controls",
      "_view_module_version": "1.5.0",
      "_view_name": "HBoxView",
      "box_style": "",
      "children": [
       "IPY_MODEL_3bce34216b31438bb5f0d883d242925e",
       "IPY_MODEL_3bf2e2aa126541faae5fef1ab11f42b7",
       "IPY_MODEL_b03509d747db46a8b5b67c9d63a9e363"
      ],
      "layout": "IPY_MODEL_212205a56089477eb2cfefc26cd41e59"
     }
    },
    "3bce34216b31438bb5f0d883d242925e": {
     "model_module": "@jupyter-widgets/controls",
     "model_name": "HTMLModel",
     "model_module_version": "1.5.0",
     "state": {
      "_dom_classes": [],
      "_model_module": "@jupyter-widgets/controls",
      "_model_module_version": "1.5.0",
      "_model_name": "HTMLModel",
      "_view_count": null,
      "_view_module": "@jupyter-widgets/controls",
      "_view_module_version": "1.5.0",
      "_view_name": "HTMLView",
      "description": "",
      "description_tooltip": null,
      "layout": "IPY_MODEL_40d8d7d591354e0aabde05dffc503c1f",
      "placeholder": "​",
      "style": "IPY_MODEL_0554e9d495e044239da429969c7b39d5",
      "value": "Dl Completed...: 100%"
     }
    },
    "3bf2e2aa126541faae5fef1ab11f42b7": {
     "model_module": "@jupyter-widgets/controls",
     "model_name": "FloatProgressModel",
     "model_module_version": "1.5.0",
     "state": {
      "_dom_classes": [],
      "_model_module": "@jupyter-widgets/controls",
      "_model_module_version": "1.5.0",
      "_model_name": "FloatProgressModel",
      "_view_count": null,
      "_view_module": "@jupyter-widgets/controls",
      "_view_module_version": "1.5.0",
      "_view_name": "ProgressView",
      "bar_style": "success",
      "description": "",
      "description_tooltip": null,
      "layout": "IPY_MODEL_7f24491f140d4594b568cdad18c73a34",
      "max": 1,
      "min": 0,
      "orientation": "horizontal",
      "style": "IPY_MODEL_e51c4ae78b4648ba855698f9ec4cffc4",
      "value": 1
     }
    },
    "b03509d747db46a8b5b67c9d63a9e363": {
     "model_module": "@jupyter-widgets/controls",
     "model_name": "HTMLModel",
     "model_module_version": "1.5.0",
     "state": {
      "_dom_classes": [],
      "_model_module": "@jupyter-widgets/controls",
      "_model_module_version": "1.5.0",
      "_model_name": "HTMLModel",
      "_view_count": null,
      "_view_module": "@jupyter-widgets/controls",
      "_view_module_version": "1.5.0",
      "_view_name": "HTMLView",
      "description": "",
      "description_tooltip": null,
      "layout": "IPY_MODEL_f74c3f691d1042458b354ad2bbaed883",
      "placeholder": "​",
      "style": "IPY_MODEL_982981bdb34d477e93c7df36a5d73343",
      "value": " 1/1 [00:11&lt;00:00, 11.51s/ url]"
     }
    },
    "212205a56089477eb2cfefc26cd41e59": {
     "model_module": "@jupyter-widgets/base",
     "model_name": "LayoutModel",
     "model_module_version": "1.2.0",
     "state": {
      "_model_module": "@jupyter-widgets/base",
      "_model_module_version": "1.2.0",
      "_model_name": "LayoutModel",
      "_view_count": null,
      "_view_module": "@jupyter-widgets/base",
      "_view_module_version": "1.2.0",
      "_view_name": "LayoutView",
      "align_content": null,
      "align_items": null,
      "align_self": null,
      "border": null,
      "bottom": null,
      "display": null,
      "flex": null,
      "flex_flow": null,
      "grid_area": null,
      "grid_auto_columns": null,
      "grid_auto_flow": null,
      "grid_auto_rows": null,
      "grid_column": null,
      "grid_gap": null,
      "grid_row": null,
      "grid_template_areas": null,
      "grid_template_columns": null,
      "grid_template_rows": null,
      "height": null,
      "justify_content": null,
      "justify_items": null,
      "left": null,
      "margin": null,
      "max_height": null,
      "max_width": null,
      "min_height": null,
      "min_width": null,
      "object_fit": null,
      "object_position": null,
      "order": null,
      "overflow": null,
      "overflow_x": null,
      "overflow_y": null,
      "padding": null,
      "right": null,
      "top": null,
      "visibility": null,
      "width": null
     }
    },
    "40d8d7d591354e0aabde05dffc503c1f": {
     "model_module": "@jupyter-widgets/base",
     "model_name": "LayoutModel",
     "model_module_version": "1.2.0",
     "state": {
      "_model_module": "@jupyter-widgets/base",
      "_model_module_version": "1.2.0",
      "_model_name": "LayoutModel",
      "_view_count": null,
      "_view_module": "@jupyter-widgets/base",
      "_view_module_version": "1.2.0",
      "_view_name": "LayoutView",
      "align_content": null,
      "align_items": null,
      "align_self": null,
      "border": null,
      "bottom": null,
      "display": null,
      "flex": null,
      "flex_flow": null,
      "grid_area": null,
      "grid_auto_columns": null,
      "grid_auto_flow": null,
      "grid_auto_rows": null,
      "grid_column": null,
      "grid_gap": null,
      "grid_row": null,
      "grid_template_areas": null,
      "grid_template_columns": null,
      "grid_template_rows": null,
      "height": null,
      "justify_content": null,
      "justify_items": null,
      "left": null,
      "margin": null,
      "max_height": null,
      "max_width": null,
      "min_height": null,
      "min_width": null,
      "object_fit": null,
      "object_position": null,
      "order": null,
      "overflow": null,
      "overflow_x": null,
      "overflow_y": null,
      "padding": null,
      "right": null,
      "top": null,
      "visibility": null,
      "width": null
     }
    },
    "0554e9d495e044239da429969c7b39d5": {
     "model_module": "@jupyter-widgets/controls",
     "model_name": "DescriptionStyleModel",
     "model_module_version": "1.5.0",
     "state": {
      "_model_module": "@jupyter-widgets/controls",
      "_model_module_version": "1.5.0",
      "_model_name": "DescriptionStyleModel",
      "_view_count": null,
      "_view_module": "@jupyter-widgets/base",
      "_view_module_version": "1.2.0",
      "_view_name": "StyleView",
      "description_width": ""
     }
    },
    "7f24491f140d4594b568cdad18c73a34": {
     "model_module": "@jupyter-widgets/base",
     "model_name": "LayoutModel",
     "model_module_version": "1.2.0",
     "state": {
      "_model_module": "@jupyter-widgets/base",
      "_model_module_version": "1.2.0",
      "_model_name": "LayoutModel",
      "_view_count": null,
      "_view_module": "@jupyter-widgets/base",
      "_view_module_version": "1.2.0",
      "_view_name": "LayoutView",
      "align_content": null,
      "align_items": null,
      "align_self": null,
      "border": null,
      "bottom": null,
      "display": null,
      "flex": null,
      "flex_flow": null,
      "grid_area": null,
      "grid_auto_columns": null,
      "grid_auto_flow": null,
      "grid_auto_rows": null,
      "grid_column": null,
      "grid_gap": null,
      "grid_row": null,
      "grid_template_areas": null,
      "grid_template_columns": null,
      "grid_template_rows": null,
      "height": null,
      "justify_content": null,
      "justify_items": null,
      "left": null,
      "margin": null,
      "max_height": null,
      "max_width": null,
      "min_height": null,
      "min_width": null,
      "object_fit": null,
      "object_position": null,
      "order": null,
      "overflow": null,
      "overflow_x": null,
      "overflow_y": null,
      "padding": null,
      "right": null,
      "top": null,
      "visibility": null,
      "width": "20px"
     }
    },
    "e51c4ae78b4648ba855698f9ec4cffc4": {
     "model_module": "@jupyter-widgets/controls",
     "model_name": "ProgressStyleModel",
     "model_module_version": "1.5.0",
     "state": {
      "_model_module": "@jupyter-widgets/controls",
      "_model_module_version": "1.5.0",
      "_model_name": "ProgressStyleModel",
      "_view_count": null,
      "_view_module": "@jupyter-widgets/base",
      "_view_module_version": "1.2.0",
      "_view_name": "StyleView",
      "bar_color": null,
      "description_width": ""
     }
    },
    "f74c3f691d1042458b354ad2bbaed883": {
     "model_module": "@jupyter-widgets/base",
     "model_name": "LayoutModel",
     "model_module_version": "1.2.0",
     "state": {
      "_model_module": "@jupyter-widgets/base",
      "_model_module_version": "1.2.0",
      "_model_name": "LayoutModel",
      "_view_count": null,
      "_view_module": "@jupyter-widgets/base",
      "_view_module_version": "1.2.0",
      "_view_name": "LayoutView",
      "align_content": null,
      "align_items": null,
      "align_self": null,
      "border": null,
      "bottom": null,
      "display": null,
      "flex": null,
      "flex_flow": null,
      "grid_area": null,
      "grid_auto_columns": null,
      "grid_auto_flow": null,
      "grid_auto_rows": null,
      "grid_column": null,
      "grid_gap": null,
      "grid_row": null,
      "grid_template_areas": null,
      "grid_template_columns": null,
      "grid_template_rows": null,
      "height": null,
      "justify_content": null,
      "justify_items": null,
      "left": null,
      "margin": null,
      "max_height": null,
      "max_width": null,
      "min_height": null,
      "min_width": null,
      "object_fit": null,
      "object_position": null,
      "order": null,
      "overflow": null,
      "overflow_x": null,
      "overflow_y": null,
      "padding": null,
      "right": null,
      "top": null,
      "visibility": null,
      "width": null
     }
    },
    "982981bdb34d477e93c7df36a5d73343": {
     "model_module": "@jupyter-widgets/controls",
     "model_name": "DescriptionStyleModel",
     "model_module_version": "1.5.0",
     "state": {
      "_model_module": "@jupyter-widgets/controls",
      "_model_module_version": "1.5.0",
      "_model_name": "DescriptionStyleModel",
      "_view_count": null,
      "_view_module": "@jupyter-widgets/base",
      "_view_module_version": "1.2.0",
      "_view_name": "StyleView",
      "description_width": ""
     }
    },
    "bdb0f5ed8432428791c0819404a8a566": {
     "model_module": "@jupyter-widgets/controls",
     "model_name": "HBoxModel",
     "model_module_version": "1.5.0",
     "state": {
      "_dom_classes": [],
      "_model_module": "@jupyter-widgets/controls",
      "_model_module_version": "1.5.0",
      "_model_name": "HBoxModel",
      "_view_count": null,
      "_view_module": "@jupyter-widgets/controls",
      "_view_module_version": "1.5.0",
      "_view_name": "HBoxView",
      "box_style": "",
      "children": [
       "IPY_MODEL_cb737aa899ec4f4c85ae46c9a47f5b0f",
       "IPY_MODEL_4776f5d5423540f8985ea5b0782ba66c",
       "IPY_MODEL_601b12ad985a4e3c8618dfa74b1b252f"
      ],
      "layout": "IPY_MODEL_f8056ebf791f434e94b0940369c62cac"
     }
    },
    "cb737aa899ec4f4c85ae46c9a47f5b0f": {
     "model_module": "@jupyter-widgets/controls",
     "model_name": "HTMLModel",
     "model_module_version": "1.5.0",
     "state": {
      "_dom_classes": [],
      "_model_module": "@jupyter-widgets/controls",
      "_model_module_version": "1.5.0",
      "_model_name": "HTMLModel",
      "_view_count": null,
      "_view_module": "@jupyter-widgets/controls",
      "_view_module_version": "1.5.0",
      "_view_name": "HTMLView",
      "description": "",
      "description_tooltip": null,
      "layout": "IPY_MODEL_35869e5d3bf1402f84764550d0e1b9d8",
      "placeholder": "​",
      "style": "IPY_MODEL_e2788c4de43d4dfcb7f45bbd2123a2b3",
      "value": "Dl Size...: 100%"
     }
    },
    "4776f5d5423540f8985ea5b0782ba66c": {
     "model_module": "@jupyter-widgets/controls",
     "model_name": "FloatProgressModel",
     "model_module_version": "1.5.0",
     "state": {
      "_dom_classes": [],
      "_model_module": "@jupyter-widgets/controls",
      "_model_module_version": "1.5.0",
      "_model_name": "FloatProgressModel",
      "_view_count": null,
      "_view_module": "@jupyter-widgets/controls",
      "_view_module_version": "1.5.0",
      "_view_name": "ProgressView",
      "bar_style": "success",
      "description": "",
      "description_tooltip": null,
      "layout": "IPY_MODEL_a43693c81bb64547943d85e52f91e9b0",
      "max": 1,
      "min": 0,
      "orientation": "horizontal",
      "style": "IPY_MODEL_a8552bc70e664ce29d349fd5913f9d31",
      "value": 1
     }
    },
    "601b12ad985a4e3c8618dfa74b1b252f": {
     "model_module": "@jupyter-widgets/controls",
     "model_name": "HTMLModel",
     "model_module_version": "1.5.0",
     "state": {
      "_dom_classes": [],
      "_model_module": "@jupyter-widgets/controls",
      "_model_module_version": "1.5.0",
      "_model_name": "HTMLModel",
      "_view_count": null,
      "_view_module": "@jupyter-widgets/controls",
      "_view_module_version": "1.5.0",
      "_view_name": "HTMLView",
      "description": "",
      "description_tooltip": null,
      "layout": "IPY_MODEL_0a34952433e64068add0baee5d54dfbb",
      "placeholder": "​",
      "style": "IPY_MODEL_82b3660fce7b432a8fc5f5108179d057",
      "value": " 80/80 [00:11&lt;00:00, 13.93 MiB/s]"
     }
    },
    "f8056ebf791f434e94b0940369c62cac": {
     "model_module": "@jupyter-widgets/base",
     "model_name": "LayoutModel",
     "model_module_version": "1.2.0",
     "state": {
      "_model_module": "@jupyter-widgets/base",
      "_model_module_version": "1.2.0",
      "_model_name": "LayoutModel",
      "_view_count": null,
      "_view_module": "@jupyter-widgets/base",
      "_view_module_version": "1.2.0",
      "_view_name": "LayoutView",
      "align_content": null,
      "align_items": null,
      "align_self": null,
      "border": null,
      "bottom": null,
      "display": null,
      "flex": null,
      "flex_flow": null,
      "grid_area": null,
      "grid_auto_columns": null,
      "grid_auto_flow": null,
      "grid_auto_rows": null,
      "grid_column": null,
      "grid_gap": null,
      "grid_row": null,
      "grid_template_areas": null,
      "grid_template_columns": null,
      "grid_template_rows": null,
      "height": null,
      "justify_content": null,
      "justify_items": null,
      "left": null,
      "margin": null,
      "max_height": null,
      "max_width": null,
      "min_height": null,
      "min_width": null,
      "object_fit": null,
      "object_position": null,
      "order": null,
      "overflow": null,
      "overflow_x": null,
      "overflow_y": null,
      "padding": null,
      "right": null,
      "top": null,
      "visibility": null,
      "width": null
     }
    },
    "35869e5d3bf1402f84764550d0e1b9d8": {
     "model_module": "@jupyter-widgets/base",
     "model_name": "LayoutModel",
     "model_module_version": "1.2.0",
     "state": {
      "_model_module": "@jupyter-widgets/base",
      "_model_module_version": "1.2.0",
      "_model_name": "LayoutModel",
      "_view_count": null,
      "_view_module": "@jupyter-widgets/base",
      "_view_module_version": "1.2.0",
      "_view_name": "LayoutView",
      "align_content": null,
      "align_items": null,
      "align_self": null,
      "border": null,
      "bottom": null,
      "display": null,
      "flex": null,
      "flex_flow": null,
      "grid_area": null,
      "grid_auto_columns": null,
      "grid_auto_flow": null,
      "grid_auto_rows": null,
      "grid_column": null,
      "grid_gap": null,
      "grid_row": null,
      "grid_template_areas": null,
      "grid_template_columns": null,
      "grid_template_rows": null,
      "height": null,
      "justify_content": null,
      "justify_items": null,
      "left": null,
      "margin": null,
      "max_height": null,
      "max_width": null,
      "min_height": null,
      "min_width": null,
      "object_fit": null,
      "object_position": null,
      "order": null,
      "overflow": null,
      "overflow_x": null,
      "overflow_y": null,
      "padding": null,
      "right": null,
      "top": null,
      "visibility": null,
      "width": null
     }
    },
    "e2788c4de43d4dfcb7f45bbd2123a2b3": {
     "model_module": "@jupyter-widgets/controls",
     "model_name": "DescriptionStyleModel",
     "model_module_version": "1.5.0",
     "state": {
      "_model_module": "@jupyter-widgets/controls",
      "_model_module_version": "1.5.0",
      "_model_name": "DescriptionStyleModel",
      "_view_count": null,
      "_view_module": "@jupyter-widgets/base",
      "_view_module_version": "1.2.0",
      "_view_name": "StyleView",
      "description_width": ""
     }
    },
    "a43693c81bb64547943d85e52f91e9b0": {
     "model_module": "@jupyter-widgets/base",
     "model_name": "LayoutModel",
     "model_module_version": "1.2.0",
     "state": {
      "_model_module": "@jupyter-widgets/base",
      "_model_module_version": "1.2.0",
      "_model_name": "LayoutModel",
      "_view_count": null,
      "_view_module": "@jupyter-widgets/base",
      "_view_module_version": "1.2.0",
      "_view_name": "LayoutView",
      "align_content": null,
      "align_items": null,
      "align_self": null,
      "border": null,
      "bottom": null,
      "display": null,
      "flex": null,
      "flex_flow": null,
      "grid_area": null,
      "grid_auto_columns": null,
      "grid_auto_flow": null,
      "grid_auto_rows": null,
      "grid_column": null,
      "grid_gap": null,
      "grid_row": null,
      "grid_template_areas": null,
      "grid_template_columns": null,
      "grid_template_rows": null,
      "height": null,
      "justify_content": null,
      "justify_items": null,
      "left": null,
      "margin": null,
      "max_height": null,
      "max_width": null,
      "min_height": null,
      "min_width": null,
      "object_fit": null,
      "object_position": null,
      "order": null,
      "overflow": null,
      "overflow_x": null,
      "overflow_y": null,
      "padding": null,
      "right": null,
      "top": null,
      "visibility": null,
      "width": "20px"
     }
    },
    "a8552bc70e664ce29d349fd5913f9d31": {
     "model_module": "@jupyter-widgets/controls",
     "model_name": "ProgressStyleModel",
     "model_module_version": "1.5.0",
     "state": {
      "_model_module": "@jupyter-widgets/controls",
      "_model_module_version": "1.5.0",
      "_model_name": "ProgressStyleModel",
      "_view_count": null,
      "_view_module": "@jupyter-widgets/base",
      "_view_module_version": "1.2.0",
      "_view_name": "StyleView",
      "bar_color": null,
      "description_width": ""
     }
    },
    "0a34952433e64068add0baee5d54dfbb": {
     "model_module": "@jupyter-widgets/base",
     "model_name": "LayoutModel",
     "model_module_version": "1.2.0",
     "state": {
      "_model_module": "@jupyter-widgets/base",
      "_model_module_version": "1.2.0",
      "_model_name": "LayoutModel",
      "_view_count": null,
      "_view_module": "@jupyter-widgets/base",
      "_view_module_version": "1.2.0",
      "_view_name": "LayoutView",
      "align_content": null,
      "align_items": null,
      "align_self": null,
      "border": null,
      "bottom": null,
      "display": null,
      "flex": null,
      "flex_flow": null,
      "grid_area": null,
      "grid_auto_columns": null,
      "grid_auto_flow": null,
      "grid_auto_rows": null,
      "grid_column": null,
      "grid_gap": null,
      "grid_row": null,
      "grid_template_areas": null,
      "grid_template_columns": null,
      "grid_template_rows": null,
      "height": null,
      "justify_content": null,
      "justify_items": null,
      "left": null,
      "margin": null,
      "max_height": null,
      "max_width": null,
      "min_height": null,
      "min_width": null,
      "object_fit": null,
      "object_position": null,
      "order": null,
      "overflow": null,
      "overflow_x": null,
      "overflow_y": null,
      "padding": null,
      "right": null,
      "top": null,
      "visibility": null,
      "width": null
     }
    },
    "82b3660fce7b432a8fc5f5108179d057": {
     "model_module": "@jupyter-widgets/controls",
     "model_name": "DescriptionStyleModel",
     "model_module_version": "1.5.0",
     "state": {
      "_model_module": "@jupyter-widgets/controls",
      "_model_module_version": "1.5.0",
      "_model_name": "DescriptionStyleModel",
      "_view_count": null,
      "_view_module": "@jupyter-widgets/base",
      "_view_module_version": "1.2.0",
      "_view_name": "StyleView",
      "description_width": ""
     }
    },
    "84a6b2c2b63c403b93e687146a7ac3c6": {
     "model_module": "@jupyter-widgets/controls",
     "model_name": "HBoxModel",
     "model_module_version": "1.5.0",
     "state": {
      "_dom_classes": [],
      "_model_module": "@jupyter-widgets/controls",
      "_model_module_version": "1.5.0",
      "_model_name": "HBoxModel",
      "_view_count": null,
      "_view_module": "@jupyter-widgets/controls",
      "_view_module_version": "1.5.0",
      "_view_name": "HBoxView",
      "box_style": "",
      "children": [
       "IPY_MODEL_0a55f7fca2374de2970cbc4b293741e4",
       "IPY_MODEL_e94d530121cd46dda2504ae92d614944",
       "IPY_MODEL_eb393828f1904b0fa0ed394e316f21fe"
      ],
      "layout": "IPY_MODEL_738c379a8b294ec086294695281b3d1c"
     }
    },
    "0a55f7fca2374de2970cbc4b293741e4": {
     "model_module": "@jupyter-widgets/controls",
     "model_name": "HTMLModel",
     "model_module_version": "1.5.0",
     "state": {
      "_dom_classes": [],
      "_model_module": "@jupyter-widgets/controls",
      "_model_module_version": "1.5.0",
      "_model_name": "HTMLModel",
      "_view_count": null,
      "_view_module": "@jupyter-widgets/controls",
      "_view_module_version": "1.5.0",
      "_view_name": "HTMLView",
      "description": "",
      "description_tooltip": null,
      "layout": "IPY_MODEL_33975e3e2bcc46919ccd821de9605239",
      "placeholder": "​",
      "style": "IPY_MODEL_2f3e56355dcf46bea02dd9de6ecb7ff6",
      "value": "Generating splits...: 100%"
     }
    },
    "e94d530121cd46dda2504ae92d614944": {
     "model_module": "@jupyter-widgets/controls",
     "model_name": "FloatProgressModel",
     "model_module_version": "1.5.0",
     "state": {
      "_dom_classes": [],
      "_model_module": "@jupyter-widgets/controls",
      "_model_module_version": "1.5.0",
      "_model_name": "FloatProgressModel",
      "_view_count": null,
      "_view_module": "@jupyter-widgets/controls",
      "_view_module_version": "1.5.0",
      "_view_name": "ProgressView",
      "bar_style": "",
      "description": "",
      "description_tooltip": null,
      "layout": "IPY_MODEL_37ab59ed16454699888a45f70a2c469a",
      "max": 3,
      "min": 0,
      "orientation": "horizontal",
      "style": "IPY_MODEL_87518729247642ccadd7fbb5b0236a8f",
      "value": 3
     }
    },
    "eb393828f1904b0fa0ed394e316f21fe": {
     "model_module": "@jupyter-widgets/controls",
     "model_name": "HTMLModel",
     "model_module_version": "1.5.0",
     "state": {
      "_dom_classes": [],
      "_model_module": "@jupyter-widgets/controls",
      "_model_module_version": "1.5.0",
      "_model_name": "HTMLModel",
      "_view_count": null,
      "_view_module": "@jupyter-widgets/controls",
      "_view_module_version": "1.5.0",
      "_view_name": "HTMLView",
      "description": "",
      "description_tooltip": null,
      "layout": "IPY_MODEL_1189e597fb2c446e9c82d3d5553c40ab",
      "placeholder": "​",
      "style": "IPY_MODEL_28710d3650ce4c729ede2f83c38062c2",
      "value": " 3/3 [00:37&lt;00:00, 12.93s/ splits]"
     }
    },
    "738c379a8b294ec086294695281b3d1c": {
     "model_module": "@jupyter-widgets/base",
     "model_name": "LayoutModel",
     "model_module_version": "1.2.0",
     "state": {
      "_model_module": "@jupyter-widgets/base",
      "_model_module_version": "1.2.0",
      "_model_name": "LayoutModel",
      "_view_count": null,
      "_view_module": "@jupyter-widgets/base",
      "_view_module_version": "1.2.0",
      "_view_name": "LayoutView",
      "align_content": null,
      "align_items": null,
      "align_self": null,
      "border": null,
      "bottom": null,
      "display": null,
      "flex": null,
      "flex_flow": null,
      "grid_area": null,
      "grid_auto_columns": null,
      "grid_auto_flow": null,
      "grid_auto_rows": null,
      "grid_column": null,
      "grid_gap": null,
      "grid_row": null,
      "grid_template_areas": null,
      "grid_template_columns": null,
      "grid_template_rows": null,
      "height": null,
      "justify_content": null,
      "justify_items": null,
      "left": null,
      "margin": null,
      "max_height": null,
      "max_width": null,
      "min_height": null,
      "min_width": null,
      "object_fit": null,
      "object_position": null,
      "order": null,
      "overflow": null,
      "overflow_x": null,
      "overflow_y": null,
      "padding": null,
      "right": null,
      "top": null,
      "visibility": null,
      "width": null
     }
    },
    "33975e3e2bcc46919ccd821de9605239": {
     "model_module": "@jupyter-widgets/base",
     "model_name": "LayoutModel",
     "model_module_version": "1.2.0",
     "state": {
      "_model_module": "@jupyter-widgets/base",
      "_model_module_version": "1.2.0",
      "_model_name": "LayoutModel",
      "_view_count": null,
      "_view_module": "@jupyter-widgets/base",
      "_view_module_version": "1.2.0",
      "_view_name": "LayoutView",
      "align_content": null,
      "align_items": null,
      "align_self": null,
      "border": null,
      "bottom": null,
      "display": null,
      "flex": null,
      "flex_flow": null,
      "grid_area": null,
      "grid_auto_columns": null,
      "grid_auto_flow": null,
      "grid_auto_rows": null,
      "grid_column": null,
      "grid_gap": null,
      "grid_row": null,
      "grid_template_areas": null,
      "grid_template_columns": null,
      "grid_template_rows": null,
      "height": null,
      "justify_content": null,
      "justify_items": null,
      "left": null,
      "margin": null,
      "max_height": null,
      "max_width": null,
      "min_height": null,
      "min_width": null,
      "object_fit": null,
      "object_position": null,
      "order": null,
      "overflow": null,
      "overflow_x": null,
      "overflow_y": null,
      "padding": null,
      "right": null,
      "top": null,
      "visibility": null,
      "width": null
     }
    },
    "2f3e56355dcf46bea02dd9de6ecb7ff6": {
     "model_module": "@jupyter-widgets/controls",
     "model_name": "DescriptionStyleModel",
     "model_module_version": "1.5.0",
     "state": {
      "_model_module": "@jupyter-widgets/controls",
      "_model_module_version": "1.5.0",
      "_model_name": "DescriptionStyleModel",
      "_view_count": null,
      "_view_module": "@jupyter-widgets/base",
      "_view_module_version": "1.2.0",
      "_view_name": "StyleView",
      "description_width": ""
     }
    },
    "37ab59ed16454699888a45f70a2c469a": {
     "model_module": "@jupyter-widgets/base",
     "model_name": "LayoutModel",
     "model_module_version": "1.2.0",
     "state": {
      "_model_module": "@jupyter-widgets/base",
      "_model_module_version": "1.2.0",
      "_model_name": "LayoutModel",
      "_view_count": null,
      "_view_module": "@jupyter-widgets/base",
      "_view_module_version": "1.2.0",
      "_view_name": "LayoutView",
      "align_content": null,
      "align_items": null,
      "align_self": null,
      "border": null,
      "bottom": null,
      "display": null,
      "flex": null,
      "flex_flow": null,
      "grid_area": null,
      "grid_auto_columns": null,
      "grid_auto_flow": null,
      "grid_auto_rows": null,
      "grid_column": null,
      "grid_gap": null,
      "grid_row": null,
      "grid_template_areas": null,
      "grid_template_columns": null,
      "grid_template_rows": null,
      "height": null,
      "justify_content": null,
      "justify_items": null,
      "left": null,
      "margin": null,
      "max_height": null,
      "max_width": null,
      "min_height": null,
      "min_width": null,
      "object_fit": null,
      "object_position": null,
      "order": null,
      "overflow": null,
      "overflow_x": null,
      "overflow_y": null,
      "padding": null,
      "right": null,
      "top": null,
      "visibility": null,
      "width": null
     }
    },
    "87518729247642ccadd7fbb5b0236a8f": {
     "model_module": "@jupyter-widgets/controls",
     "model_name": "ProgressStyleModel",
     "model_module_version": "1.5.0",
     "state": {
      "_model_module": "@jupyter-widgets/controls",
      "_model_module_version": "1.5.0",
      "_model_name": "ProgressStyleModel",
      "_view_count": null,
      "_view_module": "@jupyter-widgets/base",
      "_view_module_version": "1.2.0",
      "_view_name": "StyleView",
      "bar_color": null,
      "description_width": ""
     }
    },
    "1189e597fb2c446e9c82d3d5553c40ab": {
     "model_module": "@jupyter-widgets/base",
     "model_name": "LayoutModel",
     "model_module_version": "1.2.0",
     "state": {
      "_model_module": "@jupyter-widgets/base",
      "_model_module_version": "1.2.0",
      "_model_name": "LayoutModel",
      "_view_count": null,
      "_view_module": "@jupyter-widgets/base",
      "_view_module_version": "1.2.0",
      "_view_name": "LayoutView",
      "align_content": null,
      "align_items": null,
      "align_self": null,
      "border": null,
      "bottom": null,
      "display": null,
      "flex": null,
      "flex_flow": null,
      "grid_area": null,
      "grid_auto_columns": null,
      "grid_auto_flow": null,
      "grid_auto_rows": null,
      "grid_column": null,
      "grid_gap": null,
      "grid_row": null,
      "grid_template_areas": null,
      "grid_template_columns": null,
      "grid_template_rows": null,
      "height": null,
      "justify_content": null,
      "justify_items": null,
      "left": null,
      "margin": null,
      "max_height": null,
      "max_width": null,
      "min_height": null,
      "min_width": null,
      "object_fit": null,
      "object_position": null,
      "order": null,
      "overflow": null,
      "overflow_x": null,
      "overflow_y": null,
      "padding": null,
      "right": null,
      "top": null,
      "visibility": null,
      "width": null
     }
    },
    "28710d3650ce4c729ede2f83c38062c2": {
     "model_module": "@jupyter-widgets/controls",
     "model_name": "DescriptionStyleModel",
     "model_module_version": "1.5.0",
     "state": {
      "_model_module": "@jupyter-widgets/controls",
      "_model_module_version": "1.5.0",
      "_model_name": "DescriptionStyleModel",
      "_view_count": null,
      "_view_module": "@jupyter-widgets/base",
      "_view_module_version": "1.2.0",
      "_view_name": "StyleView",
      "description_width": ""
     }
    },
    "c1296be7043e458b8cf4a8c9cdb6bdfb": {
     "model_module": "@jupyter-widgets/controls",
     "model_name": "HBoxModel",
     "model_module_version": "1.5.0",
     "state": {
      "_dom_classes": [],
      "_model_module": "@jupyter-widgets/controls",
      "_model_module_version": "1.5.0",
      "_model_name": "HBoxModel",
      "_view_count": null,
      "_view_module": "@jupyter-widgets/controls",
      "_view_module_version": "1.5.0",
      "_view_name": "HBoxView",
      "box_style": "",
      "children": [
       "IPY_MODEL_4001685a4f8e44a3aa13b4bb9160a945",
       "IPY_MODEL_3d4ba216f1574dcc82ca029997be82a4",
       "IPY_MODEL_5923b33e92624347b96dceb48370a892"
      ],
      "layout": "IPY_MODEL_66b5e3cbec1d4222982f45f0e5422cdc"
     }
    },
    "4001685a4f8e44a3aa13b4bb9160a945": {
     "model_module": "@jupyter-widgets/controls",
     "model_name": "HTMLModel",
     "model_module_version": "1.5.0",
     "state": {
      "_dom_classes": [],
      "_model_module": "@jupyter-widgets/controls",
      "_model_module_version": "1.5.0",
      "_model_name": "HTMLModel",
      "_view_count": null,
      "_view_module": "@jupyter-widgets/controls",
      "_view_module_version": "1.5.0",
      "_view_name": "HTMLView",
      "description": "",
      "description_tooltip": null,
      "layout": "IPY_MODEL_016b21f0cf6743e189183e4ac473e8cd",
      "placeholder": "​",
      "style": "IPY_MODEL_3c5f8a98ed2947e9a1d86301a74eb372",
      "value": "Generating train examples...:  99%"
     }
    },
    "3d4ba216f1574dcc82ca029997be82a4": {
     "model_module": "@jupyter-widgets/controls",
     "model_name": "FloatProgressModel",
     "model_module_version": "1.5.0",
     "state": {
      "_dom_classes": [],
      "_model_module": "@jupyter-widgets/controls",
      "_model_module_version": "1.5.0",
      "_model_name": "FloatProgressModel",
      "_view_count": null,
      "_view_module": "@jupyter-widgets/controls",
      "_view_module_version": "1.5.0",
      "_view_name": "ProgressView",
      "bar_style": "",
      "description": "",
      "description_tooltip": null,
      "layout": "IPY_MODEL_3657184f2853490b8cd7554a601b726a",
      "max": 25000,
      "min": 0,
      "orientation": "horizontal",
      "style": "IPY_MODEL_1070bec181fa4b7389a2ef3aa5965cca",
      "value": 25000
     }
    },
    "5923b33e92624347b96dceb48370a892": {
     "model_module": "@jupyter-widgets/controls",
     "model_name": "HTMLModel",
     "model_module_version": "1.5.0",
     "state": {
      "_dom_classes": [],
      "_model_module": "@jupyter-widgets/controls",
      "_model_module_version": "1.5.0",
      "_model_name": "HTMLModel",
      "_view_count": null,
      "_view_module": "@jupyter-widgets/controls",
      "_view_module_version": "1.5.0",
      "_view_name": "HTMLView",
      "description": "",
      "description_tooltip": null,
      "layout": "IPY_MODEL_c5f2ce4048a74288a2ce42b1d48660d8",
      "placeholder": "​",
      "style": "IPY_MODEL_a5bf10d23c05415f90ed90af51b9e15e",
      "value": " 24814/25000 [00:07&lt;00:00, 4783.10 examples/s]"
     }
    },
    "66b5e3cbec1d4222982f45f0e5422cdc": {
     "model_module": "@jupyter-widgets/base",
     "model_name": "LayoutModel",
     "model_module_version": "1.2.0",
     "state": {
      "_model_module": "@jupyter-widgets/base",
      "_model_module_version": "1.2.0",
      "_model_name": "LayoutModel",
      "_view_count": null,
      "_view_module": "@jupyter-widgets/base",
      "_view_module_version": "1.2.0",
      "_view_name": "LayoutView",
      "align_content": null,
      "align_items": null,
      "align_self": null,
      "border": null,
      "bottom": null,
      "display": null,
      "flex": null,
      "flex_flow": null,
      "grid_area": null,
      "grid_auto_columns": null,
      "grid_auto_flow": null,
      "grid_auto_rows": null,
      "grid_column": null,
      "grid_gap": null,
      "grid_row": null,
      "grid_template_areas": null,
      "grid_template_columns": null,
      "grid_template_rows": null,
      "height": null,
      "justify_content": null,
      "justify_items": null,
      "left": null,
      "margin": null,
      "max_height": null,
      "max_width": null,
      "min_height": null,
      "min_width": null,
      "object_fit": null,
      "object_position": null,
      "order": null,
      "overflow": null,
      "overflow_x": null,
      "overflow_y": null,
      "padding": null,
      "right": null,
      "top": null,
      "visibility": null,
      "width": null
     }
    },
    "016b21f0cf6743e189183e4ac473e8cd": {
     "model_module": "@jupyter-widgets/base",
     "model_name": "LayoutModel",
     "model_module_version": "1.2.0",
     "state": {
      "_model_module": "@jupyter-widgets/base",
      "_model_module_version": "1.2.0",
      "_model_name": "LayoutModel",
      "_view_count": null,
      "_view_module": "@jupyter-widgets/base",
      "_view_module_version": "1.2.0",
      "_view_name": "LayoutView",
      "align_content": null,
      "align_items": null,
      "align_self": null,
      "border": null,
      "bottom": null,
      "display": null,
      "flex": null,
      "flex_flow": null,
      "grid_area": null,
      "grid_auto_columns": null,
      "grid_auto_flow": null,
      "grid_auto_rows": null,
      "grid_column": null,
      "grid_gap": null,
      "grid_row": null,
      "grid_template_areas": null,
      "grid_template_columns": null,
      "grid_template_rows": null,
      "height": null,
      "justify_content": null,
      "justify_items": null,
      "left": null,
      "margin": null,
      "max_height": null,
      "max_width": null,
      "min_height": null,
      "min_width": null,
      "object_fit": null,
      "object_position": null,
      "order": null,
      "overflow": null,
      "overflow_x": null,
      "overflow_y": null,
      "padding": null,
      "right": null,
      "top": null,
      "visibility": null,
      "width": null
     }
    },
    "3c5f8a98ed2947e9a1d86301a74eb372": {
     "model_module": "@jupyter-widgets/controls",
     "model_name": "DescriptionStyleModel",
     "model_module_version": "1.5.0",
     "state": {
      "_model_module": "@jupyter-widgets/controls",
      "_model_module_version": "1.5.0",
      "_model_name": "DescriptionStyleModel",
      "_view_count": null,
      "_view_module": "@jupyter-widgets/base",
      "_view_module_version": "1.2.0",
      "_view_name": "StyleView",
      "description_width": ""
     }
    },
    "3657184f2853490b8cd7554a601b726a": {
     "model_module": "@jupyter-widgets/base",
     "model_name": "LayoutModel",
     "model_module_version": "1.2.0",
     "state": {
      "_model_module": "@jupyter-widgets/base",
      "_model_module_version": "1.2.0",
      "_model_name": "LayoutModel",
      "_view_count": null,
      "_view_module": "@jupyter-widgets/base",
      "_view_module_version": "1.2.0",
      "_view_name": "LayoutView",
      "align_content": null,
      "align_items": null,
      "align_self": null,
      "border": null,
      "bottom": null,
      "display": null,
      "flex": null,
      "flex_flow": null,
      "grid_area": null,
      "grid_auto_columns": null,
      "grid_auto_flow": null,
      "grid_auto_rows": null,
      "grid_column": null,
      "grid_gap": null,
      "grid_row": null,
      "grid_template_areas": null,
      "grid_template_columns": null,
      "grid_template_rows": null,
      "height": null,
      "justify_content": null,
      "justify_items": null,
      "left": null,
      "margin": null,
      "max_height": null,
      "max_width": null,
      "min_height": null,
      "min_width": null,
      "object_fit": null,
      "object_position": null,
      "order": null,
      "overflow": null,
      "overflow_x": null,
      "overflow_y": null,
      "padding": null,
      "right": null,
      "top": null,
      "visibility": null,
      "width": null
     }
    },
    "1070bec181fa4b7389a2ef3aa5965cca": {
     "model_module": "@jupyter-widgets/controls",
     "model_name": "ProgressStyleModel",
     "model_module_version": "1.5.0",
     "state": {
      "_model_module": "@jupyter-widgets/controls",
      "_model_module_version": "1.5.0",
      "_model_name": "ProgressStyleModel",
      "_view_count": null,
      "_view_module": "@jupyter-widgets/base",
      "_view_module_version": "1.2.0",
      "_view_name": "StyleView",
      "bar_color": null,
      "description_width": ""
     }
    },
    "c5f2ce4048a74288a2ce42b1d48660d8": {
     "model_module": "@jupyter-widgets/base",
     "model_name": "LayoutModel",
     "model_module_version": "1.2.0",
     "state": {
      "_model_module": "@jupyter-widgets/base",
      "_model_module_version": "1.2.0",
      "_model_name": "LayoutModel",
      "_view_count": null,
      "_view_module": "@jupyter-widgets/base",
      "_view_module_version": "1.2.0",
      "_view_name": "LayoutView",
      "align_content": null,
      "align_items": null,
      "align_self": null,
      "border": null,
      "bottom": null,
      "display": null,
      "flex": null,
      "flex_flow": null,
      "grid_area": null,
      "grid_auto_columns": null,
      "grid_auto_flow": null,
      "grid_auto_rows": null,
      "grid_column": null,
      "grid_gap": null,
      "grid_row": null,
      "grid_template_areas": null,
      "grid_template_columns": null,
      "grid_template_rows": null,
      "height": null,
      "justify_content": null,
      "justify_items": null,
      "left": null,
      "margin": null,
      "max_height": null,
      "max_width": null,
      "min_height": null,
      "min_width": null,
      "object_fit": null,
      "object_position": null,
      "order": null,
      "overflow": null,
      "overflow_x": null,
      "overflow_y": null,
      "padding": null,
      "right": null,
      "top": null,
      "visibility": null,
      "width": null
     }
    },
    "a5bf10d23c05415f90ed90af51b9e15e": {
     "model_module": "@jupyter-widgets/controls",
     "model_name": "DescriptionStyleModel",
     "model_module_version": "1.5.0",
     "state": {
      "_model_module": "@jupyter-widgets/controls",
      "_model_module_version": "1.5.0",
      "_model_name": "DescriptionStyleModel",
      "_view_count": null,
      "_view_module": "@jupyter-widgets/base",
      "_view_module_version": "1.2.0",
      "_view_name": "StyleView",
      "description_width": ""
     }
    },
    "5579d2c05f44489aa1bfbad316a5687b": {
     "model_module": "@jupyter-widgets/controls",
     "model_name": "HBoxModel",
     "model_module_version": "1.5.0",
     "state": {
      "_dom_classes": [],
      "_model_module": "@jupyter-widgets/controls",
      "_model_module_version": "1.5.0",
      "_model_name": "HBoxModel",
      "_view_count": null,
      "_view_module": "@jupyter-widgets/controls",
      "_view_module_version": "1.5.0",
      "_view_name": "HBoxView",
      "box_style": "",
      "children": [
       "IPY_MODEL_638fdcb79e4f4d51865f8a32387ff75a",
       "IPY_MODEL_0d734593d1c748dd8734b9531795b939",
       "IPY_MODEL_0b64655344fb4671977bb59e65cd0957"
      ],
      "layout": "IPY_MODEL_b483f8d6dea8460bba3d7876057e5a22"
     }
    },
    "638fdcb79e4f4d51865f8a32387ff75a": {
     "model_module": "@jupyter-widgets/controls",
     "model_name": "HTMLModel",
     "model_module_version": "1.5.0",
     "state": {
      "_dom_classes": [],
      "_model_module": "@jupyter-widgets/controls",
      "_model_module_version": "1.5.0",
      "_model_name": "HTMLModel",
      "_view_count": null,
      "_view_module": "@jupyter-widgets/controls",
      "_view_module_version": "1.5.0",
      "_view_name": "HTMLView",
      "description": "",
      "description_tooltip": null,
      "layout": "IPY_MODEL_e46ed4f4954e46c796a73045b4fbc95d",
      "placeholder": "​",
      "style": "IPY_MODEL_abd69aac2aea457a9aea8c42aa2e3990",
      "value": "Shuffling ~/tensorflow_datasets/imdb_reviews/plain_text/1.0.0.incomplete1QEE51/imdb_reviews-train.tfrecord*...:  36%"
     }
    },
    "0d734593d1c748dd8734b9531795b939": {
     "model_module": "@jupyter-widgets/controls",
     "model_name": "FloatProgressModel",
     "model_module_version": "1.5.0",
     "state": {
      "_dom_classes": [],
      "_model_module": "@jupyter-widgets/controls",
      "_model_module_version": "1.5.0",
      "_model_name": "FloatProgressModel",
      "_view_count": null,
      "_view_module": "@jupyter-widgets/controls",
      "_view_module_version": "1.5.0",
      "_view_name": "ProgressView",
      "bar_style": "",
      "description": "",
      "description_tooltip": null,
      "layout": "IPY_MODEL_f74d60b60e6f4b8da36813c1ff8e3b8f",
      "max": 25000,
      "min": 0,
      "orientation": "horizontal",
      "style": "IPY_MODEL_fba564c0983644d19a80678389c029b3",
      "value": 25000
     }
    },
    "0b64655344fb4671977bb59e65cd0957": {
     "model_module": "@jupyter-widgets/controls",
     "model_name": "HTMLModel",
     "model_module_version": "1.5.0",
     "state": {
      "_dom_classes": [],
      "_model_module": "@jupyter-widgets/controls",
      "_model_module_version": "1.5.0",
      "_model_name": "HTMLModel",
      "_view_count": null,
      "_view_module": "@jupyter-widgets/controls",
      "_view_module_version": "1.5.0",
      "_view_name": "HTMLView",
      "description": "",
      "description_tooltip": null,
      "layout": "IPY_MODEL_37fc053c5d7c4322ab9194f216c89ba8",
      "placeholder": "​",
      "style": "IPY_MODEL_a20d27e8f21e4c3c82e428b18608b2bd",
      "value": " 8950/25000 [00:00&lt;00:00, 89488.14 examples/s]"
     }
    },
    "b483f8d6dea8460bba3d7876057e5a22": {
     "model_module": "@jupyter-widgets/base",
     "model_name": "LayoutModel",
     "model_module_version": "1.2.0",
     "state": {
      "_model_module": "@jupyter-widgets/base",
      "_model_module_version": "1.2.0",
      "_model_name": "LayoutModel",
      "_view_count": null,
      "_view_module": "@jupyter-widgets/base",
      "_view_module_version": "1.2.0",
      "_view_name": "LayoutView",
      "align_content": null,
      "align_items": null,
      "align_self": null,
      "border": null,
      "bottom": null,
      "display": null,
      "flex": null,
      "flex_flow": null,
      "grid_area": null,
      "grid_auto_columns": null,
      "grid_auto_flow": null,
      "grid_auto_rows": null,
      "grid_column": null,
      "grid_gap": null,
      "grid_row": null,
      "grid_template_areas": null,
      "grid_template_columns": null,
      "grid_template_rows": null,
      "height": null,
      "justify_content": null,
      "justify_items": null,
      "left": null,
      "margin": null,
      "max_height": null,
      "max_width": null,
      "min_height": null,
      "min_width": null,
      "object_fit": null,
      "object_position": null,
      "order": null,
      "overflow": null,
      "overflow_x": null,
      "overflow_y": null,
      "padding": null,
      "right": null,
      "top": null,
      "visibility": null,
      "width": null
     }
    },
    "e46ed4f4954e46c796a73045b4fbc95d": {
     "model_module": "@jupyter-widgets/base",
     "model_name": "LayoutModel",
     "model_module_version": "1.2.0",
     "state": {
      "_model_module": "@jupyter-widgets/base",
      "_model_module_version": "1.2.0",
      "_model_name": "LayoutModel",
      "_view_count": null,
      "_view_module": "@jupyter-widgets/base",
      "_view_module_version": "1.2.0",
      "_view_name": "LayoutView",
      "align_content": null,
      "align_items": null,
      "align_self": null,
      "border": null,
      "bottom": null,
      "display": null,
      "flex": null,
      "flex_flow": null,
      "grid_area": null,
      "grid_auto_columns": null,
      "grid_auto_flow": null,
      "grid_auto_rows": null,
      "grid_column": null,
      "grid_gap": null,
      "grid_row": null,
      "grid_template_areas": null,
      "grid_template_columns": null,
      "grid_template_rows": null,
      "height": null,
      "justify_content": null,
      "justify_items": null,
      "left": null,
      "margin": null,
      "max_height": null,
      "max_width": null,
      "min_height": null,
      "min_width": null,
      "object_fit": null,
      "object_position": null,
      "order": null,
      "overflow": null,
      "overflow_x": null,
      "overflow_y": null,
      "padding": null,
      "right": null,
      "top": null,
      "visibility": null,
      "width": null
     }
    },
    "abd69aac2aea457a9aea8c42aa2e3990": {
     "model_module": "@jupyter-widgets/controls",
     "model_name": "DescriptionStyleModel",
     "model_module_version": "1.5.0",
     "state": {
      "_model_module": "@jupyter-widgets/controls",
      "_model_module_version": "1.5.0",
      "_model_name": "DescriptionStyleModel",
      "_view_count": null,
      "_view_module": "@jupyter-widgets/base",
      "_view_module_version": "1.2.0",
      "_view_name": "StyleView",
      "description_width": ""
     }
    },
    "f74d60b60e6f4b8da36813c1ff8e3b8f": {
     "model_module": "@jupyter-widgets/base",
     "model_name": "LayoutModel",
     "model_module_version": "1.2.0",
     "state": {
      "_model_module": "@jupyter-widgets/base",
      "_model_module_version": "1.2.0",
      "_model_name": "LayoutModel",
      "_view_count": null,
      "_view_module": "@jupyter-widgets/base",
      "_view_module_version": "1.2.0",
      "_view_name": "LayoutView",
      "align_content": null,
      "align_items": null,
      "align_self": null,
      "border": null,
      "bottom": null,
      "display": null,
      "flex": null,
      "flex_flow": null,
      "grid_area": null,
      "grid_auto_columns": null,
      "grid_auto_flow": null,
      "grid_auto_rows": null,
      "grid_column": null,
      "grid_gap": null,
      "grid_row": null,
      "grid_template_areas": null,
      "grid_template_columns": null,
      "grid_template_rows": null,
      "height": null,
      "justify_content": null,
      "justify_items": null,
      "left": null,
      "margin": null,
      "max_height": null,
      "max_width": null,
      "min_height": null,
      "min_width": null,
      "object_fit": null,
      "object_position": null,
      "order": null,
      "overflow": null,
      "overflow_x": null,
      "overflow_y": null,
      "padding": null,
      "right": null,
      "top": null,
      "visibility": null,
      "width": null
     }
    },
    "fba564c0983644d19a80678389c029b3": {
     "model_module": "@jupyter-widgets/controls",
     "model_name": "ProgressStyleModel",
     "model_module_version": "1.5.0",
     "state": {
      "_model_module": "@jupyter-widgets/controls",
      "_model_module_version": "1.5.0",
      "_model_name": "ProgressStyleModel",
      "_view_count": null,
      "_view_module": "@jupyter-widgets/base",
      "_view_module_version": "1.2.0",
      "_view_name": "StyleView",
      "bar_color": null,
      "description_width": ""
     }
    },
    "37fc053c5d7c4322ab9194f216c89ba8": {
     "model_module": "@jupyter-widgets/base",
     "model_name": "LayoutModel",
     "model_module_version": "1.2.0",
     "state": {
      "_model_module": "@jupyter-widgets/base",
      "_model_module_version": "1.2.0",
      "_model_name": "LayoutModel",
      "_view_count": null,
      "_view_module": "@jupyter-widgets/base",
      "_view_module_version": "1.2.0",
      "_view_name": "LayoutView",
      "align_content": null,
      "align_items": null,
      "align_self": null,
      "border": null,
      "bottom": null,
      "display": null,
      "flex": null,
      "flex_flow": null,
      "grid_area": null,
      "grid_auto_columns": null,
      "grid_auto_flow": null,
      "grid_auto_rows": null,
      "grid_column": null,
      "grid_gap": null,
      "grid_row": null,
      "grid_template_areas": null,
      "grid_template_columns": null,
      "grid_template_rows": null,
      "height": null,
      "justify_content": null,
      "justify_items": null,
      "left": null,
      "margin": null,
      "max_height": null,
      "max_width": null,
      "min_height": null,
      "min_width": null,
      "object_fit": null,
      "object_position": null,
      "order": null,
      "overflow": null,
      "overflow_x": null,
      "overflow_y": null,
      "padding": null,
      "right": null,
      "top": null,
      "visibility": null,
      "width": null
     }
    },
    "a20d27e8f21e4c3c82e428b18608b2bd": {
     "model_module": "@jupyter-widgets/controls",
     "model_name": "DescriptionStyleModel",
     "model_module_version": "1.5.0",
     "state": {
      "_model_module": "@jupyter-widgets/controls",
      "_model_module_version": "1.5.0",
      "_model_name": "DescriptionStyleModel",
      "_view_count": null,
      "_view_module": "@jupyter-widgets/base",
      "_view_module_version": "1.2.0",
      "_view_name": "StyleView",
      "description_width": ""
     }
    },
    "ee4e2c5a25a84f809e2cca21cf8ba1a1": {
     "model_module": "@jupyter-widgets/controls",
     "model_name": "HBoxModel",
     "model_module_version": "1.5.0",
     "state": {
      "_dom_classes": [],
      "_model_module": "@jupyter-widgets/controls",
      "_model_module_version": "1.5.0",
      "_model_name": "HBoxModel",
      "_view_count": null,
      "_view_module": "@jupyter-widgets/controls",
      "_view_module_version": "1.5.0",
      "_view_name": "HBoxView",
      "box_style": "",
      "children": [
       "IPY_MODEL_033c78bd6d954abcbf70a05f6053b938",
       "IPY_MODEL_18dc8e66e7614f8597f17080675be6f9",
       "IPY_MODEL_709a1479f9dc4b1aac9937f0df5cb250"
      ],
      "layout": "IPY_MODEL_3286a6fab7204070b32e60331d18b702"
     }
    },
    "033c78bd6d954abcbf70a05f6053b938": {
     "model_module": "@jupyter-widgets/controls",
     "model_name": "HTMLModel",
     "model_module_version": "1.5.0",
     "state": {
      "_dom_classes": [],
      "_model_module": "@jupyter-widgets/controls",
      "_model_module_version": "1.5.0",
      "_model_name": "HTMLModel",
      "_view_count": null,
      "_view_module": "@jupyter-widgets/controls",
      "_view_module_version": "1.5.0",
      "_view_name": "HTMLView",
      "description": "",
      "description_tooltip": null,
      "layout": "IPY_MODEL_a1cfb0ba5cb140faba531672cfaf9884",
      "placeholder": "​",
      "style": "IPY_MODEL_2dbfa43ec1a44b2592a0cf82c81b7cc8",
      "value": "Generating test examples...:  98%"
     }
    },
    "18dc8e66e7614f8597f17080675be6f9": {
     "model_module": "@jupyter-widgets/controls",
     "model_name": "FloatProgressModel",
     "model_module_version": "1.5.0",
     "state": {
      "_dom_classes": [],
      "_model_module": "@jupyter-widgets/controls",
      "_model_module_version": "1.5.0",
      "_model_name": "FloatProgressModel",
      "_view_count": null,
      "_view_module": "@jupyter-widgets/controls",
      "_view_module_version": "1.5.0",
      "_view_name": "ProgressView",
      "bar_style": "",
      "description": "",
      "description_tooltip": null,
      "layout": "IPY_MODEL_476b2bd7ea854076a6a6270571c882b3",
      "max": 25000,
      "min": 0,
      "orientation": "horizontal",
      "style": "IPY_MODEL_c18d5e41c58b48e1a053a88b3b7bf3ee",
      "value": 25000
     }
    },
    "709a1479f9dc4b1aac9937f0df5cb250": {
     "model_module": "@jupyter-widgets/controls",
     "model_name": "HTMLModel",
     "model_module_version": "1.5.0",
     "state": {
      "_dom_classes": [],
      "_model_module": "@jupyter-widgets/controls",
      "_model_module_version": "1.5.0",
      "_model_name": "HTMLModel",
      "_view_count": null,
      "_view_module": "@jupyter-widgets/controls",
      "_view_module_version": "1.5.0",
      "_view_name": "HTMLView",
      "description": "",
      "description_tooltip": null,
      "layout": "IPY_MODEL_58d193f31d0d42689b368ed0617db114",
      "placeholder": "​",
      "style": "IPY_MODEL_5309f576a39b4607abb39bd309a085f0",
      "value": " 24505/25000 [00:05&lt;00:00, 4748.46 examples/s]"
     }
    },
    "3286a6fab7204070b32e60331d18b702": {
     "model_module": "@jupyter-widgets/base",
     "model_name": "LayoutModel",
     "model_module_version": "1.2.0",
     "state": {
      "_model_module": "@jupyter-widgets/base",
      "_model_module_version": "1.2.0",
      "_model_name": "LayoutModel",
      "_view_count": null,
      "_view_module": "@jupyter-widgets/base",
      "_view_module_version": "1.2.0",
      "_view_name": "LayoutView",
      "align_content": null,
      "align_items": null,
      "align_self": null,
      "border": null,
      "bottom": null,
      "display": null,
      "flex": null,
      "flex_flow": null,
      "grid_area": null,
      "grid_auto_columns": null,
      "grid_auto_flow": null,
      "grid_auto_rows": null,
      "grid_column": null,
      "grid_gap": null,
      "grid_row": null,
      "grid_template_areas": null,
      "grid_template_columns": null,
      "grid_template_rows": null,
      "height": null,
      "justify_content": null,
      "justify_items": null,
      "left": null,
      "margin": null,
      "max_height": null,
      "max_width": null,
      "min_height": null,
      "min_width": null,
      "object_fit": null,
      "object_position": null,
      "order": null,
      "overflow": null,
      "overflow_x": null,
      "overflow_y": null,
      "padding": null,
      "right": null,
      "top": null,
      "visibility": null,
      "width": null
     }
    },
    "a1cfb0ba5cb140faba531672cfaf9884": {
     "model_module": "@jupyter-widgets/base",
     "model_name": "LayoutModel",
     "model_module_version": "1.2.0",
     "state": {
      "_model_module": "@jupyter-widgets/base",
      "_model_module_version": "1.2.0",
      "_model_name": "LayoutModel",
      "_view_count": null,
      "_view_module": "@jupyter-widgets/base",
      "_view_module_version": "1.2.0",
      "_view_name": "LayoutView",
      "align_content": null,
      "align_items": null,
      "align_self": null,
      "border": null,
      "bottom": null,
      "display": null,
      "flex": null,
      "flex_flow": null,
      "grid_area": null,
      "grid_auto_columns": null,
      "grid_auto_flow": null,
      "grid_auto_rows": null,
      "grid_column": null,
      "grid_gap": null,
      "grid_row": null,
      "grid_template_areas": null,
      "grid_template_columns": null,
      "grid_template_rows": null,
      "height": null,
      "justify_content": null,
      "justify_items": null,
      "left": null,
      "margin": null,
      "max_height": null,
      "max_width": null,
      "min_height": null,
      "min_width": null,
      "object_fit": null,
      "object_position": null,
      "order": null,
      "overflow": null,
      "overflow_x": null,
      "overflow_y": null,
      "padding": null,
      "right": null,
      "top": null,
      "visibility": null,
      "width": null
     }
    },
    "2dbfa43ec1a44b2592a0cf82c81b7cc8": {
     "model_module": "@jupyter-widgets/controls",
     "model_name": "DescriptionStyleModel",
     "model_module_version": "1.5.0",
     "state": {
      "_model_module": "@jupyter-widgets/controls",
      "_model_module_version": "1.5.0",
      "_model_name": "DescriptionStyleModel",
      "_view_count": null,
      "_view_module": "@jupyter-widgets/base",
      "_view_module_version": "1.2.0",
      "_view_name": "StyleView",
      "description_width": ""
     }
    },
    "476b2bd7ea854076a6a6270571c882b3": {
     "model_module": "@jupyter-widgets/base",
     "model_name": "LayoutModel",
     "model_module_version": "1.2.0",
     "state": {
      "_model_module": "@jupyter-widgets/base",
      "_model_module_version": "1.2.0",
      "_model_name": "LayoutModel",
      "_view_count": null,
      "_view_module": "@jupyter-widgets/base",
      "_view_module_version": "1.2.0",
      "_view_name": "LayoutView",
      "align_content": null,
      "align_items": null,
      "align_self": null,
      "border": null,
      "bottom": null,
      "display": null,
      "flex": null,
      "flex_flow": null,
      "grid_area": null,
      "grid_auto_columns": null,
      "grid_auto_flow": null,
      "grid_auto_rows": null,
      "grid_column": null,
      "grid_gap": null,
      "grid_row": null,
      "grid_template_areas": null,
      "grid_template_columns": null,
      "grid_template_rows": null,
      "height": null,
      "justify_content": null,
      "justify_items": null,
      "left": null,
      "margin": null,
      "max_height": null,
      "max_width": null,
      "min_height": null,
      "min_width": null,
      "object_fit": null,
      "object_position": null,
      "order": null,
      "overflow": null,
      "overflow_x": null,
      "overflow_y": null,
      "padding": null,
      "right": null,
      "top": null,
      "visibility": null,
      "width": null
     }
    },
    "c18d5e41c58b48e1a053a88b3b7bf3ee": {
     "model_module": "@jupyter-widgets/controls",
     "model_name": "ProgressStyleModel",
     "model_module_version": "1.5.0",
     "state": {
      "_model_module": "@jupyter-widgets/controls",
      "_model_module_version": "1.5.0",
      "_model_name": "ProgressStyleModel",
      "_view_count": null,
      "_view_module": "@jupyter-widgets/base",
      "_view_module_version": "1.2.0",
      "_view_name": "StyleView",
      "bar_color": null,
      "description_width": ""
     }
    },
    "58d193f31d0d42689b368ed0617db114": {
     "model_module": "@jupyter-widgets/base",
     "model_name": "LayoutModel",
     "model_module_version": "1.2.0",
     "state": {
      "_model_module": "@jupyter-widgets/base",
      "_model_module_version": "1.2.0",
      "_model_name": "LayoutModel",
      "_view_count": null,
      "_view_module": "@jupyter-widgets/base",
      "_view_module_version": "1.2.0",
      "_view_name": "LayoutView",
      "align_content": null,
      "align_items": null,
      "align_self": null,
      "border": null,
      "bottom": null,
      "display": null,
      "flex": null,
      "flex_flow": null,
      "grid_area": null,
      "grid_auto_columns": null,
      "grid_auto_flow": null,
      "grid_auto_rows": null,
      "grid_column": null,
      "grid_gap": null,
      "grid_row": null,
      "grid_template_areas": null,
      "grid_template_columns": null,
      "grid_template_rows": null,
      "height": null,
      "justify_content": null,
      "justify_items": null,
      "left": null,
      "margin": null,
      "max_height": null,
      "max_width": null,
      "min_height": null,
      "min_width": null,
      "object_fit": null,
      "object_position": null,
      "order": null,
      "overflow": null,
      "overflow_x": null,
      "overflow_y": null,
      "padding": null,
      "right": null,
      "top": null,
      "visibility": null,
      "width": null
     }
    },
    "5309f576a39b4607abb39bd309a085f0": {
     "model_module": "@jupyter-widgets/controls",
     "model_name": "DescriptionStyleModel",
     "model_module_version": "1.5.0",
     "state": {
      "_model_module": "@jupyter-widgets/controls",
      "_model_module_version": "1.5.0",
      "_model_name": "DescriptionStyleModel",
      "_view_count": null,
      "_view_module": "@jupyter-widgets/base",
      "_view_module_version": "1.2.0",
      "_view_name": "StyleView",
      "description_width": ""
     }
    },
    "375928e5144e44ab8821d75340fc9fe2": {
     "model_module": "@jupyter-widgets/controls",
     "model_name": "HBoxModel",
     "model_module_version": "1.5.0",
     "state": {
      "_dom_classes": [],
      "_model_module": "@jupyter-widgets/controls",
      "_model_module_version": "1.5.0",
      "_model_name": "HBoxModel",
      "_view_count": null,
      "_view_module": "@jupyter-widgets/controls",
      "_view_module_version": "1.5.0",
      "_view_name": "HBoxView",
      "box_style": "",
      "children": [
       "IPY_MODEL_13214cf4c3394bef8a2f6cc4698ad22b",
       "IPY_MODEL_f0c6cb62d4524cb0974adca2f1c5f8ef",
       "IPY_MODEL_6052ab1653ad44fdbb82c1a3e64587fd"
      ],
      "layout": "IPY_MODEL_228c83758cfd4d7e8b7f73b516619518"
     }
    },
    "13214cf4c3394bef8a2f6cc4698ad22b": {
     "model_module": "@jupyter-widgets/controls",
     "model_name": "HTMLModel",
     "model_module_version": "1.5.0",
     "state": {
      "_dom_classes": [],
      "_model_module": "@jupyter-widgets/controls",
      "_model_module_version": "1.5.0",
      "_model_name": "HTMLModel",
      "_view_count": null,
      "_view_module": "@jupyter-widgets/controls",
      "_view_module_version": "1.5.0",
      "_view_name": "HTMLView",
      "description": "",
      "description_tooltip": null,
      "layout": "IPY_MODEL_db19918d68d442cf966404712c28f854",
      "placeholder": "​",
      "style": "IPY_MODEL_99d0ef13e7b34335a089e8315e9f263d",
      "value": "Shuffling ~/tensorflow_datasets/imdb_reviews/plain_text/1.0.0.incomplete1QEE51/imdb_reviews-test.tfrecord*...:  38%"
     }
    },
    "f0c6cb62d4524cb0974adca2f1c5f8ef": {
     "model_module": "@jupyter-widgets/controls",
     "model_name": "FloatProgressModel",
     "model_module_version": "1.5.0",
     "state": {
      "_dom_classes": [],
      "_model_module": "@jupyter-widgets/controls",
      "_model_module_version": "1.5.0",
      "_model_name": "FloatProgressModel",
      "_view_count": null,
      "_view_module": "@jupyter-widgets/controls",
      "_view_module_version": "1.5.0",
      "_view_name": "ProgressView",
      "bar_style": "",
      "description": "",
      "description_tooltip": null,
      "layout": "IPY_MODEL_e1fe18c493044eccbbc43d2c73c93dd5",
      "max": 25000,
      "min": 0,
      "orientation": "horizontal",
      "style": "IPY_MODEL_baa0c808028c4249ae02e74db2183b99",
      "value": 25000
     }
    },
    "6052ab1653ad44fdbb82c1a3e64587fd": {
     "model_module": "@jupyter-widgets/controls",
     "model_name": "HTMLModel",
     "model_module_version": "1.5.0",
     "state": {
      "_dom_classes": [],
      "_model_module": "@jupyter-widgets/controls",
      "_model_module_version": "1.5.0",
      "_model_name": "HTMLModel",
      "_view_count": null,
      "_view_module": "@jupyter-widgets/controls",
      "_view_module_version": "1.5.0",
      "_view_name": "HTMLView",
      "description": "",
      "description_tooltip": null,
      "layout": "IPY_MODEL_e570be17fc5c4631853877bb15fa2106",
      "placeholder": "​",
      "style": "IPY_MODEL_16364a2d1b5a4b3baa50657dab2cb9dd",
      "value": " 9613/25000 [00:00&lt;00:00, 96119.78 examples/s]"
     }
    },
    "228c83758cfd4d7e8b7f73b516619518": {
     "model_module": "@jupyter-widgets/base",
     "model_name": "LayoutModel",
     "model_module_version": "1.2.0",
     "state": {
      "_model_module": "@jupyter-widgets/base",
      "_model_module_version": "1.2.0",
      "_model_name": "LayoutModel",
      "_view_count": null,
      "_view_module": "@jupyter-widgets/base",
      "_view_module_version": "1.2.0",
      "_view_name": "LayoutView",
      "align_content": null,
      "align_items": null,
      "align_self": null,
      "border": null,
      "bottom": null,
      "display": null,
      "flex": null,
      "flex_flow": null,
      "grid_area": null,
      "grid_auto_columns": null,
      "grid_auto_flow": null,
      "grid_auto_rows": null,
      "grid_column": null,
      "grid_gap": null,
      "grid_row": null,
      "grid_template_areas": null,
      "grid_template_columns": null,
      "grid_template_rows": null,
      "height": null,
      "justify_content": null,
      "justify_items": null,
      "left": null,
      "margin": null,
      "max_height": null,
      "max_width": null,
      "min_height": null,
      "min_width": null,
      "object_fit": null,
      "object_position": null,
      "order": null,
      "overflow": null,
      "overflow_x": null,
      "overflow_y": null,
      "padding": null,
      "right": null,
      "top": null,
      "visibility": null,
      "width": null
     }
    },
    "db19918d68d442cf966404712c28f854": {
     "model_module": "@jupyter-widgets/base",
     "model_name": "LayoutModel",
     "model_module_version": "1.2.0",
     "state": {
      "_model_module": "@jupyter-widgets/base",
      "_model_module_version": "1.2.0",
      "_model_name": "LayoutModel",
      "_view_count": null,
      "_view_module": "@jupyter-widgets/base",
      "_view_module_version": "1.2.0",
      "_view_name": "LayoutView",
      "align_content": null,
      "align_items": null,
      "align_self": null,
      "border": null,
      "bottom": null,
      "display": null,
      "flex": null,
      "flex_flow": null,
      "grid_area": null,
      "grid_auto_columns": null,
      "grid_auto_flow": null,
      "grid_auto_rows": null,
      "grid_column": null,
      "grid_gap": null,
      "grid_row": null,
      "grid_template_areas": null,
      "grid_template_columns": null,
      "grid_template_rows": null,
      "height": null,
      "justify_content": null,
      "justify_items": null,
      "left": null,
      "margin": null,
      "max_height": null,
      "max_width": null,
      "min_height": null,
      "min_width": null,
      "object_fit": null,
      "object_position": null,
      "order": null,
      "overflow": null,
      "overflow_x": null,
      "overflow_y": null,
      "padding": null,
      "right": null,
      "top": null,
      "visibility": null,
      "width": null
     }
    },
    "99d0ef13e7b34335a089e8315e9f263d": {
     "model_module": "@jupyter-widgets/controls",
     "model_name": "DescriptionStyleModel",
     "model_module_version": "1.5.0",
     "state": {
      "_model_module": "@jupyter-widgets/controls",
      "_model_module_version": "1.5.0",
      "_model_name": "DescriptionStyleModel",
      "_view_count": null,
      "_view_module": "@jupyter-widgets/base",
      "_view_module_version": "1.2.0",
      "_view_name": "StyleView",
      "description_width": ""
     }
    },
    "e1fe18c493044eccbbc43d2c73c93dd5": {
     "model_module": "@jupyter-widgets/base",
     "model_name": "LayoutModel",
     "model_module_version": "1.2.0",
     "state": {
      "_model_module": "@jupyter-widgets/base",
      "_model_module_version": "1.2.0",
      "_model_name": "LayoutModel",
      "_view_count": null,
      "_view_module": "@jupyter-widgets/base",
      "_view_module_version": "1.2.0",
      "_view_name": "LayoutView",
      "align_content": null,
      "align_items": null,
      "align_self": null,
      "border": null,
      "bottom": null,
      "display": null,
      "flex": null,
      "flex_flow": null,
      "grid_area": null,
      "grid_auto_columns": null,
      "grid_auto_flow": null,
      "grid_auto_rows": null,
      "grid_column": null,
      "grid_gap": null,
      "grid_row": null,
      "grid_template_areas": null,
      "grid_template_columns": null,
      "grid_template_rows": null,
      "height": null,
      "justify_content": null,
      "justify_items": null,
      "left": null,
      "margin": null,
      "max_height": null,
      "max_width": null,
      "min_height": null,
      "min_width": null,
      "object_fit": null,
      "object_position": null,
      "order": null,
      "overflow": null,
      "overflow_x": null,
      "overflow_y": null,
      "padding": null,
      "right": null,
      "top": null,
      "visibility": null,
      "width": null
     }
    },
    "baa0c808028c4249ae02e74db2183b99": {
     "model_module": "@jupyter-widgets/controls",
     "model_name": "ProgressStyleModel",
     "model_module_version": "1.5.0",
     "state": {
      "_model_module": "@jupyter-widgets/controls",
      "_model_module_version": "1.5.0",
      "_model_name": "ProgressStyleModel",
      "_view_count": null,
      "_view_module": "@jupyter-widgets/base",
      "_view_module_version": "1.2.0",
      "_view_name": "StyleView",
      "bar_color": null,
      "description_width": ""
     }
    },
    "e570be17fc5c4631853877bb15fa2106": {
     "model_module": "@jupyter-widgets/base",
     "model_name": "LayoutModel",
     "model_module_version": "1.2.0",
     "state": {
      "_model_module": "@jupyter-widgets/base",
      "_model_module_version": "1.2.0",
      "_model_name": "LayoutModel",
      "_view_count": null,
      "_view_module": "@jupyter-widgets/base",
      "_view_module_version": "1.2.0",
      "_view_name": "LayoutView",
      "align_content": null,
      "align_items": null,
      "align_self": null,
      "border": null,
      "bottom": null,
      "display": null,
      "flex": null,
      "flex_flow": null,
      "grid_area": null,
      "grid_auto_columns": null,
      "grid_auto_flow": null,
      "grid_auto_rows": null,
      "grid_column": null,
      "grid_gap": null,
      "grid_row": null,
      "grid_template_areas": null,
      "grid_template_columns": null,
      "grid_template_rows": null,
      "height": null,
      "justify_content": null,
      "justify_items": null,
      "left": null,
      "margin": null,
      "max_height": null,
      "max_width": null,
      "min_height": null,
      "min_width": null,
      "object_fit": null,
      "object_position": null,
      "order": null,
      "overflow": null,
      "overflow_x": null,
      "overflow_y": null,
      "padding": null,
      "right": null,
      "top": null,
      "visibility": null,
      "width": null
     }
    },
    "16364a2d1b5a4b3baa50657dab2cb9dd": {
     "model_module": "@jupyter-widgets/controls",
     "model_name": "DescriptionStyleModel",
     "model_module_version": "1.5.0",
     "state": {
      "_model_module": "@jupyter-widgets/controls",
      "_model_module_version": "1.5.0",
      "_model_name": "DescriptionStyleModel",
      "_view_count": null,
      "_view_module": "@jupyter-widgets/base",
      "_view_module_version": "1.2.0",
      "_view_name": "StyleView",
      "description_width": ""
     }
    },
    "d0536c8643ed4c63b1c55e4b2ab6927f": {
     "model_module": "@jupyter-widgets/controls",
     "model_name": "HBoxModel",
     "model_module_version": "1.5.0",
     "state": {
      "_dom_classes": [],
      "_model_module": "@jupyter-widgets/controls",
      "_model_module_version": "1.5.0",
      "_model_name": "HBoxModel",
      "_view_count": null,
      "_view_module": "@jupyter-widgets/controls",
      "_view_module_version": "1.5.0",
      "_view_name": "HBoxView",
      "box_style": "",
      "children": [
       "IPY_MODEL_52428bf249224affa5d0dddbb70758a1",
       "IPY_MODEL_1f38361ea7ab4da3a0ae1913cbd7bc57",
       "IPY_MODEL_328133af521246eaa6f44bc814f0f265"
      ],
      "layout": "IPY_MODEL_c04d3552158b472f87c02a0f4592c908"
     }
    },
    "52428bf249224affa5d0dddbb70758a1": {
     "model_module": "@jupyter-widgets/controls",
     "model_name": "HTMLModel",
     "model_module_version": "1.5.0",
     "state": {
      "_dom_classes": [],
      "_model_module": "@jupyter-widgets/controls",
      "_model_module_version": "1.5.0",
      "_model_name": "HTMLModel",
      "_view_count": null,
      "_view_module": "@jupyter-widgets/controls",
      "_view_module_version": "1.5.0",
      "_view_name": "HTMLView",
      "description": "",
      "description_tooltip": null,
      "layout": "IPY_MODEL_7672064fa0174b40a9520f0e57760776",
      "placeholder": "​",
      "style": "IPY_MODEL_5bcd9e6edafc4198b1505584156a647c",
      "value": "Generating unsupervised examples...:  99%"
     }
    },
    "1f38361ea7ab4da3a0ae1913cbd7bc57": {
     "model_module": "@jupyter-widgets/controls",
     "model_name": "FloatProgressModel",
     "model_module_version": "1.5.0",
     "state": {
      "_dom_classes": [],
      "_model_module": "@jupyter-widgets/controls",
      "_model_module_version": "1.5.0",
      "_model_name": "FloatProgressModel",
      "_view_count": null,
      "_view_module": "@jupyter-widgets/controls",
      "_view_module_version": "1.5.0",
      "_view_name": "ProgressView",
      "bar_style": "",
      "description": "",
      "description_tooltip": null,
      "layout": "IPY_MODEL_ac08aa6d9b324907b2820016afc66fce",
      "max": 50000,
      "min": 0,
      "orientation": "horizontal",
      "style": "IPY_MODEL_8c4026b45e5246f78015792c8e945e18",
      "value": 50000
     }
    },
    "328133af521246eaa6f44bc814f0f265": {
     "model_module": "@jupyter-widgets/controls",
     "model_name": "HTMLModel",
     "model_module_version": "1.5.0",
     "state": {
      "_dom_classes": [],
      "_model_module": "@jupyter-widgets/controls",
      "_model_module_version": "1.5.0",
      "_model_name": "HTMLModel",
      "_view_count": null,
      "_view_module": "@jupyter-widgets/controls",
      "_view_module_version": "1.5.0",
      "_view_name": "HTMLView",
      "description": "",
      "description_tooltip": null,
      "layout": "IPY_MODEL_69f0d8a4917d4379a397b21dcf2abd42",
      "placeholder": "​",
      "style": "IPY_MODEL_9701746640f245ec8c4a97d417bb7969",
      "value": " 49657/50000 [00:14&lt;00:00, 5023.43 examples/s]"
     }
    },
    "c04d3552158b472f87c02a0f4592c908": {
     "model_module": "@jupyter-widgets/base",
     "model_name": "LayoutModel",
     "model_module_version": "1.2.0",
     "state": {
      "_model_module": "@jupyter-widgets/base",
      "_model_module_version": "1.2.0",
      "_model_name": "LayoutModel",
      "_view_count": null,
      "_view_module": "@jupyter-widgets/base",
      "_view_module_version": "1.2.0",
      "_view_name": "LayoutView",
      "align_content": null,
      "align_items": null,
      "align_self": null,
      "border": null,
      "bottom": null,
      "display": null,
      "flex": null,
      "flex_flow": null,
      "grid_area": null,
      "grid_auto_columns": null,
      "grid_auto_flow": null,
      "grid_auto_rows": null,
      "grid_column": null,
      "grid_gap": null,
      "grid_row": null,
      "grid_template_areas": null,
      "grid_template_columns": null,
      "grid_template_rows": null,
      "height": null,
      "justify_content": null,
      "justify_items": null,
      "left": null,
      "margin": null,
      "max_height": null,
      "max_width": null,
      "min_height": null,
      "min_width": null,
      "object_fit": null,
      "object_position": null,
      "order": null,
      "overflow": null,
      "overflow_x": null,
      "overflow_y": null,
      "padding": null,
      "right": null,
      "top": null,
      "visibility": null,
      "width": null
     }
    },
    "7672064fa0174b40a9520f0e57760776": {
     "model_module": "@jupyter-widgets/base",
     "model_name": "LayoutModel",
     "model_module_version": "1.2.0",
     "state": {
      "_model_module": "@jupyter-widgets/base",
      "_model_module_version": "1.2.0",
      "_model_name": "LayoutModel",
      "_view_count": null,
      "_view_module": "@jupyter-widgets/base",
      "_view_module_version": "1.2.0",
      "_view_name": "LayoutView",
      "align_content": null,
      "align_items": null,
      "align_self": null,
      "border": null,
      "bottom": null,
      "display": null,
      "flex": null,
      "flex_flow": null,
      "grid_area": null,
      "grid_auto_columns": null,
      "grid_auto_flow": null,
      "grid_auto_rows": null,
      "grid_column": null,
      "grid_gap": null,
      "grid_row": null,
      "grid_template_areas": null,
      "grid_template_columns": null,
      "grid_template_rows": null,
      "height": null,
      "justify_content": null,
      "justify_items": null,
      "left": null,
      "margin": null,
      "max_height": null,
      "max_width": null,
      "min_height": null,
      "min_width": null,
      "object_fit": null,
      "object_position": null,
      "order": null,
      "overflow": null,
      "overflow_x": null,
      "overflow_y": null,
      "padding": null,
      "right": null,
      "top": null,
      "visibility": null,
      "width": null
     }
    },
    "5bcd9e6edafc4198b1505584156a647c": {
     "model_module": "@jupyter-widgets/controls",
     "model_name": "DescriptionStyleModel",
     "model_module_version": "1.5.0",
     "state": {
      "_model_module": "@jupyter-widgets/controls",
      "_model_module_version": "1.5.0",
      "_model_name": "DescriptionStyleModel",
      "_view_count": null,
      "_view_module": "@jupyter-widgets/base",
      "_view_module_version": "1.2.0",
      "_view_name": "StyleView",
      "description_width": ""
     }
    },
    "ac08aa6d9b324907b2820016afc66fce": {
     "model_module": "@jupyter-widgets/base",
     "model_name": "LayoutModel",
     "model_module_version": "1.2.0",
     "state": {
      "_model_module": "@jupyter-widgets/base",
      "_model_module_version": "1.2.0",
      "_model_name": "LayoutModel",
      "_view_count": null,
      "_view_module": "@jupyter-widgets/base",
      "_view_module_version": "1.2.0",
      "_view_name": "LayoutView",
      "align_content": null,
      "align_items": null,
      "align_self": null,
      "border": null,
      "bottom": null,
      "display": null,
      "flex": null,
      "flex_flow": null,
      "grid_area": null,
      "grid_auto_columns": null,
      "grid_auto_flow": null,
      "grid_auto_rows": null,
      "grid_column": null,
      "grid_gap": null,
      "grid_row": null,
      "grid_template_areas": null,
      "grid_template_columns": null,
      "grid_template_rows": null,
      "height": null,
      "justify_content": null,
      "justify_items": null,
      "left": null,
      "margin": null,
      "max_height": null,
      "max_width": null,
      "min_height": null,
      "min_width": null,
      "object_fit": null,
      "object_position": null,
      "order": null,
      "overflow": null,
      "overflow_x": null,
      "overflow_y": null,
      "padding": null,
      "right": null,
      "top": null,
      "visibility": null,
      "width": null
     }
    },
    "8c4026b45e5246f78015792c8e945e18": {
     "model_module": "@jupyter-widgets/controls",
     "model_name": "ProgressStyleModel",
     "model_module_version": "1.5.0",
     "state": {
      "_model_module": "@jupyter-widgets/controls",
      "_model_module_version": "1.5.0",
      "_model_name": "ProgressStyleModel",
      "_view_count": null,
      "_view_module": "@jupyter-widgets/base",
      "_view_module_version": "1.2.0",
      "_view_name": "StyleView",
      "bar_color": null,
      "description_width": ""
     }
    },
    "69f0d8a4917d4379a397b21dcf2abd42": {
     "model_module": "@jupyter-widgets/base",
     "model_name": "LayoutModel",
     "model_module_version": "1.2.0",
     "state": {
      "_model_module": "@jupyter-widgets/base",
      "_model_module_version": "1.2.0",
      "_model_name": "LayoutModel",
      "_view_count": null,
      "_view_module": "@jupyter-widgets/base",
      "_view_module_version": "1.2.0",
      "_view_name": "LayoutView",
      "align_content": null,
      "align_items": null,
      "align_self": null,
      "border": null,
      "bottom": null,
      "display": null,
      "flex": null,
      "flex_flow": null,
      "grid_area": null,
      "grid_auto_columns": null,
      "grid_auto_flow": null,
      "grid_auto_rows": null,
      "grid_column": null,
      "grid_gap": null,
      "grid_row": null,
      "grid_template_areas": null,
      "grid_template_columns": null,
      "grid_template_rows": null,
      "height": null,
      "justify_content": null,
      "justify_items": null,
      "left": null,
      "margin": null,
      "max_height": null,
      "max_width": null,
      "min_height": null,
      "min_width": null,
      "object_fit": null,
      "object_position": null,
      "order": null,
      "overflow": null,
      "overflow_x": null,
      "overflow_y": null,
      "padding": null,
      "right": null,
      "top": null,
      "visibility": null,
      "width": null
     }
    },
    "9701746640f245ec8c4a97d417bb7969": {
     "model_module": "@jupyter-widgets/controls",
     "model_name": "DescriptionStyleModel",
     "model_module_version": "1.5.0",
     "state": {
      "_model_module": "@jupyter-widgets/controls",
      "_model_module_version": "1.5.0",
      "_model_name": "DescriptionStyleModel",
      "_view_count": null,
      "_view_module": "@jupyter-widgets/base",
      "_view_module_version": "1.2.0",
      "_view_name": "StyleView",
      "description_width": ""
     }
    },
    "234f196d791846a5a2deda4bc6ec6bbd": {
     "model_module": "@jupyter-widgets/controls",
     "model_name": "HBoxModel",
     "model_module_version": "1.5.0",
     "state": {
      "_dom_classes": [],
      "_model_module": "@jupyter-widgets/controls",
      "_model_module_version": "1.5.0",
      "_model_name": "HBoxModel",
      "_view_count": null,
      "_view_module": "@jupyter-widgets/controls",
      "_view_module_version": "1.5.0",
      "_view_name": "HBoxView",
      "box_style": "",
      "children": [
       "IPY_MODEL_a96fcdf1b26f4b85a21a31248c20f08b",
       "IPY_MODEL_46db61f27b9143678af06fdb41222406",
       "IPY_MODEL_a8c95bec846142f9922f0202f10c1c21"
      ],
      "layout": "IPY_MODEL_69f90dc1aa72400294c14c2cac803de1"
     }
    },
    "a96fcdf1b26f4b85a21a31248c20f08b": {
     "model_module": "@jupyter-widgets/controls",
     "model_name": "HTMLModel",
     "model_module_version": "1.5.0",
     "state": {
      "_dom_classes": [],
      "_model_module": "@jupyter-widgets/controls",
      "_model_module_version": "1.5.0",
      "_model_name": "HTMLModel",
      "_view_count": null,
      "_view_module": "@jupyter-widgets/controls",
      "_view_module_version": "1.5.0",
      "_view_name": "HTMLView",
      "description": "",
      "description_tooltip": null,
      "layout": "IPY_MODEL_886f4827e98547139a1896a735dcefc8",
      "placeholder": "​",
      "style": "IPY_MODEL_3d5b254b1a5a404681cf2a4aeacda805",
      "value": "Shuffling ~/tensorflow_datasets/imdb_reviews/plain_text/1.0.0.incomplete1QEE51/imdb_reviews-unsupervised.tfrecord*...:  62%"
     }
    },
    "46db61f27b9143678af06fdb41222406": {
     "model_module": "@jupyter-widgets/controls",
     "model_name": "FloatProgressModel",
     "model_module_version": "1.5.0",
     "state": {
      "_dom_classes": [],
      "_model_module": "@jupyter-widgets/controls",
      "_model_module_version": "1.5.0",
      "_model_name": "FloatProgressModel",
      "_view_count": null,
      "_view_module": "@jupyter-widgets/controls",
      "_view_module_version": "1.5.0",
      "_view_name": "ProgressView",
      "bar_style": "",
      "description": "",
      "description_tooltip": null,
      "layout": "IPY_MODEL_119520c257c6436bb792dcb45e6dc081",
      "max": 50000,
      "min": 0,
      "orientation": "horizontal",
      "style": "IPY_MODEL_e7bc0a98b8bc4a3785a979d77c1a016c",
      "value": 50000
     }
    },
    "a8c95bec846142f9922f0202f10c1c21": {
     "model_module": "@jupyter-widgets/controls",
     "model_name": "HTMLModel",
     "model_module_version": "1.5.0",
     "state": {
      "_dom_classes": [],
      "_model_module": "@jupyter-widgets/controls",
      "_model_module_version": "1.5.0",
      "_model_name": "HTMLModel",
      "_view_count": null,
      "_view_module": "@jupyter-widgets/controls",
      "_view_module_version": "1.5.0",
      "_view_name": "HTMLView",
      "description": "",
      "description_tooltip": null,
      "layout": "IPY_MODEL_e63149380a5741ceab4884268021686c",
      "placeholder": "​",
      "style": "IPY_MODEL_56d9266b1171467f8685b0d8100b0dd0",
      "value": " 30794/50000 [00:00&lt;00:00, 173345.69 examples/s]"
     }
    },
    "69f90dc1aa72400294c14c2cac803de1": {
     "model_module": "@jupyter-widgets/base",
     "model_name": "LayoutModel",
     "model_module_version": "1.2.0",
     "state": {
      "_model_module": "@jupyter-widgets/base",
      "_model_module_version": "1.2.0",
      "_model_name": "LayoutModel",
      "_view_count": null,
      "_view_module": "@jupyter-widgets/base",
      "_view_module_version": "1.2.0",
      "_view_name": "LayoutView",
      "align_content": null,
      "align_items": null,
      "align_self": null,
      "border": null,
      "bottom": null,
      "display": null,
      "flex": null,
      "flex_flow": null,
      "grid_area": null,
      "grid_auto_columns": null,
      "grid_auto_flow": null,
      "grid_auto_rows": null,
      "grid_column": null,
      "grid_gap": null,
      "grid_row": null,
      "grid_template_areas": null,
      "grid_template_columns": null,
      "grid_template_rows": null,
      "height": null,
      "justify_content": null,
      "justify_items": null,
      "left": null,
      "margin": null,
      "max_height": null,
      "max_width": null,
      "min_height": null,
      "min_width": null,
      "object_fit": null,
      "object_position": null,
      "order": null,
      "overflow": null,
      "overflow_x": null,
      "overflow_y": null,
      "padding": null,
      "right": null,
      "top": null,
      "visibility": null,
      "width": null
     }
    },
    "886f4827e98547139a1896a735dcefc8": {
     "model_module": "@jupyter-widgets/base",
     "model_name": "LayoutModel",
     "model_module_version": "1.2.0",
     "state": {
      "_model_module": "@jupyter-widgets/base",
      "_model_module_version": "1.2.0",
      "_model_name": "LayoutModel",
      "_view_count": null,
      "_view_module": "@jupyter-widgets/base",
      "_view_module_version": "1.2.0",
      "_view_name": "LayoutView",
      "align_content": null,
      "align_items": null,
      "align_self": null,
      "border": null,
      "bottom": null,
      "display": null,
      "flex": null,
      "flex_flow": null,
      "grid_area": null,
      "grid_auto_columns": null,
      "grid_auto_flow": null,
      "grid_auto_rows": null,
      "grid_column": null,
      "grid_gap": null,
      "grid_row": null,
      "grid_template_areas": null,
      "grid_template_columns": null,
      "grid_template_rows": null,
      "height": null,
      "justify_content": null,
      "justify_items": null,
      "left": null,
      "margin": null,
      "max_height": null,
      "max_width": null,
      "min_height": null,
      "min_width": null,
      "object_fit": null,
      "object_position": null,
      "order": null,
      "overflow": null,
      "overflow_x": null,
      "overflow_y": null,
      "padding": null,
      "right": null,
      "top": null,
      "visibility": null,
      "width": null
     }
    },
    "3d5b254b1a5a404681cf2a4aeacda805": {
     "model_module": "@jupyter-widgets/controls",
     "model_name": "DescriptionStyleModel",
     "model_module_version": "1.5.0",
     "state": {
      "_model_module": "@jupyter-widgets/controls",
      "_model_module_version": "1.5.0",
      "_model_name": "DescriptionStyleModel",
      "_view_count": null,
      "_view_module": "@jupyter-widgets/base",
      "_view_module_version": "1.2.0",
      "_view_name": "StyleView",
      "description_width": ""
     }
    },
    "119520c257c6436bb792dcb45e6dc081": {
     "model_module": "@jupyter-widgets/base",
     "model_name": "LayoutModel",
     "model_module_version": "1.2.0",
     "state": {
      "_model_module": "@jupyter-widgets/base",
      "_model_module_version": "1.2.0",
      "_model_name": "LayoutModel",
      "_view_count": null,
      "_view_module": "@jupyter-widgets/base",
      "_view_module_version": "1.2.0",
      "_view_name": "LayoutView",
      "align_content": null,
      "align_items": null,
      "align_self": null,
      "border": null,
      "bottom": null,
      "display": null,
      "flex": null,
      "flex_flow": null,
      "grid_area": null,
      "grid_auto_columns": null,
      "grid_auto_flow": null,
      "grid_auto_rows": null,
      "grid_column": null,
      "grid_gap": null,
      "grid_row": null,
      "grid_template_areas": null,
      "grid_template_columns": null,
      "grid_template_rows": null,
      "height": null,
      "justify_content": null,
      "justify_items": null,
      "left": null,
      "margin": null,
      "max_height": null,
      "max_width": null,
      "min_height": null,
      "min_width": null,
      "object_fit": null,
      "object_position": null,
      "order": null,
      "overflow": null,
      "overflow_x": null,
      "overflow_y": null,
      "padding": null,
      "right": null,
      "top": null,
      "visibility": null,
      "width": null
     }
    },
    "e7bc0a98b8bc4a3785a979d77c1a016c": {
     "model_module": "@jupyter-widgets/controls",
     "model_name": "ProgressStyleModel",
     "model_module_version": "1.5.0",
     "state": {
      "_model_module": "@jupyter-widgets/controls",
      "_model_module_version": "1.5.0",
      "_model_name": "ProgressStyleModel",
      "_view_count": null,
      "_view_module": "@jupyter-widgets/base",
      "_view_module_version": "1.2.0",
      "_view_name": "StyleView",
      "bar_color": null,
      "description_width": ""
     }
    },
    "e63149380a5741ceab4884268021686c": {
     "model_module": "@jupyter-widgets/base",
     "model_name": "LayoutModel",
     "model_module_version": "1.2.0",
     "state": {
      "_model_module": "@jupyter-widgets/base",
      "_model_module_version": "1.2.0",
      "_model_name": "LayoutModel",
      "_view_count": null,
      "_view_module": "@jupyter-widgets/base",
      "_view_module_version": "1.2.0",
      "_view_name": "LayoutView",
      "align_content": null,
      "align_items": null,
      "align_self": null,
      "border": null,
      "bottom": null,
      "display": null,
      "flex": null,
      "flex_flow": null,
      "grid_area": null,
      "grid_auto_columns": null,
      "grid_auto_flow": null,
      "grid_auto_rows": null,
      "grid_column": null,
      "grid_gap": null,
      "grid_row": null,
      "grid_template_areas": null,
      "grid_template_columns": null,
      "grid_template_rows": null,
      "height": null,
      "justify_content": null,
      "justify_items": null,
      "left": null,
      "margin": null,
      "max_height": null,
      "max_width": null,
      "min_height": null,
      "min_width": null,
      "object_fit": null,
      "object_position": null,
      "order": null,
      "overflow": null,
      "overflow_x": null,
      "overflow_y": null,
      "padding": null,
      "right": null,
      "top": null,
      "visibility": null,
      "width": null
     }
    },
    "56d9266b1171467f8685b0d8100b0dd0": {
     "model_module": "@jupyter-widgets/controls",
     "model_name": "DescriptionStyleModel",
     "model_module_version": "1.5.0",
     "state": {
      "_model_module": "@jupyter-widgets/controls",
      "_model_module_version": "1.5.0",
      "_model_name": "DescriptionStyleModel",
      "_view_count": null,
      "_view_module": "@jupyter-widgets/base",
      "_view_module_version": "1.2.0",
      "_view_name": "StyleView",
      "description_width": ""
     }
    },
    "b75ff0379a7243aaaa6f4bb41a3c47ae": {
     "model_module": "@jupyter-widgets/controls",
     "model_name": "HBoxModel",
     "model_module_version": "1.5.0",
     "state": {
      "_dom_classes": [],
      "_model_module": "@jupyter-widgets/controls",
      "_model_module_version": "1.5.0",
      "_model_name": "HBoxModel",
      "_view_count": null,
      "_view_module": "@jupyter-widgets/controls",
      "_view_module_version": "1.5.0",
      "_view_name": "HBoxView",
      "box_style": "",
      "children": [
       "IPY_MODEL_c5dffae31ca94e82963516b8cf31f865",
       "IPY_MODEL_a4d77158c3a4405f9bd4cc2a8a16a532",
       "IPY_MODEL_f98ebbd322d74ca8a04feee3d69ada23"
      ],
      "layout": "IPY_MODEL_da2a600767af43b4bc178c8885c73780"
     }
    },
    "c5dffae31ca94e82963516b8cf31f865": {
     "model_module": "@jupyter-widgets/controls",
     "model_name": "HTMLModel",
     "model_module_version": "1.5.0",
     "state": {
      "_dom_classes": [],
      "_model_module": "@jupyter-widgets/controls",
      "_model_module_version": "1.5.0",
      "_model_name": "HTMLModel",
      "_view_count": null,
      "_view_module": "@jupyter-widgets/controls",
      "_view_module_version": "1.5.0",
      "_view_name": "HTMLView",
      "description": "",
      "description_tooltip": null,
      "layout": "IPY_MODEL_484a4a6c26454ce59e4c48a7255f6085",
      "placeholder": "​",
      "style": "IPY_MODEL_b8a167f108b74ebfad6bf0703543868c",
      "value": "Downloading vocab.txt: 100%"
     }
    },
    "a4d77158c3a4405f9bd4cc2a8a16a532": {
     "model_module": "@jupyter-widgets/controls",
     "model_name": "FloatProgressModel",
     "model_module_version": "1.5.0",
     "state": {
      "_dom_classes": [],
      "_model_module": "@jupyter-widgets/controls",
      "_model_module_version": "1.5.0",
      "_model_name": "FloatProgressModel",
      "_view_count": null,
      "_view_module": "@jupyter-widgets/controls",
      "_view_module_version": "1.5.0",
      "_view_name": "ProgressView",
      "bar_style": "success",
      "description": "",
      "description_tooltip": null,
      "layout": "IPY_MODEL_12b71171a3994d0799e6ae4ec86fbc33",
      "max": 213450,
      "min": 0,
      "orientation": "horizontal",
      "style": "IPY_MODEL_c8fc19c4ef324e72b698336d2e13c8b7",
      "value": 213450
     }
    },
    "f98ebbd322d74ca8a04feee3d69ada23": {
     "model_module": "@jupyter-widgets/controls",
     "model_name": "HTMLModel",
     "model_module_version": "1.5.0",
     "state": {
      "_dom_classes": [],
      "_model_module": "@jupyter-widgets/controls",
      "_model_module_version": "1.5.0",
      "_model_name": "HTMLModel",
      "_view_count": null,
      "_view_module": "@jupyter-widgets/controls",
      "_view_module_version": "1.5.0",
      "_view_name": "HTMLView",
      "description": "",
      "description_tooltip": null,
      "layout": "IPY_MODEL_26e89fd827324d21bdfbdcbbdfcb40fa",
      "placeholder": "​",
      "style": "IPY_MODEL_6883171285e241cdb64f19e6bb74d539",
      "value": " 208k/208k [00:00&lt;00:00, 280kB/s]"
     }
    },
    "da2a600767af43b4bc178c8885c73780": {
     "model_module": "@jupyter-widgets/base",
     "model_name": "LayoutModel",
     "model_module_version": "1.2.0",
     "state": {
      "_model_module": "@jupyter-widgets/base",
      "_model_module_version": "1.2.0",
      "_model_name": "LayoutModel",
      "_view_count": null,
      "_view_module": "@jupyter-widgets/base",
      "_view_module_version": "1.2.0",
      "_view_name": "LayoutView",
      "align_content": null,
      "align_items": null,
      "align_self": null,
      "border": null,
      "bottom": null,
      "display": null,
      "flex": null,
      "flex_flow": null,
      "grid_area": null,
      "grid_auto_columns": null,
      "grid_auto_flow": null,
      "grid_auto_rows": null,
      "grid_column": null,
      "grid_gap": null,
      "grid_row": null,
      "grid_template_areas": null,
      "grid_template_columns": null,
      "grid_template_rows": null,
      "height": null,
      "justify_content": null,
      "justify_items": null,
      "left": null,
      "margin": null,
      "max_height": null,
      "max_width": null,
      "min_height": null,
      "min_width": null,
      "object_fit": null,
      "object_position": null,
      "order": null,
      "overflow": null,
      "overflow_x": null,
      "overflow_y": null,
      "padding": null,
      "right": null,
      "top": null,
      "visibility": null,
      "width": null
     }
    },
    "484a4a6c26454ce59e4c48a7255f6085": {
     "model_module": "@jupyter-widgets/base",
     "model_name": "LayoutModel",
     "model_module_version": "1.2.0",
     "state": {
      "_model_module": "@jupyter-widgets/base",
      "_model_module_version": "1.2.0",
      "_model_name": "LayoutModel",
      "_view_count": null,
      "_view_module": "@jupyter-widgets/base",
      "_view_module_version": "1.2.0",
      "_view_name": "LayoutView",
      "align_content": null,
      "align_items": null,
      "align_self": null,
      "border": null,
      "bottom": null,
      "display": null,
      "flex": null,
      "flex_flow": null,
      "grid_area": null,
      "grid_auto_columns": null,
      "grid_auto_flow": null,
      "grid_auto_rows": null,
      "grid_column": null,
      "grid_gap": null,
      "grid_row": null,
      "grid_template_areas": null,
      "grid_template_columns": null,
      "grid_template_rows": null,
      "height": null,
      "justify_content": null,
      "justify_items": null,
      "left": null,
      "margin": null,
      "max_height": null,
      "max_width": null,
      "min_height": null,
      "min_width": null,
      "object_fit": null,
      "object_position": null,
      "order": null,
      "overflow": null,
      "overflow_x": null,
      "overflow_y": null,
      "padding": null,
      "right": null,
      "top": null,
      "visibility": null,
      "width": null
     }
    },
    "b8a167f108b74ebfad6bf0703543868c": {
     "model_module": "@jupyter-widgets/controls",
     "model_name": "DescriptionStyleModel",
     "model_module_version": "1.5.0",
     "state": {
      "_model_module": "@jupyter-widgets/controls",
      "_model_module_version": "1.5.0",
      "_model_name": "DescriptionStyleModel",
      "_view_count": null,
      "_view_module": "@jupyter-widgets/base",
      "_view_module_version": "1.2.0",
      "_view_name": "StyleView",
      "description_width": ""
     }
    },
    "12b71171a3994d0799e6ae4ec86fbc33": {
     "model_module": "@jupyter-widgets/base",
     "model_name": "LayoutModel",
     "model_module_version": "1.2.0",
     "state": {
      "_model_module": "@jupyter-widgets/base",
      "_model_module_version": "1.2.0",
      "_model_name": "LayoutModel",
      "_view_count": null,
      "_view_module": "@jupyter-widgets/base",
      "_view_module_version": "1.2.0",
      "_view_name": "LayoutView",
      "align_content": null,
      "align_items": null,
      "align_self": null,
      "border": null,
      "bottom": null,
      "display": null,
      "flex": null,
      "flex_flow": null,
      "grid_area": null,
      "grid_auto_columns": null,
      "grid_auto_flow": null,
      "grid_auto_rows": null,
      "grid_column": null,
      "grid_gap": null,
      "grid_row": null,
      "grid_template_areas": null,
      "grid_template_columns": null,
      "grid_template_rows": null,
      "height": null,
      "justify_content": null,
      "justify_items": null,
      "left": null,
      "margin": null,
      "max_height": null,
      "max_width": null,
      "min_height": null,
      "min_width": null,
      "object_fit": null,
      "object_position": null,
      "order": null,
      "overflow": null,
      "overflow_x": null,
      "overflow_y": null,
      "padding": null,
      "right": null,
      "top": null,
      "visibility": null,
      "width": null
     }
    },
    "c8fc19c4ef324e72b698336d2e13c8b7": {
     "model_module": "@jupyter-widgets/controls",
     "model_name": "ProgressStyleModel",
     "model_module_version": "1.5.0",
     "state": {
      "_model_module": "@jupyter-widgets/controls",
      "_model_module_version": "1.5.0",
      "_model_name": "ProgressStyleModel",
      "_view_count": null,
      "_view_module": "@jupyter-widgets/base",
      "_view_module_version": "1.2.0",
      "_view_name": "StyleView",
      "bar_color": null,
      "description_width": ""
     }
    },
    "26e89fd827324d21bdfbdcbbdfcb40fa": {
     "model_module": "@jupyter-widgets/base",
     "model_name": "LayoutModel",
     "model_module_version": "1.2.0",
     "state": {
      "_model_module": "@jupyter-widgets/base",
      "_model_module_version": "1.2.0",
      "_model_name": "LayoutModel",
      "_view_count": null,
      "_view_module": "@jupyter-widgets/base",
      "_view_module_version": "1.2.0",
      "_view_name": "LayoutView",
      "align_content": null,
      "align_items": null,
      "align_self": null,
      "border": null,
      "bottom": null,
      "display": null,
      "flex": null,
      "flex_flow": null,
      "grid_area": null,
      "grid_auto_columns": null,
      "grid_auto_flow": null,
      "grid_auto_rows": null,
      "grid_column": null,
      "grid_gap": null,
      "grid_row": null,
      "grid_template_areas": null,
      "grid_template_columns": null,
      "grid_template_rows": null,
      "height": null,
      "justify_content": null,
      "justify_items": null,
      "left": null,
      "margin": null,
      "max_height": null,
      "max_width": null,
      "min_height": null,
      "min_width": null,
      "object_fit": null,
      "object_position": null,
      "order": null,
      "overflow": null,
      "overflow_x": null,
      "overflow_y": null,
      "padding": null,
      "right": null,
      "top": null,
      "visibility": null,
      "width": null
     }
    },
    "6883171285e241cdb64f19e6bb74d539": {
     "model_module": "@jupyter-widgets/controls",
     "model_name": "DescriptionStyleModel",
     "model_module_version": "1.5.0",
     "state": {
      "_model_module": "@jupyter-widgets/controls",
      "_model_module_version": "1.5.0",
      "_model_name": "DescriptionStyleModel",
      "_view_count": null,
      "_view_module": "@jupyter-widgets/base",
      "_view_module_version": "1.2.0",
      "_view_name": "StyleView",
      "description_width": ""
     }
    },
    "1230cc73240d45568cc4b2659d5fe773": {
     "model_module": "@jupyter-widgets/controls",
     "model_name": "HBoxModel",
     "model_module_version": "1.5.0",
     "state": {
      "_dom_classes": [],
      "_model_module": "@jupyter-widgets/controls",
      "_model_module_version": "1.5.0",
      "_model_name": "HBoxModel",
      "_view_count": null,
      "_view_module": "@jupyter-widgets/controls",
      "_view_module_version": "1.5.0",
      "_view_name": "HBoxView",
      "box_style": "",
      "children": [
       "IPY_MODEL_c6de0d292d4b4c4bb8707d6faa884eff",
       "IPY_MODEL_20105931a4de498bbefee8d84a264056",
       "IPY_MODEL_33afdeafd642487ea9301274a43938d3"
      ],
      "layout": "IPY_MODEL_f23cc37ef39b4623b85bae85a36e85cc"
     }
    },
    "c6de0d292d4b4c4bb8707d6faa884eff": {
     "model_module": "@jupyter-widgets/controls",
     "model_name": "HTMLModel",
     "model_module_version": "1.5.0",
     "state": {
      "_dom_classes": [],
      "_model_module": "@jupyter-widgets/controls",
      "_model_module_version": "1.5.0",
      "_model_name": "HTMLModel",
      "_view_count": null,
      "_view_module": "@jupyter-widgets/controls",
      "_view_module_version": "1.5.0",
      "_view_name": "HTMLView",
      "description": "",
      "description_tooltip": null,
      "layout": "IPY_MODEL_897d768a631840e1bcccff7aa2aefccc",
      "placeholder": "​",
      "style": "IPY_MODEL_5bf4a3103dd74b268a04212c24782710",
      "value": "Downloading tokenizer_config.json: 100%"
     }
    },
    "20105931a4de498bbefee8d84a264056": {
     "model_module": "@jupyter-widgets/controls",
     "model_name": "FloatProgressModel",
     "model_module_version": "1.5.0",
     "state": {
      "_dom_classes": [],
      "_model_module": "@jupyter-widgets/controls",
      "_model_module_version": "1.5.0",
      "_model_name": "FloatProgressModel",
      "_view_count": null,
      "_view_module": "@jupyter-widgets/controls",
      "_view_module_version": "1.5.0",
      "_view_name": "ProgressView",
      "bar_style": "success",
      "description": "",
      "description_tooltip": null,
      "layout": "IPY_MODEL_8316b55df8c540339065496df11fbb71",
      "max": 29,
      "min": 0,
      "orientation": "horizontal",
      "style": "IPY_MODEL_54159cf806f64419a66a360b3c9cf0a1",
      "value": 29
     }
    },
    "33afdeafd642487ea9301274a43938d3": {
     "model_module": "@jupyter-widgets/controls",
     "model_name": "HTMLModel",
     "model_module_version": "1.5.0",
     "state": {
      "_dom_classes": [],
      "_model_module": "@jupyter-widgets/controls",
      "_model_module_version": "1.5.0",
      "_model_name": "HTMLModel",
      "_view_count": null,
      "_view_module": "@jupyter-widgets/controls",
      "_view_module_version": "1.5.0",
      "_view_name": "HTMLView",
      "description": "",
      "description_tooltip": null,
      "layout": "IPY_MODEL_b44428af045e42e79ee558a3c389437e",
      "placeholder": "​",
      "style": "IPY_MODEL_3941c5b885fb44c18ab970b2c7c03632",
      "value": " 29.0/29.0 [00:00&lt;00:00, 703B/s]"
     }
    },
    "f23cc37ef39b4623b85bae85a36e85cc": {
     "model_module": "@jupyter-widgets/base",
     "model_name": "LayoutModel",
     "model_module_version": "1.2.0",
     "state": {
      "_model_module": "@jupyter-widgets/base",
      "_model_module_version": "1.2.0",
      "_model_name": "LayoutModel",
      "_view_count": null,
      "_view_module": "@jupyter-widgets/base",
      "_view_module_version": "1.2.0",
      "_view_name": "LayoutView",
      "align_content": null,
      "align_items": null,
      "align_self": null,
      "border": null,
      "bottom": null,
      "display": null,
      "flex": null,
      "flex_flow": null,
      "grid_area": null,
      "grid_auto_columns": null,
      "grid_auto_flow": null,
      "grid_auto_rows": null,
      "grid_column": null,
      "grid_gap": null,
      "grid_row": null,
      "grid_template_areas": null,
      "grid_template_columns": null,
      "grid_template_rows": null,
      "height": null,
      "justify_content": null,
      "justify_items": null,
      "left": null,
      "margin": null,
      "max_height": null,
      "max_width": null,
      "min_height": null,
      "min_width": null,
      "object_fit": null,
      "object_position": null,
      "order": null,
      "overflow": null,
      "overflow_x": null,
      "overflow_y": null,
      "padding": null,
      "right": null,
      "top": null,
      "visibility": null,
      "width": null
     }
    },
    "897d768a631840e1bcccff7aa2aefccc": {
     "model_module": "@jupyter-widgets/base",
     "model_name": "LayoutModel",
     "model_module_version": "1.2.0",
     "state": {
      "_model_module": "@jupyter-widgets/base",
      "_model_module_version": "1.2.0",
      "_model_name": "LayoutModel",
      "_view_count": null,
      "_view_module": "@jupyter-widgets/base",
      "_view_module_version": "1.2.0",
      "_view_name": "LayoutView",
      "align_content": null,
      "align_items": null,
      "align_self": null,
      "border": null,
      "bottom": null,
      "display": null,
      "flex": null,
      "flex_flow": null,
      "grid_area": null,
      "grid_auto_columns": null,
      "grid_auto_flow": null,
      "grid_auto_rows": null,
      "grid_column": null,
      "grid_gap": null,
      "grid_row": null,
      "grid_template_areas": null,
      "grid_template_columns": null,
      "grid_template_rows": null,
      "height": null,
      "justify_content": null,
      "justify_items": null,
      "left": null,
      "margin": null,
      "max_height": null,
      "max_width": null,
      "min_height": null,
      "min_width": null,
      "object_fit": null,
      "object_position": null,
      "order": null,
      "overflow": null,
      "overflow_x": null,
      "overflow_y": null,
      "padding": null,
      "right": null,
      "top": null,
      "visibility": null,
      "width": null
     }
    },
    "5bf4a3103dd74b268a04212c24782710": {
     "model_module": "@jupyter-widgets/controls",
     "model_name": "DescriptionStyleModel",
     "model_module_version": "1.5.0",
     "state": {
      "_model_module": "@jupyter-widgets/controls",
      "_model_module_version": "1.5.0",
      "_model_name": "DescriptionStyleModel",
      "_view_count": null,
      "_view_module": "@jupyter-widgets/base",
      "_view_module_version": "1.2.0",
      "_view_name": "StyleView",
      "description_width": ""
     }
    },
    "8316b55df8c540339065496df11fbb71": {
     "model_module": "@jupyter-widgets/base",
     "model_name": "LayoutModel",
     "model_module_version": "1.2.0",
     "state": {
      "_model_module": "@jupyter-widgets/base",
      "_model_module_version": "1.2.0",
      "_model_name": "LayoutModel",
      "_view_count": null,
      "_view_module": "@jupyter-widgets/base",
      "_view_module_version": "1.2.0",
      "_view_name": "LayoutView",
      "align_content": null,
      "align_items": null,
      "align_self": null,
      "border": null,
      "bottom": null,
      "display": null,
      "flex": null,
      "flex_flow": null,
      "grid_area": null,
      "grid_auto_columns": null,
      "grid_auto_flow": null,
      "grid_auto_rows": null,
      "grid_column": null,
      "grid_gap": null,
      "grid_row": null,
      "grid_template_areas": null,
      "grid_template_columns": null,
      "grid_template_rows": null,
      "height": null,
      "justify_content": null,
      "justify_items": null,
      "left": null,
      "margin": null,
      "max_height": null,
      "max_width": null,
      "min_height": null,
      "min_width": null,
      "object_fit": null,
      "object_position": null,
      "order": null,
      "overflow": null,
      "overflow_x": null,
      "overflow_y": null,
      "padding": null,
      "right": null,
      "top": null,
      "visibility": null,
      "width": null
     }
    },
    "54159cf806f64419a66a360b3c9cf0a1": {
     "model_module": "@jupyter-widgets/controls",
     "model_name": "ProgressStyleModel",
     "model_module_version": "1.5.0",
     "state": {
      "_model_module": "@jupyter-widgets/controls",
      "_model_module_version": "1.5.0",
      "_model_name": "ProgressStyleModel",
      "_view_count": null,
      "_view_module": "@jupyter-widgets/base",
      "_view_module_version": "1.2.0",
      "_view_name": "StyleView",
      "bar_color": null,
      "description_width": ""
     }
    },
    "b44428af045e42e79ee558a3c389437e": {
     "model_module": "@jupyter-widgets/base",
     "model_name": "LayoutModel",
     "model_module_version": "1.2.0",
     "state": {
      "_model_module": "@jupyter-widgets/base",
      "_model_module_version": "1.2.0",
      "_model_name": "LayoutModel",
      "_view_count": null,
      "_view_module": "@jupyter-widgets/base",
      "_view_module_version": "1.2.0",
      "_view_name": "LayoutView",
      "align_content": null,
      "align_items": null,
      "align_self": null,
      "border": null,
      "bottom": null,
      "display": null,
      "flex": null,
      "flex_flow": null,
      "grid_area": null,
      "grid_auto_columns": null,
      "grid_auto_flow": null,
      "grid_auto_rows": null,
      "grid_column": null,
      "grid_gap": null,
      "grid_row": null,
      "grid_template_areas": null,
      "grid_template_columns": null,
      "grid_template_rows": null,
      "height": null,
      "justify_content": null,
      "justify_items": null,
      "left": null,
      "margin": null,
      "max_height": null,
      "max_width": null,
      "min_height": null,
      "min_width": null,
      "object_fit": null,
      "object_position": null,
      "order": null,
      "overflow": null,
      "overflow_x": null,
      "overflow_y": null,
      "padding": null,
      "right": null,
      "top": null,
      "visibility": null,
      "width": null
     }
    },
    "3941c5b885fb44c18ab970b2c7c03632": {
     "model_module": "@jupyter-widgets/controls",
     "model_name": "DescriptionStyleModel",
     "model_module_version": "1.5.0",
     "state": {
      "_model_module": "@jupyter-widgets/controls",
      "_model_module_version": "1.5.0",
      "_model_name": "DescriptionStyleModel",
      "_view_count": null,
      "_view_module": "@jupyter-widgets/base",
      "_view_module_version": "1.2.0",
      "_view_name": "StyleView",
      "description_width": ""
     }
    },
    "b9397fb1d257401e895293ab9c315102": {
     "model_module": "@jupyter-widgets/controls",
     "model_name": "HBoxModel",
     "model_module_version": "1.5.0",
     "state": {
      "_dom_classes": [],
      "_model_module": "@jupyter-widgets/controls",
      "_model_module_version": "1.5.0",
      "_model_name": "HBoxModel",
      "_view_count": null,
      "_view_module": "@jupyter-widgets/controls",
      "_view_module_version": "1.5.0",
      "_view_name": "HBoxView",
      "box_style": "",
      "children": [
       "IPY_MODEL_8a51afa153a94fc88299a1f2116cef05",
       "IPY_MODEL_ba5b4007be97491f916eeb4136e7a432",
       "IPY_MODEL_3e2bf24a0716479f92ed3c4b0c35e325"
      ],
      "layout": "IPY_MODEL_5475d68c46cb4f659a8176111ee01e22"
     }
    },
    "8a51afa153a94fc88299a1f2116cef05": {
     "model_module": "@jupyter-widgets/controls",
     "model_name": "HTMLModel",
     "model_module_version": "1.5.0",
     "state": {
      "_dom_classes": [],
      "_model_module": "@jupyter-widgets/controls",
      "_model_module_version": "1.5.0",
      "_model_name": "HTMLModel",
      "_view_count": null,
      "_view_module": "@jupyter-widgets/controls",
      "_view_module_version": "1.5.0",
      "_view_name": "HTMLView",
      "description": "",
      "description_tooltip": null,
      "layout": "IPY_MODEL_60f01fd9c02c4b92bcef9b72463088db",
      "placeholder": "​",
      "style": "IPY_MODEL_71f3d72222e54a58a2507216297b3a71",
      "value": "Downloading config.json: 100%"
     }
    },
    "ba5b4007be97491f916eeb4136e7a432": {
     "model_module": "@jupyter-widgets/controls",
     "model_name": "FloatProgressModel",
     "model_module_version": "1.5.0",
     "state": {
      "_dom_classes": [],
      "_model_module": "@jupyter-widgets/controls",
      "_model_module_version": "1.5.0",
      "_model_name": "FloatProgressModel",
      "_view_count": null,
      "_view_module": "@jupyter-widgets/controls",
      "_view_module_version": "1.5.0",
      "_view_name": "ProgressView",
      "bar_style": "success",
      "description": "",
      "description_tooltip": null,
      "layout": "IPY_MODEL_2b02234260ee412d8bf6121b5a30086b",
      "max": 570,
      "min": 0,
      "orientation": "horizontal",
      "style": "IPY_MODEL_49bbe09a1e574f2c97b371336dcb69f0",
      "value": 570
     }
    },
    "3e2bf24a0716479f92ed3c4b0c35e325": {
     "model_module": "@jupyter-widgets/controls",
     "model_name": "HTMLModel",
     "model_module_version": "1.5.0",
     "state": {
      "_dom_classes": [],
      "_model_module": "@jupyter-widgets/controls",
      "_model_module_version": "1.5.0",
      "_model_name": "HTMLModel",
      "_view_count": null,
      "_view_module": "@jupyter-widgets/controls",
      "_view_module_version": "1.5.0",
      "_view_name": "HTMLView",
      "description": "",
      "description_tooltip": null,
      "layout": "IPY_MODEL_6d36ee7d72644f45ae231fd8e9f56377",
      "placeholder": "​",
      "style": "IPY_MODEL_9894680464e04be4b63412473798c26d",
      "value": " 570/570 [00:00&lt;00:00, 11.8kB/s]"
     }
    },
    "5475d68c46cb4f659a8176111ee01e22": {
     "model_module": "@jupyter-widgets/base",
     "model_name": "LayoutModel",
     "model_module_version": "1.2.0",
     "state": {
      "_model_module": "@jupyter-widgets/base",
      "_model_module_version": "1.2.0",
      "_model_name": "LayoutModel",
      "_view_count": null,
      "_view_module": "@jupyter-widgets/base",
      "_view_module_version": "1.2.0",
      "_view_name": "LayoutView",
      "align_content": null,
      "align_items": null,
      "align_self": null,
      "border": null,
      "bottom": null,
      "display": null,
      "flex": null,
      "flex_flow": null,
      "grid_area": null,
      "grid_auto_columns": null,
      "grid_auto_flow": null,
      "grid_auto_rows": null,
      "grid_column": null,
      "grid_gap": null,
      "grid_row": null,
      "grid_template_areas": null,
      "grid_template_columns": null,
      "grid_template_rows": null,
      "height": null,
      "justify_content": null,
      "justify_items": null,
      "left": null,
      "margin": null,
      "max_height": null,
      "max_width": null,
      "min_height": null,
      "min_width": null,
      "object_fit": null,
      "object_position": null,
      "order": null,
      "overflow": null,
      "overflow_x": null,
      "overflow_y": null,
      "padding": null,
      "right": null,
      "top": null,
      "visibility": null,
      "width": null
     }
    },
    "60f01fd9c02c4b92bcef9b72463088db": {
     "model_module": "@jupyter-widgets/base",
     "model_name": "LayoutModel",
     "model_module_version": "1.2.0",
     "state": {
      "_model_module": "@jupyter-widgets/base",
      "_model_module_version": "1.2.0",
      "_model_name": "LayoutModel",
      "_view_count": null,
      "_view_module": "@jupyter-widgets/base",
      "_view_module_version": "1.2.0",
      "_view_name": "LayoutView",
      "align_content": null,
      "align_items": null,
      "align_self": null,
      "border": null,
      "bottom": null,
      "display": null,
      "flex": null,
      "flex_flow": null,
      "grid_area": null,
      "grid_auto_columns": null,
      "grid_auto_flow": null,
      "grid_auto_rows": null,
      "grid_column": null,
      "grid_gap": null,
      "grid_row": null,
      "grid_template_areas": null,
      "grid_template_columns": null,
      "grid_template_rows": null,
      "height": null,
      "justify_content": null,
      "justify_items": null,
      "left": null,
      "margin": null,
      "max_height": null,
      "max_width": null,
      "min_height": null,
      "min_width": null,
      "object_fit": null,
      "object_position": null,
      "order": null,
      "overflow": null,
      "overflow_x": null,
      "overflow_y": null,
      "padding": null,
      "right": null,
      "top": null,
      "visibility": null,
      "width": null
     }
    },
    "71f3d72222e54a58a2507216297b3a71": {
     "model_module": "@jupyter-widgets/controls",
     "model_name": "DescriptionStyleModel",
     "model_module_version": "1.5.0",
     "state": {
      "_model_module": "@jupyter-widgets/controls",
      "_model_module_version": "1.5.0",
      "_model_name": "DescriptionStyleModel",
      "_view_count": null,
      "_view_module": "@jupyter-widgets/base",
      "_view_module_version": "1.2.0",
      "_view_name": "StyleView",
      "description_width": ""
     }
    },
    "2b02234260ee412d8bf6121b5a30086b": {
     "model_module": "@jupyter-widgets/base",
     "model_name": "LayoutModel",
     "model_module_version": "1.2.0",
     "state": {
      "_model_module": "@jupyter-widgets/base",
      "_model_module_version": "1.2.0",
      "_model_name": "LayoutModel",
      "_view_count": null,
      "_view_module": "@jupyter-widgets/base",
      "_view_module_version": "1.2.0",
      "_view_name": "LayoutView",
      "align_content": null,
      "align_items": null,
      "align_self": null,
      "border": null,
      "bottom": null,
      "display": null,
      "flex": null,
      "flex_flow": null,
      "grid_area": null,
      "grid_auto_columns": null,
      "grid_auto_flow": null,
      "grid_auto_rows": null,
      "grid_column": null,
      "grid_gap": null,
      "grid_row": null,
      "grid_template_areas": null,
      "grid_template_columns": null,
      "grid_template_rows": null,
      "height": null,
      "justify_content": null,
      "justify_items": null,
      "left": null,
      "margin": null,
      "max_height": null,
      "max_width": null,
      "min_height": null,
      "min_width": null,
      "object_fit": null,
      "object_position": null,
      "order": null,
      "overflow": null,
      "overflow_x": null,
      "overflow_y": null,
      "padding": null,
      "right": null,
      "top": null,
      "visibility": null,
      "width": null
     }
    },
    "49bbe09a1e574f2c97b371336dcb69f0": {
     "model_module": "@jupyter-widgets/controls",
     "model_name": "ProgressStyleModel",
     "model_module_version": "1.5.0",
     "state": {
      "_model_module": "@jupyter-widgets/controls",
      "_model_module_version": "1.5.0",
      "_model_name": "ProgressStyleModel",
      "_view_count": null,
      "_view_module": "@jupyter-widgets/base",
      "_view_module_version": "1.2.0",
      "_view_name": "StyleView",
      "bar_color": null,
      "description_width": ""
     }
    },
    "6d36ee7d72644f45ae231fd8e9f56377": {
     "model_module": "@jupyter-widgets/base",
     "model_name": "LayoutModel",
     "model_module_version": "1.2.0",
     "state": {
      "_model_module": "@jupyter-widgets/base",
      "_model_module_version": "1.2.0",
      "_model_name": "LayoutModel",
      "_view_count": null,
      "_view_module": "@jupyter-widgets/base",
      "_view_module_version": "1.2.0",
      "_view_name": "LayoutView",
      "align_content": null,
      "align_items": null,
      "align_self": null,
      "border": null,
      "bottom": null,
      "display": null,
      "flex": null,
      "flex_flow": null,
      "grid_area": null,
      "grid_auto_columns": null,
      "grid_auto_flow": null,
      "grid_auto_rows": null,
      "grid_column": null,
      "grid_gap": null,
      "grid_row": null,
      "grid_template_areas": null,
      "grid_template_columns": null,
      "grid_template_rows": null,
      "height": null,
      "justify_content": null,
      "justify_items": null,
      "left": null,
      "margin": null,
      "max_height": null,
      "max_width": null,
      "min_height": null,
      "min_width": null,
      "object_fit": null,
      "object_position": null,
      "order": null,
      "overflow": null,
      "overflow_x": null,
      "overflow_y": null,
      "padding": null,
      "right": null,
      "top": null,
      "visibility": null,
      "width": null
     }
    },
    "9894680464e04be4b63412473798c26d": {
     "model_module": "@jupyter-widgets/controls",
     "model_name": "DescriptionStyleModel",
     "model_module_version": "1.5.0",
     "state": {
      "_model_module": "@jupyter-widgets/controls",
      "_model_module_version": "1.5.0",
      "_model_name": "DescriptionStyleModel",
      "_view_count": null,
      "_view_module": "@jupyter-widgets/base",
      "_view_module_version": "1.2.0",
      "_view_name": "StyleView",
      "description_width": ""
     }
    },
    "4f4049ecbd3343feb38601ca5e7c5775": {
     "model_module": "@jupyter-widgets/controls",
     "model_name": "HBoxModel",
     "model_module_version": "1.5.0",
     "state": {
      "_dom_classes": [],
      "_model_module": "@jupyter-widgets/controls",
      "_model_module_version": "1.5.0",
      "_model_name": "HBoxModel",
      "_view_count": null,
      "_view_module": "@jupyter-widgets/controls",
      "_view_module_version": "1.5.0",
      "_view_name": "HBoxView",
      "box_style": "",
      "children": [
       "IPY_MODEL_bf782763fb9e49cab83e517716366d7b",
       "IPY_MODEL_1eeef697fd88454dbf9a3761aa608ade",
       "IPY_MODEL_21e783a6e4274965b939c863da815386"
      ],
      "layout": "IPY_MODEL_9484200c01ff498baa7c4e656d9b115b"
     }
    },
    "bf782763fb9e49cab83e517716366d7b": {
     "model_module": "@jupyter-widgets/controls",
     "model_name": "HTMLModel",
     "model_module_version": "1.5.0",
     "state": {
      "_dom_classes": [],
      "_model_module": "@jupyter-widgets/controls",
      "_model_module_version": "1.5.0",
      "_model_name": "HTMLModel",
      "_view_count": null,
      "_view_module": "@jupyter-widgets/controls",
      "_view_module_version": "1.5.0",
      "_view_name": "HTMLView",
      "description": "",
      "description_tooltip": null,
      "layout": "IPY_MODEL_bbc8c1c6a4a14b77947e48092e0463a1",
      "placeholder": "​",
      "style": "IPY_MODEL_bcc69ff0f379491e816bf3e15fdab9a7",
      "value": "Downloading tf_model.h5: 100%"
     }
    },
    "1eeef697fd88454dbf9a3761aa608ade": {
     "model_module": "@jupyter-widgets/controls",
     "model_name": "FloatProgressModel",
     "model_module_version": "1.5.0",
     "state": {
      "_dom_classes": [],
      "_model_module": "@jupyter-widgets/controls",
      "_model_module_version": "1.5.0",
      "_model_name": "FloatProgressModel",
      "_view_count": null,
      "_view_module": "@jupyter-widgets/controls",
      "_view_module_version": "1.5.0",
      "_view_name": "ProgressView",
      "bar_style": "success",
      "description": "",
      "description_tooltip": null,
      "layout": "IPY_MODEL_ca6424e8ba2241dbbffeecb8abd00dff",
      "max": 526681800,
      "min": 0,
      "orientation": "horizontal",
      "style": "IPY_MODEL_c07cdb7b799d47efafee50bad9f1d9fd",
      "value": 526681800
     }
    },
    "21e783a6e4274965b939c863da815386": {
     "model_module": "@jupyter-widgets/controls",
     "model_name": "HTMLModel",
     "model_module_version": "1.5.0",
     "state": {
      "_dom_classes": [],
      "_model_module": "@jupyter-widgets/controls",
      "_model_module_version": "1.5.0",
      "_model_name": "HTMLModel",
      "_view_count": null,
      "_view_module": "@jupyter-widgets/controls",
      "_view_module_version": "1.5.0",
      "_view_name": "HTMLView",
      "description": "",
      "description_tooltip": null,
      "layout": "IPY_MODEL_0fa595f4958b408aba8d786cdb9eb9bf",
      "placeholder": "​",
      "style": "IPY_MODEL_665d66b1d9564f9c976ffafaa85d8866",
      "value": " 502M/502M [00:08&lt;00:00, 58.5MB/s]"
     }
    },
    "9484200c01ff498baa7c4e656d9b115b": {
     "model_module": "@jupyter-widgets/base",
     "model_name": "LayoutModel",
     "model_module_version": "1.2.0",
     "state": {
      "_model_module": "@jupyter-widgets/base",
      "_model_module_version": "1.2.0",
      "_model_name": "LayoutModel",
      "_view_count": null,
      "_view_module": "@jupyter-widgets/base",
      "_view_module_version": "1.2.0",
      "_view_name": "LayoutView",
      "align_content": null,
      "align_items": null,
      "align_self": null,
      "border": null,
      "bottom": null,
      "display": null,
      "flex": null,
      "flex_flow": null,
      "grid_area": null,
      "grid_auto_columns": null,
      "grid_auto_flow": null,
      "grid_auto_rows": null,
      "grid_column": null,
      "grid_gap": null,
      "grid_row": null,
      "grid_template_areas": null,
      "grid_template_columns": null,
      "grid_template_rows": null,
      "height": null,
      "justify_content": null,
      "justify_items": null,
      "left": null,
      "margin": null,
      "max_height": null,
      "max_width": null,
      "min_height": null,
      "min_width": null,
      "object_fit": null,
      "object_position": null,
      "order": null,
      "overflow": null,
      "overflow_x": null,
      "overflow_y": null,
      "padding": null,
      "right": null,
      "top": null,
      "visibility": null,
      "width": null
     }
    },
    "bbc8c1c6a4a14b77947e48092e0463a1": {
     "model_module": "@jupyter-widgets/base",
     "model_name": "LayoutModel",
     "model_module_version": "1.2.0",
     "state": {
      "_model_module": "@jupyter-widgets/base",
      "_model_module_version": "1.2.0",
      "_model_name": "LayoutModel",
      "_view_count": null,
      "_view_module": "@jupyter-widgets/base",
      "_view_module_version": "1.2.0",
      "_view_name": "LayoutView",
      "align_content": null,
      "align_items": null,
      "align_self": null,
      "border": null,
      "bottom": null,
      "display": null,
      "flex": null,
      "flex_flow": null,
      "grid_area": null,
      "grid_auto_columns": null,
      "grid_auto_flow": null,
      "grid_auto_rows": null,
      "grid_column": null,
      "grid_gap": null,
      "grid_row": null,
      "grid_template_areas": null,
      "grid_template_columns": null,
      "grid_template_rows": null,
      "height": null,
      "justify_content": null,
      "justify_items": null,
      "left": null,
      "margin": null,
      "max_height": null,
      "max_width": null,
      "min_height": null,
      "min_width": null,
      "object_fit": null,
      "object_position": null,
      "order": null,
      "overflow": null,
      "overflow_x": null,
      "overflow_y": null,
      "padding": null,
      "right": null,
      "top": null,
      "visibility": null,
      "width": null
     }
    },
    "bcc69ff0f379491e816bf3e15fdab9a7": {
     "model_module": "@jupyter-widgets/controls",
     "model_name": "DescriptionStyleModel",
     "model_module_version": "1.5.0",
     "state": {
      "_model_module": "@jupyter-widgets/controls",
      "_model_module_version": "1.5.0",
      "_model_name": "DescriptionStyleModel",
      "_view_count": null,
      "_view_module": "@jupyter-widgets/base",
      "_view_module_version": "1.2.0",
      "_view_name": "StyleView",
      "description_width": ""
     }
    },
    "ca6424e8ba2241dbbffeecb8abd00dff": {
     "model_module": "@jupyter-widgets/base",
     "model_name": "LayoutModel",
     "model_module_version": "1.2.0",
     "state": {
      "_model_module": "@jupyter-widgets/base",
      "_model_module_version": "1.2.0",
      "_model_name": "LayoutModel",
      "_view_count": null,
      "_view_module": "@jupyter-widgets/base",
      "_view_module_version": "1.2.0",
      "_view_name": "LayoutView",
      "align_content": null,
      "align_items": null,
      "align_self": null,
      "border": null,
      "bottom": null,
      "display": null,
      "flex": null,
      "flex_flow": null,
      "grid_area": null,
      "grid_auto_columns": null,
      "grid_auto_flow": null,
      "grid_auto_rows": null,
      "grid_column": null,
      "grid_gap": null,
      "grid_row": null,
      "grid_template_areas": null,
      "grid_template_columns": null,
      "grid_template_rows": null,
      "height": null,
      "justify_content": null,
      "justify_items": null,
      "left": null,
      "margin": null,
      "max_height": null,
      "max_width": null,
      "min_height": null,
      "min_width": null,
      "object_fit": null,
      "object_position": null,
      "order": null,
      "overflow": null,
      "overflow_x": null,
      "overflow_y": null,
      "padding": null,
      "right": null,
      "top": null,
      "visibility": null,
      "width": null
     }
    },
    "c07cdb7b799d47efafee50bad9f1d9fd": {
     "model_module": "@jupyter-widgets/controls",
     "model_name": "ProgressStyleModel",
     "model_module_version": "1.5.0",
     "state": {
      "_model_module": "@jupyter-widgets/controls",
      "_model_module_version": "1.5.0",
      "_model_name": "ProgressStyleModel",
      "_view_count": null,
      "_view_module": "@jupyter-widgets/base",
      "_view_module_version": "1.2.0",
      "_view_name": "StyleView",
      "bar_color": null,
      "description_width": ""
     }
    },
    "0fa595f4958b408aba8d786cdb9eb9bf": {
     "model_module": "@jupyter-widgets/base",
     "model_name": "LayoutModel",
     "model_module_version": "1.2.0",
     "state": {
      "_model_module": "@jupyter-widgets/base",
      "_model_module_version": "1.2.0",
      "_model_name": "LayoutModel",
      "_view_count": null,
      "_view_module": "@jupyter-widgets/base",
      "_view_module_version": "1.2.0",
      "_view_name": "LayoutView",
      "align_content": null,
      "align_items": null,
      "align_self": null,
      "border": null,
      "bottom": null,
      "display": null,
      "flex": null,
      "flex_flow": null,
      "grid_area": null,
      "grid_auto_columns": null,
      "grid_auto_flow": null,
      "grid_auto_rows": null,
      "grid_column": null,
      "grid_gap": null,
      "grid_row": null,
      "grid_template_areas": null,
      "grid_template_columns": null,
      "grid_template_rows": null,
      "height": null,
      "justify_content": null,
      "justify_items": null,
      "left": null,
      "margin": null,
      "max_height": null,
      "max_width": null,
      "min_height": null,
      "min_width": null,
      "object_fit": null,
      "object_position": null,
      "order": null,
      "overflow": null,
      "overflow_x": null,
      "overflow_y": null,
      "padding": null,
      "right": null,
      "top": null,
      "visibility": null,
      "width": null
     }
    },
    "665d66b1d9564f9c976ffafaa85d8866": {
     "model_module": "@jupyter-widgets/controls",
     "model_name": "DescriptionStyleModel",
     "model_module_version": "1.5.0",
     "state": {
      "_model_module": "@jupyter-widgets/controls",
      "_model_module_version": "1.5.0",
      "_model_name": "DescriptionStyleModel",
      "_view_count": null,
      "_view_module": "@jupyter-widgets/base",
      "_view_module_version": "1.2.0",
      "_view_name": "StyleView",
      "description_width": ""
     }
    }
   }
  },
  "gpuClass": "standard"
 },
 "nbformat": 4,
 "nbformat_minor": 0
}